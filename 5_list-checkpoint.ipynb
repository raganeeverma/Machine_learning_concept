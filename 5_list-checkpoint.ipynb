{
 "cells": [
  {
   "cell_type": "markdown",
   "id": "732076c0",
   "metadata": {},
   "source": [
    "# DATA STRUCTURE OF PYTHON (list,tuples,dictionary,sets)"
   ]
  },
  {
   "cell_type": "markdown",
   "id": "cb8de28e",
   "metadata": {},
   "source": [
    "There are four collection data types in the Python programming language:\n",
    "\n",
    "List is a collection which is ordered and changeable. Allows duplicate members.\n",
    "\n",
    "Tuple is a collection which is ordered and unchangeable. Allows duplicate members.\n",
    "\n",
    "Set is a collection which is unordered, unchangeable*, and unindexed. No duplicate members.\n",
    "\n",
    "Dictionary is a collection which is ordered** and changeable. No duplicate members."
   ]
  },
  {
   "cell_type": "markdown",
   "id": "c58350cf",
   "metadata": {},
   "source": [
    "# List (store multiple kind of data into single variable \n",
    "            Lists are used to store multiple items in a single variable.\n",
    "            \n",
    "            Lists are created using square brackets[]\n",
    "            \n",
    "            List items are ordered, changeable, and allow duplicate values.\n",
    "            \n",
    "            A list can contain different data types:\n",
    "\n",
    "            List items are indexed, the first item has index [0], the second item has index [1] etc.\n",
    "            \n",
    "           Note: There are some list methods that will change the order, but in general: the order of the items will not     change.\n",
    "           \n",
    "           The list is changeable, meaning that we can change, add, and remove items in a list after it has been created."
   ]
  },
  {
   "cell_type": "code",
   "execution_count": 14,
   "id": "ee9794d4",
   "metadata": {},
   "outputs": [],
   "source": [
    "a=[]"
   ]
  },
  {
   "cell_type": "code",
   "execution_count": 15,
   "id": "6ff820d6",
   "metadata": {},
   "outputs": [
    {
     "data": {
      "text/plain": [
       "[]"
      ]
     },
     "execution_count": 15,
     "metadata": {},
     "output_type": "execute_result"
    }
   ],
   "source": [
    "a"
   ]
  },
  {
   "cell_type": "code",
   "execution_count": 16,
   "id": "de8ed9e4",
   "metadata": {},
   "outputs": [],
   "source": [
    "a=list()"
   ]
  },
  {
   "cell_type": "code",
   "execution_count": 17,
   "id": "44975221",
   "metadata": {},
   "outputs": [
    {
     "data": {
      "text/plain": [
       "[]"
      ]
     },
     "execution_count": 17,
     "metadata": {},
     "output_type": "execute_result"
    }
   ],
   "source": [
    "a"
   ]
  },
  {
   "cell_type": "code",
   "execution_count": 19,
   "id": "9fda072e",
   "metadata": {},
   "outputs": [],
   "source": [
    "l1=[1,2,3]"
   ]
  },
  {
   "cell_type": "code",
   "execution_count": 21,
   "id": "3abc08d1",
   "metadata": {},
   "outputs": [],
   "source": [
    "l2=list(l1)"
   ]
  },
  {
   "cell_type": "code",
   "execution_count": 22,
   "id": "f81754b8",
   "metadata": {},
   "outputs": [
    {
     "data": {
      "text/plain": [
       "[1, 2, 3]"
      ]
     },
     "execution_count": 22,
     "metadata": {},
     "output_type": "execute_result"
    }
   ],
   "source": [
    "l2"
   ]
  },
  {
   "cell_type": "code",
   "execution_count": 23,
   "id": "64de9770",
   "metadata": {},
   "outputs": [],
   "source": [
    "l2=l1"
   ]
  },
  {
   "cell_type": "code",
   "execution_count": 24,
   "id": "22b53891",
   "metadata": {},
   "outputs": [
    {
     "data": {
      "text/plain": [
       "[1, 2, 3]"
      ]
     },
     "execution_count": 24,
     "metadata": {},
     "output_type": "execute_result"
    }
   ],
   "source": [
    "l2"
   ]
  },
  {
   "cell_type": "code",
   "execution_count": 25,
   "id": "5f106e43",
   "metadata": {},
   "outputs": [],
   "source": [
    "l2=[l1]"
   ]
  },
  {
   "cell_type": "code",
   "execution_count": 26,
   "id": "01ee39b8",
   "metadata": {},
   "outputs": [
    {
     "data": {
      "text/plain": [
       "[[1, 2, 3]]"
      ]
     },
     "execution_count": 26,
     "metadata": {},
     "output_type": "execute_result"
    }
   ],
   "source": [
    "l2"
   ]
  },
  {
   "cell_type": "markdown",
   "id": "26f0b05c",
   "metadata": {},
   "source": [
    "len function (used to find out the no. of item in list)"
   ]
  },
  {
   "cell_type": "code",
   "execution_count": 28,
   "id": "0bd8d1f2",
   "metadata": {},
   "outputs": [],
   "source": [
    "roll_no=[1,2,3,4,5,6,7]"
   ]
  },
  {
   "cell_type": "code",
   "execution_count": 29,
   "id": "09052666",
   "metadata": {},
   "outputs": [
    {
     "data": {
      "text/plain": [
       "7"
      ]
     },
     "execution_count": 29,
     "metadata": {},
     "output_type": "execute_result"
    }
   ],
   "source": [
    "len(roll_no)"
   ]
  },
  {
   "cell_type": "markdown",
   "id": "276798b1",
   "metadata": {},
   "source": [
    "positive and negative indexing  (just like string start from 0 and negative indexing start from -1 from right side)"
   ]
  },
  {
   "cell_type": "code",
   "execution_count": 74,
   "id": "4a45497d",
   "metadata": {},
   "outputs": [],
   "source": [
    "color=['red','yellow','blue','green']\n"
   ]
  },
  {
   "cell_type": "code",
   "execution_count": 76,
   "id": "7ad2ee96",
   "metadata": {},
   "outputs": [
    {
     "data": {
      "text/plain": [
       "1"
      ]
     },
     "execution_count": 76,
     "metadata": {},
     "output_type": "execute_result"
    }
   ],
   "source": [
    "color.index('yellow')"
   ]
  },
  {
   "cell_type": "code",
   "execution_count": 77,
   "id": "2d194ecf",
   "metadata": {},
   "outputs": [
    {
     "data": {
      "text/plain": [
       "3"
      ]
     },
     "execution_count": 77,
     "metadata": {},
     "output_type": "execute_result"
    }
   ],
   "source": [
    "color.index('green')"
   ]
  },
  {
   "cell_type": "code",
   "execution_count": 32,
   "id": "d9dcd375",
   "metadata": {},
   "outputs": [
    {
     "data": {
      "text/plain": [
       "'red'"
      ]
     },
     "execution_count": 32,
     "metadata": {},
     "output_type": "execute_result"
    }
   ],
   "source": [
    "color[0]"
   ]
  },
  {
   "cell_type": "code",
   "execution_count": 33,
   "id": "9ccc45ee",
   "metadata": {},
   "outputs": [
    {
     "data": {
      "text/plain": [
       "'yellow'"
      ]
     },
     "execution_count": 33,
     "metadata": {},
     "output_type": "execute_result"
    }
   ],
   "source": [
    "color[1]"
   ]
  },
  {
   "cell_type": "code",
   "execution_count": 34,
   "id": "f10f82a3",
   "metadata": {},
   "outputs": [
    {
     "data": {
      "text/plain": [
       "'blue'"
      ]
     },
     "execution_count": 34,
     "metadata": {},
     "output_type": "execute_result"
    }
   ],
   "source": [
    "color[2]"
   ]
  },
  {
   "cell_type": "code",
   "execution_count": 35,
   "id": "5be4f5a9",
   "metadata": {},
   "outputs": [
    {
     "data": {
      "text/plain": [
       "'green'"
      ]
     },
     "execution_count": 35,
     "metadata": {},
     "output_type": "execute_result"
    }
   ],
   "source": [
    "color[3]"
   ]
  },
  {
   "cell_type": "code",
   "execution_count": 42,
   "id": "0f4b436d",
   "metadata": {},
   "outputs": [
    {
     "data": {
      "text/plain": [
       "'green'"
      ]
     },
     "execution_count": 42,
     "metadata": {},
     "output_type": "execute_result"
    }
   ],
   "source": [
    "color[-1]"
   ]
  },
  {
   "cell_type": "code",
   "execution_count": 43,
   "id": "ec6eb7ea",
   "metadata": {},
   "outputs": [
    {
     "data": {
      "text/plain": [
       "'blue'"
      ]
     },
     "execution_count": 43,
     "metadata": {},
     "output_type": "execute_result"
    }
   ],
   "source": [
    "color[-2]"
   ]
  },
  {
   "cell_type": "code",
   "execution_count": 44,
   "id": "49df1c2b",
   "metadata": {},
   "outputs": [
    {
     "data": {
      "text/plain": [
       "'yellow'"
      ]
     },
     "execution_count": 44,
     "metadata": {},
     "output_type": "execute_result"
    }
   ],
   "source": [
    "color[-3]"
   ]
  },
  {
   "cell_type": "code",
   "execution_count": 45,
   "id": "1bc94c67",
   "metadata": {},
   "outputs": [
    {
     "data": {
      "text/plain": [
       "'red'"
      ]
     },
     "execution_count": 45,
     "metadata": {},
     "output_type": "execute_result"
    }
   ],
   "source": [
    "color[-4]"
   ]
  },
  {
   "cell_type": "code",
   "execution_count": 39,
   "id": "1505a76e",
   "metadata": {},
   "outputs": [],
   "source": [
    "no=[1,2,3,4,5,6,7]"
   ]
  },
  {
   "cell_type": "code",
   "execution_count": 40,
   "id": "6a2088ac",
   "metadata": {},
   "outputs": [
    {
     "data": {
      "text/plain": [
       "5"
      ]
     },
     "execution_count": 40,
     "metadata": {},
     "output_type": "execute_result"
    }
   ],
   "source": [
    "no[4]"
   ]
  },
  {
   "cell_type": "code",
   "execution_count": 41,
   "id": "73b166e8",
   "metadata": {},
   "outputs": [
    {
     "data": {
      "text/plain": [
       "6"
      ]
     },
     "execution_count": 41,
     "metadata": {},
     "output_type": "execute_result"
    }
   ],
   "source": [
    "no[5]"
   ]
  },
  {
   "cell_type": "code",
   "execution_count": 46,
   "id": "435f9a4e",
   "metadata": {},
   "outputs": [
    {
     "data": {
      "text/plain": [
       "4"
      ]
     },
     "execution_count": 46,
     "metadata": {},
     "output_type": "execute_result"
    }
   ],
   "source": [
    "no[-4]"
   ]
  },
  {
   "cell_type": "markdown",
   "id": "abe6c973",
   "metadata": {},
   "source": [
    "slicing (extract item from list using : (item included:item excluded) )"
   ]
  },
  {
   "cell_type": "code",
   "execution_count": 48,
   "id": "b8af4b3a",
   "metadata": {},
   "outputs": [],
   "source": [
    "mylist=['one','two','three',4,5,6]"
   ]
  },
  {
   "cell_type": "code",
   "execution_count": 49,
   "id": "dc4f3be9",
   "metadata": {},
   "outputs": [
    {
     "data": {
      "text/plain": [
       "['one', 'two', 'three', 4, 5, 6]"
      ]
     },
     "execution_count": 49,
     "metadata": {},
     "output_type": "execute_result"
    }
   ],
   "source": [
    "mylist"
   ]
  },
  {
   "cell_type": "code",
   "execution_count": 50,
   "id": "89d8a611",
   "metadata": {},
   "outputs": [
    {
     "data": {
      "text/plain": [
       "['two', 'three', 4, 5, 6]"
      ]
     },
     "execution_count": 50,
     "metadata": {},
     "output_type": "execute_result"
    }
   ],
   "source": [
    "mylist[1:]"
   ]
  },
  {
   "cell_type": "code",
   "execution_count": 51,
   "id": "9e31291c",
   "metadata": {},
   "outputs": [
    {
     "data": {
      "text/plain": [
       "['one', 'two', 'three']"
      ]
     },
     "execution_count": 51,
     "metadata": {},
     "output_type": "execute_result"
    }
   ],
   "source": [
    "mylist[:3]"
   ]
  },
  {
   "cell_type": "code",
   "execution_count": 52,
   "id": "b9c68bfb",
   "metadata": {},
   "outputs": [
    {
     "data": {
      "text/plain": [
       "['two', 'three']"
      ]
     },
     "execution_count": 52,
     "metadata": {},
     "output_type": "execute_result"
    }
   ],
   "source": [
    "mylist[1:3]"
   ]
  },
  {
   "cell_type": "code",
   "execution_count": 53,
   "id": "4dd022a3",
   "metadata": {},
   "outputs": [
    {
     "data": {
      "text/plain": [
       "['three', 4, 5, 6]"
      ]
     },
     "execution_count": 53,
     "metadata": {},
     "output_type": "execute_result"
    }
   ],
   "source": [
    "mylist[-4:]"
   ]
  },
  {
   "cell_type": "code",
   "execution_count": 54,
   "id": "a1dd94a3",
   "metadata": {},
   "outputs": [
    {
     "data": {
      "text/plain": [
       "['one', 'two', 'three', 4]"
      ]
     },
     "execution_count": 54,
     "metadata": {},
     "output_type": "execute_result"
    }
   ],
   "source": [
    "mylist[:-2]"
   ]
  },
  {
   "cell_type": "code",
   "execution_count": 55,
   "id": "2453d8d1",
   "metadata": {},
   "outputs": [
    {
     "data": {
      "text/plain": [
       "['one', 'two', 'three', 4, 5]"
      ]
     },
     "execution_count": 55,
     "metadata": {},
     "output_type": "execute_result"
    }
   ],
   "source": [
    "mylist[-6:-1]"
   ]
  },
  {
   "cell_type": "markdown",
   "id": "48db6cc1",
   "metadata": {},
   "source": [
    "concatenat list(using + operater just like string)"
   ]
  },
  {
   "cell_type": "code",
   "execution_count": 59,
   "id": "4ce92bf2",
   "metadata": {},
   "outputs": [],
   "source": [
    "stationery=['pen','pencil','book','scale']"
   ]
  },
  {
   "cell_type": "code",
   "execution_count": 60,
   "id": "2b75e09c",
   "metadata": {},
   "outputs": [
    {
     "data": {
      "text/plain": [
       "['pen', 'pencil', 'book', 'scale']"
      ]
     },
     "execution_count": 60,
     "metadata": {},
     "output_type": "execute_result"
    }
   ],
   "source": [
    "stationery"
   ]
  },
  {
   "cell_type": "code",
   "execution_count": 64,
   "id": "d2eb39a9",
   "metadata": {},
   "outputs": [
    {
     "data": {
      "text/plain": [
       "['pen', 'pencil', 'book', 'scale', 'tape']"
      ]
     },
     "execution_count": 64,
     "metadata": {},
     "output_type": "execute_result"
    }
   ],
   "source": [
    "stationery+['tape'] #does not change permanently"
   ]
  },
  {
   "cell_type": "code",
   "execution_count": 65,
   "id": "7870dbc4",
   "metadata": {},
   "outputs": [
    {
     "data": {
      "text/plain": [
       "['pen', 'pencil', 'book', 'scale']"
      ]
     },
     "execution_count": 65,
     "metadata": {},
     "output_type": "execute_result"
    }
   ],
   "source": [
    "stationery"
   ]
  },
  {
   "cell_type": "code",
   "execution_count": 66,
   "id": "4fc0a331",
   "metadata": {},
   "outputs": [],
   "source": [
    "stationery=stationery+['tape','cellotape'] #change permanently"
   ]
  },
  {
   "cell_type": "code",
   "execution_count": 67,
   "id": "ba828a4a",
   "metadata": {},
   "outputs": [
    {
     "data": {
      "text/plain": [
       "['pen', 'pencil', 'book', 'scale', 'tape', 'cellotape']"
      ]
     },
     "execution_count": 67,
     "metadata": {},
     "output_type": "execute_result"
    }
   ],
   "source": [
    "stationery"
   ]
  },
  {
   "cell_type": "markdown",
   "id": "cb70fa20",
   "metadata": {},
   "source": [
    " Duplicates using * operater(make a list double)"
   ]
  },
  {
   "cell_type": "code",
   "execution_count": 70,
   "id": "e047220d",
   "metadata": {},
   "outputs": [],
   "source": [
    "number=[1,2,3,4,5]"
   ]
  },
  {
   "cell_type": "code",
   "execution_count": 71,
   "id": "adb5ef07",
   "metadata": {},
   "outputs": [
    {
     "data": {
      "text/plain": [
       "[1, 2, 3, 4, 5, 1, 2, 3, 4, 5]"
      ]
     },
     "execution_count": 71,
     "metadata": {},
     "output_type": "execute_result"
    }
   ],
   "source": [
    "number*2"
   ]
  },
  {
   "cell_type": "code",
   "execution_count": 72,
   "id": "68e46d8b",
   "metadata": {},
   "outputs": [],
   "source": [
    "number=number*2 #permanent chenges"
   ]
  },
  {
   "cell_type": "code",
   "execution_count": 73,
   "id": "9c771d5d",
   "metadata": {},
   "outputs": [
    {
     "data": {
      "text/plain": [
       "[1, 2, 3, 4, 5, 1, 2, 3, 4, 5]"
      ]
     },
     "execution_count": 73,
     "metadata": {},
     "output_type": "execute_result"
    }
   ],
   "source": [
    "number"
   ]
  },
  {
   "cell_type": "markdown",
   "id": "4c43a19a",
   "metadata": {},
   "source": [
    "append function  (add only one data at a time into list at last index)"
   ]
  },
  {
   "cell_type": "code",
   "execution_count": 56,
   "id": "7f9d761e",
   "metadata": {},
   "outputs": [],
   "source": [
    "list1=[11,12,13,14,15]"
   ]
  },
  {
   "cell_type": "code",
   "execution_count": 4,
   "id": "bee3199c",
   "metadata": {},
   "outputs": [],
   "source": [
    "list1.append(16)"
   ]
  },
  {
   "cell_type": "code",
   "execution_count": 5,
   "id": "56c0a70c",
   "metadata": {},
   "outputs": [
    {
     "data": {
      "text/plain": [
       "[11, 12, 13, 14, 15, 16]"
      ]
     },
     "execution_count": 5,
     "metadata": {},
     "output_type": "execute_result"
    }
   ],
   "source": [
    "list1"
   ]
  },
  {
   "cell_type": "code",
   "execution_count": 6,
   "id": "91f6315e",
   "metadata": {},
   "outputs": [],
   "source": [
    "list1.append('append me')"
   ]
  },
  {
   "cell_type": "code",
   "execution_count": 7,
   "id": "1f24b121",
   "metadata": {},
   "outputs": [
    {
     "data": {
      "text/plain": [
       "[11, 12, 13, 14, 15, 16, 'append me']"
      ]
     },
     "execution_count": 7,
     "metadata": {},
     "output_type": "execute_result"
    }
   ],
   "source": [
    "list1"
   ]
  },
  {
   "cell_type": "code",
   "execution_count": 192,
   "id": "33bf5d90",
   "metadata": {},
   "outputs": [],
   "source": [
    "listfruit=['apple', 'banana','graps','papaya']"
   ]
  },
  {
   "cell_type": "code",
   "execution_count": 193,
   "id": "dfef8a53",
   "metadata": {},
   "outputs": [
    {
     "data": {
      "text/plain": [
       "['apple', 'banana', 'graps', 'papaya']"
      ]
     },
     "execution_count": 193,
     "metadata": {},
     "output_type": "execute_result"
    }
   ],
   "source": [
    "listfruit"
   ]
  },
  {
   "cell_type": "code",
   "execution_count": 194,
   "id": "6ee8b430",
   "metadata": {},
   "outputs": [],
   "source": [
    "listfruit.append('kiwi')"
   ]
  },
  {
   "cell_type": "code",
   "execution_count": 195,
   "id": "75b4eaf7",
   "metadata": {},
   "outputs": [
    {
     "data": {
      "text/plain": [
       "['apple', 'banana', 'graps', 'papaya', 'kiwi']"
      ]
     },
     "execution_count": 195,
     "metadata": {},
     "output_type": "execute_result"
    }
   ],
   "source": [
    "listfruit"
   ]
  },
  {
   "cell_type": "code",
   "execution_count": 196,
   "id": "40c06bd4",
   "metadata": {},
   "outputs": [
    {
     "data": {
      "text/plain": [
       "5"
      ]
     },
     "execution_count": 196,
     "metadata": {},
     "output_type": "execute_result"
    }
   ],
   "source": [
    "len(listfruit)"
   ]
  },
  {
   "cell_type": "markdown",
   "id": "430d5101",
   "metadata": {},
   "source": [
    "insert function   (used to insert data into perticuler location  using index value )"
   ]
  },
  {
   "cell_type": "code",
   "execution_count": 197,
   "id": "8542a134",
   "metadata": {},
   "outputs": [
    {
     "data": {
      "text/plain": [
       "'apple'"
      ]
     },
     "execution_count": 197,
     "metadata": {},
     "output_type": "execute_result"
    }
   ],
   "source": [
    "listfruit[0]"
   ]
  },
  {
   "cell_type": "code",
   "execution_count": 198,
   "id": "300cbed7",
   "metadata": {},
   "outputs": [
    {
     "data": {
      "text/plain": [
       "'banana'"
      ]
     },
     "execution_count": 198,
     "metadata": {},
     "output_type": "execute_result"
    }
   ],
   "source": [
    "listfruit[1]"
   ]
  },
  {
   "cell_type": "code",
   "execution_count": 199,
   "id": "88de7121",
   "metadata": {},
   "outputs": [
    {
     "data": {
      "text/plain": [
       "['apple', 'banana']"
      ]
     },
     "execution_count": 199,
     "metadata": {},
     "output_type": "execute_result"
    }
   ],
   "source": [
    "listfruit[0:2]"
   ]
  },
  {
   "cell_type": "code",
   "execution_count": 200,
   "id": "b793a23d",
   "metadata": {},
   "outputs": [
    {
     "data": {
      "text/plain": [
       "['banana', 'graps', 'papaya']"
      ]
     },
     "execution_count": 200,
     "metadata": {},
     "output_type": "execute_result"
    }
   ],
   "source": [
    "listfruit[1:4]"
   ]
  },
  {
   "cell_type": "code",
   "execution_count": 201,
   "id": "842d55d6",
   "metadata": {},
   "outputs": [],
   "source": [
    "listfruit.insert(1,'watermelon')"
   ]
  },
  {
   "cell_type": "code",
   "execution_count": 202,
   "id": "2e798e04",
   "metadata": {},
   "outputs": [
    {
     "data": {
      "text/plain": [
       "['apple', 'watermelon', 'banana', 'graps', 'papaya', 'kiwi']"
      ]
     },
     "execution_count": 202,
     "metadata": {},
     "output_type": "execute_result"
    }
   ],
   "source": [
    "listfruit"
   ]
  },
  {
   "cell_type": "code",
   "execution_count": 203,
   "id": "18b0dc2f",
   "metadata": {},
   "outputs": [],
   "source": [
    "list1.insert(2,300)"
   ]
  },
  {
   "cell_type": "code",
   "execution_count": 204,
   "id": "02570173",
   "metadata": {},
   "outputs": [
    {
     "data": {
      "text/plain": [
       "[11, 12, 300, 13, 14, 15]"
      ]
     },
     "execution_count": 204,
     "metadata": {},
     "output_type": "execute_result"
    }
   ],
   "source": [
    "list1"
   ]
  },
  {
   "cell_type": "markdown",
   "id": "de3d4edf",
   "metadata": {},
   "source": [
    "sort and reverse function(used sort for accending order(sorting run only same data type and remove duplicate data ) and reverse for reverse order)"
   ]
  },
  {
   "cell_type": "code",
   "execution_count": 270,
   "id": "2d8aa3bb",
   "metadata": {},
   "outputs": [],
   "source": [
    "k=[1,5,3,7,5]"
   ]
  },
  {
   "cell_type": "code",
   "execution_count": 271,
   "id": "b3100f5c",
   "metadata": {},
   "outputs": [],
   "source": [
    "k.sort()"
   ]
  },
  {
   "cell_type": "code",
   "execution_count": 272,
   "id": "fb5074f2",
   "metadata": {},
   "outputs": [
    {
     "data": {
      "text/plain": [
       "[1, 3, 5, 5, 7]"
      ]
     },
     "execution_count": 272,
     "metadata": {},
     "output_type": "execute_result"
    }
   ],
   "source": [
    "k"
   ]
  },
  {
   "cell_type": "code",
   "execution_count": 208,
   "id": "efc189ae",
   "metadata": {},
   "outputs": [],
   "source": [
    "list1.reverse()"
   ]
  },
  {
   "cell_type": "code",
   "execution_count": 209,
   "id": "c9681028",
   "metadata": {},
   "outputs": [
    {
     "data": {
      "text/plain": [
       "[15, 14, 13, 300, 12, 11]"
      ]
     },
     "execution_count": 209,
     "metadata": {},
     "output_type": "execute_result"
    }
   ],
   "source": [
    "list1"
   ]
  },
  {
   "cell_type": "markdown",
   "id": "ccbf8c16",
   "metadata": {},
   "source": [
    "extend function ( add more than one data means add new list into existing list)"
   ]
  },
  {
   "cell_type": "code",
   "execution_count": 210,
   "id": "fc261157",
   "metadata": {},
   "outputs": [],
   "source": [
    "newfruit=['lemon','orange']"
   ]
  },
  {
   "cell_type": "code",
   "execution_count": 211,
   "id": "bce4213f",
   "metadata": {},
   "outputs": [],
   "source": [
    "listfruit.extend(newfruit)"
   ]
  },
  {
   "cell_type": "code",
   "execution_count": 212,
   "id": "c00f3a91",
   "metadata": {},
   "outputs": [
    {
     "data": {
      "text/plain": [
       "['apple', 'watermelon', 'banana', 'graps', 'papaya', 'kiwi', 'lemon', 'orange']"
      ]
     },
     "execution_count": 212,
     "metadata": {},
     "output_type": "execute_result"
    }
   ],
   "source": [
    "listfruit"
   ]
  },
  {
   "cell_type": "markdown",
   "id": "73ccd5e6",
   "metadata": {},
   "source": [
    "pop function (used to remove the data if index value is not mention then last item is deleted )"
   ]
  },
  {
   "cell_type": "code",
   "execution_count": 213,
   "id": "d1951821",
   "metadata": {},
   "outputs": [
    {
     "data": {
      "text/plain": [
       "'orange'"
      ]
     },
     "execution_count": 213,
     "metadata": {},
     "output_type": "execute_result"
    }
   ],
   "source": [
    "listfruit.pop()"
   ]
  },
  {
   "cell_type": "code",
   "execution_count": 214,
   "id": "e0d7837f",
   "metadata": {},
   "outputs": [
    {
     "data": {
      "text/plain": [
       "'graps'"
      ]
     },
     "execution_count": 214,
     "metadata": {},
     "output_type": "execute_result"
    }
   ],
   "source": [
    "listfruit.pop(3)"
   ]
  },
  {
   "cell_type": "code",
   "execution_count": 215,
   "id": "0abf9e95",
   "metadata": {},
   "outputs": [
    {
     "data": {
      "text/plain": [
       "['apple', 'watermelon', 'banana', 'papaya', 'kiwi', 'lemon']"
      ]
     },
     "execution_count": 215,
     "metadata": {},
     "output_type": "execute_result"
    }
   ],
   "source": [
    "listfruit"
   ]
  },
  {
   "cell_type": "code",
   "execution_count": 216,
   "id": "51e8f3e5",
   "metadata": {},
   "outputs": [
    {
     "data": {
      "text/plain": [
       "11"
      ]
     },
     "execution_count": 216,
     "metadata": {},
     "output_type": "execute_result"
    }
   ],
   "source": [
    "list1.pop()"
   ]
  },
  {
   "cell_type": "markdown",
   "id": "1d1327fa",
   "metadata": {},
   "source": [
    "remove function (used to remove perticuler item using  only name not index)"
   ]
  },
  {
   "cell_type": "code",
   "execution_count": 217,
   "id": "df659eb5",
   "metadata": {},
   "outputs": [],
   "source": [
    "listfruit.remove('kiwi')"
   ]
  },
  {
   "cell_type": "code",
   "execution_count": 218,
   "id": "2b542677",
   "metadata": {},
   "outputs": [
    {
     "data": {
      "text/plain": [
       "['apple', 'watermelon', 'banana', 'papaya', 'lemon']"
      ]
     },
     "execution_count": 218,
     "metadata": {},
     "output_type": "execute_result"
    }
   ],
   "source": [
    "listfruit"
   ]
  },
  {
   "cell_type": "markdown",
   "id": "0fbbf9c3",
   "metadata": {},
   "source": [
    "clear function (clear all the internal  data  from the list but list is exist)"
   ]
  },
  {
   "cell_type": "code",
   "execution_count": 219,
   "id": "ac731873",
   "metadata": {},
   "outputs": [],
   "source": [
    "listfruit.clear()\n"
   ]
  },
  {
   "cell_type": "code",
   "execution_count": 220,
   "id": "6fa6c62b",
   "metadata": {},
   "outputs": [
    {
     "data": {
      "text/plain": [
       "[]"
      ]
     },
     "execution_count": 220,
     "metadata": {},
     "output_type": "execute_result"
    }
   ],
   "source": [
    "listfruit"
   ]
  },
  {
   "cell_type": "code",
   "execution_count": 221,
   "id": "e9ccc39e",
   "metadata": {},
   "outputs": [],
   "source": [
    "listfruit.append(\"apple\")"
   ]
  },
  {
   "cell_type": "code",
   "execution_count": 222,
   "id": "e20b63b3",
   "metadata": {},
   "outputs": [],
   "source": [
    "listfruit.append(\"banana\")"
   ]
  },
  {
   "cell_type": "code",
   "execution_count": 223,
   "id": "4a8223c2",
   "metadata": {},
   "outputs": [
    {
     "data": {
      "text/plain": [
       "['apple', 'banana']"
      ]
     },
     "execution_count": 223,
     "metadata": {},
     "output_type": "execute_result"
    }
   ],
   "source": [
    "listfruit"
   ]
  },
  {
   "cell_type": "markdown",
   "id": "290aca5a",
   "metadata": {},
   "source": [
    "del function (list is totaly deleted )"
   ]
  },
  {
   "cell_type": "code",
   "execution_count": 224,
   "id": "c5f5d784",
   "metadata": {},
   "outputs": [],
   "source": [
    "del listfruit"
   ]
  },
  {
   "cell_type": "markdown",
   "id": "e6def8ff",
   "metadata": {},
   "source": [
    "List is mutable means we cane chenge data any time using index value"
   ]
  },
  {
   "cell_type": "code",
   "execution_count": 225,
   "id": "2dddda76",
   "metadata": {},
   "outputs": [],
   "source": [
    "numlist=[100,200,300,400,500,600]"
   ]
  },
  {
   "cell_type": "code",
   "execution_count": 226,
   "id": "06456e86",
   "metadata": {},
   "outputs": [
    {
     "data": {
      "text/plain": [
       "[100, 200, 300, 400, 500, 600]"
      ]
     },
     "execution_count": 226,
     "metadata": {},
     "output_type": "execute_result"
    }
   ],
   "source": [
    "numlist"
   ]
  },
  {
   "cell_type": "code",
   "execution_count": 227,
   "id": "3363a589",
   "metadata": {},
   "outputs": [
    {
     "data": {
      "text/plain": [
       "300"
      ]
     },
     "execution_count": 227,
     "metadata": {},
     "output_type": "execute_result"
    }
   ],
   "source": [
    "numlist[2]"
   ]
  },
  {
   "cell_type": "code",
   "execution_count": 228,
   "id": "92096b96",
   "metadata": {},
   "outputs": [
    {
     "data": {
      "text/plain": [
       "400"
      ]
     },
     "execution_count": 228,
     "metadata": {},
     "output_type": "execute_result"
    }
   ],
   "source": [
    "numlist[3]"
   ]
  },
  {
   "cell_type": "code",
   "execution_count": 229,
   "id": "7e4cb643",
   "metadata": {},
   "outputs": [
    {
     "data": {
      "text/plain": [
       "500"
      ]
     },
     "execution_count": 229,
     "metadata": {},
     "output_type": "execute_result"
    }
   ],
   "source": [
    "numlist[4]"
   ]
  },
  {
   "cell_type": "code",
   "execution_count": 230,
   "id": "3dccc15b",
   "metadata": {},
   "outputs": [],
   "source": [
    "numlist[4]=345"
   ]
  },
  {
   "cell_type": "code",
   "execution_count": 231,
   "id": "c33e7c0d",
   "metadata": {},
   "outputs": [
    {
     "data": {
      "text/plain": [
       "[100, 200, 300, 400, 345, 600]"
      ]
     },
     "execution_count": 231,
     "metadata": {},
     "output_type": "execute_result"
    }
   ],
   "source": [
    "numlist"
   ]
  },
  {
   "cell_type": "code",
   "execution_count": 232,
   "id": "5c44f422",
   "metadata": {},
   "outputs": [],
   "source": [
    "numlist.clear()"
   ]
  },
  {
   "cell_type": "code",
   "execution_count": 233,
   "id": "f8b64604",
   "metadata": {},
   "outputs": [
    {
     "data": {
      "text/plain": [
       "[]"
      ]
     },
     "execution_count": 233,
     "metadata": {},
     "output_type": "execute_result"
    }
   ],
   "source": [
    "numlist"
   ]
  },
  {
   "cell_type": "code",
   "execution_count": 234,
   "id": "07d6570e",
   "metadata": {},
   "outputs": [],
   "source": [
    "del numlist"
   ]
  },
  {
   "cell_type": "code",
   "execution_count": 235,
   "id": "60e885e1",
   "metadata": {},
   "outputs": [
    {
     "ename": "NameError",
     "evalue": "name 'numlist' is not defined",
     "output_type": "error",
     "traceback": [
      "\u001b[1;31m---------------------------------------------------------------------------\u001b[0m",
      "\u001b[1;31mNameError\u001b[0m                                 Traceback (most recent call last)",
      "\u001b[1;32m~\\AppData\\Local\\Temp/ipykernel_10124/3803243408.py\u001b[0m in \u001b[0;36m<module>\u001b[1;34m\u001b[0m\n\u001b[1;32m----> 1\u001b[1;33m \u001b[0mnumlist\u001b[0m\u001b[1;33m\u001b[0m\u001b[1;33m\u001b[0m\u001b[0m\n\u001b[0m",
      "\u001b[1;31mNameError\u001b[0m: name 'numlist' is not defined"
     ]
    }
   ],
   "source": [
    "numlist"
   ]
  },
  {
   "cell_type": "markdown",
   "id": "ee617858",
   "metadata": {},
   "source": [
    "#    EXAMPLE"
   ]
  },
  {
   "cell_type": "code",
   "execution_count": 236,
   "id": "248d34b1",
   "metadata": {},
   "outputs": [],
   "source": [
    "vehical=['car','bike','cycle','train']"
   ]
  },
  {
   "cell_type": "code",
   "execution_count": 237,
   "id": "1977e3da",
   "metadata": {},
   "outputs": [
    {
     "data": {
      "text/plain": [
       "['car', 'bike', 'cycle', 'train']"
      ]
     },
     "execution_count": 237,
     "metadata": {},
     "output_type": "execute_result"
    }
   ],
   "source": [
    "vehical"
   ]
  },
  {
   "cell_type": "code",
   "execution_count": 238,
   "id": "e29146d0",
   "metadata": {},
   "outputs": [
    {
     "data": {
      "text/plain": [
       "['car', 'bike', 'cycle', 'train', 'aroplane']"
      ]
     },
     "execution_count": 238,
     "metadata": {},
     "output_type": "execute_result"
    }
   ],
   "source": [
    "vehical+['aroplane']  #not chenge permanent"
   ]
  },
  {
   "cell_type": "code",
   "execution_count": 239,
   "id": "f3c43ad5",
   "metadata": {},
   "outputs": [],
   "source": [
    "vehical=vehical+['aroplane']  # chenge permanent"
   ]
  },
  {
   "cell_type": "code",
   "execution_count": 240,
   "id": "d1bbcb32",
   "metadata": {},
   "outputs": [
    {
     "data": {
      "text/plain": [
       "['car', 'bike', 'cycle', 'train', 'aroplane']"
      ]
     },
     "execution_count": 240,
     "metadata": {},
     "output_type": "execute_result"
    }
   ],
   "source": [
    "vehical"
   ]
  },
  {
   "cell_type": "code",
   "execution_count": 241,
   "id": "bca89c2a",
   "metadata": {},
   "outputs": [
    {
     "data": {
      "text/plain": [
       "'car'"
      ]
     },
     "execution_count": 241,
     "metadata": {},
     "output_type": "execute_result"
    }
   ],
   "source": [
    "vehical[0] #item of index value"
   ]
  },
  {
   "cell_type": "code",
   "execution_count": 242,
   "id": "4d4e9e6f",
   "metadata": {},
   "outputs": [
    {
     "data": {
      "text/plain": [
       "'aroplane'"
      ]
     },
     "execution_count": 242,
     "metadata": {},
     "output_type": "execute_result"
    }
   ],
   "source": [
    "vehical[4]"
   ]
  },
  {
   "cell_type": "code",
   "execution_count": 243,
   "id": "8725b215",
   "metadata": {},
   "outputs": [
    {
     "data": {
      "text/plain": [
       "0"
      ]
     },
     "execution_count": 243,
     "metadata": {},
     "output_type": "execute_result"
    }
   ],
   "source": [
    "vehical.index('car') #index value of item"
   ]
  },
  {
   "cell_type": "code",
   "execution_count": 244,
   "id": "e8672f47",
   "metadata": {},
   "outputs": [
    {
     "data": {
      "text/plain": [
       "['bike', 'cycle', 'train']"
      ]
     },
     "execution_count": 244,
     "metadata": {},
     "output_type": "execute_result"
    }
   ],
   "source": [
    "vehical[1:4] #positive slicing"
   ]
  },
  {
   "cell_type": "code",
   "execution_count": 245,
   "id": "3f20aff1",
   "metadata": {},
   "outputs": [
    {
     "data": {
      "text/plain": [
       "['bike', 'cycle', 'train']"
      ]
     },
     "execution_count": 245,
     "metadata": {},
     "output_type": "execute_result"
    }
   ],
   "source": [
    "vehical[-4:-1]#negative slicing"
   ]
  },
  {
   "cell_type": "code",
   "execution_count": 246,
   "id": "5ea7756e",
   "metadata": {},
   "outputs": [],
   "source": [
    "vehical.append(\"boat\")  #additem into last"
   ]
  },
  {
   "cell_type": "code",
   "execution_count": 247,
   "id": "4bfd9042",
   "metadata": {},
   "outputs": [
    {
     "data": {
      "text/plain": [
       "['car', 'bike', 'cycle', 'train', 'aroplane', 'boat']"
      ]
     },
     "execution_count": 247,
     "metadata": {},
     "output_type": "execute_result"
    }
   ],
   "source": [
    "vehical"
   ]
  },
  {
   "cell_type": "code",
   "execution_count": 248,
   "id": "f92fd0a7",
   "metadata": {},
   "outputs": [],
   "source": [
    "newvehical=['bus','truck','auto']"
   ]
  },
  {
   "cell_type": "code",
   "execution_count": 249,
   "id": "63e436f1",
   "metadata": {},
   "outputs": [
    {
     "data": {
      "text/plain": [
       "['bus', 'truck', 'auto']"
      ]
     },
     "execution_count": 249,
     "metadata": {},
     "output_type": "execute_result"
    }
   ],
   "source": [
    "newvehical"
   ]
  },
  {
   "cell_type": "code",
   "execution_count": 250,
   "id": "f3813055",
   "metadata": {},
   "outputs": [],
   "source": [
    "vehical.extend(newvehical)  #add more then one item into list"
   ]
  },
  {
   "cell_type": "code",
   "execution_count": 251,
   "id": "6a5a52a3",
   "metadata": {},
   "outputs": [
    {
     "data": {
      "text/plain": [
       "['car', 'bike', 'cycle', 'train', 'aroplane', 'boat', 'bus', 'truck', 'auto']"
      ]
     },
     "execution_count": 251,
     "metadata": {},
     "output_type": "execute_result"
    }
   ],
   "source": [
    "vehical"
   ]
  },
  {
   "cell_type": "code",
   "execution_count": 252,
   "id": "7428ede0",
   "metadata": {},
   "outputs": [],
   "source": [
    "vehical.sort()  #sort in accending order"
   ]
  },
  {
   "cell_type": "code",
   "execution_count": 253,
   "id": "bca914da",
   "metadata": {},
   "outputs": [
    {
     "data": {
      "text/plain": [
       "['aroplane', 'auto', 'bike', 'boat', 'bus', 'car', 'cycle', 'train', 'truck']"
      ]
     },
     "execution_count": 253,
     "metadata": {},
     "output_type": "execute_result"
    }
   ],
   "source": [
    "vehical"
   ]
  },
  {
   "cell_type": "code",
   "execution_count": 254,
   "id": "5024c617",
   "metadata": {},
   "outputs": [],
   "source": [
    "vehical.reverse() #reverse order\n"
   ]
  },
  {
   "cell_type": "code",
   "execution_count": 255,
   "id": "f474059b",
   "metadata": {},
   "outputs": [
    {
     "data": {
      "text/plain": [
       "['truck', 'train', 'cycle', 'car', 'bus', 'boat', 'bike', 'auto', 'aroplane']"
      ]
     },
     "execution_count": 255,
     "metadata": {},
     "output_type": "execute_result"
    }
   ],
   "source": [
    "vehical"
   ]
  },
  {
   "cell_type": "code",
   "execution_count": 256,
   "id": "5f86852c",
   "metadata": {},
   "outputs": [
    {
     "data": {
      "text/plain": [
       "'aroplane'"
      ]
     },
     "execution_count": 256,
     "metadata": {},
     "output_type": "execute_result"
    }
   ],
   "source": [
    "vehical.pop() # delete last item"
   ]
  },
  {
   "cell_type": "code",
   "execution_count": 257,
   "id": "7db3c6d6",
   "metadata": {},
   "outputs": [
    {
     "data": {
      "text/plain": [
       "['truck', 'train', 'cycle', 'car', 'bus', 'boat', 'bike', 'auto']"
      ]
     },
     "execution_count": 257,
     "metadata": {},
     "output_type": "execute_result"
    }
   ],
   "source": [
    "vehical"
   ]
  },
  {
   "cell_type": "code",
   "execution_count": 258,
   "id": "58e1b69d",
   "metadata": {},
   "outputs": [
    {
     "data": {
      "text/plain": [
       "'car'"
      ]
     },
     "execution_count": 258,
     "metadata": {},
     "output_type": "execute_result"
    }
   ],
   "source": [
    "vehical.pop(3) #delete given index item"
   ]
  },
  {
   "cell_type": "code",
   "execution_count": 259,
   "id": "7b77fd58",
   "metadata": {},
   "outputs": [
    {
     "data": {
      "text/plain": [
       "['truck', 'train', 'cycle', 'bus', 'boat', 'bike', 'auto']"
      ]
     },
     "execution_count": 259,
     "metadata": {},
     "output_type": "execute_result"
    }
   ],
   "source": [
    "vehical"
   ]
  },
  {
   "cell_type": "code",
   "execution_count": 260,
   "id": "a75a3a76",
   "metadata": {},
   "outputs": [],
   "source": [
    "vehical[1]=\"vane\" #mutatione(editing) the perticuler index value"
   ]
  },
  {
   "cell_type": "code",
   "execution_count": 261,
   "id": "cf9dd584",
   "metadata": {},
   "outputs": [
    {
     "data": {
      "text/plain": [
       "['truck', 'vane', 'cycle', 'bus', 'boat', 'bike', 'auto']"
      ]
     },
     "execution_count": 261,
     "metadata": {},
     "output_type": "execute_result"
    }
   ],
   "source": [
    "vehical"
   ]
  },
  {
   "cell_type": "code",
   "execution_count": 262,
   "id": "50810628",
   "metadata": {},
   "outputs": [],
   "source": [
    "vehical.remove('cycle')#delete perticuler item using name"
   ]
  },
  {
   "cell_type": "code",
   "execution_count": 263,
   "id": "25c3c692",
   "metadata": {},
   "outputs": [
    {
     "data": {
      "text/plain": [
       "['truck', 'vane', 'bus', 'boat', 'bike', 'auto']"
      ]
     },
     "execution_count": 263,
     "metadata": {},
     "output_type": "execute_result"
    }
   ],
   "source": [
    "vehical"
   ]
  },
  {
   "cell_type": "code",
   "execution_count": 264,
   "id": "2380ec12",
   "metadata": {},
   "outputs": [],
   "source": [
    "vehical.clear() #clear the list of item"
   ]
  },
  {
   "cell_type": "code",
   "execution_count": 265,
   "id": "50e5f0eb",
   "metadata": {},
   "outputs": [
    {
     "data": {
      "text/plain": [
       "[]"
      ]
     },
     "execution_count": 265,
     "metadata": {},
     "output_type": "execute_result"
    }
   ],
   "source": [
    "vehical"
   ]
  },
  {
   "cell_type": "code",
   "execution_count": 266,
   "id": "7f996556",
   "metadata": {},
   "outputs": [],
   "source": [
    "del vehical # permanent delete the list"
   ]
  },
  {
   "cell_type": "markdown",
   "id": "b3e017ad",
   "metadata": {},
   "source": [
    "list comprehension-to store the value of list in another variable as a list"
   ]
  },
  {
   "cell_type": "code",
   "execution_count": 1,
   "id": "77d75e0b",
   "metadata": {},
   "outputs": [],
   "source": [
    "p=[i for i in [11,12,13,14,15,16]]"
   ]
  },
  {
   "cell_type": "code",
   "execution_count": 2,
   "id": "d7674f7c",
   "metadata": {},
   "outputs": [
    {
     "data": {
      "text/plain": [
       "[11, 12, 13, 14, 15, 16]"
      ]
     },
     "execution_count": 2,
     "metadata": {},
     "output_type": "execute_result"
    }
   ],
   "source": [
    "p"
   ]
  },
  {
   "cell_type": "code",
   "execution_count": 4,
   "id": "81437b40",
   "metadata": {},
   "outputs": [],
   "source": [
    "k=[i for i in range(0,10)]"
   ]
  },
  {
   "cell_type": "code",
   "execution_count": 5,
   "id": "7f56210f",
   "metadata": {},
   "outputs": [
    {
     "data": {
      "text/plain": [
       "[0, 1, 2, 3, 4, 5, 6, 7, 8, 9]"
      ]
     },
     "execution_count": 5,
     "metadata": {},
     "output_type": "execute_result"
    }
   ],
   "source": [
    "k"
   ]
  },
  {
   "cell_type": "code",
   "execution_count": 20,
   "id": "24a38d98",
   "metadata": {},
   "outputs": [],
   "source": [
    "n=[i for i in range(0,10,2)]"
   ]
  },
  {
   "cell_type": "code",
   "execution_count": 21,
   "id": "be17bb5f",
   "metadata": {},
   "outputs": [
    {
     "data": {
      "text/plain": [
       "[0, 2, 4, 6, 8]"
      ]
     },
     "execution_count": 21,
     "metadata": {},
     "output_type": "execute_result"
    }
   ],
   "source": [
    "n"
   ]
  },
  {
   "cell_type": "code",
   "execution_count": 25,
   "id": "479a1d6b",
   "metadata": {},
   "outputs": [
    {
     "ename": "TypeError",
     "evalue": "unsupported operand type(s) for %: 'list' and 'int'",
     "output_type": "error",
     "traceback": [
      "\u001b[1;31m---------------------------------------------------------------------------\u001b[0m",
      "\u001b[1;31mTypeError\u001b[0m                                 Traceback (most recent call last)",
      "\u001b[1;32m~\\AppData\\Local\\Temp/ipykernel_2376/1094378117.py\u001b[0m in \u001b[0;36m<module>\u001b[1;34m\u001b[0m\n\u001b[1;32m----> 1\u001b[1;33m \u001b[0mk\u001b[0m\u001b[1;33m=\u001b[0m \u001b[1;33m[\u001b[0m\u001b[0mi\u001b[0m \u001b[1;32mfor\u001b[0m \u001b[0mi\u001b[0m \u001b[1;32min\u001b[0m \u001b[0mrange\u001b[0m\u001b[1;33m(\u001b[0m\u001b[1;36m0\u001b[0m\u001b[1;33m,\u001b[0m\u001b[1;36m11\u001b[0m\u001b[1;33m)\u001b[0m \u001b[1;32mif\u001b[0m \u001b[0mk\u001b[0m\u001b[1;33m%\u001b[0m\u001b[1;36m2\u001b[0m\u001b[1;33m==\u001b[0m\u001b[1;36m0\u001b[0m\u001b[1;33m]\u001b[0m\u001b[1;33m\u001b[0m\u001b[1;33m\u001b[0m\u001b[0m\n\u001b[0m",
      "\u001b[1;32m~\\AppData\\Local\\Temp/ipykernel_2376/1094378117.py\u001b[0m in \u001b[0;36m<listcomp>\u001b[1;34m(.0)\u001b[0m\n\u001b[1;32m----> 1\u001b[1;33m \u001b[0mk\u001b[0m\u001b[1;33m=\u001b[0m \u001b[1;33m[\u001b[0m\u001b[0mi\u001b[0m \u001b[1;32mfor\u001b[0m \u001b[0mi\u001b[0m \u001b[1;32min\u001b[0m \u001b[0mrange\u001b[0m\u001b[1;33m(\u001b[0m\u001b[1;36m0\u001b[0m\u001b[1;33m,\u001b[0m\u001b[1;36m11\u001b[0m\u001b[1;33m)\u001b[0m \u001b[1;32mif\u001b[0m \u001b[0mk\u001b[0m\u001b[1;33m%\u001b[0m\u001b[1;36m2\u001b[0m\u001b[1;33m==\u001b[0m\u001b[1;36m0\u001b[0m\u001b[1;33m]\u001b[0m\u001b[1;33m\u001b[0m\u001b[1;33m\u001b[0m\u001b[0m\n\u001b[0m",
      "\u001b[1;31mTypeError\u001b[0m: unsupported operand type(s) for %: 'list' and 'int'"
     ]
    }
   ],
   "source": [
    "k= [i for i in range(0,11) if k%2==0]\n"
   ]
  },
  {
   "cell_type": "code",
   "execution_count": null,
   "id": "82f3e0a5",
   "metadata": {},
   "outputs": [],
   "source": []
  },
  {
   "cell_type": "code",
   "execution_count": null,
   "id": "405ab080",
   "metadata": {},
   "outputs": [],
   "source": []
  },
  {
   "cell_type": "code",
   "execution_count": null,
   "id": "7e7e1bfd",
   "metadata": {},
   "outputs": [],
   "source": []
  },
  {
   "cell_type": "code",
   "execution_count": null,
   "id": "104c8ffc",
   "metadata": {},
   "outputs": [],
   "source": []
  },
  {
   "cell_type": "code",
   "execution_count": null,
   "id": "e5f66f80",
   "metadata": {},
   "outputs": [],
   "source": []
  },
  {
   "cell_type": "code",
   "execution_count": null,
   "id": "92432676",
   "metadata": {},
   "outputs": [],
   "source": []
  },
  {
   "cell_type": "code",
   "execution_count": null,
   "id": "b47eccce",
   "metadata": {},
   "outputs": [],
   "source": []
  },
  {
   "cell_type": "code",
   "execution_count": null,
   "id": "dca1c993",
   "metadata": {},
   "outputs": [],
   "source": []
  },
  {
   "cell_type": "code",
   "execution_count": null,
   "id": "f02cc9a2",
   "metadata": {},
   "outputs": [],
   "source": []
  },
  {
   "cell_type": "code",
   "execution_count": null,
   "id": "85de1ac2",
   "metadata": {},
   "outputs": [],
   "source": []
  },
  {
   "cell_type": "code",
   "execution_count": null,
   "id": "047e6d59",
   "metadata": {},
   "outputs": [],
   "source": []
  },
  {
   "cell_type": "markdown",
   "id": "3d84694d",
   "metadata": {},
   "source": [
    "# TUPLES"
   ]
  },
  {
   "cell_type": "markdown",
   "id": "ebd3b6bf",
   "metadata": {},
   "source": [
    "tuples are stored in  ()\n",
    "tuples and list is same the major diffrence is that tuples are immutable and list is mutable"
   ]
  },
  {
   "cell_type": "code",
   "execution_count": 284,
   "id": "acab8a7c",
   "metadata": {},
   "outputs": [
    {
     "data": {
      "text/plain": [
       "(1, 2, 3, 4, 5)"
      ]
     },
     "execution_count": 284,
     "metadata": {},
     "output_type": "execute_result"
    }
   ],
   "source": [
    "t1=(1,2,3,4,5,)\n",
    "t1"
   ]
  },
  {
   "cell_type": "code",
   "execution_count": 285,
   "id": "34b7518d",
   "metadata": {},
   "outputs": [],
   "source": [
    "t2=(2.4,4,5,'a',True)"
   ]
  },
  {
   "cell_type": "code",
   "execution_count": 286,
   "id": "2932958f",
   "metadata": {},
   "outputs": [
    {
     "data": {
      "text/plain": [
       "(2.4, 4, 5, 'a', True)"
      ]
     },
     "execution_count": 286,
     "metadata": {},
     "output_type": "execute_result"
    }
   ],
   "source": [
    "t2"
   ]
  },
  {
   "cell_type": "code",
   "execution_count": 287,
   "id": "ddb46d49",
   "metadata": {},
   "outputs": [
    {
     "data": {
      "text/plain": [
       "1"
      ]
     },
     "execution_count": 287,
     "metadata": {},
     "output_type": "execute_result"
    }
   ],
   "source": [
    "t1[0]"
   ]
  },
  {
   "cell_type": "code",
   "execution_count": 288,
   "id": "fc48920d",
   "metadata": {},
   "outputs": [
    {
     "data": {
      "text/plain": [
       "True"
      ]
     },
     "execution_count": 288,
     "metadata": {},
     "output_type": "execute_result"
    }
   ],
   "source": [
    "t2[4]"
   ]
  },
  {
   "cell_type": "code",
   "execution_count": 289,
   "id": "48786404",
   "metadata": {},
   "outputs": [
    {
     "data": {
      "text/plain": [
       "2"
      ]
     },
     "execution_count": 289,
     "metadata": {},
     "output_type": "execute_result"
    }
   ],
   "source": [
    "t1[1]"
   ]
  },
  {
   "cell_type": "code",
   "execution_count": 290,
   "id": "fc6e6fe5",
   "metadata": {},
   "outputs": [
    {
     "ename": "TypeError",
     "evalue": "'tuple' object does not support item assignment",
     "output_type": "error",
     "traceback": [
      "\u001b[1;31m---------------------------------------------------------------------------\u001b[0m",
      "\u001b[1;31mTypeError\u001b[0m                                 Traceback (most recent call last)",
      "\u001b[1;32m~\\AppData\\Local\\Temp/ipykernel_10124/3861175519.py\u001b[0m in \u001b[0;36m<module>\u001b[1;34m\u001b[0m\n\u001b[1;32m----> 1\u001b[1;33m \u001b[0mt1\u001b[0m\u001b[1;33m[\u001b[0m\u001b[1;36m1\u001b[0m\u001b[1;33m]\u001b[0m\u001b[1;33m=\u001b[0m\u001b[1;36m11\u001b[0m\u001b[1;33m\u001b[0m\u001b[1;33m\u001b[0m\u001b[0m\n\u001b[0m",
      "\u001b[1;31mTypeError\u001b[0m: 'tuple' object does not support item assignment"
     ]
    }
   ],
   "source": [
    "t1[1]=11 # cant chenge the tuple item bcz tuples are immutable"
   ]
  },
  {
   "cell_type": "code",
   "execution_count": 1,
   "id": "d5a6c3df",
   "metadata": {},
   "outputs": [],
   "source": [
    "tup1=(1,2,3,5,6,4)\n"
   ]
  },
  {
   "cell_type": "code",
   "execution_count": 2,
   "id": "14c7a7da",
   "metadata": {},
   "outputs": [
    {
     "data": {
      "text/plain": [
       "(1, 2, 3, 5, 6, 4)"
      ]
     },
     "execution_count": 2,
     "metadata": {},
     "output_type": "execute_result"
    }
   ],
   "source": [
    "tup1"
   ]
  },
  {
   "cell_type": "code",
   "execution_count": 3,
   "id": "66a1217c",
   "metadata": {},
   "outputs": [],
   "source": [
    "list1=list(tup1)#tuples are convert in list"
   ]
  },
  {
   "cell_type": "code",
   "execution_count": 4,
   "id": "2d221bc6",
   "metadata": {
    "collapsed": true
   },
   "outputs": [
    {
     "data": {
      "text/plain": [
       "[1, 2, 3, 5, 6, 4]"
      ]
     },
     "execution_count": 4,
     "metadata": {},
     "output_type": "execute_result"
    }
   ],
   "source": [
    "list1"
   ]
  },
  {
   "cell_type": "code",
   "execution_count": 5,
   "id": "6cca3ad3",
   "metadata": {},
   "outputs": [],
   "source": [
    "tup2=tuple(list1)#list is slso convert list to tuples"
   ]
  },
  {
   "cell_type": "code",
   "execution_count": 6,
   "id": "6cb18067",
   "metadata": {},
   "outputs": [
    {
     "data": {
      "text/plain": [
       "(1, 2, 3, 5, 6, 4)"
      ]
     },
     "execution_count": 6,
     "metadata": {},
     "output_type": "execute_result"
    }
   ],
   "source": [
    "tup2"
   ]
  },
  {
   "cell_type": "code",
   "execution_count": 7,
   "id": "d64cabda",
   "metadata": {},
   "outputs": [
    {
     "data": {
      "text/plain": [
       "6"
      ]
     },
     "execution_count": 7,
     "metadata": {},
     "output_type": "execute_result"
    }
   ],
   "source": [
    "len(tup2)"
   ]
  },
  {
   "cell_type": "code",
   "execution_count": 10,
   "id": "1d617634",
   "metadata": {},
   "outputs": [],
   "source": [
    "tup3=('one',2,3,'four',True,3,3,3)"
   ]
  },
  {
   "cell_type": "code",
   "execution_count": 11,
   "id": "3e5261d1",
   "metadata": {},
   "outputs": [
    {
     "data": {
      "text/plain": [
       "3"
      ]
     },
     "execution_count": 11,
     "metadata": {},
     "output_type": "execute_result"
    }
   ],
   "source": [
    "tup3.index('four') #find the index value of item given"
   ]
  },
  {
   "cell_type": "code",
   "execution_count": 13,
   "id": "1b4120ac",
   "metadata": {},
   "outputs": [
    {
     "data": {
      "text/plain": [
       "4"
      ]
     },
     "execution_count": 13,
     "metadata": {},
     "output_type": "execute_result"
    }
   ],
   "source": [
    "tup3.count(3)#count the no. of item present"
   ]
  },
  {
   "cell_type": "code",
   "execution_count": null,
   "id": "b28b5e5d",
   "metadata": {},
   "outputs": [],
   "source": []
  },
  {
   "cell_type": "code",
   "execution_count": null,
   "id": "800eae51",
   "metadata": {},
   "outputs": [],
   "source": []
  },
  {
   "cell_type": "code",
   "execution_count": null,
   "id": "02e85678",
   "metadata": {},
   "outputs": [],
   "source": []
  },
  {
   "cell_type": "code",
   "execution_count": null,
   "id": "163d3b11",
   "metadata": {},
   "outputs": [],
   "source": []
  }
 ],
 "metadata": {
  "kernelspec": {
   "display_name": "Python 3 (ipykernel)",
   "language": "python",
   "name": "python3"
  },
  "language_info": {
   "codemirror_mode": {
    "name": "ipython",
    "version": 3
   },
   "file_extension": ".py",
   "mimetype": "text/x-python",
   "name": "python",
   "nbconvert_exporter": "python",
   "pygments_lexer": "ipython3",
   "version": "3.9.7"
  }
 },
 "nbformat": 4,
 "nbformat_minor": 5
}
