{
 "cells": [
  {
   "cell_type": "markdown",
   "id": "91afb37a",
   "metadata": {},
   "source": [
    "# IMPORT DATASET"
   ]
  },
  {
   "cell_type": "code",
   "execution_count": 1,
   "id": "6d79904b",
   "metadata": {},
   "outputs": [],
   "source": [
    "import pandas as pd\n",
    "import numpy as np"
   ]
  },
  {
   "cell_type": "code",
   "execution_count": 2,
   "id": "f0d88f3d",
   "metadata": {},
   "outputs": [],
   "source": [
    "df=pd.read_csv(\"mobile.csv\")"
   ]
  },
  {
   "cell_type": "code",
   "execution_count": 3,
   "id": "477dbcc5",
   "metadata": {},
   "outputs": [
    {
     "data": {
      "text/plain": [
       "Index(['customerID', 'gender', 'SeniorCitizen', 'Partner', 'Dependents',\n",
       "       'tenure', 'PhoneService', 'MultipleLines', 'InternetService',\n",
       "       'OnlineSecurity', 'OnlineBackup', 'DeviceProtection', 'TechSupport',\n",
       "       'StreamingTV', 'StreamingMovies', 'Contract', 'PaperlessBilling',\n",
       "       'PaymentMethod', 'MonthlyCharges', 'TotalCharges', 'Churn'],\n",
       "      dtype='object')"
      ]
     },
     "execution_count": 3,
     "metadata": {},
     "output_type": "execute_result"
    }
   ],
   "source": [
    "df.columns"
   ]
  },
  {
   "cell_type": "code",
   "execution_count": 4,
   "id": "1650e085",
   "metadata": {},
   "outputs": [
    {
     "data": {
      "text/html": [
       "<div>\n",
       "<style scoped>\n",
       "    .dataframe tbody tr th:only-of-type {\n",
       "        vertical-align: middle;\n",
       "    }\n",
       "\n",
       "    .dataframe tbody tr th {\n",
       "        vertical-align: top;\n",
       "    }\n",
       "\n",
       "    .dataframe thead th {\n",
       "        text-align: right;\n",
       "    }\n",
       "</style>\n",
       "<table border=\"1\" class=\"dataframe\">\n",
       "  <thead>\n",
       "    <tr style=\"text-align: right;\">\n",
       "      <th></th>\n",
       "      <th>customerID</th>\n",
       "      <th>gender</th>\n",
       "      <th>SeniorCitizen</th>\n",
       "      <th>Partner</th>\n",
       "      <th>Dependents</th>\n",
       "      <th>tenure</th>\n",
       "      <th>PhoneService</th>\n",
       "      <th>MultipleLines</th>\n",
       "      <th>InternetService</th>\n",
       "      <th>OnlineSecurity</th>\n",
       "      <th>...</th>\n",
       "      <th>DeviceProtection</th>\n",
       "      <th>TechSupport</th>\n",
       "      <th>StreamingTV</th>\n",
       "      <th>StreamingMovies</th>\n",
       "      <th>Contract</th>\n",
       "      <th>PaperlessBilling</th>\n",
       "      <th>PaymentMethod</th>\n",
       "      <th>MonthlyCharges</th>\n",
       "      <th>TotalCharges</th>\n",
       "      <th>Churn</th>\n",
       "    </tr>\n",
       "  </thead>\n",
       "  <tbody>\n",
       "    <tr>\n",
       "      <th>0</th>\n",
       "      <td>7590-VHVEG</td>\n",
       "      <td>Female</td>\n",
       "      <td>0</td>\n",
       "      <td>Yes</td>\n",
       "      <td>No</td>\n",
       "      <td>1</td>\n",
       "      <td>No</td>\n",
       "      <td>No phone service</td>\n",
       "      <td>DSL</td>\n",
       "      <td>No</td>\n",
       "      <td>...</td>\n",
       "      <td>No</td>\n",
       "      <td>No</td>\n",
       "      <td>No</td>\n",
       "      <td>No</td>\n",
       "      <td>Month-to-month</td>\n",
       "      <td>Yes</td>\n",
       "      <td>Electronic check</td>\n",
       "      <td>29.85</td>\n",
       "      <td>29.85</td>\n",
       "      <td>No</td>\n",
       "    </tr>\n",
       "    <tr>\n",
       "      <th>1</th>\n",
       "      <td>5575-GNVDE</td>\n",
       "      <td>Male</td>\n",
       "      <td>0</td>\n",
       "      <td>No</td>\n",
       "      <td>No</td>\n",
       "      <td>34</td>\n",
       "      <td>Yes</td>\n",
       "      <td>No</td>\n",
       "      <td>DSL</td>\n",
       "      <td>Yes</td>\n",
       "      <td>...</td>\n",
       "      <td>Yes</td>\n",
       "      <td>No</td>\n",
       "      <td>No</td>\n",
       "      <td>No</td>\n",
       "      <td>One year</td>\n",
       "      <td>No</td>\n",
       "      <td>Mailed check</td>\n",
       "      <td>56.95</td>\n",
       "      <td>1889.5</td>\n",
       "      <td>No</td>\n",
       "    </tr>\n",
       "    <tr>\n",
       "      <th>2</th>\n",
       "      <td>3668-QPYBK</td>\n",
       "      <td>Male</td>\n",
       "      <td>0</td>\n",
       "      <td>No</td>\n",
       "      <td>No</td>\n",
       "      <td>2</td>\n",
       "      <td>Yes</td>\n",
       "      <td>No</td>\n",
       "      <td>DSL</td>\n",
       "      <td>Yes</td>\n",
       "      <td>...</td>\n",
       "      <td>No</td>\n",
       "      <td>No</td>\n",
       "      <td>No</td>\n",
       "      <td>No</td>\n",
       "      <td>Month-to-month</td>\n",
       "      <td>Yes</td>\n",
       "      <td>Mailed check</td>\n",
       "      <td>53.85</td>\n",
       "      <td>108.15</td>\n",
       "      <td>Yes</td>\n",
       "    </tr>\n",
       "    <tr>\n",
       "      <th>3</th>\n",
       "      <td>7795-CFOCW</td>\n",
       "      <td>Male</td>\n",
       "      <td>0</td>\n",
       "      <td>No</td>\n",
       "      <td>No</td>\n",
       "      <td>45</td>\n",
       "      <td>No</td>\n",
       "      <td>No phone service</td>\n",
       "      <td>DSL</td>\n",
       "      <td>Yes</td>\n",
       "      <td>...</td>\n",
       "      <td>Yes</td>\n",
       "      <td>Yes</td>\n",
       "      <td>No</td>\n",
       "      <td>No</td>\n",
       "      <td>One year</td>\n",
       "      <td>No</td>\n",
       "      <td>Bank transfer (automatic)</td>\n",
       "      <td>42.30</td>\n",
       "      <td>1840.75</td>\n",
       "      <td>No</td>\n",
       "    </tr>\n",
       "    <tr>\n",
       "      <th>4</th>\n",
       "      <td>9237-HQITU</td>\n",
       "      <td>Female</td>\n",
       "      <td>0</td>\n",
       "      <td>No</td>\n",
       "      <td>No</td>\n",
       "      <td>2</td>\n",
       "      <td>Yes</td>\n",
       "      <td>No</td>\n",
       "      <td>Fiber optic</td>\n",
       "      <td>No</td>\n",
       "      <td>...</td>\n",
       "      <td>No</td>\n",
       "      <td>No</td>\n",
       "      <td>No</td>\n",
       "      <td>No</td>\n",
       "      <td>Month-to-month</td>\n",
       "      <td>Yes</td>\n",
       "      <td>Electronic check</td>\n",
       "      <td>70.70</td>\n",
       "      <td>151.65</td>\n",
       "      <td>Yes</td>\n",
       "    </tr>\n",
       "  </tbody>\n",
       "</table>\n",
       "<p>5 rows × 21 columns</p>\n",
       "</div>"
      ],
      "text/plain": [
       "   customerID  gender  SeniorCitizen Partner Dependents  tenure PhoneService  \\\n",
       "0  7590-VHVEG  Female              0     Yes         No       1           No   \n",
       "1  5575-GNVDE    Male              0      No         No      34          Yes   \n",
       "2  3668-QPYBK    Male              0      No         No       2          Yes   \n",
       "3  7795-CFOCW    Male              0      No         No      45           No   \n",
       "4  9237-HQITU  Female              0      No         No       2          Yes   \n",
       "\n",
       "      MultipleLines InternetService OnlineSecurity  ... DeviceProtection  \\\n",
       "0  No phone service             DSL             No  ...               No   \n",
       "1                No             DSL            Yes  ...              Yes   \n",
       "2                No             DSL            Yes  ...               No   \n",
       "3  No phone service             DSL            Yes  ...              Yes   \n",
       "4                No     Fiber optic             No  ...               No   \n",
       "\n",
       "  TechSupport StreamingTV StreamingMovies        Contract PaperlessBilling  \\\n",
       "0          No          No              No  Month-to-month              Yes   \n",
       "1          No          No              No        One year               No   \n",
       "2          No          No              No  Month-to-month              Yes   \n",
       "3         Yes          No              No        One year               No   \n",
       "4          No          No              No  Month-to-month              Yes   \n",
       "\n",
       "               PaymentMethod MonthlyCharges  TotalCharges Churn  \n",
       "0           Electronic check          29.85         29.85    No  \n",
       "1               Mailed check          56.95        1889.5    No  \n",
       "2               Mailed check          53.85        108.15   Yes  \n",
       "3  Bank transfer (automatic)          42.30       1840.75    No  \n",
       "4           Electronic check          70.70        151.65   Yes  \n",
       "\n",
       "[5 rows x 21 columns]"
      ]
     },
     "execution_count": 4,
     "metadata": {},
     "output_type": "execute_result"
    }
   ],
   "source": [
    "df.head()"
   ]
  },
  {
   "cell_type": "markdown",
   "id": "3f86b1be",
   "metadata": {},
   "source": [
    "# checking null value"
   ]
  },
  {
   "cell_type": "code",
   "execution_count": 5,
   "id": "0dbf0601",
   "metadata": {},
   "outputs": [
    {
     "data": {
      "text/plain": [
       "customerID          0\n",
       "gender              0\n",
       "SeniorCitizen       0\n",
       "Partner             0\n",
       "Dependents          0\n",
       "tenure              0\n",
       "PhoneService        0\n",
       "MultipleLines       0\n",
       "InternetService     0\n",
       "OnlineSecurity      0\n",
       "OnlineBackup        0\n",
       "DeviceProtection    0\n",
       "TechSupport         0\n",
       "StreamingTV         0\n",
       "StreamingMovies     0\n",
       "Contract            0\n",
       "PaperlessBilling    0\n",
       "PaymentMethod       0\n",
       "MonthlyCharges      0\n",
       "TotalCharges        0\n",
       "Churn               0\n",
       "dtype: int64"
      ]
     },
     "execution_count": 5,
     "metadata": {},
     "output_type": "execute_result"
    }
   ],
   "source": [
    "df.isnull().sum()"
   ]
  },
  {
   "cell_type": "markdown",
   "id": "99ebc3af",
   "metadata": {},
   "source": [
    "# checking datatypes of columns"
   ]
  },
  {
   "cell_type": "code",
   "execution_count": 6,
   "id": "b95f1c50",
   "metadata": {},
   "outputs": [
    {
     "name": "stdout",
     "output_type": "stream",
     "text": [
      "<class 'pandas.core.frame.DataFrame'>\n",
      "RangeIndex: 7043 entries, 0 to 7042\n",
      "Data columns (total 21 columns):\n",
      " #   Column            Non-Null Count  Dtype  \n",
      "---  ------            --------------  -----  \n",
      " 0   customerID        7043 non-null   object \n",
      " 1   gender            7043 non-null   object \n",
      " 2   SeniorCitizen     7043 non-null   int64  \n",
      " 3   Partner           7043 non-null   object \n",
      " 4   Dependents        7043 non-null   object \n",
      " 5   tenure            7043 non-null   int64  \n",
      " 6   PhoneService      7043 non-null   object \n",
      " 7   MultipleLines     7043 non-null   object \n",
      " 8   InternetService   7043 non-null   object \n",
      " 9   OnlineSecurity    7043 non-null   object \n",
      " 10  OnlineBackup      7043 non-null   object \n",
      " 11  DeviceProtection  7043 non-null   object \n",
      " 12  TechSupport       7043 non-null   object \n",
      " 13  StreamingTV       7043 non-null   object \n",
      " 14  StreamingMovies   7043 non-null   object \n",
      " 15  Contract          7043 non-null   object \n",
      " 16  PaperlessBilling  7043 non-null   object \n",
      " 17  PaymentMethod     7043 non-null   object \n",
      " 18  MonthlyCharges    7043 non-null   float64\n",
      " 19  TotalCharges      7043 non-null   object \n",
      " 20  Churn             7043 non-null   object \n",
      "dtypes: float64(1), int64(2), object(18)\n",
      "memory usage: 1.1+ MB\n"
     ]
    }
   ],
   "source": [
    "df.info()"
   ]
  },
  {
   "cell_type": "markdown",
   "id": "87d933d2",
   "metadata": {},
   "source": [
    " # total charges is floting value but here show the object that mean any space value may be in tatalcharges  we have to check"
   ]
  },
  {
   "cell_type": "code",
   "execution_count": 7,
   "id": "49ef99a9",
   "metadata": {},
   "outputs": [
    {
     "data": {
      "text/plain": [
       "array(['29.85', '1889.5', '108.15', ..., '346.45', '306.6', '6844.5'],\n",
       "      dtype=object)"
      ]
     },
     "execution_count": 7,
     "metadata": {},
     "output_type": "execute_result"
    }
   ],
   "source": [
    "df['TotalCharges'].unique()"
   ]
  },
  {
   "cell_type": "code",
   "execution_count": 8,
   "id": "85fe7f1e",
   "metadata": {},
   "outputs": [
    {
     "data": {
      "text/plain": [
       "6531"
      ]
     },
     "execution_count": 8,
     "metadata": {},
     "output_type": "execute_result"
    }
   ],
   "source": [
    "df['TotalCharges'].nunique()#no. of unique"
   ]
  },
  {
   "cell_type": "code",
   "execution_count": 9,
   "id": "0426838c",
   "metadata": {},
   "outputs": [
    {
     "data": {
      "text/plain": [
       "7043"
      ]
     },
     "execution_count": 9,
     "metadata": {},
     "output_type": "execute_result"
    }
   ],
   "source": [
    "df.shape[0]#no. of row"
   ]
  },
  {
   "cell_type": "code",
   "execution_count": 10,
   "id": "24146b73",
   "metadata": {},
   "outputs": [
    {
     "data": {
      "text/html": [
       "<div>\n",
       "<style scoped>\n",
       "    .dataframe tbody tr th:only-of-type {\n",
       "        vertical-align: middle;\n",
       "    }\n",
       "\n",
       "    .dataframe tbody tr th {\n",
       "        vertical-align: top;\n",
       "    }\n",
       "\n",
       "    .dataframe thead th {\n",
       "        text-align: right;\n",
       "    }\n",
       "</style>\n",
       "<table border=\"1\" class=\"dataframe\">\n",
       "  <thead>\n",
       "    <tr style=\"text-align: right;\">\n",
       "      <th></th>\n",
       "      <th>customerID</th>\n",
       "      <th>gender</th>\n",
       "      <th>SeniorCitizen</th>\n",
       "      <th>Partner</th>\n",
       "      <th>Dependents</th>\n",
       "      <th>tenure</th>\n",
       "      <th>PhoneService</th>\n",
       "      <th>MultipleLines</th>\n",
       "      <th>InternetService</th>\n",
       "      <th>OnlineSecurity</th>\n",
       "      <th>...</th>\n",
       "      <th>DeviceProtection</th>\n",
       "      <th>TechSupport</th>\n",
       "      <th>StreamingTV</th>\n",
       "      <th>StreamingMovies</th>\n",
       "      <th>Contract</th>\n",
       "      <th>PaperlessBilling</th>\n",
       "      <th>PaymentMethod</th>\n",
       "      <th>MonthlyCharges</th>\n",
       "      <th>TotalCharges</th>\n",
       "      <th>Churn</th>\n",
       "    </tr>\n",
       "  </thead>\n",
       "  <tbody>\n",
       "    <tr>\n",
       "      <th>488</th>\n",
       "      <td>4472-LVYGI</td>\n",
       "      <td>Female</td>\n",
       "      <td>0</td>\n",
       "      <td>Yes</td>\n",
       "      <td>Yes</td>\n",
       "      <td>0</td>\n",
       "      <td>No</td>\n",
       "      <td>No phone service</td>\n",
       "      <td>DSL</td>\n",
       "      <td>Yes</td>\n",
       "      <td>...</td>\n",
       "      <td>Yes</td>\n",
       "      <td>Yes</td>\n",
       "      <td>Yes</td>\n",
       "      <td>No</td>\n",
       "      <td>Two year</td>\n",
       "      <td>Yes</td>\n",
       "      <td>Bank transfer (automatic)</td>\n",
       "      <td>52.55</td>\n",
       "      <td></td>\n",
       "      <td>No</td>\n",
       "    </tr>\n",
       "    <tr>\n",
       "      <th>753</th>\n",
       "      <td>3115-CZMZD</td>\n",
       "      <td>Male</td>\n",
       "      <td>0</td>\n",
       "      <td>No</td>\n",
       "      <td>Yes</td>\n",
       "      <td>0</td>\n",
       "      <td>Yes</td>\n",
       "      <td>No</td>\n",
       "      <td>No</td>\n",
       "      <td>No internet service</td>\n",
       "      <td>...</td>\n",
       "      <td>No internet service</td>\n",
       "      <td>No internet service</td>\n",
       "      <td>No internet service</td>\n",
       "      <td>No internet service</td>\n",
       "      <td>Two year</td>\n",
       "      <td>No</td>\n",
       "      <td>Mailed check</td>\n",
       "      <td>20.25</td>\n",
       "      <td></td>\n",
       "      <td>No</td>\n",
       "    </tr>\n",
       "    <tr>\n",
       "      <th>936</th>\n",
       "      <td>5709-LVOEQ</td>\n",
       "      <td>Female</td>\n",
       "      <td>0</td>\n",
       "      <td>Yes</td>\n",
       "      <td>Yes</td>\n",
       "      <td>0</td>\n",
       "      <td>Yes</td>\n",
       "      <td>No</td>\n",
       "      <td>DSL</td>\n",
       "      <td>Yes</td>\n",
       "      <td>...</td>\n",
       "      <td>Yes</td>\n",
       "      <td>No</td>\n",
       "      <td>Yes</td>\n",
       "      <td>Yes</td>\n",
       "      <td>Two year</td>\n",
       "      <td>No</td>\n",
       "      <td>Mailed check</td>\n",
       "      <td>80.85</td>\n",
       "      <td></td>\n",
       "      <td>No</td>\n",
       "    </tr>\n",
       "    <tr>\n",
       "      <th>1082</th>\n",
       "      <td>4367-NUYAO</td>\n",
       "      <td>Male</td>\n",
       "      <td>0</td>\n",
       "      <td>Yes</td>\n",
       "      <td>Yes</td>\n",
       "      <td>0</td>\n",
       "      <td>Yes</td>\n",
       "      <td>Yes</td>\n",
       "      <td>No</td>\n",
       "      <td>No internet service</td>\n",
       "      <td>...</td>\n",
       "      <td>No internet service</td>\n",
       "      <td>No internet service</td>\n",
       "      <td>No internet service</td>\n",
       "      <td>No internet service</td>\n",
       "      <td>Two year</td>\n",
       "      <td>No</td>\n",
       "      <td>Mailed check</td>\n",
       "      <td>25.75</td>\n",
       "      <td></td>\n",
       "      <td>No</td>\n",
       "    </tr>\n",
       "    <tr>\n",
       "      <th>1340</th>\n",
       "      <td>1371-DWPAZ</td>\n",
       "      <td>Female</td>\n",
       "      <td>0</td>\n",
       "      <td>Yes</td>\n",
       "      <td>Yes</td>\n",
       "      <td>0</td>\n",
       "      <td>No</td>\n",
       "      <td>No phone service</td>\n",
       "      <td>DSL</td>\n",
       "      <td>Yes</td>\n",
       "      <td>...</td>\n",
       "      <td>Yes</td>\n",
       "      <td>Yes</td>\n",
       "      <td>Yes</td>\n",
       "      <td>No</td>\n",
       "      <td>Two year</td>\n",
       "      <td>No</td>\n",
       "      <td>Credit card (automatic)</td>\n",
       "      <td>56.05</td>\n",
       "      <td></td>\n",
       "      <td>No</td>\n",
       "    </tr>\n",
       "    <tr>\n",
       "      <th>3331</th>\n",
       "      <td>7644-OMVMY</td>\n",
       "      <td>Male</td>\n",
       "      <td>0</td>\n",
       "      <td>Yes</td>\n",
       "      <td>Yes</td>\n",
       "      <td>0</td>\n",
       "      <td>Yes</td>\n",
       "      <td>No</td>\n",
       "      <td>No</td>\n",
       "      <td>No internet service</td>\n",
       "      <td>...</td>\n",
       "      <td>No internet service</td>\n",
       "      <td>No internet service</td>\n",
       "      <td>No internet service</td>\n",
       "      <td>No internet service</td>\n",
       "      <td>Two year</td>\n",
       "      <td>No</td>\n",
       "      <td>Mailed check</td>\n",
       "      <td>19.85</td>\n",
       "      <td></td>\n",
       "      <td>No</td>\n",
       "    </tr>\n",
       "    <tr>\n",
       "      <th>3826</th>\n",
       "      <td>3213-VVOLG</td>\n",
       "      <td>Male</td>\n",
       "      <td>0</td>\n",
       "      <td>Yes</td>\n",
       "      <td>Yes</td>\n",
       "      <td>0</td>\n",
       "      <td>Yes</td>\n",
       "      <td>Yes</td>\n",
       "      <td>No</td>\n",
       "      <td>No internet service</td>\n",
       "      <td>...</td>\n",
       "      <td>No internet service</td>\n",
       "      <td>No internet service</td>\n",
       "      <td>No internet service</td>\n",
       "      <td>No internet service</td>\n",
       "      <td>Two year</td>\n",
       "      <td>No</td>\n",
       "      <td>Mailed check</td>\n",
       "      <td>25.35</td>\n",
       "      <td></td>\n",
       "      <td>No</td>\n",
       "    </tr>\n",
       "    <tr>\n",
       "      <th>4380</th>\n",
       "      <td>2520-SGTTA</td>\n",
       "      <td>Female</td>\n",
       "      <td>0</td>\n",
       "      <td>Yes</td>\n",
       "      <td>Yes</td>\n",
       "      <td>0</td>\n",
       "      <td>Yes</td>\n",
       "      <td>No</td>\n",
       "      <td>No</td>\n",
       "      <td>No internet service</td>\n",
       "      <td>...</td>\n",
       "      <td>No internet service</td>\n",
       "      <td>No internet service</td>\n",
       "      <td>No internet service</td>\n",
       "      <td>No internet service</td>\n",
       "      <td>Two year</td>\n",
       "      <td>No</td>\n",
       "      <td>Mailed check</td>\n",
       "      <td>20.00</td>\n",
       "      <td></td>\n",
       "      <td>No</td>\n",
       "    </tr>\n",
       "    <tr>\n",
       "      <th>5218</th>\n",
       "      <td>2923-ARZLG</td>\n",
       "      <td>Male</td>\n",
       "      <td>0</td>\n",
       "      <td>Yes</td>\n",
       "      <td>Yes</td>\n",
       "      <td>0</td>\n",
       "      <td>Yes</td>\n",
       "      <td>No</td>\n",
       "      <td>No</td>\n",
       "      <td>No internet service</td>\n",
       "      <td>...</td>\n",
       "      <td>No internet service</td>\n",
       "      <td>No internet service</td>\n",
       "      <td>No internet service</td>\n",
       "      <td>No internet service</td>\n",
       "      <td>One year</td>\n",
       "      <td>Yes</td>\n",
       "      <td>Mailed check</td>\n",
       "      <td>19.70</td>\n",
       "      <td></td>\n",
       "      <td>No</td>\n",
       "    </tr>\n",
       "    <tr>\n",
       "      <th>6670</th>\n",
       "      <td>4075-WKNIU</td>\n",
       "      <td>Female</td>\n",
       "      <td>0</td>\n",
       "      <td>Yes</td>\n",
       "      <td>Yes</td>\n",
       "      <td>0</td>\n",
       "      <td>Yes</td>\n",
       "      <td>Yes</td>\n",
       "      <td>DSL</td>\n",
       "      <td>No</td>\n",
       "      <td>...</td>\n",
       "      <td>Yes</td>\n",
       "      <td>Yes</td>\n",
       "      <td>Yes</td>\n",
       "      <td>No</td>\n",
       "      <td>Two year</td>\n",
       "      <td>No</td>\n",
       "      <td>Mailed check</td>\n",
       "      <td>73.35</td>\n",
       "      <td></td>\n",
       "      <td>No</td>\n",
       "    </tr>\n",
       "    <tr>\n",
       "      <th>6754</th>\n",
       "      <td>2775-SEFEE</td>\n",
       "      <td>Male</td>\n",
       "      <td>0</td>\n",
       "      <td>No</td>\n",
       "      <td>Yes</td>\n",
       "      <td>0</td>\n",
       "      <td>Yes</td>\n",
       "      <td>Yes</td>\n",
       "      <td>DSL</td>\n",
       "      <td>Yes</td>\n",
       "      <td>...</td>\n",
       "      <td>No</td>\n",
       "      <td>Yes</td>\n",
       "      <td>No</td>\n",
       "      <td>No</td>\n",
       "      <td>Two year</td>\n",
       "      <td>Yes</td>\n",
       "      <td>Bank transfer (automatic)</td>\n",
       "      <td>61.90</td>\n",
       "      <td></td>\n",
       "      <td>No</td>\n",
       "    </tr>\n",
       "  </tbody>\n",
       "</table>\n",
       "<p>11 rows × 21 columns</p>\n",
       "</div>"
      ],
      "text/plain": [
       "      customerID  gender  SeniorCitizen Partner Dependents  tenure  \\\n",
       "488   4472-LVYGI  Female              0     Yes        Yes       0   \n",
       "753   3115-CZMZD    Male              0      No        Yes       0   \n",
       "936   5709-LVOEQ  Female              0     Yes        Yes       0   \n",
       "1082  4367-NUYAO    Male              0     Yes        Yes       0   \n",
       "1340  1371-DWPAZ  Female              0     Yes        Yes       0   \n",
       "3331  7644-OMVMY    Male              0     Yes        Yes       0   \n",
       "3826  3213-VVOLG    Male              0     Yes        Yes       0   \n",
       "4380  2520-SGTTA  Female              0     Yes        Yes       0   \n",
       "5218  2923-ARZLG    Male              0     Yes        Yes       0   \n",
       "6670  4075-WKNIU  Female              0     Yes        Yes       0   \n",
       "6754  2775-SEFEE    Male              0      No        Yes       0   \n",
       "\n",
       "     PhoneService     MultipleLines InternetService       OnlineSecurity  ...  \\\n",
       "488            No  No phone service             DSL                  Yes  ...   \n",
       "753           Yes                No              No  No internet service  ...   \n",
       "936           Yes                No             DSL                  Yes  ...   \n",
       "1082          Yes               Yes              No  No internet service  ...   \n",
       "1340           No  No phone service             DSL                  Yes  ...   \n",
       "3331          Yes                No              No  No internet service  ...   \n",
       "3826          Yes               Yes              No  No internet service  ...   \n",
       "4380          Yes                No              No  No internet service  ...   \n",
       "5218          Yes                No              No  No internet service  ...   \n",
       "6670          Yes               Yes             DSL                   No  ...   \n",
       "6754          Yes               Yes             DSL                  Yes  ...   \n",
       "\n",
       "         DeviceProtection          TechSupport          StreamingTV  \\\n",
       "488                   Yes                  Yes                  Yes   \n",
       "753   No internet service  No internet service  No internet service   \n",
       "936                   Yes                   No                  Yes   \n",
       "1082  No internet service  No internet service  No internet service   \n",
       "1340                  Yes                  Yes                  Yes   \n",
       "3331  No internet service  No internet service  No internet service   \n",
       "3826  No internet service  No internet service  No internet service   \n",
       "4380  No internet service  No internet service  No internet service   \n",
       "5218  No internet service  No internet service  No internet service   \n",
       "6670                  Yes                  Yes                  Yes   \n",
       "6754                   No                  Yes                   No   \n",
       "\n",
       "          StreamingMovies  Contract PaperlessBilling  \\\n",
       "488                    No  Two year              Yes   \n",
       "753   No internet service  Two year               No   \n",
       "936                   Yes  Two year               No   \n",
       "1082  No internet service  Two year               No   \n",
       "1340                   No  Two year               No   \n",
       "3331  No internet service  Two year               No   \n",
       "3826  No internet service  Two year               No   \n",
       "4380  No internet service  Two year               No   \n",
       "5218  No internet service  One year              Yes   \n",
       "6670                   No  Two year               No   \n",
       "6754                   No  Two year              Yes   \n",
       "\n",
       "                  PaymentMethod MonthlyCharges  TotalCharges Churn  \n",
       "488   Bank transfer (automatic)          52.55                  No  \n",
       "753                Mailed check          20.25                  No  \n",
       "936                Mailed check          80.85                  No  \n",
       "1082               Mailed check          25.75                  No  \n",
       "1340    Credit card (automatic)          56.05                  No  \n",
       "3331               Mailed check          19.85                  No  \n",
       "3826               Mailed check          25.35                  No  \n",
       "4380               Mailed check          20.00                  No  \n",
       "5218               Mailed check          19.70                  No  \n",
       "6670               Mailed check          73.35                  No  \n",
       "6754  Bank transfer (automatic)          61.90                  No  \n",
       "\n",
       "[11 rows x 21 columns]"
      ]
     },
     "execution_count": 10,
     "metadata": {},
     "output_type": "execute_result"
    }
   ],
   "source": [
    "df.loc[df['TotalCharges']==\" \"]"
   ]
  },
  {
   "cell_type": "markdown",
   "id": "6fb0b35e",
   "metadata": {},
   "source": [
    "after some obsevation we have some column that has space as a value"
   ]
  },
  {
   "cell_type": "code",
   "execution_count": 11,
   "id": "e87b21ec",
   "metadata": {},
   "outputs": [],
   "source": [
    "df['TotalCharges']=df['TotalCharges'].replace(\" \",np.nan)"
   ]
  },
  {
   "cell_type": "code",
   "execution_count": 12,
   "id": "04cc50cf",
   "metadata": {},
   "outputs": [
    {
     "data": {
      "text/plain": [
       "customerID           0\n",
       "gender               0\n",
       "SeniorCitizen        0\n",
       "Partner              0\n",
       "Dependents           0\n",
       "tenure               0\n",
       "PhoneService         0\n",
       "MultipleLines        0\n",
       "InternetService      0\n",
       "OnlineSecurity       0\n",
       "OnlineBackup         0\n",
       "DeviceProtection     0\n",
       "TechSupport          0\n",
       "StreamingTV          0\n",
       "StreamingMovies      0\n",
       "Contract             0\n",
       "PaperlessBilling     0\n",
       "PaymentMethod        0\n",
       "MonthlyCharges       0\n",
       "TotalCharges        11\n",
       "Churn                0\n",
       "dtype: int64"
      ]
     },
     "execution_count": 12,
     "metadata": {},
     "output_type": "execute_result"
    }
   ],
   "source": [
    "df.isnull().sum()"
   ]
  },
  {
   "cell_type": "markdown",
   "id": "9feb9934",
   "metadata": {},
   "source": [
    "type casting- change the datatype of column totalcharges"
   ]
  },
  {
   "cell_type": "code",
   "execution_count": 13,
   "id": "66ee3ff8",
   "metadata": {},
   "outputs": [],
   "source": [
    "df['TotalCharges']=df['TotalCharges'].astype(float)"
   ]
  },
  {
   "cell_type": "code",
   "execution_count": 14,
   "id": "2f10986a",
   "metadata": {},
   "outputs": [
    {
     "data": {
      "text/plain": [
       "dtype('float64')"
      ]
     },
     "execution_count": 14,
     "metadata": {},
     "output_type": "execute_result"
    }
   ],
   "source": [
    "df.TotalCharges.dtype # type casting done"
   ]
  },
  {
   "cell_type": "markdown",
   "id": "7d2639aa",
   "metadata": {},
   "source": [
    " now in totalcharges column the value of space is replace by nan value\n",
    "    \n",
    "Handling the nan value by replacing by it with mean"
   ]
  },
  {
   "cell_type": "code",
   "execution_count": 15,
   "id": "22245f20",
   "metadata": {},
   "outputs": [
    {
     "data": {
      "text/plain": [
       "11"
      ]
     },
     "execution_count": 15,
     "metadata": {},
     "output_type": "execute_result"
    }
   ],
   "source": [
    "df[\"TotalCharges\"].isnull().sum()"
   ]
  },
  {
   "cell_type": "code",
   "execution_count": 16,
   "id": "3d05741e",
   "metadata": {},
   "outputs": [
    {
     "data": {
      "text/plain": [
       "2283.3004408418697"
      ]
     },
     "execution_count": 16,
     "metadata": {},
     "output_type": "execute_result"
    }
   ],
   "source": [
    "np.mean(df[\"TotalCharges\"])"
   ]
  },
  {
   "cell_type": "code",
   "execution_count": 17,
   "id": "ceba950f",
   "metadata": {},
   "outputs": [
    {
     "data": {
      "text/plain": [
       "customerID            4075-WKNIU\n",
       "gender                    Female\n",
       "SeniorCitizen                  0\n",
       "Partner                      Yes\n",
       "Dependents                   Yes\n",
       "tenure                         0\n",
       "PhoneService                 Yes\n",
       "MultipleLines                Yes\n",
       "InternetService              DSL\n",
       "OnlineSecurity                No\n",
       "OnlineBackup                 Yes\n",
       "DeviceProtection             Yes\n",
       "TechSupport                  Yes\n",
       "StreamingTV                  Yes\n",
       "StreamingMovies               No\n",
       "Contract                Two year\n",
       "PaperlessBilling              No\n",
       "PaymentMethod       Mailed check\n",
       "MonthlyCharges             73.35\n",
       "TotalCharges                 NaN\n",
       "Churn                         No\n",
       "Name: 6670, dtype: object"
      ]
     },
     "execution_count": 17,
     "metadata": {},
     "output_type": "execute_result"
    }
   ],
   "source": [
    "df.iloc[6670,:]"
   ]
  },
  {
   "cell_type": "code",
   "execution_count": 18,
   "id": "cf66765f",
   "metadata": {},
   "outputs": [],
   "source": [
    "# row no 6670 the value of total charges is NaN "
   ]
  },
  {
   "cell_type": "code",
   "execution_count": 19,
   "id": "1e0f4db9",
   "metadata": {},
   "outputs": [],
   "source": [
    "# totalcharges is dependent variable so we dont fill the nan value 11 is very less no thats why we can drop it\n",
    "#otherwise  we can fill it by mean\n",
    "\n",
    "#df[\"TotalCharges\"]=df[\"TotalCharges\"].fillna(np.mean(df[\"TotalCharges\"]))"
   ]
  },
  {
   "cell_type": "code",
   "execution_count": 20,
   "id": "06e2ff2d",
   "metadata": {},
   "outputs": [],
   "source": [
    "# now  row 6670 totalcharges value is  replaced by mean"
   ]
  },
  {
   "cell_type": "code",
   "execution_count": 21,
   "id": "6b6d2adf",
   "metadata": {},
   "outputs": [
    {
     "data": {
      "text/plain": [
       "7032"
      ]
     },
     "execution_count": 21,
     "metadata": {},
     "output_type": "execute_result"
    }
   ],
   "source": [
    "len(df[\"TotalCharges\"].dropna())"
   ]
  },
  {
   "cell_type": "code",
   "execution_count": 22,
   "id": "9cb42537",
   "metadata": {},
   "outputs": [],
   "source": [
    "df.dropna(inplace=True)"
   ]
  },
  {
   "cell_type": "code",
   "execution_count": 23,
   "id": "3d9defb4",
   "metadata": {},
   "outputs": [
    {
     "data": {
      "text/plain": [
       "(7032, 21)"
      ]
     },
     "execution_count": 23,
     "metadata": {},
     "output_type": "execute_result"
    }
   ],
   "source": [
    "df.shape"
   ]
  },
  {
   "cell_type": "code",
   "execution_count": 24,
   "id": "4656d6b4",
   "metadata": {},
   "outputs": [
    {
     "data": {
      "text/plain": [
       "customerID            9412-ARGBX\n",
       "gender                    Female\n",
       "SeniorCitizen                  0\n",
       "Partner                       No\n",
       "Dependents                   Yes\n",
       "tenure                        48\n",
       "PhoneService                 Yes\n",
       "MultipleLines                 No\n",
       "InternetService      Fiber optic\n",
       "OnlineSecurity                No\n",
       "OnlineBackup                 Yes\n",
       "DeviceProtection             Yes\n",
       "TechSupport                  Yes\n",
       "StreamingTV                  Yes\n",
       "StreamingMovies               No\n",
       "Contract                Two year\n",
       "PaperlessBilling             Yes\n",
       "PaymentMethod       Mailed check\n",
       "MonthlyCharges              95.5\n",
       "TotalCharges             4627.85\n",
       "Churn                        Yes\n",
       "Name: 6680, dtype: object"
      ]
     },
     "execution_count": 24,
     "metadata": {},
     "output_type": "execute_result"
    }
   ],
   "source": [
    "df.iloc[6670,:]"
   ]
  },
  {
   "cell_type": "code",
   "execution_count": 25,
   "id": "ee24c3b9",
   "metadata": {},
   "outputs": [],
   "source": [
    "# TotalCharges 4627.85 means location   of 6670 is bcz 11 record are droped "
   ]
  },
  {
   "cell_type": "code",
   "execution_count": 26,
   "id": "c51afa7b",
   "metadata": {},
   "outputs": [
    {
     "data": {
      "text/plain": [
       "customerID          0\n",
       "gender              0\n",
       "SeniorCitizen       0\n",
       "Partner             0\n",
       "Dependents          0\n",
       "tenure              0\n",
       "PhoneService        0\n",
       "MultipleLines       0\n",
       "InternetService     0\n",
       "OnlineSecurity      0\n",
       "OnlineBackup        0\n",
       "DeviceProtection    0\n",
       "TechSupport         0\n",
       "StreamingTV         0\n",
       "StreamingMovies     0\n",
       "Contract            0\n",
       "PaperlessBilling    0\n",
       "PaymentMethod       0\n",
       "MonthlyCharges      0\n",
       "TotalCharges        0\n",
       "Churn               0\n",
       "dtype: int64"
      ]
     },
     "execution_count": 26,
     "metadata": {},
     "output_type": "execute_result"
    }
   ],
   "source": [
    "df.isnull().sum()"
   ]
  },
  {
   "cell_type": "code",
   "execution_count": 27,
   "id": "78fb394e",
   "metadata": {},
   "outputs": [
    {
     "name": "stdout",
     "output_type": "stream",
     "text": [
      "<class 'pandas.core.frame.DataFrame'>\n",
      "Int64Index: 7032 entries, 0 to 7042\n",
      "Data columns (total 21 columns):\n",
      " #   Column            Non-Null Count  Dtype  \n",
      "---  ------            --------------  -----  \n",
      " 0   customerID        7032 non-null   object \n",
      " 1   gender            7032 non-null   object \n",
      " 2   SeniorCitizen     7032 non-null   int64  \n",
      " 3   Partner           7032 non-null   object \n",
      " 4   Dependents        7032 non-null   object \n",
      " 5   tenure            7032 non-null   int64  \n",
      " 6   PhoneService      7032 non-null   object \n",
      " 7   MultipleLines     7032 non-null   object \n",
      " 8   InternetService   7032 non-null   object \n",
      " 9   OnlineSecurity    7032 non-null   object \n",
      " 10  OnlineBackup      7032 non-null   object \n",
      " 11  DeviceProtection  7032 non-null   object \n",
      " 12  TechSupport       7032 non-null   object \n",
      " 13  StreamingTV       7032 non-null   object \n",
      " 14  StreamingMovies   7032 non-null   object \n",
      " 15  Contract          7032 non-null   object \n",
      " 16  PaperlessBilling  7032 non-null   object \n",
      " 17  PaymentMethod     7032 non-null   object \n",
      " 18  MonthlyCharges    7032 non-null   float64\n",
      " 19  TotalCharges      7032 non-null   float64\n",
      " 20  Churn             7032 non-null   object \n",
      "dtypes: float64(2), int64(2), object(17)\n",
      "memory usage: 1.2+ MB\n"
     ]
    }
   ],
   "source": [
    "df.info()"
   ]
  },
  {
   "cell_type": "code",
   "execution_count": 28,
   "id": "331dbc09",
   "metadata": {},
   "outputs": [],
   "source": [
    "#now both null value and dtype is solved"
   ]
  },
  {
   "cell_type": "markdown",
   "id": "dcb0fd14",
   "metadata": {},
   "source": [
    "# making data as normal form"
   ]
  },
  {
   "cell_type": "code",
   "execution_count": 29,
   "id": "537ab0d0",
   "metadata": {},
   "outputs": [],
   "source": [
    "#refrence point + memory location\n",
    "# deep copy=s + s\n",
    "# shallow copy = s+same"
   ]
  },
  {
   "cell_type": "code",
   "execution_count": 30,
   "id": "70a830eb",
   "metadata": {},
   "outputs": [],
   "source": [
    "df_visualization_nominal=df[['customerID', 'gender','Partner', 'Dependents',\n",
    "        'PhoneService', 'MultipleLines', 'InternetService','SeniorCitizen',\n",
    "       'OnlineSecurity', 'OnlineBackup', 'DeviceProtection', 'TechSupport',\n",
    "       'StreamingTV', 'StreamingMovies', 'Contract', 'PaperlessBilling',\n",
    "       'PaymentMethod', 'Churn']].copy()"
   ]
  },
  {
   "cell_type": "code",
   "execution_count": 31,
   "id": "89548e98",
   "metadata": {},
   "outputs": [
    {
     "data": {
      "text/plain": [
       "Index(['customerID', 'gender', 'Partner', 'Dependents', 'PhoneService',\n",
       "       'MultipleLines', 'InternetService', 'SeniorCitizen', 'OnlineSecurity',\n",
       "       'OnlineBackup', 'DeviceProtection', 'TechSupport', 'StreamingTV',\n",
       "       'StreamingMovies', 'Contract', 'PaperlessBilling', 'PaymentMethod',\n",
       "       'Churn'],\n",
       "      dtype='object')"
      ]
     },
     "execution_count": 31,
     "metadata": {},
     "output_type": "execute_result"
    }
   ],
   "source": [
    "df_visualization_nominal.columns"
   ]
  },
  {
   "cell_type": "code",
   "execution_count": 32,
   "id": "af7a90d2",
   "metadata": {},
   "outputs": [
    {
     "data": {
      "text/plain": [
       "2649168482160"
      ]
     },
     "execution_count": 32,
     "metadata": {},
     "output_type": "execute_result"
    }
   ],
   "source": [
    "id(df)"
   ]
  },
  {
   "cell_type": "code",
   "execution_count": 33,
   "id": "716bcc6d",
   "metadata": {},
   "outputs": [
    {
     "data": {
      "text/plain": [
       "2649207733936"
      ]
     },
     "execution_count": 33,
     "metadata": {},
     "output_type": "execute_result"
    }
   ],
   "source": [
    "id(df_visualization_nominal)"
   ]
  },
  {
   "cell_type": "markdown",
   "id": "3b7bdb32",
   "metadata": {},
   "source": [
    "# visualization of data"
   ]
  },
  {
   "cell_type": "markdown",
   "id": "d18930b9",
   "metadata": {},
   "source": [
    "for a nominal category of data we use a count plot as it will us frequency of the classes of the column"
   ]
  },
  {
   "cell_type": "code",
   "execution_count": 34,
   "id": "ec80b3a3",
   "metadata": {},
   "outputs": [],
   "source": [
    "import seaborn as sns"
   ]
  },
  {
   "cell_type": "code",
   "execution_count": 35,
   "id": "5121d781",
   "metadata": {},
   "outputs": [
    {
     "name": "stdout",
     "output_type": "stream",
     "text": [
      "Male      3549\n",
      "Female    3483\n",
      "Name: gender, dtype: int64\n"
     ]
    },
    {
     "data": {
      "image/png": "[encoded data removed]",
      "text/plain": [
       "<Figure size 432x288 with 1 Axes>"
      ]
     },
     "metadata": {
      "needs_background": "light"
     },
     "output_type": "display_data"
    }
   ],
   "source": [
    "ax=sns.countplot(x=\"gender\",data=df_visualization_nominal)\n",
    "print(df_visualization_nominal[\"gender\"].value_counts())"
   ]
  },
  {
   "cell_type": "code",
   "execution_count": 36,
   "id": "b0b2d884",
   "metadata": {},
   "outputs": [
    {
     "name": "stdout",
     "output_type": "stream",
     "text": [
      "0    5890\n",
      "1    1142\n",
      "Name: SeniorCitizen, dtype: int64\n"
     ]
    },
    {
     "data": {
      "image/png": "[encoded data removed]",
      "text/plain": [
       "<Figure size 432x288 with 1 Axes>"
      ]
     },
     "metadata": {
      "needs_background": "light"
     },
     "output_type": "display_data"
    }
   ],
   "source": [
    "ax=sns.countplot(x=\"SeniorCitizen\",data=df_visualization_nominal)\n",
    "print(df_visualization_nominal[\"SeniorCitizen\"].value_counts())"
   ]
  },
  {
   "cell_type": "code",
   "execution_count": 37,
   "id": "4f312d4d",
   "metadata": {},
   "outputs": [
    {
     "name": "stdout",
     "output_type": "stream",
     "text": [
      "No     3639\n",
      "Yes    3393\n",
      "Name: Partner, dtype: int64\n"
     ]
    },
    {
     "data": {
      "image/png": "[encoded data removed]",
      "text/plain": [
       "<Figure size 432x288 with 1 Axes>"
      ]
     },
     "metadata": {
      "needs_background": "light"
     },
     "output_type": "display_data"
    }
   ],
   "source": [
    "ax=sns.countplot(x=\"Partner\",data=df_visualization_nominal)\n",
    "print(df_visualization_nominal[\"Partner\"].value_counts())"
   ]
  },
  {
   "cell_type": "code",
   "execution_count": 38,
   "id": "1bfde988",
   "metadata": {},
   "outputs": [
    {
     "name": "stdout",
     "output_type": "stream",
     "text": [
      "No     4933\n",
      "Yes    2099\n",
      "Name: Dependents, dtype: int64\n"
     ]
    },
    {
     "data": {
      "image/png": "[encoded data removed]",
      "text/plain": [
       "<Figure size 432x288 with 1 Axes>"
      ]
     },
     "metadata": {
      "needs_background": "light"
     },
     "output_type": "display_data"
    }
   ],
   "source": [
    "ax=sns.countplot(x=\"Dependents\",data=df_visualization_nominal)\n",
    "print(df_visualization_nominal[\"Dependents\"].value_counts())"
   ]
  },
  {
   "cell_type": "code",
   "execution_count": 39,
   "id": "525d1a4f",
   "metadata": {},
   "outputs": [
    {
     "name": "stdout",
     "output_type": "stream",
     "text": [
      "No                  3385\n",
      "Yes                 2967\n",
      "No phone service     680\n",
      "Name: MultipleLines, dtype: int64\n"
     ]
    },
    {
     "data": {
      "image/png": "[encoded data removed]",
      "text/plain": [
       "<Figure size 432x288 with 1 Axes>"
      ]
     },
     "metadata": {
      "needs_background": "light"
     },
     "output_type": "display_data"
    }
   ],
   "source": [
    "ax=sns.countplot(x=\"MultipleLines\",data=df_visualization_nominal)\n",
    "print(df_visualization_nominal[\"MultipleLines\"].value_counts())"
   ]
  },
  {
   "cell_type": "code",
   "execution_count": 40,
   "id": "9058e1b3",
   "metadata": {},
   "outputs": [
    {
     "name": "stdout",
     "output_type": "stream",
     "text": [
      "No                     3497\n",
      "Yes                    2015\n",
      "No internet service    1520\n",
      "Name: OnlineSecurity, dtype: int64\n"
     ]
    },
    {
     "data": {
      "image/png": "[encoded data removed]",
      "text/plain": [
       "<Figure size 432x288 with 1 Axes>"
      ]
     },
     "metadata": {
      "needs_background": "light"
     },
     "output_type": "display_data"
    }
   ],
   "source": [
    "ax=sns.countplot(x=\"OnlineSecurity\",data=df_visualization_nominal)\n",
    "print(df_visualization_nominal[\"OnlineSecurity\"].value_counts())"
   ]
  },
  {
   "cell_type": "code",
   "execution_count": 41,
   "id": "24164dbb",
   "metadata": {
    "scrolled": true
   },
   "outputs": [
    {
     "name": "stdout",
     "output_type": "stream",
     "text": [
      "No                     3087\n",
      "Yes                    2425\n",
      "No internet service    1520\n",
      "Name: OnlineBackup, dtype: int64\n"
     ]
    },
    {
     "data": {
      "image/png": "[encoded data removed]",
      "text/plain": [
       "<Figure size 432x288 with 1 Axes>"
      ]
     },
     "metadata": {
      "needs_background": "light"
     },
     "output_type": "display_data"
    }
   ],
   "source": [
    "ax=sns.countplot(x=\"OnlineBackup\",data=df_visualization_nominal)\n",
    "print(df_visualization_nominal[\"OnlineBackup\"].value_counts())"
   ]
  },
  {
   "cell_type": "code",
   "execution_count": 42,
   "id": "82a714d9",
   "metadata": {},
   "outputs": [
    {
     "name": "stdout",
     "output_type": "stream",
     "text": [
      "No     5163\n",
      "Yes    1869\n",
      "Name: Churn, dtype: int64\n"
     ]
    },
    {
     "data": {
      "image/png": "[encoded data removed]",
      "text/plain": [
       "<Figure size 432x288 with 1 Axes>"
      ]
     },
     "metadata": {
      "needs_background": "light"
     },
     "output_type": "display_data"
    }
   ],
   "source": [
    "ax=sns.countplot(x=\"Churn\",data=df_visualization_nominal)\n",
    "print(df_visualization_nominal[\"Churn\"].value_counts())"
   ]
  },
  {
   "cell_type": "code",
   "execution_count": 43,
   "id": "e0f24f39",
   "metadata": {},
   "outputs": [
    {
     "name": "stdout",
     "output_type": "stream",
     "text": [
      "Month-to-month    3875\n",
      "Two year          1685\n",
      "One year          1472\n",
      "Name: Contract, dtype: int64\n"
     ]
    },
    {
     "data": {
      "image/png": "[encoded data removed]",
      "text/plain": [
       "<Figure size 432x288 with 1 Axes>"
      ]
     },
     "metadata": {
      "needs_background": "light"
     },
     "output_type": "display_data"
    }
   ],
   "source": [
    "ax=sns.countplot(x=\"Contract\",data=df_visualization_nominal)\n",
    "print(df_visualization_nominal[\"Contract\"].value_counts())"
   ]
  },
  {
   "cell_type": "code",
   "execution_count": 44,
   "id": "f5e2b098",
   "metadata": {},
   "outputs": [],
   "source": [
    "# we have focuse month-to-month contract bcs there is chance to convert plane"
   ]
  },
  {
   "cell_type": "code",
   "execution_count": 45,
   "id": "466d4485",
   "metadata": {},
   "outputs": [
    {
     "name": "stdout",
     "output_type": "stream",
     "text": [
      "No                     2781\n",
      "Yes                    2731\n",
      "No internet service    1520\n",
      "Name: StreamingMovies, dtype: int64\n"
     ]
    },
    {
     "data": {
      "image/png": "[encoded data removed]",
      "text/plain": [
       "<Figure size 432x288 with 1 Axes>"
      ]
     },
     "metadata": {
      "needs_background": "light"
     },
     "output_type": "display_data"
    }
   ],
   "source": [
    "ax=sns.countplot(x=\"StreamingMovies\",data=df_visualization_nominal)\n",
    "print(df_visualization_nominal[\"StreamingMovies\"].value_counts())"
   ]
  },
  {
   "cell_type": "code",
   "execution_count": 46,
   "id": "baca1dd5",
   "metadata": {},
   "outputs": [],
   "source": [
    "# for watching movie net connection ir requaired"
   ]
  },
  {
   "cell_type": "code",
   "execution_count": 47,
   "id": "3a0e3f3d",
   "metadata": {},
   "outputs": [
    {
     "name": "stdout",
     "output_type": "stream",
     "text": [
      "Electronic check             2365\n",
      "Mailed check                 1604\n",
      "Bank transfer (automatic)    1542\n",
      "Credit card (automatic)      1521\n",
      "Name: PaymentMethod, dtype: int64\n"
     ]
    },
    {
     "data": {
      "image/png": "[encoded data removed]",
      "text/plain": [
       "<Figure size 432x288 with 1 Axes>"
      ]
     },
     "metadata": {
      "needs_background": "light"
     },
     "output_type": "display_data"
    }
   ],
   "source": [
    "ax=sns.countplot(x=\"PaymentMethod\",data=df_visualization_nominal)\n",
    "print(df_visualization_nominal[\"PaymentMethod\"].value_counts())"
   ]
  },
  {
   "cell_type": "markdown",
   "id": "325ec493",
   "metadata": {},
   "source": [
    "# making dataframe of the ordinal data"
   ]
  },
  {
   "cell_type": "code",
   "execution_count": 48,
   "id": "f99625f0",
   "metadata": {},
   "outputs": [],
   "source": [
    "df_visualization_ordinal=df[[\"tenure\",\"customerID\"]].copy()"
   ]
  },
  {
   "cell_type": "code",
   "execution_count": 49,
   "id": "912f2198",
   "metadata": {},
   "outputs": [
    {
     "data": {
      "text/plain": [
       "<seaborn.axisgrid.FacetGrid at 0x268d4927fa0>"
      ]
     },
     "execution_count": 49,
     "metadata": {},
     "output_type": "execute_result"
    },
    {
     "data": {
      "image/png": "[encoded data removed]",
      "text/plain": [
       "<Figure size 360x360 with 1 Axes>"
      ]
     },
     "metadata": {
      "needs_background": "light"
     },
     "output_type": "display_data"
    }
   ],
   "source": [
    "sns.catplot(data=df,x='SeniorCitizen',y='tenure')"
   ]
  },
  {
   "cell_type": "markdown",
   "id": "c4ef85a1",
   "metadata": {},
   "source": [
    "# Checking the distribution of continues value"
   ]
  },
  {
   "cell_type": "code",
   "execution_count": 50,
   "id": "c35bd7cb",
   "metadata": {},
   "outputs": [],
   "source": [
    "df_visualization_continue=df[['MonthlyCharges','TotalCharges' ]].copy()"
   ]
  },
  {
   "cell_type": "code",
   "execution_count": 51,
   "id": "e00dc6e8",
   "metadata": {},
   "outputs": [
    {
     "data": {
      "text/plain": [
       "<seaborn.axisgrid.FacetGrid at 0x268d59bd970>"
      ]
     },
     "execution_count": 51,
     "metadata": {},
     "output_type": "execute_result"
    },
    {
     "data": {
      "image/png": "[encoded data removed]",
      "text/plain": [
       "<Figure size 360x360 with 1 Axes>"
      ]
     },
     "metadata": {
      "needs_background": "light"
     },
     "output_type": "display_data"
    }
   ],
   "source": [
    "sns.displot(df_visualization_continue['MonthlyCharges' ],kde=True)"
   ]
  },
  {
   "cell_type": "code",
   "execution_count": 52,
   "id": "585373d9",
   "metadata": {},
   "outputs": [
    {
     "data": {
      "text/plain": [
       "<seaborn.axisgrid.FacetGrid at 0x268d5b64940>"
      ]
     },
     "execution_count": 52,
     "metadata": {},
     "output_type": "execute_result"
    },
    {
     "data": {
      "image/png": "[encoded data removed]",
      "text/plain": [
       "<Figure size 360x360 with 1 Axes>"
      ]
     },
     "metadata": {
      "needs_background": "light"
     },
     "output_type": "display_data"
    }
   ],
   "source": [
    "sns.displot(df_visualization_continue['TotalCharges' ],kde=True)"
   ]
  },
  {
   "cell_type": "markdown",
   "id": "1cda2943",
   "metadata": {},
   "source": [
    "both graph is skew does not have normal distribution so he have to transform into normal form"
   ]
  },
  {
   "cell_type": "markdown",
   "id": "c9e8fdf6",
   "metadata": {},
   "source": [
    "# ENCOADING TECHNIQUE"
   ]
  },
  {
   "cell_type": "markdown",
   "id": "ebc4abb2",
   "metadata": {},
   "source": [
    "most of the data is in string form so he have to convert string into continues value"
   ]
  },
  {
   "cell_type": "code",
   "execution_count": 53,
   "id": "aad58a5c",
   "metadata": {},
   "outputs": [],
   "source": [
    "from sklearn.preprocessing import OrdinalEncoder\n",
    "enc=OrdinalEncoder()"
   ]
  },
  {
   "cell_type": "code",
   "execution_count": 54,
   "id": "35c18fa4",
   "metadata": {},
   "outputs": [],
   "source": [
    "for i in df.columns:\n",
    "    if df[i].dtypes=='object':\n",
    "        df[i]=enc.fit_transform(df[i].values.reshape(-1,1))\n",
    "    "
   ]
  },
  {
   "cell_type": "code",
   "execution_count": 55,
   "id": "e6de8945",
   "metadata": {},
   "outputs": [
    {
     "data": {
      "text/html": [
       "<div>\n",
       "<style scoped>\n",
       "    .dataframe tbody tr th:only-of-type {\n",
       "        vertical-align: middle;\n",
       "    }\n",
       "\n",
       "    .dataframe tbody tr th {\n",
       "        vertical-align: top;\n",
       "    }\n",
       "\n",
       "    .dataframe thead th {\n",
       "        text-align: right;\n",
       "    }\n",
       "</style>\n",
       "<table border=\"1\" class=\"dataframe\">\n",
       "  <thead>\n",
       "    <tr style=\"text-align: right;\">\n",
       "      <th></th>\n",
       "      <th>customerID</th>\n",
       "      <th>gender</th>\n",
       "      <th>SeniorCitizen</th>\n",
       "      <th>Partner</th>\n",
       "      <th>Dependents</th>\n",
       "      <th>tenure</th>\n",
       "      <th>PhoneService</th>\n",
       "      <th>MultipleLines</th>\n",
       "      <th>InternetService</th>\n",
       "      <th>OnlineSecurity</th>\n",
       "      <th>...</th>\n",
       "      <th>DeviceProtection</th>\n",
       "      <th>TechSupport</th>\n",
       "      <th>StreamingTV</th>\n",
       "      <th>StreamingMovies</th>\n",
       "      <th>Contract</th>\n",
       "      <th>PaperlessBilling</th>\n",
       "      <th>PaymentMethod</th>\n",
       "      <th>MonthlyCharges</th>\n",
       "      <th>TotalCharges</th>\n",
       "      <th>Churn</th>\n",
       "    </tr>\n",
       "  </thead>\n",
       "  <tbody>\n",
       "    <tr>\n",
       "      <th>0</th>\n",
       "      <td>5365.0</td>\n",
       "      <td>0.0</td>\n",
       "      <td>0</td>\n",
       "      <td>1.0</td>\n",
       "      <td>0.0</td>\n",
       "      <td>1</td>\n",
       "      <td>0.0</td>\n",
       "      <td>1.0</td>\n",
       "      <td>0.0</td>\n",
       "      <td>0.0</td>\n",
       "      <td>...</td>\n",
       "      <td>0.0</td>\n",
       "      <td>0.0</td>\n",
       "      <td>0.0</td>\n",
       "      <td>0.0</td>\n",
       "      <td>0.0</td>\n",
       "      <td>1.0</td>\n",
       "      <td>2.0</td>\n",
       "      <td>29.85</td>\n",
       "      <td>29.85</td>\n",
       "      <td>0.0</td>\n",
       "    </tr>\n",
       "    <tr>\n",
       "      <th>1</th>\n",
       "      <td>3953.0</td>\n",
       "      <td>1.0</td>\n",
       "      <td>0</td>\n",
       "      <td>0.0</td>\n",
       "      <td>0.0</td>\n",
       "      <td>34</td>\n",
       "      <td>1.0</td>\n",
       "      <td>0.0</td>\n",
       "      <td>0.0</td>\n",
       "      <td>2.0</td>\n",
       "      <td>...</td>\n",
       "      <td>2.0</td>\n",
       "      <td>0.0</td>\n",
       "      <td>0.0</td>\n",
       "      <td>0.0</td>\n",
       "      <td>1.0</td>\n",
       "      <td>0.0</td>\n",
       "      <td>3.0</td>\n",
       "      <td>56.95</td>\n",
       "      <td>1889.50</td>\n",
       "      <td>0.0</td>\n",
       "    </tr>\n",
       "    <tr>\n",
       "      <th>2</th>\n",
       "      <td>2558.0</td>\n",
       "      <td>1.0</td>\n",
       "      <td>0</td>\n",
       "      <td>0.0</td>\n",
       "      <td>0.0</td>\n",
       "      <td>2</td>\n",
       "      <td>1.0</td>\n",
       "      <td>0.0</td>\n",
       "      <td>0.0</td>\n",
       "      <td>2.0</td>\n",
       "      <td>...</td>\n",
       "      <td>0.0</td>\n",
       "      <td>0.0</td>\n",
       "      <td>0.0</td>\n",
       "      <td>0.0</td>\n",
       "      <td>0.0</td>\n",
       "      <td>1.0</td>\n",
       "      <td>3.0</td>\n",
       "      <td>53.85</td>\n",
       "      <td>108.15</td>\n",
       "      <td>1.0</td>\n",
       "    </tr>\n",
       "    <tr>\n",
       "      <th>3</th>\n",
       "      <td>5524.0</td>\n",
       "      <td>1.0</td>\n",
       "      <td>0</td>\n",
       "      <td>0.0</td>\n",
       "      <td>0.0</td>\n",
       "      <td>45</td>\n",
       "      <td>0.0</td>\n",
       "      <td>1.0</td>\n",
       "      <td>0.0</td>\n",
       "      <td>2.0</td>\n",
       "      <td>...</td>\n",
       "      <td>2.0</td>\n",
       "      <td>2.0</td>\n",
       "      <td>0.0</td>\n",
       "      <td>0.0</td>\n",
       "      <td>1.0</td>\n",
       "      <td>0.0</td>\n",
       "      <td>0.0</td>\n",
       "      <td>42.30</td>\n",
       "      <td>1840.75</td>\n",
       "      <td>0.0</td>\n",
       "    </tr>\n",
       "    <tr>\n",
       "      <th>4</th>\n",
       "      <td>6500.0</td>\n",
       "      <td>0.0</td>\n",
       "      <td>0</td>\n",
       "      <td>0.0</td>\n",
       "      <td>0.0</td>\n",
       "      <td>2</td>\n",
       "      <td>1.0</td>\n",
       "      <td>0.0</td>\n",
       "      <td>1.0</td>\n",
       "      <td>0.0</td>\n",
       "      <td>...</td>\n",
       "      <td>0.0</td>\n",
       "      <td>0.0</td>\n",
       "      <td>0.0</td>\n",
       "      <td>0.0</td>\n",
       "      <td>0.0</td>\n",
       "      <td>1.0</td>\n",
       "      <td>2.0</td>\n",
       "      <td>70.70</td>\n",
       "      <td>151.65</td>\n",
       "      <td>1.0</td>\n",
       "    </tr>\n",
       "    <tr>\n",
       "      <th>...</th>\n",
       "      <td>...</td>\n",
       "      <td>...</td>\n",
       "      <td>...</td>\n",
       "      <td>...</td>\n",
       "      <td>...</td>\n",
       "      <td>...</td>\n",
       "      <td>...</td>\n",
       "      <td>...</td>\n",
       "      <td>...</td>\n",
       "      <td>...</td>\n",
       "      <td>...</td>\n",
       "      <td>...</td>\n",
       "      <td>...</td>\n",
       "      <td>...</td>\n",
       "      <td>...</td>\n",
       "      <td>...</td>\n",
       "      <td>...</td>\n",
       "      <td>...</td>\n",
       "      <td>...</td>\n",
       "      <td>...</td>\n",
       "      <td>...</td>\n",
       "    </tr>\n",
       "    <tr>\n",
       "      <th>7038</th>\n",
       "      <td>4843.0</td>\n",
       "      <td>1.0</td>\n",
       "      <td>0</td>\n",
       "      <td>1.0</td>\n",
       "      <td>1.0</td>\n",
       "      <td>24</td>\n",
       "      <td>1.0</td>\n",
       "      <td>2.0</td>\n",
       "      <td>0.0</td>\n",
       "      <td>2.0</td>\n",
       "      <td>...</td>\n",
       "      <td>2.0</td>\n",
       "      <td>2.0</td>\n",
       "      <td>2.0</td>\n",
       "      <td>2.0</td>\n",
       "      <td>1.0</td>\n",
       "      <td>1.0</td>\n",
       "      <td>3.0</td>\n",
       "      <td>84.80</td>\n",
       "      <td>1990.50</td>\n",
       "      <td>0.0</td>\n",
       "    </tr>\n",
       "    <tr>\n",
       "      <th>7039</th>\n",
       "      <td>1524.0</td>\n",
       "      <td>0.0</td>\n",
       "      <td>0</td>\n",
       "      <td>1.0</td>\n",
       "      <td>1.0</td>\n",
       "      <td>72</td>\n",
       "      <td>1.0</td>\n",
       "      <td>2.0</td>\n",
       "      <td>1.0</td>\n",
       "      <td>0.0</td>\n",
       "      <td>...</td>\n",
       "      <td>2.0</td>\n",
       "      <td>0.0</td>\n",
       "      <td>2.0</td>\n",
       "      <td>2.0</td>\n",
       "      <td>1.0</td>\n",
       "      <td>1.0</td>\n",
       "      <td>1.0</td>\n",
       "      <td>103.20</td>\n",
       "      <td>7362.90</td>\n",
       "      <td>0.0</td>\n",
       "    </tr>\n",
       "    <tr>\n",
       "      <th>7040</th>\n",
       "      <td>3358.0</td>\n",
       "      <td>0.0</td>\n",
       "      <td>0</td>\n",
       "      <td>1.0</td>\n",
       "      <td>1.0</td>\n",
       "      <td>11</td>\n",
       "      <td>0.0</td>\n",
       "      <td>1.0</td>\n",
       "      <td>0.0</td>\n",
       "      <td>2.0</td>\n",
       "      <td>...</td>\n",
       "      <td>0.0</td>\n",
       "      <td>0.0</td>\n",
       "      <td>0.0</td>\n",
       "      <td>0.0</td>\n",
       "      <td>0.0</td>\n",
       "      <td>1.0</td>\n",
       "      <td>2.0</td>\n",
       "      <td>29.60</td>\n",
       "      <td>346.45</td>\n",
       "      <td>0.0</td>\n",
       "    </tr>\n",
       "    <tr>\n",
       "      <th>7041</th>\n",
       "      <td>5923.0</td>\n",
       "      <td>1.0</td>\n",
       "      <td>1</td>\n",
       "      <td>1.0</td>\n",
       "      <td>0.0</td>\n",
       "      <td>4</td>\n",
       "      <td>1.0</td>\n",
       "      <td>2.0</td>\n",
       "      <td>1.0</td>\n",
       "      <td>0.0</td>\n",
       "      <td>...</td>\n",
       "      <td>0.0</td>\n",
       "      <td>0.0</td>\n",
       "      <td>0.0</td>\n",
       "      <td>0.0</td>\n",
       "      <td>0.0</td>\n",
       "      <td>1.0</td>\n",
       "      <td>3.0</td>\n",
       "      <td>74.40</td>\n",
       "      <td>306.60</td>\n",
       "      <td>1.0</td>\n",
       "    </tr>\n",
       "    <tr>\n",
       "      <th>7042</th>\n",
       "      <td>2221.0</td>\n",
       "      <td>1.0</td>\n",
       "      <td>0</td>\n",
       "      <td>0.0</td>\n",
       "      <td>0.0</td>\n",
       "      <td>66</td>\n",
       "      <td>1.0</td>\n",
       "      <td>0.0</td>\n",
       "      <td>1.0</td>\n",
       "      <td>2.0</td>\n",
       "      <td>...</td>\n",
       "      <td>2.0</td>\n",
       "      <td>2.0</td>\n",
       "      <td>2.0</td>\n",
       "      <td>2.0</td>\n",
       "      <td>2.0</td>\n",
       "      <td>1.0</td>\n",
       "      <td>0.0</td>\n",
       "      <td>105.65</td>\n",
       "      <td>6844.50</td>\n",
       "      <td>0.0</td>\n",
       "    </tr>\n",
       "  </tbody>\n",
       "</table>\n",
       "<p>7032 rows × 21 columns</p>\n",
       "</div>"
      ],
      "text/plain": [
       "      customerID  gender  SeniorCitizen  Partner  Dependents  tenure  \\\n",
       "0         5365.0     0.0              0      1.0         0.0       1   \n",
       "1         3953.0     1.0              0      0.0         0.0      34   \n",
       "2         2558.0     1.0              0      0.0         0.0       2   \n",
       "3         5524.0     1.0              0      0.0         0.0      45   \n",
       "4         6500.0     0.0              0      0.0         0.0       2   \n",
       "...          ...     ...            ...      ...         ...     ...   \n",
       "7038      4843.0     1.0              0      1.0         1.0      24   \n",
       "7039      1524.0     0.0              0      1.0         1.0      72   \n",
       "7040      3358.0     0.0              0      1.0         1.0      11   \n",
       "7041      5923.0     1.0              1      1.0         0.0       4   \n",
       "7042      2221.0     1.0              0      0.0         0.0      66   \n",
       "\n",
       "      PhoneService  MultipleLines  InternetService  OnlineSecurity  ...  \\\n",
       "0              0.0            1.0              0.0             0.0  ...   \n",
       "1              1.0            0.0              0.0             2.0  ...   \n",
       "2              1.0            0.0              0.0             2.0  ...   \n",
       "3              0.0            1.0              0.0             2.0  ...   \n",
       "4              1.0            0.0              1.0             0.0  ...   \n",
       "...            ...            ...              ...             ...  ...   \n",
       "7038           1.0            2.0              0.0             2.0  ...   \n",
       "7039           1.0            2.0              1.0             0.0  ...   \n",
       "7040           0.0            1.0              0.0             2.0  ...   \n",
       "7041           1.0            2.0              1.0             0.0  ...   \n",
       "7042           1.0            0.0              1.0             2.0  ...   \n",
       "\n",
       "      DeviceProtection  TechSupport  StreamingTV  StreamingMovies  Contract  \\\n",
       "0                  0.0          0.0          0.0              0.0       0.0   \n",
       "1                  2.0          0.0          0.0              0.0       1.0   \n",
       "2                  0.0          0.0          0.0              0.0       0.0   \n",
       "3                  2.0          2.0          0.0              0.0       1.0   \n",
       "4                  0.0          0.0          0.0              0.0       0.0   \n",
       "...                ...          ...          ...              ...       ...   \n",
       "7038               2.0          2.0          2.0              2.0       1.0   \n",
       "7039               2.0          0.0          2.0              2.0       1.0   \n",
       "7040               0.0          0.0          0.0              0.0       0.0   \n",
       "7041               0.0          0.0          0.0              0.0       0.0   \n",
       "7042               2.0          2.0          2.0              2.0       2.0   \n",
       "\n",
       "      PaperlessBilling  PaymentMethod  MonthlyCharges  TotalCharges  Churn  \n",
       "0                  1.0            2.0           29.85         29.85    0.0  \n",
       "1                  0.0            3.0           56.95       1889.50    0.0  \n",
       "2                  1.0            3.0           53.85        108.15    1.0  \n",
       "3                  0.0            0.0           42.30       1840.75    0.0  \n",
       "4                  1.0            2.0           70.70        151.65    1.0  \n",
       "...                ...            ...             ...           ...    ...  \n",
       "7038               1.0            3.0           84.80       1990.50    0.0  \n",
       "7039               1.0            1.0          103.20       7362.90    0.0  \n",
       "7040               1.0            2.0           29.60        346.45    0.0  \n",
       "7041               1.0            3.0           74.40        306.60    1.0  \n",
       "7042               1.0            0.0          105.65       6844.50    0.0  \n",
       "\n",
       "[7032 rows x 21 columns]"
      ]
     },
     "execution_count": 55,
     "metadata": {},
     "output_type": "execute_result"
    }
   ],
   "source": [
    "df"
   ]
  },
  {
   "cell_type": "markdown",
   "id": "a52ad051",
   "metadata": {},
   "source": [
    "# Describe the Dataset"
   ]
  },
  {
   "cell_type": "code",
   "execution_count": 56,
   "id": "69ec98cf",
   "metadata": {},
   "outputs": [
    {
     "data": {
      "text/html": [
       "<div>\n",
       "<style scoped>\n",
       "    .dataframe tbody tr th:only-of-type {\n",
       "        vertical-align: middle;\n",
       "    }\n",
       "\n",
       "    .dataframe tbody tr th {\n",
       "        vertical-align: top;\n",
       "    }\n",
       "\n",
       "    .dataframe thead th {\n",
       "        text-align: right;\n",
       "    }\n",
       "</style>\n",
       "<table border=\"1\" class=\"dataframe\">\n",
       "  <thead>\n",
       "    <tr style=\"text-align: right;\">\n",
       "      <th></th>\n",
       "      <th>customerID</th>\n",
       "      <th>gender</th>\n",
       "      <th>SeniorCitizen</th>\n",
       "      <th>Partner</th>\n",
       "      <th>Dependents</th>\n",
       "      <th>tenure</th>\n",
       "      <th>PhoneService</th>\n",
       "      <th>MultipleLines</th>\n",
       "      <th>InternetService</th>\n",
       "      <th>OnlineSecurity</th>\n",
       "      <th>...</th>\n",
       "      <th>DeviceProtection</th>\n",
       "      <th>TechSupport</th>\n",
       "      <th>StreamingTV</th>\n",
       "      <th>StreamingMovies</th>\n",
       "      <th>Contract</th>\n",
       "      <th>PaperlessBilling</th>\n",
       "      <th>PaymentMethod</th>\n",
       "      <th>MonthlyCharges</th>\n",
       "      <th>TotalCharges</th>\n",
       "      <th>Churn</th>\n",
       "    </tr>\n",
       "  </thead>\n",
       "  <tbody>\n",
       "    <tr>\n",
       "      <th>count</th>\n",
       "      <td>7032.000000</td>\n",
       "      <td>7032.000000</td>\n",
       "      <td>7032.000000</td>\n",
       "      <td>7032.000000</td>\n",
       "      <td>7032.000000</td>\n",
       "      <td>7032.000000</td>\n",
       "      <td>7032.000000</td>\n",
       "      <td>7032.000000</td>\n",
       "      <td>7032.000000</td>\n",
       "      <td>7032.000000</td>\n",
       "      <td>...</td>\n",
       "      <td>7032.000000</td>\n",
       "      <td>7032.000000</td>\n",
       "      <td>7032.000000</td>\n",
       "      <td>7032.000000</td>\n",
       "      <td>7032.000000</td>\n",
       "      <td>7032.000000</td>\n",
       "      <td>7032.000000</td>\n",
       "      <td>7032.000000</td>\n",
       "      <td>7032.000000</td>\n",
       "      <td>7032.000000</td>\n",
       "    </tr>\n",
       "    <tr>\n",
       "      <th>mean</th>\n",
       "      <td>3515.500000</td>\n",
       "      <td>0.504693</td>\n",
       "      <td>0.162400</td>\n",
       "      <td>0.482509</td>\n",
       "      <td>0.298493</td>\n",
       "      <td>32.421786</td>\n",
       "      <td>0.903299</td>\n",
       "      <td>0.940557</td>\n",
       "      <td>0.872582</td>\n",
       "      <td>0.789249</td>\n",
       "      <td>...</td>\n",
       "      <td>0.903868</td>\n",
       "      <td>0.796359</td>\n",
       "      <td>0.984926</td>\n",
       "      <td>0.992890</td>\n",
       "      <td>0.688567</td>\n",
       "      <td>0.592719</td>\n",
       "      <td>1.573237</td>\n",
       "      <td>64.798208</td>\n",
       "      <td>2283.300441</td>\n",
       "      <td>0.265785</td>\n",
       "    </tr>\n",
       "    <tr>\n",
       "      <th>std</th>\n",
       "      <td>2030.107879</td>\n",
       "      <td>0.500014</td>\n",
       "      <td>0.368844</td>\n",
       "      <td>0.499729</td>\n",
       "      <td>0.457629</td>\n",
       "      <td>24.545260</td>\n",
       "      <td>0.295571</td>\n",
       "      <td>0.948627</td>\n",
       "      <td>0.737271</td>\n",
       "      <td>0.859962</td>\n",
       "      <td>...</td>\n",
       "      <td>0.880178</td>\n",
       "      <td>0.861674</td>\n",
       "      <td>0.885285</td>\n",
       "      <td>0.885385</td>\n",
       "      <td>0.832934</td>\n",
       "      <td>0.491363</td>\n",
       "      <td>1.067504</td>\n",
       "      <td>30.085974</td>\n",
       "      <td>2266.771362</td>\n",
       "      <td>0.441782</td>\n",
       "    </tr>\n",
       "    <tr>\n",
       "      <th>min</th>\n",
       "      <td>0.000000</td>\n",
       "      <td>0.000000</td>\n",
       "      <td>0.000000</td>\n",
       "      <td>0.000000</td>\n",
       "      <td>0.000000</td>\n",
       "      <td>1.000000</td>\n",
       "      <td>0.000000</td>\n",
       "      <td>0.000000</td>\n",
       "      <td>0.000000</td>\n",
       "      <td>0.000000</td>\n",
       "      <td>...</td>\n",
       "      <td>0.000000</td>\n",
       "      <td>0.000000</td>\n",
       "      <td>0.000000</td>\n",
       "      <td>0.000000</td>\n",
       "      <td>0.000000</td>\n",
       "      <td>0.000000</td>\n",
       "      <td>0.000000</td>\n",
       "      <td>18.250000</td>\n",
       "      <td>18.800000</td>\n",
       "      <td>0.000000</td>\n",
       "    </tr>\n",
       "    <tr>\n",
       "      <th>25%</th>\n",
       "      <td>1757.750000</td>\n",
       "      <td>0.000000</td>\n",
       "      <td>0.000000</td>\n",
       "      <td>0.000000</td>\n",
       "      <td>0.000000</td>\n",
       "      <td>9.000000</td>\n",
       "      <td>1.000000</td>\n",
       "      <td>0.000000</td>\n",
       "      <td>0.000000</td>\n",
       "      <td>0.000000</td>\n",
       "      <td>...</td>\n",
       "      <td>0.000000</td>\n",
       "      <td>0.000000</td>\n",
       "      <td>0.000000</td>\n",
       "      <td>0.000000</td>\n",
       "      <td>0.000000</td>\n",
       "      <td>0.000000</td>\n",
       "      <td>1.000000</td>\n",
       "      <td>35.587500</td>\n",
       "      <td>401.450000</td>\n",
       "      <td>0.000000</td>\n",
       "    </tr>\n",
       "    <tr>\n",
       "      <th>50%</th>\n",
       "      <td>3515.500000</td>\n",
       "      <td>1.000000</td>\n",
       "      <td>0.000000</td>\n",
       "      <td>0.000000</td>\n",
       "      <td>0.000000</td>\n",
       "      <td>29.000000</td>\n",
       "      <td>1.000000</td>\n",
       "      <td>1.000000</td>\n",
       "      <td>1.000000</td>\n",
       "      <td>1.000000</td>\n",
       "      <td>...</td>\n",
       "      <td>1.000000</td>\n",
       "      <td>1.000000</td>\n",
       "      <td>1.000000</td>\n",
       "      <td>1.000000</td>\n",
       "      <td>0.000000</td>\n",
       "      <td>1.000000</td>\n",
       "      <td>2.000000</td>\n",
       "      <td>70.350000</td>\n",
       "      <td>1397.475000</td>\n",
       "      <td>0.000000</td>\n",
       "    </tr>\n",
       "    <tr>\n",
       "      <th>75%</th>\n",
       "      <td>5273.250000</td>\n",
       "      <td>1.000000</td>\n",
       "      <td>0.000000</td>\n",
       "      <td>1.000000</td>\n",
       "      <td>1.000000</td>\n",
       "      <td>55.000000</td>\n",
       "      <td>1.000000</td>\n",
       "      <td>2.000000</td>\n",
       "      <td>1.000000</td>\n",
       "      <td>2.000000</td>\n",
       "      <td>...</td>\n",
       "      <td>2.000000</td>\n",
       "      <td>2.000000</td>\n",
       "      <td>2.000000</td>\n",
       "      <td>2.000000</td>\n",
       "      <td>1.000000</td>\n",
       "      <td>1.000000</td>\n",
       "      <td>2.000000</td>\n",
       "      <td>89.862500</td>\n",
       "      <td>3794.737500</td>\n",
       "      <td>1.000000</td>\n",
       "    </tr>\n",
       "    <tr>\n",
       "      <th>max</th>\n",
       "      <td>7031.000000</td>\n",
       "      <td>1.000000</td>\n",
       "      <td>1.000000</td>\n",
       "      <td>1.000000</td>\n",
       "      <td>1.000000</td>\n",
       "      <td>72.000000</td>\n",
       "      <td>1.000000</td>\n",
       "      <td>2.000000</td>\n",
       "      <td>2.000000</td>\n",
       "      <td>2.000000</td>\n",
       "      <td>...</td>\n",
       "      <td>2.000000</td>\n",
       "      <td>2.000000</td>\n",
       "      <td>2.000000</td>\n",
       "      <td>2.000000</td>\n",
       "      <td>2.000000</td>\n",
       "      <td>1.000000</td>\n",
       "      <td>3.000000</td>\n",
       "      <td>118.750000</td>\n",
       "      <td>8684.800000</td>\n",
       "      <td>1.000000</td>\n",
       "    </tr>\n",
       "  </tbody>\n",
       "</table>\n",
       "<p>8 rows × 21 columns</p>\n",
       "</div>"
      ],
      "text/plain": [
       "        customerID       gender  SeniorCitizen      Partner   Dependents  \\\n",
       "count  7032.000000  7032.000000    7032.000000  7032.000000  7032.000000   \n",
       "mean   3515.500000     0.504693       0.162400     0.482509     0.298493   \n",
       "std    2030.107879     0.500014       0.368844     0.499729     0.457629   \n",
       "min       0.000000     0.000000       0.000000     0.000000     0.000000   \n",
       "25%    1757.750000     0.000000       0.000000     0.000000     0.000000   \n",
       "50%    3515.500000     1.000000       0.000000     0.000000     0.000000   \n",
       "75%    5273.250000     1.000000       0.000000     1.000000     1.000000   \n",
       "max    7031.000000     1.000000       1.000000     1.000000     1.000000   \n",
       "\n",
       "            tenure  PhoneService  MultipleLines  InternetService  \\\n",
       "count  7032.000000   7032.000000    7032.000000      7032.000000   \n",
       "mean     32.421786      0.903299       0.940557         0.872582   \n",
       "std      24.545260      0.295571       0.948627         0.737271   \n",
       "min       1.000000      0.000000       0.000000         0.000000   \n",
       "25%       9.000000      1.000000       0.000000         0.000000   \n",
       "50%      29.000000      1.000000       1.000000         1.000000   \n",
       "75%      55.000000      1.000000       2.000000         1.000000   \n",
       "max      72.000000      1.000000       2.000000         2.000000   \n",
       "\n",
       "       OnlineSecurity  ...  DeviceProtection  TechSupport  StreamingTV  \\\n",
       "count     7032.000000  ...       7032.000000  7032.000000  7032.000000   \n",
       "mean         0.789249  ...          0.903868     0.796359     0.984926   \n",
       "std          0.859962  ...          0.880178     0.861674     0.885285   \n",
       "min          0.000000  ...          0.000000     0.000000     0.000000   \n",
       "25%          0.000000  ...          0.000000     0.000000     0.000000   \n",
       "50%          1.000000  ...          1.000000     1.000000     1.000000   \n",
       "75%          2.000000  ...          2.000000     2.000000     2.000000   \n",
       "max          2.000000  ...          2.000000     2.000000     2.000000   \n",
       "\n",
       "       StreamingMovies     Contract  PaperlessBilling  PaymentMethod  \\\n",
       "count      7032.000000  7032.000000       7032.000000    7032.000000   \n",
       "mean          0.992890     0.688567          0.592719       1.573237   \n",
       "std           0.885385     0.832934          0.491363       1.067504   \n",
       "min           0.000000     0.000000          0.000000       0.000000   \n",
       "25%           0.000000     0.000000          0.000000       1.000000   \n",
       "50%           1.000000     0.000000          1.000000       2.000000   \n",
       "75%           2.000000     1.000000          1.000000       2.000000   \n",
       "max           2.000000     2.000000          1.000000       3.000000   \n",
       "\n",
       "       MonthlyCharges  TotalCharges        Churn  \n",
       "count     7032.000000   7032.000000  7032.000000  \n",
       "mean        64.798208   2283.300441     0.265785  \n",
       "std         30.085974   2266.771362     0.441782  \n",
       "min         18.250000     18.800000     0.000000  \n",
       "25%         35.587500    401.450000     0.000000  \n",
       "50%         70.350000   1397.475000     0.000000  \n",
       "75%         89.862500   3794.737500     1.000000  \n",
       "max        118.750000   8684.800000     1.000000  \n",
       "\n",
       "[8 rows x 21 columns]"
      ]
     },
     "execution_count": 56,
     "metadata": {},
     "output_type": "execute_result"
    }
   ],
   "source": [
    "df.describe()"
   ]
  },
  {
   "cell_type": "code",
   "execution_count": 57,
   "id": "80e8572d",
   "metadata": {},
   "outputs": [
    {
     "data": {
      "text/html": [
       "<div>\n",
       "<style scoped>\n",
       "    .dataframe tbody tr th:only-of-type {\n",
       "        vertical-align: middle;\n",
       "    }\n",
       "\n",
       "    .dataframe tbody tr th {\n",
       "        vertical-align: top;\n",
       "    }\n",
       "\n",
       "    .dataframe thead th {\n",
       "        text-align: right;\n",
       "    }\n",
       "</style>\n",
       "<table border=\"1\" class=\"dataframe\">\n",
       "  <thead>\n",
       "    <tr style=\"text-align: right;\">\n",
       "      <th></th>\n",
       "      <th>count</th>\n",
       "      <th>mean</th>\n",
       "      <th>std</th>\n",
       "      <th>min</th>\n",
       "      <th>25%</th>\n",
       "      <th>50%</th>\n",
       "      <th>75%</th>\n",
       "      <th>max</th>\n",
       "    </tr>\n",
       "  </thead>\n",
       "  <tbody>\n",
       "    <tr>\n",
       "      <th>customerID</th>\n",
       "      <td>7032.0</td>\n",
       "      <td>3515.500000</td>\n",
       "      <td>2030.107879</td>\n",
       "      <td>0.00</td>\n",
       "      <td>1757.7500</td>\n",
       "      <td>3515.500</td>\n",
       "      <td>5273.2500</td>\n",
       "      <td>7031.00</td>\n",
       "    </tr>\n",
       "    <tr>\n",
       "      <th>gender</th>\n",
       "      <td>7032.0</td>\n",
       "      <td>0.504693</td>\n",
       "      <td>0.500014</td>\n",
       "      <td>0.00</td>\n",
       "      <td>0.0000</td>\n",
       "      <td>1.000</td>\n",
       "      <td>1.0000</td>\n",
       "      <td>1.00</td>\n",
       "    </tr>\n",
       "    <tr>\n",
       "      <th>SeniorCitizen</th>\n",
       "      <td>7032.0</td>\n",
       "      <td>0.162400</td>\n",
       "      <td>0.368844</td>\n",
       "      <td>0.00</td>\n",
       "      <td>0.0000</td>\n",
       "      <td>0.000</td>\n",
       "      <td>0.0000</td>\n",
       "      <td>1.00</td>\n",
       "    </tr>\n",
       "    <tr>\n",
       "      <th>Partner</th>\n",
       "      <td>7032.0</td>\n",
       "      <td>0.482509</td>\n",
       "      <td>0.499729</td>\n",
       "      <td>0.00</td>\n",
       "      <td>0.0000</td>\n",
       "      <td>0.000</td>\n",
       "      <td>1.0000</td>\n",
       "      <td>1.00</td>\n",
       "    </tr>\n",
       "    <tr>\n",
       "      <th>Dependents</th>\n",
       "      <td>7032.0</td>\n",
       "      <td>0.298493</td>\n",
       "      <td>0.457629</td>\n",
       "      <td>0.00</td>\n",
       "      <td>0.0000</td>\n",
       "      <td>0.000</td>\n",
       "      <td>1.0000</td>\n",
       "      <td>1.00</td>\n",
       "    </tr>\n",
       "    <tr>\n",
       "      <th>tenure</th>\n",
       "      <td>7032.0</td>\n",
       "      <td>32.421786</td>\n",
       "      <td>24.545260</td>\n",
       "      <td>1.00</td>\n",
       "      <td>9.0000</td>\n",
       "      <td>29.000</td>\n",
       "      <td>55.0000</td>\n",
       "      <td>72.00</td>\n",
       "    </tr>\n",
       "    <tr>\n",
       "      <th>PhoneService</th>\n",
       "      <td>7032.0</td>\n",
       "      <td>0.903299</td>\n",
       "      <td>0.295571</td>\n",
       "      <td>0.00</td>\n",
       "      <td>1.0000</td>\n",
       "      <td>1.000</td>\n",
       "      <td>1.0000</td>\n",
       "      <td>1.00</td>\n",
       "    </tr>\n",
       "    <tr>\n",
       "      <th>MultipleLines</th>\n",
       "      <td>7032.0</td>\n",
       "      <td>0.940557</td>\n",
       "      <td>0.948627</td>\n",
       "      <td>0.00</td>\n",
       "      <td>0.0000</td>\n",
       "      <td>1.000</td>\n",
       "      <td>2.0000</td>\n",
       "      <td>2.00</td>\n",
       "    </tr>\n",
       "    <tr>\n",
       "      <th>InternetService</th>\n",
       "      <td>7032.0</td>\n",
       "      <td>0.872582</td>\n",
       "      <td>0.737271</td>\n",
       "      <td>0.00</td>\n",
       "      <td>0.0000</td>\n",
       "      <td>1.000</td>\n",
       "      <td>1.0000</td>\n",
       "      <td>2.00</td>\n",
       "    </tr>\n",
       "    <tr>\n",
       "      <th>OnlineSecurity</th>\n",
       "      <td>7032.0</td>\n",
       "      <td>0.789249</td>\n",
       "      <td>0.859962</td>\n",
       "      <td>0.00</td>\n",
       "      <td>0.0000</td>\n",
       "      <td>1.000</td>\n",
       "      <td>2.0000</td>\n",
       "      <td>2.00</td>\n",
       "    </tr>\n",
       "    <tr>\n",
       "      <th>OnlineBackup</th>\n",
       "      <td>7032.0</td>\n",
       "      <td>0.905859</td>\n",
       "      <td>0.880394</td>\n",
       "      <td>0.00</td>\n",
       "      <td>0.0000</td>\n",
       "      <td>1.000</td>\n",
       "      <td>2.0000</td>\n",
       "      <td>2.00</td>\n",
       "    </tr>\n",
       "    <tr>\n",
       "      <th>DeviceProtection</th>\n",
       "      <td>7032.0</td>\n",
       "      <td>0.903868</td>\n",
       "      <td>0.880178</td>\n",
       "      <td>0.00</td>\n",
       "      <td>0.0000</td>\n",
       "      <td>1.000</td>\n",
       "      <td>2.0000</td>\n",
       "      <td>2.00</td>\n",
       "    </tr>\n",
       "    <tr>\n",
       "      <th>TechSupport</th>\n",
       "      <td>7032.0</td>\n",
       "      <td>0.796359</td>\n",
       "      <td>0.861674</td>\n",
       "      <td>0.00</td>\n",
       "      <td>0.0000</td>\n",
       "      <td>1.000</td>\n",
       "      <td>2.0000</td>\n",
       "      <td>2.00</td>\n",
       "    </tr>\n",
       "    <tr>\n",
       "      <th>StreamingTV</th>\n",
       "      <td>7032.0</td>\n",
       "      <td>0.984926</td>\n",
       "      <td>0.885285</td>\n",
       "      <td>0.00</td>\n",
       "      <td>0.0000</td>\n",
       "      <td>1.000</td>\n",
       "      <td>2.0000</td>\n",
       "      <td>2.00</td>\n",
       "    </tr>\n",
       "    <tr>\n",
       "      <th>StreamingMovies</th>\n",
       "      <td>7032.0</td>\n",
       "      <td>0.992890</td>\n",
       "      <td>0.885385</td>\n",
       "      <td>0.00</td>\n",
       "      <td>0.0000</td>\n",
       "      <td>1.000</td>\n",
       "      <td>2.0000</td>\n",
       "      <td>2.00</td>\n",
       "    </tr>\n",
       "    <tr>\n",
       "      <th>Contract</th>\n",
       "      <td>7032.0</td>\n",
       "      <td>0.688567</td>\n",
       "      <td>0.832934</td>\n",
       "      <td>0.00</td>\n",
       "      <td>0.0000</td>\n",
       "      <td>0.000</td>\n",
       "      <td>1.0000</td>\n",
       "      <td>2.00</td>\n",
       "    </tr>\n",
       "    <tr>\n",
       "      <th>PaperlessBilling</th>\n",
       "      <td>7032.0</td>\n",
       "      <td>0.592719</td>\n",
       "      <td>0.491363</td>\n",
       "      <td>0.00</td>\n",
       "      <td>0.0000</td>\n",
       "      <td>1.000</td>\n",
       "      <td>1.0000</td>\n",
       "      <td>1.00</td>\n",
       "    </tr>\n",
       "    <tr>\n",
       "      <th>PaymentMethod</th>\n",
       "      <td>7032.0</td>\n",
       "      <td>1.573237</td>\n",
       "      <td>1.067504</td>\n",
       "      <td>0.00</td>\n",
       "      <td>1.0000</td>\n",
       "      <td>2.000</td>\n",
       "      <td>2.0000</td>\n",
       "      <td>3.00</td>\n",
       "    </tr>\n",
       "    <tr>\n",
       "      <th>MonthlyCharges</th>\n",
       "      <td>7032.0</td>\n",
       "      <td>64.798208</td>\n",
       "      <td>30.085974</td>\n",
       "      <td>18.25</td>\n",
       "      <td>35.5875</td>\n",
       "      <td>70.350</td>\n",
       "      <td>89.8625</td>\n",
       "      <td>118.75</td>\n",
       "    </tr>\n",
       "    <tr>\n",
       "      <th>TotalCharges</th>\n",
       "      <td>7032.0</td>\n",
       "      <td>2283.300441</td>\n",
       "      <td>2266.771362</td>\n",
       "      <td>18.80</td>\n",
       "      <td>401.4500</td>\n",
       "      <td>1397.475</td>\n",
       "      <td>3794.7375</td>\n",
       "      <td>8684.80</td>\n",
       "    </tr>\n",
       "    <tr>\n",
       "      <th>Churn</th>\n",
       "      <td>7032.0</td>\n",
       "      <td>0.265785</td>\n",
       "      <td>0.441782</td>\n",
       "      <td>0.00</td>\n",
       "      <td>0.0000</td>\n",
       "      <td>0.000</td>\n",
       "      <td>1.0000</td>\n",
       "      <td>1.00</td>\n",
       "    </tr>\n",
       "  </tbody>\n",
       "</table>\n",
       "</div>"
      ],
      "text/plain": [
       "                   count         mean          std    min        25%  \\\n",
       "customerID        7032.0  3515.500000  2030.107879   0.00  1757.7500   \n",
       "gender            7032.0     0.504693     0.500014   0.00     0.0000   \n",
       "SeniorCitizen     7032.0     0.162400     0.368844   0.00     0.0000   \n",
       "Partner           7032.0     0.482509     0.499729   0.00     0.0000   \n",
       "Dependents        7032.0     0.298493     0.457629   0.00     0.0000   \n",
       "tenure            7032.0    32.421786    24.545260   1.00     9.0000   \n",
       "PhoneService      7032.0     0.903299     0.295571   0.00     1.0000   \n",
       "MultipleLines     7032.0     0.940557     0.948627   0.00     0.0000   \n",
       "InternetService   7032.0     0.872582     0.737271   0.00     0.0000   \n",
       "OnlineSecurity    7032.0     0.789249     0.859962   0.00     0.0000   \n",
       "OnlineBackup      7032.0     0.905859     0.880394   0.00     0.0000   \n",
       "DeviceProtection  7032.0     0.903868     0.880178   0.00     0.0000   \n",
       "TechSupport       7032.0     0.796359     0.861674   0.00     0.0000   \n",
       "StreamingTV       7032.0     0.984926     0.885285   0.00     0.0000   \n",
       "StreamingMovies   7032.0     0.992890     0.885385   0.00     0.0000   \n",
       "Contract          7032.0     0.688567     0.832934   0.00     0.0000   \n",
       "PaperlessBilling  7032.0     0.592719     0.491363   0.00     0.0000   \n",
       "PaymentMethod     7032.0     1.573237     1.067504   0.00     1.0000   \n",
       "MonthlyCharges    7032.0    64.798208    30.085974  18.25    35.5875   \n",
       "TotalCharges      7032.0  2283.300441  2266.771362  18.80   401.4500   \n",
       "Churn             7032.0     0.265785     0.441782   0.00     0.0000   \n",
       "\n",
       "                       50%        75%      max  \n",
       "customerID        3515.500  5273.2500  7031.00  \n",
       "gender               1.000     1.0000     1.00  \n",
       "SeniorCitizen        0.000     0.0000     1.00  \n",
       "Partner              0.000     1.0000     1.00  \n",
       "Dependents           0.000     1.0000     1.00  \n",
       "tenure              29.000    55.0000    72.00  \n",
       "PhoneService         1.000     1.0000     1.00  \n",
       "MultipleLines        1.000     2.0000     2.00  \n",
       "InternetService      1.000     1.0000     2.00  \n",
       "OnlineSecurity       1.000     2.0000     2.00  \n",
       "OnlineBackup         1.000     2.0000     2.00  \n",
       "DeviceProtection     1.000     2.0000     2.00  \n",
       "TechSupport          1.000     2.0000     2.00  \n",
       "StreamingTV          1.000     2.0000     2.00  \n",
       "StreamingMovies      1.000     2.0000     2.00  \n",
       "Contract             0.000     1.0000     2.00  \n",
       "PaperlessBilling     1.000     1.0000     1.00  \n",
       "PaymentMethod        2.000     2.0000     3.00  \n",
       "MonthlyCharges      70.350    89.8625   118.75  \n",
       "TotalCharges      1397.475  3794.7375  8684.80  \n",
       "Churn                0.000     1.0000     1.00  "
      ]
     },
     "execution_count": 57,
     "metadata": {},
     "output_type": "execute_result"
    }
   ],
   "source": [
    "df.describe().transpose()"
   ]
  },
  {
   "cell_type": "code",
   "execution_count": 58,
   "id": "e16a5457",
   "metadata": {},
   "outputs": [
    {
     "data": {
      "image/png": "[encoded data removed]",
      "text/plain": [
       "<Figure size 1080x504 with 2 Axes>"
      ]
     },
     "metadata": {
      "needs_background": "light"
     },
     "output_type": "display_data"
    }
   ],
   "source": [
    "# variation in heatmap\n",
    "import matplotlib.pyplot as plt\n",
    "plt.figure(figsize=(15,7))\n",
    "sns.heatmap(round(df.describe()[1:].transpose(),2),annot=True,linewidths=0.5,fmt=\"0.2f\")\n",
    "plt.xticks(fontsize=18)\n",
    "plt.yticks(fontsize=18)\n",
    "plt.savefig(\"heatmap.png\")\n",
    "plt.show()"
   ]
  },
  {
   "cell_type": "markdown",
   "id": "fc0d885c",
   "metadata": {},
   "source": [
    "# correlation of columns with target variable"
   ]
  },
  {
   "cell_type": "code",
   "execution_count": 59,
   "id": "8dfddf36",
   "metadata": {},
   "outputs": [
    {
     "data": {
      "text/plain": [
       "PaymentMethod      -0.330594\n",
       "Churn              -0.199484\n",
       "InternetService    -0.175691\n",
       "customerID         -0.000263\n",
       "gender              0.000048\n",
       "Dependents          0.064653\n",
       "SeniorCitizen       0.102411\n",
       "PhoneService        0.113008\n",
       "PaperlessBilling    0.157830\n",
       "OnlineSecurity      0.254473\n",
       "TechSupport         0.276890\n",
       "Partner             0.319072\n",
       "OnlineBackup        0.375556\n",
       "DeviceProtection    0.389066\n",
       "StreamingTV         0.392472\n",
       "StreamingMovies     0.398088\n",
       "Contract            0.450306\n",
       "MultipleLines       0.453202\n",
       "MonthlyCharges      0.651065\n",
       "tenure              0.825880\n",
       "TotalCharges        1.000000\n",
       "Name: TotalCharges, dtype: float64"
      ]
     },
     "execution_count": 59,
     "metadata": {},
     "output_type": "execute_result"
    }
   ],
   "source": [
    "df.corr()[\"TotalCharges\"].sort_values()"
   ]
  },
  {
   "cell_type": "code",
   "execution_count": 60,
   "id": "19460aa3",
   "metadata": {},
   "outputs": [],
   "source": [
    "# gender and customer id is not correlated accept this two column all other column is highly correlated with target variable"
   ]
  },
  {
   "cell_type": "code",
   "execution_count": 61,
   "id": "685e06fc",
   "metadata": {},
   "outputs": [
    {
     "data": {
      "text/plain": [
       "<AxesSubplot:>"
      ]
     },
     "execution_count": 61,
     "metadata": {},
     "output_type": "execute_result"
    },
    {
     "data": {
      "image/png": "[encoded data removed]",
      "text/plain": [
       "<Figure size 1080x504 with 2 Axes>"
      ]
     },
     "metadata": {
      "needs_background": "light"
     },
     "output_type": "display_data"
    }
   ],
   "source": [
    "plt.figure(figsize=(15,7))\n",
    "sns.heatmap(df.corr(),annot=True,linewidths=0.5,linecolor='white',fmt=\"0.2f\")"
   ]
  },
  {
   "cell_type": "markdown",
   "id": "9cb3a056",
   "metadata": {},
   "source": [
    "checking the column with the positive or negative correlation with the columns"
   ]
  },
  {
   "cell_type": "code",
   "execution_count": 62,
   "id": "d17b4390",
   "metadata": {},
   "outputs": [
    {
     "data": {
      "image/png": "[encoded data removed]",
      "text/plain": [
       "<Figure size 1440x504 with 1 Axes>"
      ]
     },
     "metadata": {
      "needs_background": "light"
     },
     "output_type": "display_data"
    }
   ],
   "source": [
    "plt.figure(figsize=(20,7))\n",
    "df.corr()[\"TotalCharges\"].sort_values(ascending=False).drop([\"TotalCharges\"]).plot(kind=\"bar\",color=\"c\")\n",
    "plt.xlabel(\"Fetures\",fontsize=18)\n",
    "plt.ylabel('column with target name',fontsize=18)\n",
    "plt.show()"
   ]
  },
  {
   "cell_type": "markdown",
   "id": "6b7c7c27",
   "metadata": {},
   "source": [
    "observation\n",
    "\n",
    " 1highest positive  correlation is tenure means tenure increses then totalcharges also increses\n",
    "    \n",
    "gender and customerid is lowest correlated with totalcharges\n",
    "\n",
    "internetservice,churn,paymentmethod i s negative correlated mens when this increses total charges dicreses\n"
   ]
  },
  {
   "cell_type": "code",
   "execution_count": 63,
   "id": "4186d885",
   "metadata": {},
   "outputs": [
    {
     "data": {
      "text/plain": [
       "PhoneService       -2.729727\n",
       "PaperlessBilling   -0.377503\n",
       "MonthlyCharges     -0.222103\n",
       "PaymentMethod      -0.169388\n",
       "gender             -0.018776\n",
       "customerID          0.000000\n",
       "StreamingMovies     0.013851\n",
       "StreamingTV         0.029366\n",
       "Partner             0.070024\n",
       "MultipleLines       0.118623\n",
       "OnlineBackup        0.184089\n",
       "DeviceProtection    0.188013\n",
       "InternetService     0.205704\n",
       "tenure              0.237731\n",
       "TechSupport         0.403966\n",
       "OnlineSecurity      0.418619\n",
       "Contract            0.635149\n",
       "Dependents          0.880908\n",
       "TotalCharges        0.961642\n",
       "Churn               1.060622\n",
       "SeniorCitizen       1.831103\n",
       "dtype: float64"
      ]
     },
     "execution_count": 63,
     "metadata": {},
     "output_type": "execute_result"
    }
   ],
   "source": [
    "df.skew().sort_values()"
   ]
  },
  {
   "cell_type": "markdown",
   "id": "5e407d9d",
   "metadata": {},
   "source": [
    "obervation\n",
    "\n",
    "skewness is only check for continous value not categorical now the categorical column is change but skewness is not done for that column eg\n",
    "\n",
    "\n",
    "       ( 'gender', 'SeniorCitizen', 'Partner', 'Dependents',\n",
    "       , 'PhoneService', 'MultipleLines', 'InternetService',\n",
    "       'OnlineSecurity', 'OnlineBackup', 'DeviceProtection', 'TechSupport',\n",
    "       'StreamingTV', 'StreamingMovies', 'Contract', 'PaperlessBilling',\n",
    "       'PaymentMethod' 'Churn)\n",
    "        \n",
    "        \n",
    "    \n",
    "since no column has skewness we will not treat that\n",
    "\n"
   ]
  },
  {
   "cell_type": "markdown",
   "id": "5fd3d28f",
   "metadata": {},
   "source": [
    "# OUTLIER CHECKING"
   ]
  },
  {
   "cell_type": "code",
   "execution_count": 64,
   "id": "c072f8b1",
   "metadata": {},
   "outputs": [
    {
     "data": {
      "text/plain": [
       "customerID             AxesSubplot(0.125,0.772143;0.168478x0.107857)\n",
       "gender              AxesSubplot(0.327174,0.772143;0.168478x0.107857)\n",
       "SeniorCitizen       AxesSubplot(0.529348,0.772143;0.168478x0.107857)\n",
       "Partner             AxesSubplot(0.731522,0.772143;0.168478x0.107857)\n",
       "Dependents             AxesSubplot(0.125,0.642714;0.168478x0.107857)\n",
       "tenure              AxesSubplot(0.327174,0.642714;0.168478x0.107857)\n",
       "PhoneService        AxesSubplot(0.529348,0.642714;0.168478x0.107857)\n",
       "MultipleLines       AxesSubplot(0.731522,0.642714;0.168478x0.107857)\n",
       "InternetService        AxesSubplot(0.125,0.513286;0.168478x0.107857)\n",
       "OnlineSecurity      AxesSubplot(0.327174,0.513286;0.168478x0.107857)\n",
       "OnlineBackup        AxesSubplot(0.529348,0.513286;0.168478x0.107857)\n",
       "DeviceProtection    AxesSubplot(0.731522,0.513286;0.168478x0.107857)\n",
       "TechSupport            AxesSubplot(0.125,0.383857;0.168478x0.107857)\n",
       "StreamingTV         AxesSubplot(0.327174,0.383857;0.168478x0.107857)\n",
       "StreamingMovies     AxesSubplot(0.529348,0.383857;0.168478x0.107857)\n",
       "Contract            AxesSubplot(0.731522,0.383857;0.168478x0.107857)\n",
       "PaperlessBilling       AxesSubplot(0.125,0.254429;0.168478x0.107857)\n",
       "PaymentMethod       AxesSubplot(0.327174,0.254429;0.168478x0.107857)\n",
       "MonthlyCharges      AxesSubplot(0.529348,0.254429;0.168478x0.107857)\n",
       "TotalCharges        AxesSubplot(0.731522,0.254429;0.168478x0.107857)\n",
       "Churn                     AxesSubplot(0.125,0.125;0.168478x0.107857)\n",
       "dtype: object"
      ]
     },
     "execution_count": 64,
     "metadata": {},
     "output_type": "execute_result"
    },
    {
     "data": {
      "image/png": "[encoded data removed]",
      "text/plain": [
       "<Figure size 1440x2160 with 24 Axes>"
      ]
     },
     "metadata": {
      "needs_background": "light"
     },
     "output_type": "display_data"
    }
   ],
   "source": [
    "df.plot(kind='box',subplots=True,figsize=(20,30),layout=(6,4))"
   ]
  },
  {
   "cell_type": "code",
   "execution_count": 65,
   "id": "d237523a",
   "metadata": {},
   "outputs": [],
   "source": [
    "# there are very less  outliers present no need to remove if we want to remove those outliers then use z score "
   ]
  },
  {
   "cell_type": "code",
   "execution_count": 66,
   "id": "fc600026",
   "metadata": {},
   "outputs": [
    {
     "data": {
      "text/plain": [
       "(array([   0,    3,    7,   20,   27,   62,   81,   89,  103,  105,  107,\n",
       "         114,  116,  129,  131,  133,  168,  180,  185,  187,  206,  211,\n",
       "         215,  216,  217,  225,  236,  252,  255,  259,  260,  263,  272,\n",
       "         278,  303,  321,  324,  328,  348,  354,  358,  372,  376,  382,\n",
       "         387,  398,  424,  431,  435,  452,  465,  481,  494,  497,  543,\n",
       "         568,  595,  609,  615,  619,  633,  659,  666,  668,  673,  676,\n",
       "         687,  715,  717,  734,  763,  774,  782,  788,  792,  811,  827,\n",
       "         841,  845,  857,  864,  871,  873,  875,  882,  891,  915,  932,\n",
       "         938,  940,  957,  970, 1008, 1015, 1034, 1047, 1048, 1050, 1069,\n",
       "        1106, 1115, 1118, 1140, 1142, 1146, 1157, 1165, 1178, 1200, 1217,\n",
       "        1221, 1238, 1251, 1253, 1267, 1274, 1294, 1307, 1322, 1327, 1329,\n",
       "        1330, 1344, 1347, 1360, 1374, 1397, 1402, 1411, 1447, 1474, 1475,\n",
       "        1476, 1495, 1501, 1508, 1514, 1555, 1557, 1576, 1579, 1609, 1615,\n",
       "        1629, 1632, 1647, 1684, 1687, 1689, 1698, 1717, 1729, 1784, 1797,\n",
       "        1798, 1814, 1822, 1827, 1840, 1846, 1849, 1857, 1876, 1884, 1887,\n",
       "        1889, 1901, 1905, 1939, 1954, 1964, 1980, 1984, 1993, 1997, 2026,\n",
       "        2041, 2045, 2082, 2084, 2085, 2112, 2119, 2122, 2126, 2183, 2210,\n",
       "        2220, 2221, 2232, 2234, 2285, 2290, 2305, 2335, 2339, 2343, 2357,\n",
       "        2377, 2378, 2380, 2393, 2394, 2404, 2407, 2408, 2412, 2415, 2416,\n",
       "        2421, 2422, 2426, 2428, 2460, 2463, 2487, 2528, 2533, 2536, 2542,\n",
       "        2557, 2603, 2605, 2621, 2632, 2639, 2656, 2657, 2676, 2691, 2695,\n",
       "        2704, 2707, 2713, 2720, 2723, 2743, 2746, 2747, 2749, 2756, 2768,\n",
       "        2776, 2799, 2804, 2809, 2836, 2837, 2884, 2893, 2894, 2898, 2908,\n",
       "        2910, 2911, 2913, 2914, 2924, 2935, 2939, 2957, 2961, 2967, 2985,\n",
       "        2987, 2989, 2990, 3015, 3023, 3031, 3034, 3037, 3038, 3055, 3057,\n",
       "        3065, 3068, 3075, 3087, 3091, 3121, 3122, 3128, 3134, 3145, 3155,\n",
       "        3169, 3172, 3178, 3180, 3185, 3186, 3189, 3208, 3216, 3218, 3228,\n",
       "        3230, 3238, 3253, 3285, 3287, 3306, 3311, 3313, 3336, 3348, 3357,\n",
       "        3364, 3408, 3416, 3438, 3448, 3486, 3496, 3499, 3535, 3536, 3551,\n",
       "        3569, 3577, 3580, 3588, 3607, 3608, 3611, 3614, 3615, 3646, 3647,\n",
       "        3654, 3671, 3674, 3679, 3684, 3716, 3727, 3732, 3747, 3750, 3767,\n",
       "        3813, 3853, 3863, 3866, 3870, 3895, 3898, 3919, 3927, 3933, 3938,\n",
       "        3939, 3948, 3954, 3966, 3969, 3976, 3982, 4001, 4013, 4017, 4020,\n",
       "        4022, 4033, 4034, 4036, 4041, 4045, 4047, 4048, 4049, 4064, 4068,\n",
       "        4078, 4092, 4102, 4121, 4123, 4125, 4134, 4142, 4144, 4155, 4161,\n",
       "        4167, 4171, 4173, 4176, 4193, 4200, 4201, 4226, 4232, 4244, 4274,\n",
       "        4283, 4302, 4303, 4304, 4331, 4362, 4388, 4392, 4394, 4401, 4403,\n",
       "        4416, 4424, 4457, 4466, 4473, 4513, 4529, 4549, 4557, 4595, 4604,\n",
       "        4633, 4645, 4649, 4657, 4662, 4694, 4702, 4718, 4720, 4721, 4732,\n",
       "        4742, 4757, 4765, 4813, 4820, 4823, 4832, 4837, 4841, 4846, 4849,\n",
       "        4852, 4874, 4875, 4889, 4890, 4907, 4911, 4916, 4925, 4941, 4957,\n",
       "        4960, 4962, 4966, 4968, 4973, 4975, 4981, 4984, 4985, 4994, 5005,\n",
       "        5006, 5009, 5026, 5052, 5054, 5056, 5058, 5065, 5077, 5083, 5109,\n",
       "        5122, 5136, 5139, 5155, 5168, 5172, 5178, 5196, 5199, 5202, 5204,\n",
       "        5208, 5240, 5254, 5255, 5275, 5281, 5283, 5287, 5294, 5305, 5320,\n",
       "        5322, 5329, 5334, 5339, 5347, 5350, 5373, 5378, 5382, 5383, 5402,\n",
       "        5447, 5480, 5488, 5492, 5496, 5522, 5527, 5537, 5550, 5556, 5592,\n",
       "        5598, 5622, 5627, 5639, 5656, 5657, 5665, 5673, 5674, 5681, 5708,\n",
       "        5731, 5752, 5779, 5781, 5787, 5790, 5820, 5824, 5828, 5832, 5871,\n",
       "        5875, 5880, 5882, 5891, 5902, 5930, 5932, 5933, 5940, 5941, 5945,\n",
       "        5952, 5958, 5967, 5974, 5992, 5997, 5998, 6011, 6021, 6022, 6030,\n",
       "        6034, 6050, 6055, 6058, 6065, 6071, 6078, 6084, 6099, 6120, 6123,\n",
       "        6124, 6136, 6140, 6153, 6165, 6174, 6195, 6200, 6203, 6209, 6210,\n",
       "        6211, 6226, 6239, 6243, 6244, 6247, 6251, 6254, 6260, 6276, 6287,\n",
       "        6301, 6310, 6317, 6322, 6358, 6368, 6374, 6383, 6397, 6406, 6407,\n",
       "        6415, 6416, 6426, 6446, 6448, 6450, 6484, 6485, 6491, 6494, 6500,\n",
       "        6505, 6506, 6513, 6514, 6521, 6527, 6538, 6544, 6561, 6564, 6584,\n",
       "        6591, 6598, 6615, 6631, 6644, 6652, 6653, 6656, 6667, 6669, 6673,\n",
       "        6674, 6681, 6683, 6693, 6717, 6737, 6740, 6742, 6746, 6766, 6768,\n",
       "        6772, 6780, 6799, 6800, 6802, 6823, 6853, 6870, 6873, 6880, 6884,\n",
       "        6893, 6894, 6926, 6929, 6930, 6932, 6935, 6938, 6953, 6955, 6968,\n",
       "        6969, 6973, 6974, 6988, 6992, 6996, 7018, 7025, 7029], dtype=int64),\n",
       " array([6, 6, 6, 6, 6, 6, 6, 6, 6, 6, 6, 6, 6, 6, 6, 6, 6, 6, 6, 6, 6, 6,\n",
       "        6, 6, 6, 6, 6, 6, 6, 6, 6, 6, 6, 6, 6, 6, 6, 6, 6, 6, 6, 6, 6, 6,\n",
       "        6, 6, 6, 6, 6, 6, 6, 6, 6, 6, 6, 6, 6, 6, 6, 6, 6, 6, 6, 6, 6, 6,\n",
       "        6, 6, 6, 6, 6, 6, 6, 6, 6, 6, 6, 6, 6, 6, 6, 6, 6, 6, 6, 6, 6, 6,\n",
       "        6, 6, 6, 6, 6, 6, 6, 6, 6, 6, 6, 6, 6, 6, 6, 6, 6, 6, 6, 6, 6, 6,\n",
       "        6, 6, 6, 6, 6, 6, 6, 6, 6, 6, 6, 6, 6, 6, 6, 6, 6, 6, 6, 6, 6, 6,\n",
       "        6, 6, 6, 6, 6, 6, 6, 6, 6, 6, 6, 6, 6, 6, 6, 6, 6, 6, 6, 6, 6, 6,\n",
       "        6, 6, 6, 6, 6, 6, 6, 6, 6, 6, 6, 6, 6, 6, 6, 6, 6, 6, 6, 6, 6, 6,\n",
       "        6, 6, 6, 6, 6, 6, 6, 6, 6, 6, 6, 6, 6, 6, 6, 6, 6, 6, 6, 6, 6, 6,\n",
       "        6, 6, 6, 6, 6, 6, 6, 6, 6, 6, 6, 6, 6, 6, 6, 6, 6, 6, 6, 6, 6, 6,\n",
       "        6, 6, 6, 6, 6, 6, 6, 6, 6, 6, 6, 6, 6, 6, 6, 6, 6, 6, 6, 6, 6, 6,\n",
       "        6, 6, 6, 6, 6, 6, 6, 6, 6, 6, 6, 6, 6, 6, 6, 6, 6, 6, 6, 6, 6, 6,\n",
       "        6, 6, 6, 6, 6, 6, 6, 6, 6, 6, 6, 6, 6, 6, 6, 6, 6, 6, 6, 6, 6, 6,\n",
       "        6, 6, 6, 6, 6, 6, 6, 6, 6, 6, 6, 6, 6, 6, 6, 6, 6, 6, 6, 6, 6, 6,\n",
       "        6, 6, 6, 6, 6, 6, 6, 6, 6, 6, 6, 6, 6, 6, 6, 6, 6, 6, 6, 6, 6, 6,\n",
       "        6, 6, 6, 6, 6, 6, 6, 6, 6, 6, 6, 6, 6, 6, 6, 6, 6, 6, 6, 6, 6, 6,\n",
       "        6, 6, 6, 6, 6, 6, 6, 6, 6, 6, 6, 6, 6, 6, 6, 6, 6, 6, 6, 6, 6, 6,\n",
       "        6, 6, 6, 6, 6, 6, 6, 6, 6, 6, 6, 6, 6, 6, 6, 6, 6, 6, 6, 6, 6, 6,\n",
       "        6, 6, 6, 6, 6, 6, 6, 6, 6, 6, 6, 6, 6, 6, 6, 6, 6, 6, 6, 6, 6, 6,\n",
       "        6, 6, 6, 6, 6, 6, 6, 6, 6, 6, 6, 6, 6, 6, 6, 6, 6, 6, 6, 6, 6, 6,\n",
       "        6, 6, 6, 6, 6, 6, 6, 6, 6, 6, 6, 6, 6, 6, 6, 6, 6, 6, 6, 6, 6, 6,\n",
       "        6, 6, 6, 6, 6, 6, 6, 6, 6, 6, 6, 6, 6, 6, 6, 6, 6, 6, 6, 6, 6, 6,\n",
       "        6, 6, 6, 6, 6, 6, 6, 6, 6, 6, 6, 6, 6, 6, 6, 6, 6, 6, 6, 6, 6, 6,\n",
       "        6, 6, 6, 6, 6, 6, 6, 6, 6, 6, 6, 6, 6, 6, 6, 6, 6, 6, 6, 6, 6, 6,\n",
       "        6, 6, 6, 6, 6, 6, 6, 6, 6, 6, 6, 6, 6, 6, 6, 6, 6, 6, 6, 6, 6, 6,\n",
       "        6, 6, 6, 6, 6, 6, 6, 6, 6, 6, 6, 6, 6, 6, 6, 6, 6, 6, 6, 6, 6, 6,\n",
       "        6, 6, 6, 6, 6, 6, 6, 6, 6, 6, 6, 6, 6, 6, 6, 6, 6, 6, 6, 6, 6, 6,\n",
       "        6, 6, 6, 6, 6, 6, 6, 6, 6, 6, 6, 6, 6, 6, 6, 6, 6, 6, 6, 6, 6, 6,\n",
       "        6, 6, 6, 6, 6, 6, 6, 6, 6, 6, 6, 6, 6, 6, 6, 6, 6, 6, 6, 6, 6, 6,\n",
       "        6, 6, 6, 6, 6, 6, 6, 6, 6, 6, 6, 6, 6, 6, 6, 6, 6, 6, 6, 6, 6, 6,\n",
       "        6, 6, 6, 6, 6, 6, 6, 6, 6, 6, 6, 6, 6, 6, 6, 6, 6, 6, 6, 6],\n",
       "       dtype=int64))"
      ]
     },
     "execution_count": 66,
     "metadata": {},
     "output_type": "execute_result"
    }
   ],
   "source": [
    "from scipy.stats import zscore\n",
    "import numpy as np\n",
    "z=np.abs(zscore(df))  #abs is absolute function used to make all data positive \n",
    "\n",
    "#in z score value is both value -3 and +3 is present but abs function convert -3 value to positive for better calculation\n",
    "thresold=3\n",
    "   \n",
    "np.where(z>3)\n"
   ]
  },
  {
   "cell_type": "markdown",
   "id": "4d783d74",
   "metadata": {},
   "source": [
    "observation\n",
    "\n",
    "show the index value of row and column where outliers lies\n",
    "\n",
    "mostly in column no. 6 the outlies are precent means phoneservices\n",
    "\n",
    "now we have remove outliers"
   ]
  },
  {
   "cell_type": "code",
   "execution_count": 67,
   "id": "93fc212e",
   "metadata": {},
   "outputs": [
    {
     "data": {
      "text/html": [
       "<div>\n",
       "<style scoped>\n",
       "    .dataframe tbody tr th:only-of-type {\n",
       "        vertical-align: middle;\n",
       "    }\n",
       "\n",
       "    .dataframe tbody tr th {\n",
       "        vertical-align: top;\n",
       "    }\n",
       "\n",
       "    .dataframe thead th {\n",
       "        text-align: right;\n",
       "    }\n",
       "</style>\n",
       "<table border=\"1\" class=\"dataframe\">\n",
       "  <thead>\n",
       "    <tr style=\"text-align: right;\">\n",
       "      <th></th>\n",
       "      <th>customerID</th>\n",
       "      <th>gender</th>\n",
       "      <th>SeniorCitizen</th>\n",
       "      <th>Partner</th>\n",
       "      <th>Dependents</th>\n",
       "      <th>tenure</th>\n",
       "      <th>PhoneService</th>\n",
       "      <th>MultipleLines</th>\n",
       "      <th>InternetService</th>\n",
       "      <th>OnlineSecurity</th>\n",
       "      <th>...</th>\n",
       "      <th>DeviceProtection</th>\n",
       "      <th>TechSupport</th>\n",
       "      <th>StreamingTV</th>\n",
       "      <th>StreamingMovies</th>\n",
       "      <th>Contract</th>\n",
       "      <th>PaperlessBilling</th>\n",
       "      <th>PaymentMethod</th>\n",
       "      <th>MonthlyCharges</th>\n",
       "      <th>TotalCharges</th>\n",
       "      <th>Churn</th>\n",
       "    </tr>\n",
       "  </thead>\n",
       "  <tbody>\n",
       "    <tr>\n",
       "      <th>1</th>\n",
       "      <td>3953.0</td>\n",
       "      <td>1.0</td>\n",
       "      <td>0</td>\n",
       "      <td>0.0</td>\n",
       "      <td>0.0</td>\n",
       "      <td>34</td>\n",
       "      <td>1.0</td>\n",
       "      <td>0.0</td>\n",
       "      <td>0.0</td>\n",
       "      <td>2.0</td>\n",
       "      <td>...</td>\n",
       "      <td>2.0</td>\n",
       "      <td>0.0</td>\n",
       "      <td>0.0</td>\n",
       "      <td>0.0</td>\n",
       "      <td>1.0</td>\n",
       "      <td>0.0</td>\n",
       "      <td>3.0</td>\n",
       "      <td>56.95</td>\n",
       "      <td>1889.50</td>\n",
       "      <td>0.0</td>\n",
       "    </tr>\n",
       "    <tr>\n",
       "      <th>2</th>\n",
       "      <td>2558.0</td>\n",
       "      <td>1.0</td>\n",
       "      <td>0</td>\n",
       "      <td>0.0</td>\n",
       "      <td>0.0</td>\n",
       "      <td>2</td>\n",
       "      <td>1.0</td>\n",
       "      <td>0.0</td>\n",
       "      <td>0.0</td>\n",
       "      <td>2.0</td>\n",
       "      <td>...</td>\n",
       "      <td>0.0</td>\n",
       "      <td>0.0</td>\n",
       "      <td>0.0</td>\n",
       "      <td>0.0</td>\n",
       "      <td>0.0</td>\n",
       "      <td>1.0</td>\n",
       "      <td>3.0</td>\n",
       "      <td>53.85</td>\n",
       "      <td>108.15</td>\n",
       "      <td>1.0</td>\n",
       "    </tr>\n",
       "    <tr>\n",
       "      <th>4</th>\n",
       "      <td>6500.0</td>\n",
       "      <td>0.0</td>\n",
       "      <td>0</td>\n",
       "      <td>0.0</td>\n",
       "      <td>0.0</td>\n",
       "      <td>2</td>\n",
       "      <td>1.0</td>\n",
       "      <td>0.0</td>\n",
       "      <td>1.0</td>\n",
       "      <td>0.0</td>\n",
       "      <td>...</td>\n",
       "      <td>0.0</td>\n",
       "      <td>0.0</td>\n",
       "      <td>0.0</td>\n",
       "      <td>0.0</td>\n",
       "      <td>0.0</td>\n",
       "      <td>1.0</td>\n",
       "      <td>2.0</td>\n",
       "      <td>70.70</td>\n",
       "      <td>151.65</td>\n",
       "      <td>1.0</td>\n",
       "    </tr>\n",
       "    <tr>\n",
       "      <th>5</th>\n",
       "      <td>6540.0</td>\n",
       "      <td>0.0</td>\n",
       "      <td>0</td>\n",
       "      <td>0.0</td>\n",
       "      <td>0.0</td>\n",
       "      <td>8</td>\n",
       "      <td>1.0</td>\n",
       "      <td>2.0</td>\n",
       "      <td>1.0</td>\n",
       "      <td>0.0</td>\n",
       "      <td>...</td>\n",
       "      <td>2.0</td>\n",
       "      <td>0.0</td>\n",
       "      <td>2.0</td>\n",
       "      <td>2.0</td>\n",
       "      <td>0.0</td>\n",
       "      <td>1.0</td>\n",
       "      <td>2.0</td>\n",
       "      <td>99.65</td>\n",
       "      <td>820.50</td>\n",
       "      <td>1.0</td>\n",
       "    </tr>\n",
       "    <tr>\n",
       "      <th>6</th>\n",
       "      <td>1001.0</td>\n",
       "      <td>1.0</td>\n",
       "      <td>0</td>\n",
       "      <td>0.0</td>\n",
       "      <td>1.0</td>\n",
       "      <td>22</td>\n",
       "      <td>1.0</td>\n",
       "      <td>2.0</td>\n",
       "      <td>1.0</td>\n",
       "      <td>0.0</td>\n",
       "      <td>...</td>\n",
       "      <td>0.0</td>\n",
       "      <td>0.0</td>\n",
       "      <td>2.0</td>\n",
       "      <td>0.0</td>\n",
       "      <td>0.0</td>\n",
       "      <td>1.0</td>\n",
       "      <td>1.0</td>\n",
       "      <td>89.10</td>\n",
       "      <td>1949.40</td>\n",
       "      <td>0.0</td>\n",
       "    </tr>\n",
       "    <tr>\n",
       "      <th>...</th>\n",
       "      <td>...</td>\n",
       "      <td>...</td>\n",
       "      <td>...</td>\n",
       "      <td>...</td>\n",
       "      <td>...</td>\n",
       "      <td>...</td>\n",
       "      <td>...</td>\n",
       "      <td>...</td>\n",
       "      <td>...</td>\n",
       "      <td>...</td>\n",
       "      <td>...</td>\n",
       "      <td>...</td>\n",
       "      <td>...</td>\n",
       "      <td>...</td>\n",
       "      <td>...</td>\n",
       "      <td>...</td>\n",
       "      <td>...</td>\n",
       "      <td>...</td>\n",
       "      <td>...</td>\n",
       "      <td>...</td>\n",
       "      <td>...</td>\n",
       "    </tr>\n",
       "    <tr>\n",
       "      <th>7037</th>\n",
       "      <td>1756.0</td>\n",
       "      <td>0.0</td>\n",
       "      <td>0</td>\n",
       "      <td>0.0</td>\n",
       "      <td>0.0</td>\n",
       "      <td>72</td>\n",
       "      <td>1.0</td>\n",
       "      <td>0.0</td>\n",
       "      <td>2.0</td>\n",
       "      <td>1.0</td>\n",
       "      <td>...</td>\n",
       "      <td>1.0</td>\n",
       "      <td>1.0</td>\n",
       "      <td>1.0</td>\n",
       "      <td>1.0</td>\n",
       "      <td>2.0</td>\n",
       "      <td>1.0</td>\n",
       "      <td>0.0</td>\n",
       "      <td>21.15</td>\n",
       "      <td>1419.40</td>\n",
       "      <td>0.0</td>\n",
       "    </tr>\n",
       "    <tr>\n",
       "      <th>7038</th>\n",
       "      <td>4843.0</td>\n",
       "      <td>1.0</td>\n",
       "      <td>0</td>\n",
       "      <td>1.0</td>\n",
       "      <td>1.0</td>\n",
       "      <td>24</td>\n",
       "      <td>1.0</td>\n",
       "      <td>2.0</td>\n",
       "      <td>0.0</td>\n",
       "      <td>2.0</td>\n",
       "      <td>...</td>\n",
       "      <td>2.0</td>\n",
       "      <td>2.0</td>\n",
       "      <td>2.0</td>\n",
       "      <td>2.0</td>\n",
       "      <td>1.0</td>\n",
       "      <td>1.0</td>\n",
       "      <td>3.0</td>\n",
       "      <td>84.80</td>\n",
       "      <td>1990.50</td>\n",
       "      <td>0.0</td>\n",
       "    </tr>\n",
       "    <tr>\n",
       "      <th>7039</th>\n",
       "      <td>1524.0</td>\n",
       "      <td>0.0</td>\n",
       "      <td>0</td>\n",
       "      <td>1.0</td>\n",
       "      <td>1.0</td>\n",
       "      <td>72</td>\n",
       "      <td>1.0</td>\n",
       "      <td>2.0</td>\n",
       "      <td>1.0</td>\n",
       "      <td>0.0</td>\n",
       "      <td>...</td>\n",
       "      <td>2.0</td>\n",
       "      <td>0.0</td>\n",
       "      <td>2.0</td>\n",
       "      <td>2.0</td>\n",
       "      <td>1.0</td>\n",
       "      <td>1.0</td>\n",
       "      <td>1.0</td>\n",
       "      <td>103.20</td>\n",
       "      <td>7362.90</td>\n",
       "      <td>0.0</td>\n",
       "    </tr>\n",
       "    <tr>\n",
       "      <th>7041</th>\n",
       "      <td>5923.0</td>\n",
       "      <td>1.0</td>\n",
       "      <td>1</td>\n",
       "      <td>1.0</td>\n",
       "      <td>0.0</td>\n",
       "      <td>4</td>\n",
       "      <td>1.0</td>\n",
       "      <td>2.0</td>\n",
       "      <td>1.0</td>\n",
       "      <td>0.0</td>\n",
       "      <td>...</td>\n",
       "      <td>0.0</td>\n",
       "      <td>0.0</td>\n",
       "      <td>0.0</td>\n",
       "      <td>0.0</td>\n",
       "      <td>0.0</td>\n",
       "      <td>1.0</td>\n",
       "      <td>3.0</td>\n",
       "      <td>74.40</td>\n",
       "      <td>306.60</td>\n",
       "      <td>1.0</td>\n",
       "    </tr>\n",
       "    <tr>\n",
       "      <th>7042</th>\n",
       "      <td>2221.0</td>\n",
       "      <td>1.0</td>\n",
       "      <td>0</td>\n",
       "      <td>0.0</td>\n",
       "      <td>0.0</td>\n",
       "      <td>66</td>\n",
       "      <td>1.0</td>\n",
       "      <td>0.0</td>\n",
       "      <td>1.0</td>\n",
       "      <td>2.0</td>\n",
       "      <td>...</td>\n",
       "      <td>2.0</td>\n",
       "      <td>2.0</td>\n",
       "      <td>2.0</td>\n",
       "      <td>2.0</td>\n",
       "      <td>2.0</td>\n",
       "      <td>1.0</td>\n",
       "      <td>0.0</td>\n",
       "      <td>105.65</td>\n",
       "      <td>6844.50</td>\n",
       "      <td>0.0</td>\n",
       "    </tr>\n",
       "  </tbody>\n",
       "</table>\n",
       "<p>6352 rows × 21 columns</p>\n",
       "</div>"
      ],
      "text/plain": [
       "      customerID  gender  SeniorCitizen  Partner  Dependents  tenure  \\\n",
       "1         3953.0     1.0              0      0.0         0.0      34   \n",
       "2         2558.0     1.0              0      0.0         0.0       2   \n",
       "4         6500.0     0.0              0      0.0         0.0       2   \n",
       "5         6540.0     0.0              0      0.0         0.0       8   \n",
       "6         1001.0     1.0              0      0.0         1.0      22   \n",
       "...          ...     ...            ...      ...         ...     ...   \n",
       "7037      1756.0     0.0              0      0.0         0.0      72   \n",
       "7038      4843.0     1.0              0      1.0         1.0      24   \n",
       "7039      1524.0     0.0              0      1.0         1.0      72   \n",
       "7041      5923.0     1.0              1      1.0         0.0       4   \n",
       "7042      2221.0     1.0              0      0.0         0.0      66   \n",
       "\n",
       "      PhoneService  MultipleLines  InternetService  OnlineSecurity  ...  \\\n",
       "1              1.0            0.0              0.0             2.0  ...   \n",
       "2              1.0            0.0              0.0             2.0  ...   \n",
       "4              1.0            0.0              1.0             0.0  ...   \n",
       "5              1.0            2.0              1.0             0.0  ...   \n",
       "6              1.0            2.0              1.0             0.0  ...   \n",
       "...            ...            ...              ...             ...  ...   \n",
       "7037           1.0            0.0              2.0             1.0  ...   \n",
       "7038           1.0            2.0              0.0             2.0  ...   \n",
       "7039           1.0            2.0              1.0             0.0  ...   \n",
       "7041           1.0            2.0              1.0             0.0  ...   \n",
       "7042           1.0            0.0              1.0             2.0  ...   \n",
       "\n",
       "      DeviceProtection  TechSupport  StreamingTV  StreamingMovies  Contract  \\\n",
       "1                  2.0          0.0          0.0              0.0       1.0   \n",
       "2                  0.0          0.0          0.0              0.0       0.0   \n",
       "4                  0.0          0.0          0.0              0.0       0.0   \n",
       "5                  2.0          0.0          2.0              2.0       0.0   \n",
       "6                  0.0          0.0          2.0              0.0       0.0   \n",
       "...                ...          ...          ...              ...       ...   \n",
       "7037               1.0          1.0          1.0              1.0       2.0   \n",
       "7038               2.0          2.0          2.0              2.0       1.0   \n",
       "7039               2.0          0.0          2.0              2.0       1.0   \n",
       "7041               0.0          0.0          0.0              0.0       0.0   \n",
       "7042               2.0          2.0          2.0              2.0       2.0   \n",
       "\n",
       "      PaperlessBilling  PaymentMethod  MonthlyCharges  TotalCharges  Churn  \n",
       "1                  0.0            3.0           56.95       1889.50    0.0  \n",
       "2                  1.0            3.0           53.85        108.15    1.0  \n",
       "4                  1.0            2.0           70.70        151.65    1.0  \n",
       "5                  1.0            2.0           99.65        820.50    1.0  \n",
       "6                  1.0            1.0           89.10       1949.40    0.0  \n",
       "...                ...            ...             ...           ...    ...  \n",
       "7037               1.0            0.0           21.15       1419.40    0.0  \n",
       "7038               1.0            3.0           84.80       1990.50    0.0  \n",
       "7039               1.0            1.0          103.20       7362.90    0.0  \n",
       "7041               1.0            3.0           74.40        306.60    1.0  \n",
       "7042               1.0            0.0          105.65       6844.50    0.0  \n",
       "\n",
       "[6352 rows x 21 columns]"
      ]
     },
     "execution_count": 67,
     "metadata": {},
     "output_type": "execute_result"
    }
   ],
   "source": [
    "df_new=df[(z<3).all(axis=1)]   # axis=1 means all rows for each column\n",
    "df_new                       #these are normal data or clean data without outliers"
   ]
  },
  {
   "cell_type": "code",
   "execution_count": 68,
   "id": "6c037c77",
   "metadata": {},
   "outputs": [
    {
     "data": {
      "text/plain": [
       "array([0., 1.])"
      ]
     },
     "execution_count": 68,
     "metadata": {},
     "output_type": "execute_result"
    }
   ],
   "source": [
    "df[\"PhoneService\"].unique()"
   ]
  },
  {
   "cell_type": "code",
   "execution_count": 69,
   "id": "771657f7",
   "metadata": {},
   "outputs": [
    {
     "data": {
      "text/plain": [
       "array([1.])"
      ]
     },
     "execution_count": 69,
     "metadata": {},
     "output_type": "execute_result"
    }
   ],
   "source": [
    "df_new[\"PhoneService\"].unique()"
   ]
  },
  {
   "cell_type": "code",
   "execution_count": 70,
   "id": "366152c7",
   "metadata": {},
   "outputs": [
    {
     "data": {
      "text/plain": [
       "(7032, 21)"
      ]
     },
     "execution_count": 70,
     "metadata": {},
     "output_type": "execute_result"
    }
   ],
   "source": [
    "df.shape"
   ]
  },
  {
   "cell_type": "code",
   "execution_count": 71,
   "id": "27710472",
   "metadata": {},
   "outputs": [
    {
     "data": {
      "text/plain": [
       "(6352, 21)"
      ]
     },
     "execution_count": 71,
     "metadata": {},
     "output_type": "execute_result"
    }
   ],
   "source": [
    "df_new.shape"
   ]
  },
  {
   "cell_type": "code",
   "execution_count": 72,
   "id": "0f6b6a20",
   "metadata": {},
   "outputs": [
    {
     "data": {
      "text/plain": [
       "680"
      ]
     },
     "execution_count": 72,
     "metadata": {},
     "output_type": "execute_result"
    }
   ],
   "source": [
    "no_of_outliers=7032-6352  #outlier removed \n",
    "no_of_outliers"
   ]
  },
  {
   "cell_type": "code",
   "execution_count": 73,
   "id": "830500a4",
   "metadata": {},
   "outputs": [
    {
     "data": {
      "text/plain": [
       "9.670079635949943"
      ]
     },
     "execution_count": 73,
     "metadata": {},
     "output_type": "execute_result"
    }
   ],
   "source": [
    "data_loss_percentage=((7032-6352)/7032)*100\n",
    "data_loss_percentage"
   ]
  },
  {
   "cell_type": "markdown",
   "id": "14cb866f",
   "metadata": {},
   "source": [
    "# SEPERATE THE FEATURES AND COLUMNS"
   ]
  },
  {
   "cell_type": "code",
   "execution_count": 74,
   "id": "cdb4a038",
   "metadata": {},
   "outputs": [],
   "source": [
    "fetures=df.drop(\"TotalCharges\",axis=1)\n",
    "target=df[\"TotalCharges\"]"
   ]
  },
  {
   "cell_type": "code",
   "execution_count": 75,
   "id": "d805f6b2",
   "metadata": {},
   "outputs": [
    {
     "data": {
      "text/html": [
       "<div>\n",
       "<style scoped>\n",
       "    .dataframe tbody tr th:only-of-type {\n",
       "        vertical-align: middle;\n",
       "    }\n",
       "\n",
       "    .dataframe tbody tr th {\n",
       "        vertical-align: top;\n",
       "    }\n",
       "\n",
       "    .dataframe thead th {\n",
       "        text-align: right;\n",
       "    }\n",
       "</style>\n",
       "<table border=\"1\" class=\"dataframe\">\n",
       "  <thead>\n",
       "    <tr style=\"text-align: right;\">\n",
       "      <th></th>\n",
       "      <th>customerID</th>\n",
       "      <th>gender</th>\n",
       "      <th>SeniorCitizen</th>\n",
       "      <th>Partner</th>\n",
       "      <th>Dependents</th>\n",
       "      <th>tenure</th>\n",
       "      <th>PhoneService</th>\n",
       "      <th>MultipleLines</th>\n",
       "      <th>InternetService</th>\n",
       "      <th>OnlineSecurity</th>\n",
       "      <th>OnlineBackup</th>\n",
       "      <th>DeviceProtection</th>\n",
       "      <th>TechSupport</th>\n",
       "      <th>StreamingTV</th>\n",
       "      <th>StreamingMovies</th>\n",
       "      <th>Contract</th>\n",
       "      <th>PaperlessBilling</th>\n",
       "      <th>PaymentMethod</th>\n",
       "      <th>MonthlyCharges</th>\n",
       "      <th>Churn</th>\n",
       "    </tr>\n",
       "  </thead>\n",
       "  <tbody>\n",
       "    <tr>\n",
       "      <th>0</th>\n",
       "      <td>5365.0</td>\n",
       "      <td>0.0</td>\n",
       "      <td>0</td>\n",
       "      <td>1.0</td>\n",
       "      <td>0.0</td>\n",
       "      <td>1</td>\n",
       "      <td>0.0</td>\n",
       "      <td>1.0</td>\n",
       "      <td>0.0</td>\n",
       "      <td>0.0</td>\n",
       "      <td>2.0</td>\n",
       "      <td>0.0</td>\n",
       "      <td>0.0</td>\n",
       "      <td>0.0</td>\n",
       "      <td>0.0</td>\n",
       "      <td>0.0</td>\n",
       "      <td>1.0</td>\n",
       "      <td>2.0</td>\n",
       "      <td>29.85</td>\n",
       "      <td>0.0</td>\n",
       "    </tr>\n",
       "    <tr>\n",
       "      <th>1</th>\n",
       "      <td>3953.0</td>\n",
       "      <td>1.0</td>\n",
       "      <td>0</td>\n",
       "      <td>0.0</td>\n",
       "      <td>0.0</td>\n",
       "      <td>34</td>\n",
       "      <td>1.0</td>\n",
       "      <td>0.0</td>\n",
       "      <td>0.0</td>\n",
       "      <td>2.0</td>\n",
       "      <td>0.0</td>\n",
       "      <td>2.0</td>\n",
       "      <td>0.0</td>\n",
       "      <td>0.0</td>\n",
       "      <td>0.0</td>\n",
       "      <td>1.0</td>\n",
       "      <td>0.0</td>\n",
       "      <td>3.0</td>\n",
       "      <td>56.95</td>\n",
       "      <td>0.0</td>\n",
       "    </tr>\n",
       "    <tr>\n",
       "      <th>2</th>\n",
       "      <td>2558.0</td>\n",
       "      <td>1.0</td>\n",
       "      <td>0</td>\n",
       "      <td>0.0</td>\n",
       "      <td>0.0</td>\n",
       "      <td>2</td>\n",
       "      <td>1.0</td>\n",
       "      <td>0.0</td>\n",
       "      <td>0.0</td>\n",
       "      <td>2.0</td>\n",
       "      <td>2.0</td>\n",
       "      <td>0.0</td>\n",
       "      <td>0.0</td>\n",
       "      <td>0.0</td>\n",
       "      <td>0.0</td>\n",
       "      <td>0.0</td>\n",
       "      <td>1.0</td>\n",
       "      <td>3.0</td>\n",
       "      <td>53.85</td>\n",
       "      <td>1.0</td>\n",
       "    </tr>\n",
       "    <tr>\n",
       "      <th>3</th>\n",
       "      <td>5524.0</td>\n",
       "      <td>1.0</td>\n",
       "      <td>0</td>\n",
       "      <td>0.0</td>\n",
       "      <td>0.0</td>\n",
       "      <td>45</td>\n",
       "      <td>0.0</td>\n",
       "      <td>1.0</td>\n",
       "      <td>0.0</td>\n",
       "      <td>2.0</td>\n",
       "      <td>0.0</td>\n",
       "      <td>2.0</td>\n",
       "      <td>2.0</td>\n",
       "      <td>0.0</td>\n",
       "      <td>0.0</td>\n",
       "      <td>1.0</td>\n",
       "      <td>0.0</td>\n",
       "      <td>0.0</td>\n",
       "      <td>42.30</td>\n",
       "      <td>0.0</td>\n",
       "    </tr>\n",
       "    <tr>\n",
       "      <th>4</th>\n",
       "      <td>6500.0</td>\n",
       "      <td>0.0</td>\n",
       "      <td>0</td>\n",
       "      <td>0.0</td>\n",
       "      <td>0.0</td>\n",
       "      <td>2</td>\n",
       "      <td>1.0</td>\n",
       "      <td>0.0</td>\n",
       "      <td>1.0</td>\n",
       "      <td>0.0</td>\n",
       "      <td>0.0</td>\n",
       "      <td>0.0</td>\n",
       "      <td>0.0</td>\n",
       "      <td>0.0</td>\n",
       "      <td>0.0</td>\n",
       "      <td>0.0</td>\n",
       "      <td>1.0</td>\n",
       "      <td>2.0</td>\n",
       "      <td>70.70</td>\n",
       "      <td>1.0</td>\n",
       "    </tr>\n",
       "    <tr>\n",
       "      <th>...</th>\n",
       "      <td>...</td>\n",
       "      <td>...</td>\n",
       "      <td>...</td>\n",
       "      <td>...</td>\n",
       "      <td>...</td>\n",
       "      <td>...</td>\n",
       "      <td>...</td>\n",
       "      <td>...</td>\n",
       "      <td>...</td>\n",
       "      <td>...</td>\n",
       "      <td>...</td>\n",
       "      <td>...</td>\n",
       "      <td>...</td>\n",
       "      <td>...</td>\n",
       "      <td>...</td>\n",
       "      <td>...</td>\n",
       "      <td>...</td>\n",
       "      <td>...</td>\n",
       "      <td>...</td>\n",
       "      <td>...</td>\n",
       "    </tr>\n",
       "    <tr>\n",
       "      <th>7038</th>\n",
       "      <td>4843.0</td>\n",
       "      <td>1.0</td>\n",
       "      <td>0</td>\n",
       "      <td>1.0</td>\n",
       "      <td>1.0</td>\n",
       "      <td>24</td>\n",
       "      <td>1.0</td>\n",
       "      <td>2.0</td>\n",
       "      <td>0.0</td>\n",
       "      <td>2.0</td>\n",
       "      <td>0.0</td>\n",
       "      <td>2.0</td>\n",
       "      <td>2.0</td>\n",
       "      <td>2.0</td>\n",
       "      <td>2.0</td>\n",
       "      <td>1.0</td>\n",
       "      <td>1.0</td>\n",
       "      <td>3.0</td>\n",
       "      <td>84.80</td>\n",
       "      <td>0.0</td>\n",
       "    </tr>\n",
       "    <tr>\n",
       "      <th>7039</th>\n",
       "      <td>1524.0</td>\n",
       "      <td>0.0</td>\n",
       "      <td>0</td>\n",
       "      <td>1.0</td>\n",
       "      <td>1.0</td>\n",
       "      <td>72</td>\n",
       "      <td>1.0</td>\n",
       "      <td>2.0</td>\n",
       "      <td>1.0</td>\n",
       "      <td>0.0</td>\n",
       "      <td>2.0</td>\n",
       "      <td>2.0</td>\n",
       "      <td>0.0</td>\n",
       "      <td>2.0</td>\n",
       "      <td>2.0</td>\n",
       "      <td>1.0</td>\n",
       "      <td>1.0</td>\n",
       "      <td>1.0</td>\n",
       "      <td>103.20</td>\n",
       "      <td>0.0</td>\n",
       "    </tr>\n",
       "    <tr>\n",
       "      <th>7040</th>\n",
       "      <td>3358.0</td>\n",
       "      <td>0.0</td>\n",
       "      <td>0</td>\n",
       "      <td>1.0</td>\n",
       "      <td>1.0</td>\n",
       "      <td>11</td>\n",
       "      <td>0.0</td>\n",
       "      <td>1.0</td>\n",
       "      <td>0.0</td>\n",
       "      <td>2.0</td>\n",
       "      <td>0.0</td>\n",
       "      <td>0.0</td>\n",
       "      <td>0.0</td>\n",
       "      <td>0.0</td>\n",
       "      <td>0.0</td>\n",
       "      <td>0.0</td>\n",
       "      <td>1.0</td>\n",
       "      <td>2.0</td>\n",
       "      <td>29.60</td>\n",
       "      <td>0.0</td>\n",
       "    </tr>\n",
       "    <tr>\n",
       "      <th>7041</th>\n",
       "      <td>5923.0</td>\n",
       "      <td>1.0</td>\n",
       "      <td>1</td>\n",
       "      <td>1.0</td>\n",
       "      <td>0.0</td>\n",
       "      <td>4</td>\n",
       "      <td>1.0</td>\n",
       "      <td>2.0</td>\n",
       "      <td>1.0</td>\n",
       "      <td>0.0</td>\n",
       "      <td>0.0</td>\n",
       "      <td>0.0</td>\n",
       "      <td>0.0</td>\n",
       "      <td>0.0</td>\n",
       "      <td>0.0</td>\n",
       "      <td>0.0</td>\n",
       "      <td>1.0</td>\n",
       "      <td>3.0</td>\n",
       "      <td>74.40</td>\n",
       "      <td>1.0</td>\n",
       "    </tr>\n",
       "    <tr>\n",
       "      <th>7042</th>\n",
       "      <td>2221.0</td>\n",
       "      <td>1.0</td>\n",
       "      <td>0</td>\n",
       "      <td>0.0</td>\n",
       "      <td>0.0</td>\n",
       "      <td>66</td>\n",
       "      <td>1.0</td>\n",
       "      <td>0.0</td>\n",
       "      <td>1.0</td>\n",
       "      <td>2.0</td>\n",
       "      <td>0.0</td>\n",
       "      <td>2.0</td>\n",
       "      <td>2.0</td>\n",
       "      <td>2.0</td>\n",
       "      <td>2.0</td>\n",
       "      <td>2.0</td>\n",
       "      <td>1.0</td>\n",
       "      <td>0.0</td>\n",
       "      <td>105.65</td>\n",
       "      <td>0.0</td>\n",
       "    </tr>\n",
       "  </tbody>\n",
       "</table>\n",
       "<p>7032 rows × 20 columns</p>\n",
       "</div>"
      ],
      "text/plain": [
       "      customerID  gender  SeniorCitizen  Partner  Dependents  tenure  \\\n",
       "0         5365.0     0.0              0      1.0         0.0       1   \n",
       "1         3953.0     1.0              0      0.0         0.0      34   \n",
       "2         2558.0     1.0              0      0.0         0.0       2   \n",
       "3         5524.0     1.0              0      0.0         0.0      45   \n",
       "4         6500.0     0.0              0      0.0         0.0       2   \n",
       "...          ...     ...            ...      ...         ...     ...   \n",
       "7038      4843.0     1.0              0      1.0         1.0      24   \n",
       "7039      1524.0     0.0              0      1.0         1.0      72   \n",
       "7040      3358.0     0.0              0      1.0         1.0      11   \n",
       "7041      5923.0     1.0              1      1.0         0.0       4   \n",
       "7042      2221.0     1.0              0      0.0         0.0      66   \n",
       "\n",
       "      PhoneService  MultipleLines  InternetService  OnlineSecurity  \\\n",
       "0              0.0            1.0              0.0             0.0   \n",
       "1              1.0            0.0              0.0             2.0   \n",
       "2              1.0            0.0              0.0             2.0   \n",
       "3              0.0            1.0              0.0             2.0   \n",
       "4              1.0            0.0              1.0             0.0   \n",
       "...            ...            ...              ...             ...   \n",
       "7038           1.0            2.0              0.0             2.0   \n",
       "7039           1.0            2.0              1.0             0.0   \n",
       "7040           0.0            1.0              0.0             2.0   \n",
       "7041           1.0            2.0              1.0             0.0   \n",
       "7042           1.0            0.0              1.0             2.0   \n",
       "\n",
       "      OnlineBackup  DeviceProtection  TechSupport  StreamingTV  \\\n",
       "0              2.0               0.0          0.0          0.0   \n",
       "1              0.0               2.0          0.0          0.0   \n",
       "2              2.0               0.0          0.0          0.0   \n",
       "3              0.0               2.0          2.0          0.0   \n",
       "4              0.0               0.0          0.0          0.0   \n",
       "...            ...               ...          ...          ...   \n",
       "7038           0.0               2.0          2.0          2.0   \n",
       "7039           2.0               2.0          0.0          2.0   \n",
       "7040           0.0               0.0          0.0          0.0   \n",
       "7041           0.0               0.0          0.0          0.0   \n",
       "7042           0.0               2.0          2.0          2.0   \n",
       "\n",
       "      StreamingMovies  Contract  PaperlessBilling  PaymentMethod  \\\n",
       "0                 0.0       0.0               1.0            2.0   \n",
       "1                 0.0       1.0               0.0            3.0   \n",
       "2                 0.0       0.0               1.0            3.0   \n",
       "3                 0.0       1.0               0.0            0.0   \n",
       "4                 0.0       0.0               1.0            2.0   \n",
       "...               ...       ...               ...            ...   \n",
       "7038              2.0       1.0               1.0            3.0   \n",
       "7039              2.0       1.0               1.0            1.0   \n",
       "7040              0.0       0.0               1.0            2.0   \n",
       "7041              0.0       0.0               1.0            3.0   \n",
       "7042              2.0       2.0               1.0            0.0   \n",
       "\n",
       "      MonthlyCharges  Churn  \n",
       "0              29.85    0.0  \n",
       "1              56.95    0.0  \n",
       "2              53.85    1.0  \n",
       "3              42.30    0.0  \n",
       "4              70.70    1.0  \n",
       "...              ...    ...  \n",
       "7038           84.80    0.0  \n",
       "7039          103.20    0.0  \n",
       "7040           29.60    0.0  \n",
       "7041           74.40    1.0  \n",
       "7042          105.65    0.0  \n",
       "\n",
       "[7032 rows x 20 columns]"
      ]
     },
     "execution_count": 75,
     "metadata": {},
     "output_type": "execute_result"
    }
   ],
   "source": [
    "fetures"
   ]
  },
  {
   "cell_type": "code",
   "execution_count": 76,
   "id": "dea91e3b",
   "metadata": {},
   "outputs": [
    {
     "data": {
      "text/plain": [
       "0         29.85\n",
       "1       1889.50\n",
       "2        108.15\n",
       "3       1840.75\n",
       "4        151.65\n",
       "         ...   \n",
       "7038    1990.50\n",
       "7039    7362.90\n",
       "7040     346.45\n",
       "7041     306.60\n",
       "7042    6844.50\n",
       "Name: TotalCharges, Length: 7032, dtype: float64"
      ]
     },
     "execution_count": 76,
     "metadata": {},
     "output_type": "execute_result"
    }
   ],
   "source": [
    "target"
   ]
  },
  {
   "cell_type": "markdown",
   "id": "7d069a67",
   "metadata": {},
   "source": [
    "# SCALLING THE DATA USING MINMAX SCALER"
   ]
  },
  {
   "cell_type": "code",
   "execution_count": 77,
   "id": "afa8da03",
   "metadata": {},
   "outputs": [
    {
     "data": {
      "text/plain": [
       "array([[0.76304935, 0.        , 0.        , ..., 0.66666667, 0.11542289,\n",
       "        0.        ],\n",
       "       [0.56222443, 1.        , 0.        , ..., 1.        , 0.38507463,\n",
       "        0.        ],\n",
       "       [0.36381738, 1.        , 0.        , ..., 1.        , 0.35422886,\n",
       "        1.        ],\n",
       "       ...,\n",
       "       [0.4775992 , 0.        , 0.        , ..., 0.66666667, 0.11293532,\n",
       "        0.        ],\n",
       "       [0.84241217, 1.        , 1.        , ..., 1.        , 0.55870647,\n",
       "        1.        ],\n",
       "       [0.31588679, 1.        , 0.        , ..., 0.        , 0.86965174,\n",
       "        0.        ]])"
      ]
     },
     "execution_count": 77,
     "metadata": {},
     "output_type": "execute_result"
    }
   ],
   "source": [
    "from sklearn.preprocessing import MinMaxScaler\n",
    "mm= MinMaxScaler()\n",
    "fetures=mm.fit_transform(fetures)#all value bet 0 to 1\n",
    "fetures"
   ]
  },
  {
   "cell_type": "markdown",
   "id": "1e9d58b6",
   "metadata": {},
   "source": [
    "# LEARNING MODEL AND FIND OUT RANDOM STATE VALUE"
   ]
  },
  {
   "cell_type": "code",
   "execution_count": 78,
   "id": "203247e7",
   "metadata": {},
   "outputs": [],
   "source": [
    "import sklearn       #Scikitlearn\n",
    "from sklearn.linear_model import LinearRegression\n",
    "\n",
    "from sklearn.model_selection import train_test_split\n",
    "\n",
    "from sklearn.metrics import mean_absolute_error,mean_squared_error,r2_score\n",
    "\n",
    "import warnings\n",
    "\n",
    "warnings.filterwarnings(\"ignore\")"
   ]
  },
  {
   "cell_type": "code",
   "execution_count": 79,
   "id": "294e8cb5",
   "metadata": {},
   "outputs": [
    {
     "name": "stdout",
     "output_type": "stream",
     "text": [
      "at random state 0,the training accuracy is :- 0.9077748945580846\n",
      "at random state 0,the training accuracy is :- 0.9030902194761758\n",
      "/n\n",
      "at random state 1,the training accuracy is :- 0.9077581554592125\n",
      "at random state 1,the training accuracy is :- 0.9029007036191868\n",
      "/n\n",
      "at random state 2,the training accuracy is :- 0.906890737134402\n",
      "at random state 2,the training accuracy is :- 0.9057582385959283\n",
      "/n\n",
      "at random state 3,the training accuracy is :- 0.9072270849861789\n",
      "at random state 3,the training accuracy is :- 0.9045753484342547\n",
      "/n\n",
      "at random state 4,the training accuracy is :- 0.907949443879505\n",
      "at random state 4,the training accuracy is :- 0.9023860817832698\n",
      "/n\n",
      "at random state 5,the training accuracy is :- 0.9084808787011499\n",
      "at random state 5,the training accuracy is :- 0.900267015905097\n",
      "/n\n",
      "at random state 6,the training accuracy is :- 0.9070765876630345\n",
      "at random state 6,the training accuracy is :- 0.9051178720472701\n",
      "/n\n",
      "at random state 7,the training accuracy is :- 0.9062205611505626\n",
      "at random state 7,the training accuracy is :- 0.907804244184287\n",
      "/n\n",
      "at random state 8,the training accuracy is :- 0.9070439449773746\n",
      "at random state 8,the training accuracy is :- 0.9052401681549758\n",
      "/n\n",
      "at random state 9,the training accuracy is :- 0.9066826352073167\n",
      "at random state 9,the training accuracy is :- 0.9064099890494521\n",
      "/n\n",
      "at random state 10,the training accuracy is :- 0.9065251181991687\n",
      "at random state 10,the training accuracy is :- 0.9065129620371617\n",
      "/n\n",
      "at random state 11,the training accuracy is :- 0.9069999030513317\n",
      "at random state 11,the training accuracy is :- 0.9052976614362597\n",
      "/n\n",
      "at random state 12,the training accuracy is :- 0.9069765052821614\n",
      "at random state 12,the training accuracy is :- 0.9054640955046281\n",
      "/n\n",
      "at random state 13,the training accuracy is :- 0.9067722215966841\n",
      "at random state 13,the training accuracy is :- 0.9059693918329303\n",
      "/n\n",
      "at random state 14,the training accuracy is :- 0.9064383232273533\n",
      "at random state 14,the training accuracy is :- 0.9069806158092796\n",
      "/n\n",
      "at random state 15,the training accuracy is :- 0.9061197728193345\n",
      "at random state 15,the training accuracy is :- 0.9076315971000264\n",
      "/n\n",
      "at random state 16,the training accuracy is :- 0.9063818847289618\n",
      "at random state 16,the training accuracy is :- 0.9071052212230905\n",
      "/n\n",
      "at random state 17,the training accuracy is :- 0.9068484501339015\n",
      "at random state 17,the training accuracy is :- 0.9057109927033498\n",
      "/n\n",
      "at random state 18,the training accuracy is :- 0.9052360733318002\n",
      "at random state 18,the training accuracy is :- 0.9104041692475877\n",
      "/n\n",
      "at random state 19,the training accuracy is :- 0.9067173195919664\n",
      "at random state 19,the training accuracy is :- 0.9061811397233898\n",
      "/n\n",
      "at random state 20,the training accuracy is :- 0.9065455230401736\n",
      "at random state 20,the training accuracy is :- 0.906732728173324\n",
      "/n\n",
      "at random state 21,the training accuracy is :- 0.9055817432343345\n",
      "at random state 21,the training accuracy is :- 0.909720054458341\n",
      "/n\n",
      "at random state 22,the training accuracy is :- 0.9070727571415689\n",
      "at random state 22,the training accuracy is :- 0.9051733535058678\n",
      "/n\n",
      "at random state 23,the training accuracy is :- 0.9077498350420824\n",
      "at random state 23,the training accuracy is :- 0.9029089973483894\n",
      "/n\n",
      "at random state 24,the training accuracy is :- 0.9085786057207299\n",
      "at random state 24,the training accuracy is :- 0.8998717557907404\n",
      "/n\n",
      "at random state 25,the training accuracy is :- 0.9071757466944035\n",
      "at random state 25,the training accuracy is :- 0.9050691291996809\n",
      "/n\n",
      "at random state 26,the training accuracy is :- 0.9065987190752394\n",
      "at random state 26,the training accuracy is :- 0.9065263741656486\n",
      "/n\n",
      "at random state 27,the training accuracy is :- 0.9073686653580053\n",
      "at random state 27,the training accuracy is :- 0.9044452637934841\n",
      "/n\n",
      "at random state 28,the training accuracy is :- 0.9068208893690487\n",
      "at random state 28,the training accuracy is :- 0.9055183271979903\n",
      "/n\n",
      "at random state 29,the training accuracy is :- 0.9063452104701689\n",
      "at random state 29,the training accuracy is :- 0.9073122735484708\n",
      "/n\n",
      "at random state 30,the training accuracy is :- 0.9070270598044101\n",
      "at random state 30,the training accuracy is :- 0.9051792833841856\n",
      "/n\n",
      "at random state 31,the training accuracy is :- 0.9074990302707804\n",
      "at random state 31,the training accuracy is :- 0.9038725685591531\n",
      "/n\n",
      "at random state 32,the training accuracy is :- 0.9091559033055819\n",
      "at random state 32,the training accuracy is :- 0.8983104469043866\n",
      "/n\n",
      "at random state 33,the training accuracy is :- 0.9069534927209252\n",
      "at random state 33,the training accuracy is :- 0.9055867192323945\n",
      "/n\n",
      "at random state 34,the training accuracy is :- 0.9070176442287096\n",
      "at random state 34,the training accuracy is :- 0.9051894676803414\n",
      "/n\n",
      "at random state 35,the training accuracy is :- 0.9066074776320698\n",
      "at random state 35,the training accuracy is :- 0.9065134086438332\n",
      "/n\n",
      "at random state 36,the training accuracy is :- 0.9070059155704939\n",
      "at random state 36,the training accuracy is :- 0.9052366496965282\n",
      "/n\n",
      "at random state 37,the training accuracy is :- 0.905422315574669\n",
      "at random state 37,the training accuracy is :- 0.9099723438764635\n",
      "/n\n",
      "at random state 38,the training accuracy is :- 0.907750220482053\n",
      "at random state 38,the training accuracy is :- 0.9027134462517908\n",
      "/n\n",
      "at random state 39,the training accuracy is :- 0.9073026988429909\n",
      "at random state 39,the training accuracy is :- 0.9042943993721616\n",
      "/n\n",
      "at random state 40,the training accuracy is :- 0.9077970409008934\n",
      "at random state 40,the training accuracy is :- 0.9022834693084921\n",
      "/n\n",
      "at random state 41,the training accuracy is :- 0.9058522248108052\n",
      "at random state 41,the training accuracy is :- 0.9087820257482534\n",
      "/n\n",
      "at random state 42,the training accuracy is :- 0.9051424551915731\n",
      "at random state 42,the training accuracy is :- 0.9108690947549087\n",
      "/n\n",
      "at random state 43,the training accuracy is :- 0.9053476008167322\n",
      "at random state 43,the training accuracy is :- 0.9102095308107282\n",
      "/n\n",
      "at random state 44,the training accuracy is :- 0.9048717700543558\n",
      "at random state 44,the training accuracy is :- 0.9114394968505073\n",
      "/n\n",
      "at random state 45,the training accuracy is :- 0.9059477214517603\n",
      "at random state 45,the training accuracy is :- 0.9084756668906935\n",
      "/n\n",
      "at random state 46,the training accuracy is :- 0.9054644448582522\n",
      "at random state 46,the training accuracy is :- 0.909875724126084\n",
      "/n\n",
      "at random state 47,the training accuracy is :- 0.9057617951196987\n",
      "at random state 47,the training accuracy is :- 0.909143729817227\n",
      "/n\n",
      "at random state 48,the training accuracy is :- 0.9071203673967506\n",
      "at random state 48,the training accuracy is :- 0.9051178365382082\n",
      "/n\n",
      "at random state 49,the training accuracy is :- 0.9068682734795658\n",
      "at random state 49,the training accuracy is :- 0.9059143289610707\n",
      "/n\n",
      "at random state 50,the training accuracy is :- 0.9053076627925166\n",
      "at random state 50,the training accuracy is :- 0.9103421713290665\n",
      "/n\n",
      "at random state 51,the training accuracy is :- 0.9070741760420169\n",
      "at random state 51,the training accuracy is :- 0.9052291251667807\n",
      "/n\n",
      "at random state 52,the training accuracy is :- 0.9067961869477454\n",
      "at random state 52,the training accuracy is :- 0.9060024700974054\n",
      "/n\n",
      "at random state 53,the training accuracy is :- 0.9069541746835946\n",
      "at random state 53,the training accuracy is :- 0.9054460978267171\n",
      "/n\n",
      "at random state 54,the training accuracy is :- 0.9070145673800304\n",
      "at random state 54,the training accuracy is :- 0.9054049792049385\n",
      "/n\n",
      "at random state 55,the training accuracy is :- 0.9077898134613294\n",
      "at random state 55,the training accuracy is :- 0.9026793066518325\n",
      "/n\n",
      "at random state 56,the training accuracy is :- 0.9090036394973579\n",
      "at random state 56,the training accuracy is :- 0.8989697758149413\n",
      "/n\n",
      "at random state 57,the training accuracy is :- 0.9071894333550494\n",
      "at random state 57,the training accuracy is :- 0.9050414266105402\n",
      "/n\n",
      "at random state 58,the training accuracy is :- 0.9076133429191761\n",
      "at random state 58,the training accuracy is :- 0.9037633690826502\n",
      "/n\n",
      "at random state 59,the training accuracy is :- 0.9065685153055278\n",
      "at random state 59,the training accuracy is :- 0.9065511084893362\n",
      "/n\n",
      "at random state 60,the training accuracy is :- 0.9069276480156484\n",
      "at random state 60,the training accuracy is :- 0.9053623890454042\n",
      "/n\n",
      "at random state 61,the training accuracy is :- 0.9061754127775371\n",
      "at random state 61,the training accuracy is :- 0.9078470309810891\n",
      "/n\n",
      "at random state 62,the training accuracy is :- 0.906498315455781\n",
      "at random state 62,the training accuracy is :- 0.906840354929312\n",
      "/n\n",
      "at random state 63,the training accuracy is :- 0.9063710870114456\n"
     ]
    },
    {
     "name": "stdout",
     "output_type": "stream",
     "text": [
      "at random state 63,the training accuracy is :- 0.907203415048456\n",
      "/n\n",
      "at random state 64,the training accuracy is :- 0.9079690188682646\n",
      "at random state 64,the training accuracy is :- 0.9024039359515601\n",
      "/n\n",
      "at random state 65,the training accuracy is :- 0.9054821314859341\n",
      "at random state 65,the training accuracy is :- 0.909807618688331\n",
      "/n\n",
      "at random state 66,the training accuracy is :- 0.9059952807479517\n",
      "at random state 66,the training accuracy is :- 0.9080733176440813\n",
      "/n\n",
      "at random state 67,the training accuracy is :- 0.9067234292284162\n",
      "at random state 67,the training accuracy is :- 0.9059755178507304\n",
      "/n\n",
      "at random state 68,the training accuracy is :- 0.9074210401254469\n",
      "at random state 68,the training accuracy is :- 0.9040707387809306\n",
      "/n\n",
      "at random state 69,the training accuracy is :- 0.9073638833995602\n",
      "at random state 69,the training accuracy is :- 0.9039088997639564\n",
      "/n\n",
      "at random state 70,the training accuracy is :- 0.9063344926920888\n",
      "at random state 70,the training accuracy is :- 0.9074465636675815\n",
      "/n\n",
      "at random state 71,the training accuracy is :- 0.9061552226499411\n",
      "at random state 71,the training accuracy is :- 0.9081055783107981\n",
      "/n\n",
      "at random state 72,the training accuracy is :- 0.9072693118275856\n",
      "at random state 72,the training accuracy is :- 0.9046506468031629\n",
      "/n\n",
      "at random state 73,the training accuracy is :- 0.905634706940632\n",
      "at random state 73,the training accuracy is :- 0.9096345247938006\n",
      "/n\n",
      "at random state 74,the training accuracy is :- 0.9082392646349995\n",
      "at random state 74,the training accuracy is :- 0.90120807066321\n",
      "/n\n",
      "at random state 75,the training accuracy is :- 0.9058874803210502\n",
      "at random state 75,the training accuracy is :- 0.9088010223034219\n",
      "/n\n",
      "at random state 76,the training accuracy is :- 0.9083052219817546\n",
      "at random state 76,the training accuracy is :- 0.9012970547780442\n",
      "/n\n",
      "at random state 77,the training accuracy is :- 0.9083659407879492\n",
      "at random state 77,the training accuracy is :- 0.9012387937920681\n",
      "/n\n",
      "at random state 78,the training accuracy is :- 0.906534841177359\n",
      "at random state 78,the training accuracy is :- 0.9069292701399602\n",
      "/n\n",
      "at random state 79,the training accuracy is :- 0.9062109280990085\n",
      "at random state 79,the training accuracy is :- 0.9077795992571713\n",
      "/n\n",
      "at random state 80,the training accuracy is :- 0.9072521907588679\n",
      "at random state 80,the training accuracy is :- 0.9046478850191896\n",
      "/n\n",
      "at random state 81,the training accuracy is :- 0.9080179137034671\n",
      "at random state 81,the training accuracy is :- 0.9021561822483045\n",
      "/n\n",
      "at random state 82,the training accuracy is :- 0.906069551693057\n",
      "at random state 82,the training accuracy is :- 0.9080796049854265\n",
      "/n\n",
      "at random state 83,the training accuracy is :- 0.9070037100118231\n",
      "at random state 83,the training accuracy is :- 0.9053206462976108\n",
      "/n\n",
      "at random state 84,the training accuracy is :- 0.9084781081237435\n",
      "at random state 84,the training accuracy is :- 0.9001662510572647\n",
      "/n\n",
      "at random state 85,the training accuracy is :- 0.9070389087612482\n",
      "at random state 85,the training accuracy is :- 0.9051462332460313\n",
      "/n\n",
      "at random state 86,the training accuracy is :- 0.9071081532421496\n",
      "at random state 86,the training accuracy is :- 0.9051205527775719\n",
      "/n\n",
      "at random state 87,the training accuracy is :- 0.9074677647055397\n",
      "at random state 87,the training accuracy is :- 0.9039545050957283\n",
      "/n\n",
      "at random state 88,the training accuracy is :- 0.905851427596744\n",
      "at random state 88,the training accuracy is :- 0.9088979339480934\n",
      "/n\n",
      "at random state 89,the training accuracy is :- 0.9066845494815423\n",
      "at random state 89,the training accuracy is :- 0.906229977643085\n",
      "/n\n",
      "at random state 90,the training accuracy is :- 0.9053425028938126\n",
      "at random state 90,the training accuracy is :- 0.9102285164029649\n",
      "/n\n",
      "at random state 91,the training accuracy is :- 0.9074393278276687\n",
      "at random state 91,the training accuracy is :- 0.9040346061677971\n",
      "/n\n",
      "at random state 92,the training accuracy is :- 0.9065842649759074\n",
      "at random state 92,the training accuracy is :- 0.906647740267789\n",
      "/n\n",
      "at random state 93,the training accuracy is :- 0.9057753677352575\n",
      "at random state 93,the training accuracy is :- 0.909024184099585\n",
      "/n\n",
      "at random state 94,the training accuracy is :- 0.9088653499679915\n",
      "at random state 94,the training accuracy is :- 0.8991377257330919\n",
      "/n\n",
      "at random state 95,the training accuracy is :- 0.9047889079195456\n",
      "at random state 95,the training accuracy is :- 0.9119910558918256\n",
      "/n\n",
      "at random state 96,the training accuracy is :- 0.9076845495862259\n",
      "at random state 96,the training accuracy is :- 0.9032224586495875\n",
      "/n\n",
      "at random state 97,the training accuracy is :- 0.9059613500164272\n",
      "at random state 97,the training accuracy is :- 0.9082462524992589\n",
      "/n\n",
      "at random state 98,the training accuracy is :- 0.9068679105674848\n",
      "at random state 98,the training accuracy is :- 0.9057687800280545\n",
      "/n\n",
      "at random state 99,the training accuracy is :- 0.9062038683744094\n",
      "at random state 99,the training accuracy is :- 0.907576230964562\n",
      "/n\n"
     ]
    }
   ],
   "source": [
    "lr=LinearRegression()\n",
    "\n",
    "for i in range(0,100):\n",
    "    fetures_train, fetures_test, target_train, target_test = train_test_split( fetures,target, test_size=.25, random_state=i)\n",
    "    lr.fit(fetures_train,target_train)\n",
    "    pred_train=lr.predict(fetures_train)\n",
    "    pred_test=lr.predict(fetures_test)\n",
    "    print(f\"at random state {i},the training accuracy is :- {r2_score(target_train,pred_train)}\")\n",
    "    print(f\"at random state {i},the training accuracy is :- {r2_score(target_test,pred_test)}\")\n",
    "    print(\"/n\")"
   ]
  },
  {
   "cell_type": "code",
   "execution_count": 80,
   "id": "140b60a7",
   "metadata": {},
   "outputs": [],
   "source": [
    "fetures_train, fetures_test, target_train, target_test = train_test_split( fetures,target, test_size=.25, random_state=51)\n",
    "lr.fit(fetures_train,target_train) \n",
    "pred_test=lr.predict(fetures_test)\n"
   ]
  },
  {
   "cell_type": "code",
   "execution_count": 81,
   "id": "24d7ffd7",
   "metadata": {},
   "outputs": [
    {
     "name": "stdout",
     "output_type": "stream",
     "text": [
      "0.9052291251667807\n"
     ]
    }
   ],
   "source": [
    "print(r2_score(target_test,pred_test))"
   ]
  },
  {
   "cell_type": "markdown",
   "id": "9aa2d2ec",
   "metadata": {},
   "source": [
    "# CROSS VALIDATION"
   ]
  },
  {
   "cell_type": "code",
   "execution_count": 82,
   "id": "f6b176ea",
   "metadata": {},
   "outputs": [],
   "source": [
    "from sklearn.model_selection import cross_val_score"
   ]
  },
  {
   "cell_type": "code",
   "execution_count": 83,
   "id": "c58e0b58",
   "metadata": {},
   "outputs": [
    {
     "name": "stdout",
     "output_type": "stream",
     "text": [
      " At cross fold 2 the cv score is 0.9056853759998231 and accuracy score for training is -0.894692733620656 and accuracy score for training is 0.9052291251667807\n",
      "/n\n",
      " At cross fold 3 the cv score is 0.9060689054485597 and accuracy score for training is -0.894692733620656 and accuracy score for training is 0.9052291251667807\n",
      "/n\n",
      " At cross fold 4 the cv score is 0.9060522816189979 and accuracy score for training is -0.894692733620656 and accuracy score for training is 0.9052291251667807\n",
      "/n\n",
      " At cross fold 5 the cv score is 0.9060785914102271 and accuracy score for training is -0.894692733620656 and accuracy score for training is 0.9052291251667807\n",
      "/n\n",
      " At cross fold 6 the cv score is 0.9061171892115527 and accuracy score for training is -0.894692733620656 and accuracy score for training is 0.9052291251667807\n",
      "/n\n",
      " At cross fold 7 the cv score is 0.9059910991780914 and accuracy score for training is -0.894692733620656 and accuracy score for training is 0.9052291251667807\n",
      "/n\n",
      " At cross fold 8 the cv score is 0.9059336238398124 and accuracy score for training is -0.894692733620656 and accuracy score for training is 0.9052291251667807\n",
      "/n\n",
      " At cross fold 9 the cv score is 0.9059940804058443 and accuracy score for training is -0.894692733620656 and accuracy score for training is 0.9052291251667807\n",
      "/n\n"
     ]
    }
   ],
   "source": [
    "training_accuracy=r2_score(target_train,pred_train)\n",
    "testing_accuracy=r2_score(target_test,pred_test)\n",
    "\n",
    "for j in range(2,10):\n",
    "    cv_score=cross_val_score(lr,fetures,target,cv=j)\n",
    "    cv_mean=cv_score.mean()\n",
    "    print(f\" At cross fold {j} the cv score is {cv_mean} and accuracy score for training is {training_accuracy} and accuracy score for training is {testing_accuracy}\")\n",
    "    print(\"/n\")\n",
    "  \n",
    "    "
   ]
  },
  {
   "cell_type": "markdown",
   "id": "0f40a690",
   "metadata": {},
   "source": [
    "OBESERVATION\n",
    "\n",
    "Since the no. of fold dont have such impact on the accuracy and cv_score so can select j=6\n"
   ]
  },
  {
   "cell_type": "markdown",
   "id": "5fcbd474",
   "metadata": {},
   "source": [
    "# Here we have solve the problem of overfitting and underfittings"
   ]
  },
  {
   "cell_type": "code",
   "execution_count": 85,
   "id": "d803e978",
   "metadata": {},
   "outputs": [
    {
     "data": {
      "image/png": "[encoded data removed]",
      "text/plain": [
       "<Figure size 720x504 with 1 Axes>"
      ]
     },
     "metadata": {
      "needs_background": "light"
     },
     "output_type": "display_data"
    }
   ],
   "source": [
    "plt.figure(figsize=(10,7))\n",
    "plt.scatter(x=target_test,y=pred_test,color=\"b\")\n",
    "plt.plot(target_test,target_test,color=\"r\")\n",
    "plt.xlabel(\"Actual charges\",fontsize=14)\n",
    "plt.ylabel(\"Predicted charges\",fontsize=14)\n",
    "plt.title(\"LINEAR REGRESSION\")\n",
    "plt.savefig('lr.png')\n",
    "plt.show()\n"
   ]
  },
  {
   "cell_type": "markdown",
   "id": "470642bf",
   "metadata": {},
   "source": [
    "OBSERVATION\n",
    "\n",
    "best fit line covering most of the data point which show good fit of over model"
   ]
  },
  {
   "cell_type": "markdown",
   "id": "df885137",
   "metadata": {},
   "source": [
    "# REGULERIZATION"
   ]
  },
  {
   "cell_type": "code",
   "execution_count": 89,
   "id": "af1e22c3",
   "metadata": {},
   "outputs": [],
   "source": [
    "from sklearn.linear_model import Lasso\n",
    "from sklearn.model_selection import GridSearchCV\n",
    "import warnings\n",
    "warnings.filterwarnings(\"ignore\")"
   ]
  },
  {
   "cell_type": "code",
   "execution_count": 92,
   "id": "862b7713",
   "metadata": {},
   "outputs": [
    {
     "name": "stdout",
     "output_type": "stream",
     "text": [
      "{'alpha': 1, 'random_state': 0}\n"
     ]
    }
   ],
   "source": [
    "parameter={'alpha':[0.0001,0.001,0.01,0.1,1,10],'random_state':list(range(0,10))}\n",
    "ls=Lasso()\n",
    "grid=GridSearchCV(ls,parameter)\n",
    "grid.fit( fetures_train,target_train)\n",
    "print(grid.best_params_)"
   ]
  },
  {
   "cell_type": "markdown",
   "id": "d5ba7148",
   "metadata": {},
   "source": [
    "# final model training"
   ]
  },
  {
   "cell_type": "code",
   "execution_count": 93,
   "id": "4bcbca89",
   "metadata": {},
   "outputs": [
    {
     "data": {
      "text/plain": [
       "90.70417563887871"
      ]
     },
     "execution_count": 93,
     "metadata": {},
     "output_type": "execute_result"
    }
   ],
   "source": [
    "ls=Lasso(alpha=1,random_state=0) #by defalt alpha=.01\n",
    "ls.fit( fetures_train,target_train)\n",
    "ls_score_training=ls.score(fetures_train,target_train)\n",
    "ls_pred=ls.predict(fetures_test)\n",
    "ls_score_training*100"
   ]
  },
  {
   "cell_type": "code",
   "execution_count": 98,
   "id": "9f443506",
   "metadata": {},
   "outputs": [
    {
     "data": {
      "text/plain": [
       "90.53440437279494"
      ]
     },
     "execution_count": 98,
     "metadata": {},
     "output_type": "execute_result"
    }
   ],
   "source": [
    "lss=r2_score(target_test,ls_pred)\n",
    "lss*100"
   ]
  },
  {
   "cell_type": "code",
   "execution_count": 100,
   "id": "8b482d52",
   "metadata": {},
   "outputs": [
    {
     "data": {
      "text/plain": [
       "90.61171892115527"
      ]
     },
     "execution_count": 100,
     "metadata": {},
     "output_type": "execute_result"
    }
   ],
   "source": [
    "\n",
    "cv_score=cross_val_score(lr,fetures,target,cv=6)\n",
    "cv_mean=cv_score.mean()\n",
    "cv_mean*100"
   ]
  },
  {
   "cell_type": "markdown",
   "id": "cc8b6d4a",
   "metadata": {},
   "source": [
    "# ESEMBLING TECHNIQUE(bagging and boosting)"
   ]
  },
  {
   "cell_type": "code",
   "execution_count": 110,
   "id": "8c305b9a",
   "metadata": {},
   "outputs": [],
   "source": [
    " from sklearn.ensemble import RandomForestRegressor\n",
    "from sklearn.model_selection import GridSearchCV"
   ]
  },
  {
   "cell_type": "code",
   "execution_count": 111,
   "id": "0c7d1732",
   "metadata": {},
   "outputs": [
    {
     "name": "stdout",
     "output_type": "stream",
     "text": [
      "{'criterion': 'mae', 'max_features': 'auto'}\n"
     ]
    }
   ],
   "source": [
    "\n",
    "param={\"criterion\":['mse','mae'],\"max_features\":[\"auto\",\"sqrt\",\"log2\"]}\n",
    "rf= RandomForestRegressor()\n",
    "grd=GridSearchCV(rf,param)\n",
    "grd.fit( fetures_train,target_train)\n",
    "print(grd.best_params_)"
   ]
  },
  {
   "cell_type": "code",
   "execution_count": 113,
   "id": "8e129204",
   "metadata": {},
   "outputs": [
    {
     "name": "stdout",
     "output_type": "stream",
     "text": [
      "training r2 0.9998111721309823\n",
      "r2 score 99.87421248856039\n",
      "cross val score = 90.61171892115527\n"
     ]
    }
   ],
   "source": [
    "rf= RandomForestRegressor(criterion='mae',max_features='auto')\n",
    "rf.fit( fetures_train,target_train)\n",
    "train_r2=rf.score(fetures_train,target_train)\n",
    "pred_decision=rf.predict(fetures_test)\n",
    "print(\"training r2\",train_r2)\n",
    "\n",
    "rfs=r2_score(target_test,pred_decision)\n",
    "print(\"r2 score\", rfs*100)\n",
    "\n",
    "rfscore=cross_val_score(lr,fetures,target,cv=6)\n",
    "rfc=rfscore.mean()\n",
    "print(\"cross val score =\",rfc*100)"
   ]
  },
  {
   "cell_type": "markdown",
   "id": "0adfdc37",
   "metadata": {},
   "source": [
    "# we are getting model accurecy and cross validation score both are 99% shows our model is performing extremly well \n"
   ]
  },
  {
   "cell_type": "markdown",
   "id": "96177fc8",
   "metadata": {},
   "source": [
    "# save model"
   ]
  },
  {
   "cell_type": "code",
   "execution_count": 115,
   "id": "13fe36bf",
   "metadata": {},
   "outputs": [],
   "source": [
    "import pickle\n",
    "\n",
    "filename=\"churn.pkl\"\n",
    "pickle.dump(rf,open(filename,\"wb\"))"
   ]
  },
  {
   "cell_type": "markdown",
   "id": "ab87f06a",
   "metadata": {},
   "source": [
    "# load model"
   ]
  },
  {
   "cell_type": "code",
   "execution_count": 117,
   "id": "af6eceda",
   "metadata": {},
   "outputs": [
    {
     "name": "stdout",
     "output_type": "stream",
     "text": [
      "99.87421248856039\n"
     ]
    }
   ],
   "source": [
    "loaded_model=pickle.load(open(\"churn.pkl\",\"rb\"))\n",
    "result=loaded_model.score(fetures_test,target_test)\n",
    "print(result*100)"
   ]
  },
  {
   "cell_type": "markdown",
   "id": "15777dbe",
   "metadata": {},
   "source": [
    "# conclusion"
   ]
  },
  {
   "cell_type": "code",
   "execution_count": 119,
   "id": "6b491bb2",
   "metadata": {},
   "outputs": [],
   "source": [
    "conclusion=pd.DataFrame([loaded_model.predict(fetures_test)[:],pred_decision[:]],index=[\"predicted\",\"original\"])"
   ]
  },
  {
   "cell_type": "code",
   "execution_count": 120,
   "id": "9efbac72",
   "metadata": {},
   "outputs": [
    {
     "data": {
      "text/html": [
       "<div>\n",
       "<style scoped>\n",
       "    .dataframe tbody tr th:only-of-type {\n",
       "        vertical-align: middle;\n",
       "    }\n",
       "\n",
       "    .dataframe tbody tr th {\n",
       "        vertical-align: top;\n",
       "    }\n",
       "\n",
       "    .dataframe thead th {\n",
       "        text-align: right;\n",
       "    }\n",
       "</style>\n",
       "<table border=\"1\" class=\"dataframe\">\n",
       "  <thead>\n",
       "    <tr style=\"text-align: right;\">\n",
       "      <th></th>\n",
       "      <th>0</th>\n",
       "      <th>1</th>\n",
       "      <th>2</th>\n",
       "      <th>3</th>\n",
       "      <th>4</th>\n",
       "      <th>5</th>\n",
       "      <th>6</th>\n",
       "      <th>7</th>\n",
       "      <th>8</th>\n",
       "      <th>9</th>\n",
       "      <th>...</th>\n",
       "      <th>1748</th>\n",
       "      <th>1749</th>\n",
       "      <th>1750</th>\n",
       "      <th>1751</th>\n",
       "      <th>1752</th>\n",
       "      <th>1753</th>\n",
       "      <th>1754</th>\n",
       "      <th>1755</th>\n",
       "      <th>1756</th>\n",
       "      <th>1757</th>\n",
       "    </tr>\n",
       "  </thead>\n",
       "  <tbody>\n",
       "    <tr>\n",
       "      <th>predicted</th>\n",
       "      <td>138.941</td>\n",
       "      <td>5293.636</td>\n",
       "      <td>19.8975</td>\n",
       "      <td>6132.65</td>\n",
       "      <td>4782.045</td>\n",
       "      <td>1440.5765</td>\n",
       "      <td>672.803</td>\n",
       "      <td>1470.0035</td>\n",
       "      <td>798.8245</td>\n",
       "      <td>83.672</td>\n",
       "      <td>...</td>\n",
       "      <td>64.5545</td>\n",
       "      <td>235.1695</td>\n",
       "      <td>2449.609</td>\n",
       "      <td>1690.2705</td>\n",
       "      <td>115.473</td>\n",
       "      <td>4326.672</td>\n",
       "      <td>2207.886</td>\n",
       "      <td>90.341</td>\n",
       "      <td>19.875</td>\n",
       "      <td>5678.03225</td>\n",
       "    </tr>\n",
       "    <tr>\n",
       "      <th>original</th>\n",
       "      <td>138.941</td>\n",
       "      <td>5293.636</td>\n",
       "      <td>19.8975</td>\n",
       "      <td>6132.65</td>\n",
       "      <td>4782.045</td>\n",
       "      <td>1440.5765</td>\n",
       "      <td>672.803</td>\n",
       "      <td>1470.0035</td>\n",
       "      <td>798.8245</td>\n",
       "      <td>83.672</td>\n",
       "      <td>...</td>\n",
       "      <td>64.5545</td>\n",
       "      <td>235.1695</td>\n",
       "      <td>2449.609</td>\n",
       "      <td>1690.2705</td>\n",
       "      <td>115.473</td>\n",
       "      <td>4326.672</td>\n",
       "      <td>2207.886</td>\n",
       "      <td>90.341</td>\n",
       "      <td>19.875</td>\n",
       "      <td>5678.03225</td>\n",
       "    </tr>\n",
       "  </tbody>\n",
       "</table>\n",
       "<p>2 rows × 1758 columns</p>\n",
       "</div>"
      ],
      "text/plain": [
       "              0         1        2        3         4          5        6     \\\n",
       "predicted  138.941  5293.636  19.8975  6132.65  4782.045  1440.5765  672.803   \n",
       "original   138.941  5293.636  19.8975  6132.65  4782.045  1440.5765  672.803   \n",
       "\n",
       "                7         8       9     ...     1748      1749      1750  \\\n",
       "predicted  1470.0035  798.8245  83.672  ...  64.5545  235.1695  2449.609   \n",
       "original   1470.0035  798.8245  83.672  ...  64.5545  235.1695  2449.609   \n",
       "\n",
       "                1751     1752      1753      1754    1755    1756        1757  \n",
       "predicted  1690.2705  115.473  4326.672  2207.886  90.341  19.875  5678.03225  \n",
       "original   1690.2705  115.473  4326.672  2207.886  90.341  19.875  5678.03225  \n",
       "\n",
       "[2 rows x 1758 columns]"
      ]
     },
     "execution_count": 120,
     "metadata": {},
     "output_type": "execute_result"
    }
   ],
   "source": [
    "conclusion"
   ]
  },
  {
   "cell_type": "code",
   "execution_count": 121,
   "id": "b712e44b",
   "metadata": {},
   "outputs": [
    {
     "data": {
      "text/html": [
       "<div>\n",
       "<style scoped>\n",
       "    .dataframe tbody tr th:only-of-type {\n",
       "        vertical-align: middle;\n",
       "    }\n",
       "\n",
       "    .dataframe tbody tr th {\n",
       "        vertical-align: top;\n",
       "    }\n",
       "\n",
       "    .dataframe thead th {\n",
       "        text-align: right;\n",
       "    }\n",
       "</style>\n",
       "<table border=\"1\" class=\"dataframe\">\n",
       "  <thead>\n",
       "    <tr style=\"text-align: right;\">\n",
       "      <th></th>\n",
       "      <th>predicted</th>\n",
       "      <th>original</th>\n",
       "    </tr>\n",
       "  </thead>\n",
       "  <tbody>\n",
       "    <tr>\n",
       "      <th>0</th>\n",
       "      <td>138.94100</td>\n",
       "      <td>138.94100</td>\n",
       "    </tr>\n",
       "    <tr>\n",
       "      <th>1</th>\n",
       "      <td>5293.63600</td>\n",
       "      <td>5293.63600</td>\n",
       "    </tr>\n",
       "    <tr>\n",
       "      <th>2</th>\n",
       "      <td>19.89750</td>\n",
       "      <td>19.89750</td>\n",
       "    </tr>\n",
       "    <tr>\n",
       "      <th>3</th>\n",
       "      <td>6132.65000</td>\n",
       "      <td>6132.65000</td>\n",
       "    </tr>\n",
       "    <tr>\n",
       "      <th>4</th>\n",
       "      <td>4782.04500</td>\n",
       "      <td>4782.04500</td>\n",
       "    </tr>\n",
       "    <tr>\n",
       "      <th>...</th>\n",
       "      <td>...</td>\n",
       "      <td>...</td>\n",
       "    </tr>\n",
       "    <tr>\n",
       "      <th>1753</th>\n",
       "      <td>4326.67200</td>\n",
       "      <td>4326.67200</td>\n",
       "    </tr>\n",
       "    <tr>\n",
       "      <th>1754</th>\n",
       "      <td>2207.88600</td>\n",
       "      <td>2207.88600</td>\n",
       "    </tr>\n",
       "    <tr>\n",
       "      <th>1755</th>\n",
       "      <td>90.34100</td>\n",
       "      <td>90.34100</td>\n",
       "    </tr>\n",
       "    <tr>\n",
       "      <th>1756</th>\n",
       "      <td>19.87500</td>\n",
       "      <td>19.87500</td>\n",
       "    </tr>\n",
       "    <tr>\n",
       "      <th>1757</th>\n",
       "      <td>5678.03225</td>\n",
       "      <td>5678.03225</td>\n",
       "    </tr>\n",
       "  </tbody>\n",
       "</table>\n",
       "<p>1758 rows × 2 columns</p>\n",
       "</div>"
      ],
      "text/plain": [
       "       predicted    original\n",
       "0      138.94100   138.94100\n",
       "1     5293.63600  5293.63600\n",
       "2       19.89750    19.89750\n",
       "3     6132.65000  6132.65000\n",
       "4     4782.04500  4782.04500\n",
       "...          ...         ...\n",
       "1753  4326.67200  4326.67200\n",
       "1754  2207.88600  2207.88600\n",
       "1755    90.34100    90.34100\n",
       "1756    19.87500    19.87500\n",
       "1757  5678.03225  5678.03225\n",
       "\n",
       "[1758 rows x 2 columns]"
      ]
     },
     "execution_count": 121,
     "metadata": {},
     "output_type": "execute_result"
    }
   ],
   "source": [
    "conclusion.transpose()"
   ]
  },
  {
   "cell_type": "code",
   "execution_count": null,
   "id": "f469b3f1",
   "metadata": {},
   "outputs": [],
   "source": []
  }
 ],
 "metadata": {
  "kernelspec": {
   "display_name": "Python 3 (ipykernel)",
   "language": "python",
   "name": "python3"
  },
  "language_info": {
   "codemirror_mode": {
    "name": "ipython",
    "version": 3
   },
   "file_extension": ".py",
   "mimetype": "text/x-python",
   "name": "python",
   "nbconvert_exporter": "python",
   "pygments_lexer": "ipython3",
   "version": "3.9.7"
  }
 },
 "nbformat": 4,
 "nbformat_minor": 5
}
