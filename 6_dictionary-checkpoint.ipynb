{
 "cells": [
  {
   "cell_type": "markdown",
   "id": "04b24865",
   "metadata": {},
   "source": [
    "# dictionary (hold keys and value)"
   ]
  },
  {
   "cell_type": "code",
   "execution_count": 1,
   "id": "67f5c2c1",
   "metadata": {},
   "outputs": [],
   "source": [
    "dict1={'id':101,'name':\"raganee\",'age':30}"
   ]
  },
  {
   "cell_type": "code",
   "execution_count": 2,
   "id": "c6f55be7",
   "metadata": {},
   "outputs": [
    {
     "data": {
      "text/plain": [
       "{'id': 101, 'name': 'raganee', 'age': 30}"
      ]
     },
     "execution_count": 2,
     "metadata": {},
     "output_type": "execute_result"
    }
   ],
   "source": [
    "dict1"
   ]
  },
  {
   "cell_type": "code",
   "execution_count": 3,
   "id": "98afdc78",
   "metadata": {},
   "outputs": [
    {
     "data": {
      "text/plain": [
       "101"
      ]
     },
     "execution_count": 3,
     "metadata": {},
     "output_type": "execute_result"
    }
   ],
   "source": [
    "dict1['id']"
   ]
  },
  {
   "cell_type": "code",
   "execution_count": 4,
   "id": "2a0083b2",
   "metadata": {},
   "outputs": [
    {
     "data": {
      "text/plain": [
       "'raganee'"
      ]
     },
     "execution_count": 4,
     "metadata": {},
     "output_type": "execute_result"
    }
   ],
   "source": [
    "dict1['name']"
   ]
  },
  {
   "cell_type": "code",
   "execution_count": 5,
   "id": "59a4059f",
   "metadata": {},
   "outputs": [
    {
     "data": {
      "text/plain": [
       "dict_keys(['id', 'name', 'age'])"
      ]
     },
     "execution_count": 5,
     "metadata": {},
     "output_type": "execute_result"
    }
   ],
   "source": [
    "dict1.keys()"
   ]
  },
  {
   "cell_type": "code",
   "execution_count": 6,
   "id": "e2cb1a5e",
   "metadata": {},
   "outputs": [
    {
     "data": {
      "text/plain": [
       "dict_values([101, 'raganee', 30])"
      ]
     },
     "execution_count": 6,
     "metadata": {},
     "output_type": "execute_result"
    }
   ],
   "source": [
    "dict1.values()"
   ]
  },
  {
   "cell_type": "code",
   "execution_count": 7,
   "id": "6ff4ade5",
   "metadata": {},
   "outputs": [
    {
     "data": {
      "text/plain": [
       "dict_items([('id', 101), ('name', 'raganee'), ('age', 30)])"
      ]
     },
     "execution_count": 7,
     "metadata": {},
     "output_type": "execute_result"
    }
   ],
   "source": [
    "dict1.items()"
   ]
  },
  {
   "cell_type": "code",
   "execution_count": 8,
   "id": "8bce4440",
   "metadata": {},
   "outputs": [],
   "source": [
    "mobileitems={'mobilid':1,'mobilebrand':\"samsung\",'mobileprice':300000}"
   ]
  },
  {
   "cell_type": "code",
   "execution_count": 9,
   "id": "8e3c021e",
   "metadata": {},
   "outputs": [
    {
     "data": {
      "text/plain": [
       "1"
      ]
     },
     "execution_count": 9,
     "metadata": {},
     "output_type": "execute_result"
    }
   ],
   "source": [
    "mobileitems['mobilid']"
   ]
  },
  {
   "cell_type": "code",
   "execution_count": 10,
   "id": "b0e43411",
   "metadata": {},
   "outputs": [
    {
     "data": {
      "text/plain": [
       "'samsung'"
      ]
     },
     "execution_count": 10,
     "metadata": {},
     "output_type": "execute_result"
    }
   ],
   "source": [
    "mobileitems['mobilebrand']"
   ]
  },
  {
   "cell_type": "code",
   "execution_count": 11,
   "id": "ccd8a3c4",
   "metadata": {},
   "outputs": [
    {
     "data": {
      "text/plain": [
       "300000"
      ]
     },
     "execution_count": 11,
     "metadata": {},
     "output_type": "execute_result"
    }
   ],
   "source": [
    "mobileitems['mobileprice']"
   ]
  },
  {
   "cell_type": "code",
   "execution_count": 12,
   "id": "94720eae",
   "metadata": {},
   "outputs": [],
   "source": [
    "mobileitems['mobileprice']=500000"
   ]
  },
  {
   "cell_type": "code",
   "execution_count": 13,
   "id": "772d578b",
   "metadata": {},
   "outputs": [
    {
     "data": {
      "text/plain": [
       "500000"
      ]
     },
     "execution_count": 13,
     "metadata": {},
     "output_type": "execute_result"
    }
   ],
   "source": [
    "mobileitems['mobileprice']"
   ]
  },
  {
   "cell_type": "code",
   "execution_count": 14,
   "id": "92e5aad4",
   "metadata": {},
   "outputs": [
    {
     "data": {
      "text/plain": [
       "dict_keys(['mobilid', 'mobilebrand', 'mobileprice'])"
      ]
     },
     "execution_count": 14,
     "metadata": {},
     "output_type": "execute_result"
    }
   ],
   "source": [
    "mobileitems.keys()"
   ]
  },
  {
   "cell_type": "code",
   "execution_count": 15,
   "id": "33e79af3",
   "metadata": {},
   "outputs": [
    {
     "data": {
      "text/plain": [
       "dict_values([1, 'samsung', 500000])"
      ]
     },
     "execution_count": 15,
     "metadata": {},
     "output_type": "execute_result"
    }
   ],
   "source": [
    "mobileitems.values()"
   ]
  },
  {
   "cell_type": "code",
   "execution_count": 16,
   "id": "d92d8138",
   "metadata": {},
   "outputs": [
    {
     "data": {
      "text/plain": [
       "dict_items([('mobilid', 1), ('mobilebrand', 'samsung'), ('mobileprice', 500000)])"
      ]
     },
     "execution_count": 16,
     "metadata": {},
     "output_type": "execute_result"
    }
   ],
   "source": [
    "mobileitems.items()"
   ]
  },
  {
   "cell_type": "code",
   "execution_count": 59,
   "id": "28299bf0",
   "metadata": {},
   "outputs": [],
   "source": [
    "empdict={'empid':11,'empname':\"jone\",'empposition':'manager'}"
   ]
  },
  {
   "cell_type": "code",
   "execution_count": 60,
   "id": "9489bd62",
   "metadata": {},
   "outputs": [
    {
     "data": {
      "text/plain": [
       "{'empid': 11, 'empname': 'jone', 'empposition': 'manager'}"
      ]
     },
     "execution_count": 60,
     "metadata": {},
     "output_type": "execute_result"
    }
   ],
   "source": [
    "empdict"
   ]
  },
  {
   "cell_type": "code",
   "execution_count": 61,
   "id": "3fe5f4ed",
   "metadata": {},
   "outputs": [
    {
     "data": {
      "text/plain": [
       "11"
      ]
     },
     "execution_count": 61,
     "metadata": {},
     "output_type": "execute_result"
    }
   ],
   "source": [
    "empdict['empid']"
   ]
  },
  {
   "cell_type": "code",
   "execution_count": 62,
   "id": "69770475",
   "metadata": {},
   "outputs": [
    {
     "data": {
      "text/plain": [
       "'jone'"
      ]
     },
     "execution_count": 62,
     "metadata": {},
     "output_type": "execute_result"
    }
   ],
   "source": [
    "empdict['empname']"
   ]
  },
  {
   "cell_type": "code",
   "execution_count": 63,
   "id": "142fcabf",
   "metadata": {},
   "outputs": [
    {
     "data": {
      "text/plain": [
       "'manager'"
      ]
     },
     "execution_count": 63,
     "metadata": {},
     "output_type": "execute_result"
    }
   ],
   "source": [
    "empdict['empposition']"
   ]
  },
  {
   "cell_type": "code",
   "execution_count": 64,
   "id": "c466449e",
   "metadata": {},
   "outputs": [],
   "source": [
    "empdict.update({'salary':30000})  #update dictionary with  new  keys and values"
   ]
  },
  {
   "cell_type": "code",
   "execution_count": 65,
   "id": "678fec67",
   "metadata": {},
   "outputs": [
    {
     "data": {
      "text/plain": [
       "{'empid': 11, 'empname': 'jone', 'empposition': 'manager', 'salary': 30000}"
      ]
     },
     "execution_count": 65,
     "metadata": {},
     "output_type": "execute_result"
    }
   ],
   "source": [
    "empdict"
   ]
  },
  {
   "cell_type": "code",
   "execution_count": 66,
   "id": "8ab15b5a",
   "metadata": {},
   "outputs": [
    {
     "data": {
      "text/plain": [
       "30000"
      ]
     },
     "execution_count": 66,
     "metadata": {},
     "output_type": "execute_result"
    }
   ],
   "source": [
    "empdict['salary']"
   ]
  },
  {
   "cell_type": "code",
   "execution_count": 67,
   "id": "6839be5d",
   "metadata": {},
   "outputs": [
    {
     "data": {
      "text/plain": [
       "dict_keys(['empid', 'empname', 'empposition', 'salary'])"
      ]
     },
     "execution_count": 67,
     "metadata": {},
     "output_type": "execute_result"
    }
   ],
   "source": [
    "empdict.keys()"
   ]
  },
  {
   "cell_type": "code",
   "execution_count": 68,
   "id": "121476fb",
   "metadata": {},
   "outputs": [
    {
     "data": {
      "text/plain": [
       "dict_values([11, 'jone', 'manager', 30000])"
      ]
     },
     "execution_count": 68,
     "metadata": {},
     "output_type": "execute_result"
    }
   ],
   "source": [
    "empdict.values()"
   ]
  },
  {
   "cell_type": "code",
   "execution_count": 69,
   "id": "49e4fcba",
   "metadata": {},
   "outputs": [
    {
     "data": {
      "text/plain": [
       "dict_items([('empid', 11), ('empname', 'jone'), ('empposition', 'manager'), ('salary', 30000)])"
      ]
     },
     "execution_count": 69,
     "metadata": {},
     "output_type": "execute_result"
    }
   ],
   "source": [
    "empdict.items()"
   ]
  },
  {
   "cell_type": "code",
   "execution_count": 70,
   "id": "5d0c6017",
   "metadata": {},
   "outputs": [],
   "source": [
    "empdict['salary']=95000  #dictionary is mutable"
   ]
  },
  {
   "cell_type": "code",
   "execution_count": 71,
   "id": "e8ec5dbc",
   "metadata": {},
   "outputs": [
    {
     "data": {
      "text/plain": [
       "{'empid': 11, 'empname': 'jone', 'empposition': 'manager', 'salary': 95000}"
      ]
     },
     "execution_count": 71,
     "metadata": {},
     "output_type": "execute_result"
    }
   ],
   "source": [
    "empdict"
   ]
  },
  {
   "cell_type": "code",
   "execution_count": 72,
   "id": "2be5ae18",
   "metadata": {},
   "outputs": [],
   "source": [
    "empdict['position']='director'"
   ]
  },
  {
   "cell_type": "code",
   "execution_count": 73,
   "id": "5d51ec64",
   "metadata": {},
   "outputs": [
    {
     "data": {
      "text/plain": [
       "{'empid': 11,\n",
       " 'empname': 'jone',\n",
       " 'empposition': 'manager',\n",
       " 'salary': 95000,\n",
       " 'position': 'director'}"
      ]
     },
     "execution_count": 73,
     "metadata": {},
     "output_type": "execute_result"
    }
   ],
   "source": [
    "empdict"
   ]
  },
  {
   "cell_type": "code",
   "execution_count": 74,
   "id": "211a04df",
   "metadata": {},
   "outputs": [
    {
     "data": {
      "text/plain": [
       "5"
      ]
     },
     "execution_count": 74,
     "metadata": {},
     "output_type": "execute_result"
    }
   ],
   "source": [
    "len(empdict)"
   ]
  },
  {
   "cell_type": "code",
   "execution_count": 75,
   "id": "72a83bf4",
   "metadata": {},
   "outputs": [],
   "source": [
    "del empdict['empid'] #del used to delete the perticuler key"
   ]
  },
  {
   "cell_type": "code",
   "execution_count": 76,
   "id": "b0d0e7ea",
   "metadata": {},
   "outputs": [
    {
     "data": {
      "text/plain": [
       "{'empname': 'jone',\n",
       " 'empposition': 'manager',\n",
       " 'salary': 95000,\n",
       " 'position': 'director'}"
      ]
     },
     "execution_count": 76,
     "metadata": {},
     "output_type": "execute_result"
    }
   ],
   "source": [
    "empdict"
   ]
  },
  {
   "cell_type": "code",
   "execution_count": 77,
   "id": "9af911cc",
   "metadata": {},
   "outputs": [
    {
     "data": {
      "text/plain": [
       "'jone'"
      ]
     },
     "execution_count": 77,
     "metadata": {},
     "output_type": "execute_result"
    }
   ],
   "source": [
    "empdict.pop('empname')#pop is also used to delete the perticuler key"
   ]
  },
  {
   "cell_type": "code",
   "execution_count": 78,
   "id": "5b55d58d",
   "metadata": {},
   "outputs": [
    {
     "data": {
      "text/plain": [
       "{'empposition': 'manager', 'salary': 95000, 'position': 'director'}"
      ]
     },
     "execution_count": 78,
     "metadata": {},
     "output_type": "execute_result"
    }
   ],
   "source": [
    "empdict"
   ]
  },
  {
   "cell_type": "code",
   "execution_count": 81,
   "id": "927ee45d",
   "metadata": {},
   "outputs": [],
   "source": [
    "intdict={10:'c++',20:'c',30:'java',40:'python'}"
   ]
  },
  {
   "cell_type": "code",
   "execution_count": 82,
   "id": "0315f19c",
   "metadata": {},
   "outputs": [
    {
     "data": {
      "text/plain": [
       "dict_values(['c++', 'c', 'java', 'python'])"
      ]
     },
     "execution_count": 82,
     "metadata": {},
     "output_type": "execute_result"
    }
   ],
   "source": [
    "intdict.values()"
   ]
  },
  {
   "cell_type": "code",
   "execution_count": 83,
   "id": "44f72458",
   "metadata": {},
   "outputs": [
    {
     "data": {
      "text/plain": [
       "dict_keys([10, 20, 30, 40])"
      ]
     },
     "execution_count": 83,
     "metadata": {},
     "output_type": "execute_result"
    }
   ],
   "source": [
    "intdict.keys()"
   ]
  },
  {
   "cell_type": "code",
   "execution_count": 85,
   "id": "bd93a95e",
   "metadata": {},
   "outputs": [
    {
     "data": {
      "text/plain": [
       "dict_items([(10, 'c++'), (20, 'c'), (30, 'java'), (40, 'python')])"
      ]
     },
     "execution_count": 85,
     "metadata": {},
     "output_type": "execute_result"
    }
   ],
   "source": [
    "intdict.items()"
   ]
  },
  {
   "cell_type": "code",
   "execution_count": 88,
   "id": "bf56bc25",
   "metadata": {},
   "outputs": [],
   "source": [
    "intdict.update({50:'ruby'})"
   ]
  },
  {
   "cell_type": "code",
   "execution_count": 89,
   "id": "ae9f398a",
   "metadata": {},
   "outputs": [
    {
     "data": {
      "text/plain": [
       "{10: 'c++', 20: 'c', 30: 'java', 40: 'python', 50: 'ruby'}"
      ]
     },
     "execution_count": 89,
     "metadata": {},
     "output_type": "execute_result"
    }
   ],
   "source": [
    "intdict"
   ]
  },
  {
   "cell_type": "markdown",
   "id": "5e55a253",
   "metadata": {},
   "source": [
    "dictionary using more then one value"
   ]
  },
  {
   "cell_type": "code",
   "execution_count": 59,
   "id": "53355731",
   "metadata": {},
   "outputs": [],
   "source": [
    "stddict={'id':[1,2,3],'name':['jone','rina','mohan'],'grade':[11,22,33]}"
   ]
  },
  {
   "cell_type": "code",
   "execution_count": 60,
   "id": "4354738c",
   "metadata": {},
   "outputs": [
    {
     "data": {
      "text/plain": [
       "{'id': [1, 2, 3], 'name': ['jone', 'rina', 'mohan'], 'grade': [11, 22, 33]}"
      ]
     },
     "execution_count": 60,
     "metadata": {},
     "output_type": "execute_result"
    }
   ],
   "source": [
    "stddict"
   ]
  },
  {
   "cell_type": "code",
   "execution_count": 61,
   "id": "c420767b",
   "metadata": {},
   "outputs": [
    {
     "data": {
      "text/plain": [
       "dict_keys(['id', 'name', 'grade'])"
      ]
     },
     "execution_count": 61,
     "metadata": {},
     "output_type": "execute_result"
    }
   ],
   "source": [
    "stddict.keys()"
   ]
  },
  {
   "cell_type": "code",
   "execution_count": 62,
   "id": "6b7e527c",
   "metadata": {},
   "outputs": [
    {
     "data": {
      "text/plain": [
       "dict_values([[1, 2, 3], ['jone', 'rina', 'mohan'], [11, 22, 33]])"
      ]
     },
     "execution_count": 62,
     "metadata": {},
     "output_type": "execute_result"
    }
   ],
   "source": [
    "stddict.values()"
   ]
  },
  {
   "cell_type": "code",
   "execution_count": 63,
   "id": "584ebf98",
   "metadata": {},
   "outputs": [
    {
     "data": {
      "text/plain": [
       "dict_items([('id', [1, 2, 3]), ('name', ['jone', 'rina', 'mohan']), ('grade', [11, 22, 33])])"
      ]
     },
     "execution_count": 63,
     "metadata": {},
     "output_type": "execute_result"
    }
   ],
   "source": [
    "stddict.items()"
   ]
  },
  {
   "cell_type": "code",
   "execution_count": 64,
   "id": "0f5aff42",
   "metadata": {},
   "outputs": [
    {
     "data": {
      "text/plain": [
       "[1, 2, 3]"
      ]
     },
     "execution_count": 64,
     "metadata": {},
     "output_type": "execute_result"
    }
   ],
   "source": [
    "stddict['id']"
   ]
  },
  {
   "cell_type": "code",
   "execution_count": 65,
   "id": "28771d8f",
   "metadata": {},
   "outputs": [
    {
     "data": {
      "text/plain": [
       "['jone', 'rina', 'mohan']"
      ]
     },
     "execution_count": 65,
     "metadata": {},
     "output_type": "execute_result"
    }
   ],
   "source": [
    "stddict['name']"
   ]
  },
  {
   "cell_type": "code",
   "execution_count": 66,
   "id": "21d0f8a3",
   "metadata": {},
   "outputs": [
    {
     "data": {
      "text/plain": [
       "[11, 22, 33]"
      ]
     },
     "execution_count": 66,
     "metadata": {},
     "output_type": "execute_result"
    }
   ],
   "source": [
    "stddict['grade']"
   ]
  },
  {
   "cell_type": "code",
   "execution_count": 67,
   "id": "549d7f3c",
   "metadata": {},
   "outputs": [
    {
     "data": {
      "text/plain": [
       "3"
      ]
     },
     "execution_count": 67,
     "metadata": {},
     "output_type": "execute_result"
    }
   ],
   "source": [
    "stddict['id'][2]"
   ]
  },
  {
   "cell_type": "code",
   "execution_count": 68,
   "id": "7cb90cf9",
   "metadata": {},
   "outputs": [
    {
     "data": {
      "text/plain": [
       "'mohan'"
      ]
     },
     "execution_count": 68,
     "metadata": {},
     "output_type": "execute_result"
    }
   ],
   "source": [
    "stddict['name'][-1]"
   ]
  },
  {
   "cell_type": "code",
   "execution_count": 69,
   "id": "635dfa42",
   "metadata": {},
   "outputs": [
    {
     "data": {
      "text/plain": [
       "22"
      ]
     },
     "execution_count": 69,
     "metadata": {},
     "output_type": "execute_result"
    }
   ],
   "source": [
    "stddict['grade'][1]"
   ]
  },
  {
   "cell_type": "code",
   "execution_count": 70,
   "id": "b70dd0d6",
   "metadata": {},
   "outputs": [
    {
     "data": {
      "text/plain": [
       "'RINA'"
      ]
     },
     "execution_count": 70,
     "metadata": {},
     "output_type": "execute_result"
    }
   ],
   "source": [
    "stddict['name'][1].upper()#convert data into upper caseb"
   ]
  },
  {
   "cell_type": "code",
   "execution_count": 71,
   "id": "fb8d6049",
   "metadata": {},
   "outputs": [
    {
     "data": {
      "text/plain": [
       "dict_items([('id', [1, 2, 3]), ('name', ['jone', 'rina', 'mohan']), ('grade', [11, 22, 33])])"
      ]
     },
     "execution_count": 71,
     "metadata": {},
     "output_type": "execute_result"
    }
   ],
   "source": [
    "stddict.items()"
   ]
  },
  {
   "cell_type": "code",
   "execution_count": null,
   "id": "e54a2b73",
   "metadata": {},
   "outputs": [],
   "source": []
  }
 ],
 "metadata": {
  "kernelspec": {
   "display_name": "Python 3 (ipykernel)",
   "language": "python",
   "name": "python3"
  },
  "language_info": {
   "codemirror_mode": {
    "name": "ipython",
    "version": 3
   },
   "file_extension": ".py",
   "mimetype": "text/x-python",
   "name": "python",
   "nbconvert_exporter": "python",
   "pygments_lexer": "ipython3",
   "version": "3.9.7"
  }
 },
 "nbformat": 4,
 "nbformat_minor": 5
}
