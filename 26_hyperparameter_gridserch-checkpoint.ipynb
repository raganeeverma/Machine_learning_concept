{
 "cells": [
  {
   "cell_type": "markdown",
   "id": "842fd547",
   "metadata": {},
   "source": [
    "# Hyperparameter tuning for machine learning models."
   ]
  },
  {
   "cell_type": "markdown",
   "id": "e52dfcea",
   "metadata": {},
   "source": [
    "Hyperparameter tuning consists of finding a set of optimal hyperparameter values for a learning algorithm while applying this optimized algorithm to any data set. That combination of hyperparameters maximizes the model's performance, minimizing a predefined loss function to produce better results with fewer errors"
   ]
  },
  {
   "cell_type": "markdown",
   "id": "f4a1d51b",
   "metadata": {},
   "source": [
    "Hyperparameter tuning takes advantage of the processing infrastructure of Google Cloud to test different hyperparameter configurations when training your model. It can give you optimized values for hyperparameters, which maximizes your model's predictive accuracy."
   ]
  },
  {
   "cell_type": "markdown",
   "id": "0ca669c2",
   "metadata": {},
   "source": [
    "he tuning of optimal hyperparameters can be done in a number of ways.\n",
    "\n",
    "1 Grid search. The grid search is an exhaustive search through a set of manually specified set of values of hyperparameters\n",
    "\n",
    "2 Random search. ...\n",
    "\n",
    "3 Bayesian optimization. ...\n",
    "\n",
    "4 Gradient-based optimization. ...\n",
    "\n",
    "5 Evolutionary optimization."
   ]
  },
  {
   "cell_type": "markdown",
   "id": "554e3d5f",
   "metadata": {},
   "source": [
    "# Grid search\n",
    "\n",
    "\n",
    "The grid search is an exhaustive search through a set of manually specified set of values of hyperparameters. It means you have a set of models (which differ from each other in their parameter values, which lie on a grid). What you do is you then train each of the models and evaluate it using cross-validation. You then select the one that performed best."
   ]
  },
  {
   "cell_type": "markdown",
   "id": "876a055e",
   "metadata": {},
   "source": [
    "gd=gridsearch(model,parameter,cross validation)"
   ]
  },
  {
   "cell_type": "code",
   "execution_count": 26,
   "id": "f122c640",
   "metadata": {},
   "outputs": [],
   "source": [
    "import numpy as np\n",
    "import pandas as pd\n",
    "from sklearn import datasets\n",
    "from sklearn.linear_model import Ridge\n",
    "from sklearn.model_selection import GridSearchCV\n",
    "import warnings\n",
    "warnings.filterwarnings(\"ignore\")\n"
   ]
  },
  {
   "cell_type": "code",
   "execution_count": 3,
   "id": "fd57da31",
   "metadata": {},
   "outputs": [],
   "source": [
    "dataset=datasets.load_diabetes()"
   ]
  },
  {
   "cell_type": "code",
   "execution_count": 6,
   "id": "1afef02a",
   "metadata": {},
   "outputs": [
    {
     "name": "stdout",
     "output_type": "stream",
     "text": [
      "GridSearchCV(estimator=Ridge(),\n",
      "             param_grid={'alpha': [1, 0.1, 0.001, 0.0001, 0]})\n",
      "0.4823214545225419\n",
      "0.0001\n",
      "{'alpha': 0.0001}\n"
     ]
    }
   ],
   "source": [
    "# prepaired alpha value to test\n",
    "\n",
    "alphavalue={\"alpha\":[1,0.1,0.001,0.0001,0]} # dictionary parameter\n",
    "\n",
    "#create and fit a ridge regression model ,test each alpha\n",
    "\n",
    "model=Ridge()\n",
    "\n",
    "grid =GridSearchCV(estimator=model, param_grid=alphavalue)\n",
    "\n",
    "grid.fit(dataset.data,dataset.target)\n",
    "\n",
    "print(grid)\n",
    "\n",
    "#summerized the result of grid serch\n",
    "\n",
    "print(grid.best_score_)\n",
    "print(grid.best_estimator_.alpha)\n",
    "print(grid.best_params_)"
   ]
  },
  {
   "cell_type": "code",
   "execution_count": 7,
   "id": "7a578f60",
   "metadata": {},
   "outputs": [],
   "source": [
    "# so we can use directy thr alpha value .0001\n",
    "import numpy as np\n",
    "import pandas as pd\n",
    "from sklearn import datasets\n",
    "from sklearn.linear_model import LinearRegression,Lasso,Ridge\n",
    "from sklearn.model_selection import GridSearchCV\n",
    "ds=datasets.load_diabetes()"
   ]
  },
  {
   "cell_type": "code",
   "execution_count": 8,
   "id": "3ca01186",
   "metadata": {},
   "outputs": [
    {
     "name": "stdout",
     "output_type": "stream",
     "text": [
      "score :  0.5177484222203499\n",
      "[  -9.9599668  -239.73847277  519.90790158  324.3246984  -783.36095429\n",
      "  469.74463276   97.14958563  176.00307904  747.93105798   67.67944396]\n",
      "score :  0.5177479163759708\n"
     ]
    }
   ],
   "source": [
    "x=ds.data\n",
    "y=ds.target\n",
    "\n",
    "lr=LinearRegression()\n",
    "lr.fit(x,y)\n",
    "print(\"score : \" ,lr.score(x,y))\n",
    "\n",
    "rd=Ridge(alpha=.0001)\n",
    "rd.fit(x,y)\n",
    "print(rd.coef_)\n",
    "print(\"score : \" ,rd.score(x,y))"
   ]
  },
  {
   "cell_type": "code",
   "execution_count": 18,
   "id": "e48b2a71",
   "metadata": {},
   "outputs": [
    {
     "name": "stdout",
     "output_type": "stream",
     "text": [
      "0.9800000000000001\n",
      "linear\n",
      "{'C': 1, 'kernel': 'linear'}\n"
     ]
    }
   ],
   "source": [
    "from sklearn.datasets import load_iris\n",
    "\n",
    "from sklearn.svm import SVC\n",
    "from sklearn.model_selection import GridSearchCV\n",
    "iris = load_iris()\n",
    "svc = SVC()\n",
    "# grid search on kernel and C hyperparameters\n",
    "\n",
    "parameters = {'kernel':('linear', 'rbf'), 'C':[1, 10]}\n",
    "\n",
    "#GridSearchCV(estimator=SVC(), param_grid={'C': [1, 10], 'kernel': ('linear', 'rbf')})\n",
    "\n",
    "clf = GridSearchCV(svc,parameters)\n",
    "clf.fit(iris.data, iris.target)\n",
    "\n",
    "print(clf.best_score_)\n",
    "print(clf.best_estimator_.kernel)\n",
    "print(clf.best_params_)"
   ]
  },
  {
   "cell_type": "code",
   "execution_count": 20,
   "id": "e93618e2",
   "metadata": {},
   "outputs": [
    {
     "name": "stdout",
     "output_type": "stream",
     "text": [
      "0.99\n"
     ]
    }
   ],
   "source": [
    "sv= svm.SVC(kernel=\"linear\",C=1)\n",
    "sv.fit(iris.data, iris.target)\n",
    "t=sv.score(iris.data, iris.target)\n",
    "print(round(t,2))"
   ]
  },
  {
   "cell_type": "code",
   "execution_count": 24,
   "id": "eeb220dd",
   "metadata": {},
   "outputs": [
    {
     "name": "stdout",
     "output_type": "stream",
     "text": [
      "0.9666666666666668\n",
      "gini\n",
      "{'criterion': 'gini'}\n"
     ]
    }
   ],
   "source": [
    "from sklearn import datasets\n",
    "from sklearn.model_selection import GridSearchCV\n",
    "from sklearn.tree import DecisionTreeClassifier\n",
    "\n",
    "iris=datasets.load_iris()\n",
    "dtc=DecisionTreeClassifier()\n",
    "\n",
    "parameter={\"criterion\":[\"gini\",\"entropy\"]}\n",
    "\n",
    "gd = GridSearchCV(dtc,parameter)\n",
    "gd.fit(iris.data, iris.target)\n",
    "\n",
    "print(gd.best_score_)\n",
    "print(gd.best_estimator_.criterion)\n",
    "print(gd.best_params_)"
   ]
  },
  {
   "cell_type": "code",
   "execution_count": 25,
   "id": "73126c60",
   "metadata": {},
   "outputs": [
    {
     "name": "stdout",
     "output_type": "stream",
     "text": [
      "1.0\n"
     ]
    }
   ],
   "source": [
    "dtc= DecisionTreeClassifier(criterion=\"gini\")\n",
    "dtc.fit(iris.data, iris.target)\n",
    "t=dtc.score(iris.data, iris.target)\n",
    "print(round(t,2))"
   ]
  },
  {
   "cell_type": "markdown",
   "id": "05980f31",
   "metadata": {},
   "source": [
    "# Random search"
   ]
  },
  {
   "cell_type": "markdown",
   "id": "43927913",
   "metadata": {},
   "source": [
    "only defference is that grid search is sequencial and randem serch is random"
   ]
  },
  {
   "cell_type": "code",
   "execution_count": 30,
   "id": "46856922",
   "metadata": {},
   "outputs": [
    {
     "name": "stdout",
     "output_type": "stream",
     "text": [
      "RandomizedSearchCV(estimator=Ridge(),\n",
      "                   param_distributions={'alpha': [1, 0.1, 0.001, 0.0001, 0]})\n",
      "0.4823214545225419\n",
      "0.0001\n",
      "{'alpha': 0.0001}\n"
     ]
    }
   ],
   "source": [
    "import numpy as np\n",
    "import pandas as pd\n",
    "from sklearn import datasets\n",
    "from sklearn.linear_model import Ridge\n",
    "from sklearn.model_selection import RandomizedSearchCV\n",
    "import warnings\n",
    "warnings.filterwarnings(\"ignore\")\n",
    "dataset=datasets.load_diabetes()\n",
    "# prepaired alpha value to test\n",
    "\n",
    "alphavalue={\"alpha\":[1,0.1,0.001,0.0001,0]} # dictionary parameter\n",
    "\n",
    "#create and fit a ridge regression model ,test each alpha\n",
    "\n",
    "rde=Ridge()\n",
    "\n",
    "rd =RandomizedSearchCV(rde,alphavalue)\n",
    "\n",
    "rd.fit(dataset.data,dataset.target)\n",
    "\n",
    "print(rd)\n",
    "\n",
    "#summerized the result of grid serch\n",
    "\n",
    "print(rd.best_score_)\n",
    "print(rd.best_estimator_.alpha)\n",
    "print(rd.best_params_)\n"
   ]
  },
  {
   "cell_type": "code",
   "execution_count": null,
   "id": "d5227cbc",
   "metadata": {},
   "outputs": [],
   "source": []
  }
 ],
 "metadata": {
  "kernelspec": {
   "display_name": "Python 3 (ipykernel)",
   "language": "python",
   "name": "python3"
  },
  "language_info": {
   "codemirror_mode": {
    "name": "ipython",
    "version": 3
   },
   "file_extension": ".py",
   "mimetype": "text/x-python",
   "name": "python",
   "nbconvert_exporter": "python",
   "pygments_lexer": "ipython3",
   "version": "3.9.7"
  }
 },
 "nbformat": 4,
 "nbformat_minor": 5
}
