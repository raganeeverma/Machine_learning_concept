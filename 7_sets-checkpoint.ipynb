{
 "cells": [
  {
   "cell_type": "markdown",
   "id": "c987665b",
   "metadata": {},
   "source": [
    "# SETS"
   ]
  },
  {
   "cell_type": "markdown",
   "id": "3f94a19e",
   "metadata": {},
   "source": [
    "sets are unorder collection of unique item\n",
    "sets not contain index value\n",
    "does not allow duplicate value\n",
    "sets are immutable means not modify\n",
    "list used[],tuples(),dictionary{}but set used any of ()[]{} "
   ]
  },
  {
   "cell_type": "code",
   "execution_count": 1,
   "id": "e965080a",
   "metadata": {},
   "outputs": [],
   "source": [
    "x={11,22,33,44,5,66,22,11} #no duplicates"
   ]
  },
  {
   "cell_type": "code",
   "execution_count": 2,
   "id": "a98d0d6a",
   "metadata": {},
   "outputs": [
    {
     "data": {
      "text/plain": [
       "{5, 11, 22, 33, 44, 66}"
      ]
     },
     "execution_count": 2,
     "metadata": {},
     "output_type": "execute_result"
    }
   ],
   "source": [
    "x"
   ]
  },
  {
   "cell_type": "code",
   "execution_count": 13,
   "id": "c2c85197",
   "metadata": {},
   "outputs": [],
   "source": [
    "y=(['a','b','c','d','a'])"
   ]
  },
  {
   "cell_type": "code",
   "execution_count": 14,
   "id": "00e1e085",
   "metadata": {},
   "outputs": [
    {
     "data": {
      "text/plain": [
       "['a', 'b', 'c', 'd', 'a']"
      ]
     },
     "execution_count": 14,
     "metadata": {},
     "output_type": "execute_result"
    }
   ],
   "source": [
    "y"
   ]
  },
  {
   "cell_type": "code",
   "execution_count": null,
   "id": "27f0cde8",
   "metadata": {},
   "outputs": [],
   "source": []
  },
  {
   "cell_type": "code",
   "execution_count": 3,
   "id": "ef94e87e",
   "metadata": {},
   "outputs": [],
   "source": [
    "days={'monday','tuesday','wednesday'}"
   ]
  },
  {
   "cell_type": "code",
   "execution_count": 4,
   "id": "7d04da8a",
   "metadata": {},
   "outputs": [
    {
     "data": {
      "text/plain": [
       "set"
      ]
     },
     "execution_count": 4,
     "metadata": {},
     "output_type": "execute_result"
    }
   ],
   "source": [
    "type(days)"
   ]
  },
  {
   "cell_type": "code",
   "execution_count": 5,
   "id": "8ec02074",
   "metadata": {},
   "outputs": [],
   "source": [
    "days.add('sunday')# do not have any index value means sunday add anywere"
   ]
  },
  {
   "cell_type": "code",
   "execution_count": 6,
   "id": "1426d32d",
   "metadata": {},
   "outputs": [
    {
     "data": {
      "text/plain": [
       "{'monday', 'sunday', 'tuesday', 'wednesday'}"
      ]
     },
     "execution_count": 6,
     "metadata": {},
     "output_type": "execute_result"
    }
   ],
   "source": [
    "days"
   ]
  },
  {
   "cell_type": "code",
   "execution_count": 8,
   "id": "04a31401",
   "metadata": {},
   "outputs": [
    {
     "ename": "TypeError",
     "evalue": "'set' object is not subscriptable",
     "output_type": "error",
     "traceback": [
      "\u001b[1;31m---------------------------------------------------------------------------\u001b[0m",
      "\u001b[1;31mTypeError\u001b[0m                                 Traceback (most recent call last)",
      "\u001b[1;32m~\\AppData\\Local\\Temp/ipykernel_1528/393391452.py\u001b[0m in \u001b[0;36m<module>\u001b[1;34m\u001b[0m\n\u001b[1;32m----> 1\u001b[1;33m \u001b[0mprint\u001b[0m\u001b[1;33m(\u001b[0m\u001b[0mdays\u001b[0m\u001b[1;33m[\u001b[0m\u001b[1;36m0\u001b[0m\u001b[1;33m]\u001b[0m\u001b[1;33m)\u001b[0m\u001b[1;33m\u001b[0m\u001b[1;33m\u001b[0m\u001b[0m\n\u001b[0m",
      "\u001b[1;31mTypeError\u001b[0m: 'set' object is not subscriptable"
     ]
    }
   ],
   "source": [
    "print(days[0])"
   ]
  },
  {
   "cell_type": "code",
   "execution_count": 9,
   "id": "d7c346e0",
   "metadata": {},
   "outputs": [
    {
     "ename": "TypeError",
     "evalue": "'set' object does not support item assignment",
     "output_type": "error",
     "traceback": [
      "\u001b[1;31m---------------------------------------------------------------------------\u001b[0m",
      "\u001b[1;31mTypeError\u001b[0m                                 Traceback (most recent call last)",
      "\u001b[1;32m~\\AppData\\Local\\Temp/ipykernel_1528/2307791733.py\u001b[0m in \u001b[0;36m<module>\u001b[1;34m\u001b[0m\n\u001b[1;32m----> 1\u001b[1;33m \u001b[0mdays\u001b[0m\u001b[1;33m[\u001b[0m\u001b[1;36m1\u001b[0m\u001b[1;33m]\u001b[0m\u001b[1;33m=\u001b[0m\u001b[1;34m'friday'\u001b[0m\u001b[1;33m\u001b[0m\u001b[1;33m\u001b[0m\u001b[0m\n\u001b[0m",
      "\u001b[1;31mTypeError\u001b[0m: 'set' object does not support item assignment"
     ]
    }
   ],
   "source": [
    "days[1]='friday'"
   ]
  },
  {
   "cell_type": "code",
   "execution_count": 16,
   "id": "def9d38c",
   "metadata": {},
   "outputs": [],
   "source": [
    "days.remove('monday')"
   ]
  },
  {
   "cell_type": "code",
   "execution_count": 17,
   "id": "793feecc",
   "metadata": {},
   "outputs": [
    {
     "data": {
      "text/plain": [
       "{'sunday', 'tuesday', 'wednesday'}"
      ]
     },
     "execution_count": 17,
     "metadata": {},
     "output_type": "execute_result"
    }
   ],
   "source": [
    "days"
   ]
  },
  {
   "cell_type": "code",
   "execution_count": 18,
   "id": "a4a4c178",
   "metadata": {},
   "outputs": [
    {
     "data": {
      "text/plain": [
       "'sunday'"
      ]
     },
     "execution_count": 18,
     "metadata": {},
     "output_type": "execute_result"
    }
   ],
   "source": [
    "days.pop()#pop any data from anywere"
   ]
  },
  {
   "cell_type": "code",
   "execution_count": 19,
   "id": "12175164",
   "metadata": {},
   "outputs": [
    {
     "data": {
      "text/plain": [
       "{'tuesday', 'wednesday'}"
      ]
     },
     "execution_count": 19,
     "metadata": {},
     "output_type": "execute_result"
    }
   ],
   "source": [
    "days"
   ]
  },
  {
   "cell_type": "code",
   "execution_count": 20,
   "id": "4f15d544",
   "metadata": {},
   "outputs": [
    {
     "ename": "TypeError",
     "evalue": "set.pop() takes no arguments (1 given)",
     "output_type": "error",
     "traceback": [
      "\u001b[1;31m---------------------------------------------------------------------------\u001b[0m",
      "\u001b[1;31mTypeError\u001b[0m                                 Traceback (most recent call last)",
      "\u001b[1;32m~\\AppData\\Local\\Temp/ipykernel_1528/60029230.py\u001b[0m in \u001b[0;36m<module>\u001b[1;34m\u001b[0m\n\u001b[1;32m----> 1\u001b[1;33m \u001b[0mdays\u001b[0m\u001b[1;33m.\u001b[0m\u001b[0mpop\u001b[0m\u001b[1;33m(\u001b[0m\u001b[1;34m'wednesday'\u001b[0m\u001b[1;33m)\u001b[0m\u001b[1;33m\u001b[0m\u001b[1;33m\u001b[0m\u001b[0m\n\u001b[0m",
      "\u001b[1;31mTypeError\u001b[0m: set.pop() takes no arguments (1 given)"
     ]
    }
   ],
   "source": [
    "days.pop('wednesday')# there is no index"
   ]
  },
  {
   "cell_type": "code",
   "execution_count": 21,
   "id": "751d250d",
   "metadata": {},
   "outputs": [],
   "source": [
    "days.clear()"
   ]
  },
  {
   "cell_type": "code",
   "execution_count": 22,
   "id": "8b390851",
   "metadata": {},
   "outputs": [
    {
     "data": {
      "text/plain": [
       "set()"
      ]
     },
     "execution_count": 22,
     "metadata": {},
     "output_type": "execute_result"
    }
   ],
   "source": [
    "days"
   ]
  },
  {
   "cell_type": "code",
   "execution_count": 1,
   "id": "1247d445",
   "metadata": {},
   "outputs": [],
   "source": [
    "list1=[1,2,3,4,5,2,4,7,8]"
   ]
  },
  {
   "cell_type": "code",
   "execution_count": 2,
   "id": "213081d1",
   "metadata": {},
   "outputs": [
    {
     "data": {
      "text/plain": [
       "{1, 2, 3, 4, 5, 7, 8}"
      ]
     },
     "execution_count": 2,
     "metadata": {},
     "output_type": "execute_result"
    }
   ],
   "source": [
    "set(list1)#convert list into function"
   ]
  },
  {
   "cell_type": "code",
   "execution_count": null,
   "id": "325dd56d",
   "metadata": {},
   "outputs": [],
   "source": []
  }
 ],
 "metadata": {
  "kernelspec": {
   "display_name": "Python 3 (ipykernel)",
   "language": "python",
   "name": "python3"
  },
  "language_info": {
   "codemirror_mode": {
    "name": "ipython",
    "version": 3
   },
   "file_extension": ".py",
   "mimetype": "text/x-python",
   "name": "python",
   "nbconvert_exporter": "python",
   "pygments_lexer": "ipython3",
   "version": "3.9.7"
  }
 },
 "nbformat": 4,
 "nbformat_minor": 5
}
