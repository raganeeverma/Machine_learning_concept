{
 "cells": [
  {
   "cell_type": "markdown",
   "id": "6db3ddec",
   "metadata": {},
   "source": [
    "\n",
    "Userdefine function\n",
    "\n",
    " function is a group of related statements that performs a specific task\n",
    " \n",
    " Functions help break our program into smaller and modular chunks. \n",
    "\n",
    "A function is a block of code which only runs when it is called.\n",
    "\n",
    "You can pass data, known as parameters, into a function.\n",
    "\n",
    "A function can return data as a result.\n",
    "\n",
    "In Python a function is defined using the def keyword:\n",
    "\n",
    "To call a function, use the function name followed by parenthesis:"
   ]
  },
  {
   "cell_type": "code",
   "execution_count": 32,
   "id": "bde10fe1",
   "metadata": {},
   "outputs": [],
   "source": [
    "def my_function(): #function defination\n",
    "    print(\"Hello from a function\") "
   ]
  },
  {
   "cell_type": "code",
   "execution_count": 1,
   "id": "32e9d6c6",
   "metadata": {},
   "outputs": [
    {
     "name": "stdout",
     "output_type": "stream",
     "text": [
      "Hello from a function\n"
     ]
    }
   ],
   "source": [
    "def my_function():\n",
    "    print(\"Hello from a function\")\n",
    "\n",
    "my_function()#function calling"
   ]
  },
  {
   "cell_type": "code",
   "execution_count": 5,
   "id": "c2a2ce26",
   "metadata": {},
   "outputs": [],
   "source": [
    "def funlearn():\n",
    "    print('learning function')"
   ]
  },
  {
   "cell_type": "code",
   "execution_count": 6,
   "id": "b1137876",
   "metadata": {},
   "outputs": [
    {
     "name": "stdout",
     "output_type": "stream",
     "text": [
      "learning function\n"
     ]
    }
   ],
   "source": [
    "funlearn()"
   ]
  },
  {
   "cell_type": "code",
   "execution_count": 8,
   "id": "2893c9bc",
   "metadata": {},
   "outputs": [],
   "source": [
    "def addition():\n",
    "    a=34\n",
    "    b=54\n",
    "    c=a+b\n",
    "    print('value of c=' ,c)"
   ]
  },
  {
   "cell_type": "code",
   "execution_count": 9,
   "id": "71d6153c",
   "metadata": {},
   "outputs": [
    {
     "name": "stdout",
     "output_type": "stream",
     "text": [
      "value of c= 88\n"
     ]
    }
   ],
   "source": [
    "addition()"
   ]
  },
  {
   "cell_type": "code",
   "execution_count": 14,
   "id": "a51bef34",
   "metadata": {},
   "outputs": [],
   "source": [
    "def addition1():\n",
    "    x=int(input('enter the value of x'))\n",
    "    y=int(input('enter the value of y'))\n",
    "    z=x+y\n",
    "    print('sum of x and y is =' ,z)"
   ]
  },
  {
   "cell_type": "code",
   "execution_count": 15,
   "id": "13c8ab28",
   "metadata": {},
   "outputs": [
    {
     "name": "stdout",
     "output_type": "stream",
     "text": [
      "enter the value of x12\n",
      "enter the value of y34\n",
      "sum of x and y is = 46\n"
     ]
    }
   ],
   "source": [
    "addition1()"
   ]
  },
  {
   "cell_type": "code",
   "execution_count": 3,
   "id": "21f883bc",
   "metadata": {},
   "outputs": [],
   "source": [
    "def area_circle():\n",
    "    pi=3.14\n",
    "    radious=int(input('enter radious'))\n",
    "    area=pi*(radious**2)\n",
    "    print('area of circle ',area)\n",
    "    print('area of circle ',round(area,2))"
   ]
  },
  {
   "cell_type": "code",
   "execution_count": 6,
   "id": "8aa8c589",
   "metadata": {},
   "outputs": [
    {
     "name": "stdout",
     "output_type": "stream",
     "text": [
      "enter radious67\n",
      "area of circle  14095.460000000001\n",
      "area of circle  14095.46\n"
     ]
    }
   ],
   "source": [
    "area_circle()"
   ]
  },
  {
   "cell_type": "markdown",
   "id": "a0f19299",
   "metadata": {},
   "source": [
    "Arguments\n",
    "Information can be passed into functions as arguments.\n",
    "\n",
    "Arguments are specified after the function name, inside the parentheses. You can add as many arguments as you want, just separate them with a comma.\n",
    "\n",
    "The following example has a function with one argument (fname). When the function is called, we pass along a first name, which is used inside the function to print the full name:"
   ]
  },
  {
   "cell_type": "code",
   "execution_count": 7,
   "id": "223c15c2",
   "metadata": {},
   "outputs": [
    {
     "name": "stdout",
     "output_type": "stream",
     "text": [
      "Emil Refsnes\n",
      "Tobias Refsnes\n",
      "Linus Refsnes\n"
     ]
    }
   ],
   "source": [
    "def my_function(fname):\n",
    "    print(fname + \" Refsnes\")\n",
    "\n",
    "my_function(\"Emil\")\n",
    "my_function(\"Tobias\")\n",
    "my_function(\"Linus\")"
   ]
  },
  {
   "cell_type": "code",
   "execution_count": 12,
   "id": "ddb1d701",
   "metadata": {},
   "outputs": [],
   "source": [
    "def addition2(a,b):\n",
    "    c=a+b\n",
    "    print('the value of c=', c)"
   ]
  },
  {
   "cell_type": "code",
   "execution_count": 13,
   "id": "ba9c3044",
   "metadata": {},
   "outputs": [
    {
     "name": "stdout",
     "output_type": "stream",
     "text": [
      "the value of c= 110\n"
     ]
    }
   ],
   "source": [
    "a=45\n",
    "b=65\n",
    "addition2(a,b)"
   ]
  },
  {
   "cell_type": "code",
   "execution_count": 18,
   "id": "7cbc8253",
   "metadata": {},
   "outputs": [],
   "source": [
    "def area_of_circle(pi,radious):\n",
    "    area=pi*(radious**2)\n",
    "    print('area of circle ',area)\n",
    "    print('area of circle ',round(area,2))\n",
    "    "
   ]
  },
  {
   "cell_type": "code",
   "execution_count": 19,
   "id": "dfe4f7de",
   "metadata": {},
   "outputs": [
    {
     "name": "stdout",
     "output_type": "stream",
     "text": [
      "enter pi value3.14\n",
      "enter radious67\n",
      "area of circle  14095.460000000001\n",
      "area of circle  14095.46\n"
     ]
    }
   ],
   "source": [
    "pi=float(input('enter pi value'))\n",
    "radious=int(input('enter radious'))\n",
    "area_of_circle(pi,radious)"
   ]
  },
  {
   "cell_type": "code",
   "execution_count": 20,
   "id": "40445886",
   "metadata": {},
   "outputs": [],
   "source": [
    "def fun_for():\n",
    "    for i in range(1,11):\n",
    "        print(i)"
   ]
  },
  {
   "cell_type": "code",
   "execution_count": 21,
   "id": "6711c220",
   "metadata": {},
   "outputs": [
    {
     "name": "stdout",
     "output_type": "stream",
     "text": [
      "1\n",
      "2\n",
      "3\n",
      "4\n",
      "5\n",
      "6\n",
      "7\n",
      "8\n",
      "9\n",
      "10\n"
     ]
    }
   ],
   "source": [
    "fun_for()"
   ]
  },
  {
   "cell_type": "code",
   "execution_count": 22,
   "id": "7659f631",
   "metadata": {},
   "outputs": [],
   "source": [
    "def addition3():\n",
    "    a=12\n",
    "    b=23\n",
    "    c=a+b\n",
    "    return c"
   ]
  },
  {
   "cell_type": "code",
   "execution_count": 23,
   "id": "3a91d7d6",
   "metadata": {},
   "outputs": [],
   "source": [
    "sum=addition3()#store the return value into variable"
   ]
  },
  {
   "cell_type": "code",
   "execution_count": 25,
   "id": "a851f16e",
   "metadata": {},
   "outputs": [
    {
     "data": {
      "text/plain": [
       "35"
      ]
     },
     "execution_count": 25,
     "metadata": {},
     "output_type": "execute_result"
    }
   ],
   "source": [
    "sum"
   ]
  },
  {
   "cell_type": "code",
   "execution_count": 26,
   "id": "b7eee1e6",
   "metadata": {},
   "outputs": [],
   "source": [
    "def substract(sum):\n",
    "    g=5\n",
    "    res=sum-5\n",
    "    print(res)"
   ]
  },
  {
   "cell_type": "code",
   "execution_count": 28,
   "id": "cacdd74c",
   "metadata": {},
   "outputs": [
    {
     "name": "stdout",
     "output_type": "stream",
     "text": [
      "30\n"
     ]
    }
   ],
   "source": [
    "substract(sum)"
   ]
  },
  {
   "cell_type": "code",
   "execution_count": 2,
   "id": "650fd90f",
   "metadata": {},
   "outputs": [],
   "source": [
    "def myfun(list1): #function defination\n",
    "    for i in list1:\n",
    "        print(i)"
   ]
  },
  {
   "cell_type": "code",
   "execution_count": 3,
   "id": "4eaf73f7",
   "metadata": {},
   "outputs": [
    {
     "name": "stdout",
     "output_type": "stream",
     "text": [
      "12\n",
      "13\n",
      "14\n",
      "15\n"
     ]
    }
   ],
   "source": [
    "list1=[12,13,14,15] \n",
    "myfun(list1)     #function calling\n"
   ]
  },
  {
   "cell_type": "code",
   "execution_count": 8,
   "id": "76121a9b",
   "metadata": {},
   "outputs": [],
   "source": [
    "def myfun2(fruitlist):\n",
    "    for i in fruitlist:\n",
    "        print(i)"
   ]
  },
  {
   "cell_type": "code",
   "execution_count": 9,
   "id": "b5602e9d",
   "metadata": {},
   "outputs": [
    {
     "name": "stdout",
     "output_type": "stream",
     "text": [
      "apple\n",
      "banana\n",
      "orange\n"
     ]
    }
   ],
   "source": [
    "fruitlist=['apple','banana','orange']\n",
    "myfun2(fruitlist)"
   ]
  },
  {
   "cell_type": "code",
   "execution_count": 10,
   "id": "80c0e059",
   "metadata": {},
   "outputs": [],
   "source": [
    "planet=['mars','jupiter','sun','moon']\n",
    "def myfun3(planet):\n",
    "    for i in planet:\n",
    "        print(i)"
   ]
  },
  {
   "cell_type": "code",
   "execution_count": 11,
   "id": "615dadea",
   "metadata": {},
   "outputs": [
    {
     "name": "stdout",
     "output_type": "stream",
     "text": [
      "mars\n",
      "jupiter\n",
      "sun\n",
      "moon\n"
     ]
    }
   ],
   "source": [
    "myfun3(planet)"
   ]
  },
  {
   "cell_type": "code",
   "execution_count": 12,
   "id": "f34b4b1f",
   "metadata": {},
   "outputs": [],
   "source": [
    "def myfun4():\n",
    "    for i in range(4):\n",
    "        print(i)"
   ]
  },
  {
   "cell_type": "code",
   "execution_count": 13,
   "id": "bdb340c7",
   "metadata": {},
   "outputs": [
    {
     "name": "stdout",
     "output_type": "stream",
     "text": [
      "0\n",
      "1\n",
      "2\n",
      "3\n"
     ]
    }
   ],
   "source": [
    "myfun4()"
   ]
  },
  {
   "cell_type": "code",
   "execution_count": 15,
   "id": "e80910b8",
   "metadata": {},
   "outputs": [],
   "source": [
    "def myfun5():\n",
    "    for i in range(2,20):\n",
    "        print(i, end=\"  \")"
   ]
  },
  {
   "cell_type": "code",
   "execution_count": 16,
   "id": "45ec0403",
   "metadata": {},
   "outputs": [
    {
     "name": "stdout",
     "output_type": "stream",
     "text": [
      "2  3  4  5  6  7  8  9  10  11  12  13  14  15  16  17  18  19  "
     ]
    }
   ],
   "source": [
    "myfun5()"
   ]
  },
  {
   "cell_type": "code",
   "execution_count": 17,
   "id": "b8c24c03",
   "metadata": {},
   "outputs": [],
   "source": [
    "def myfun6():\n",
    "    for i in range(2,20,3):\n",
    "        print(i, end=\"  \")"
   ]
  },
  {
   "cell_type": "code",
   "execution_count": 18,
   "id": "6fc2149e",
   "metadata": {},
   "outputs": [
    {
     "name": "stdout",
     "output_type": "stream",
     "text": [
      "2  5  8  11  14  17  "
     ]
    }
   ],
   "source": [
    "myfun6()"
   ]
  },
  {
   "cell_type": "code",
   "execution_count": 19,
   "id": "8b48e498",
   "metadata": {},
   "outputs": [],
   "source": [
    "def myfun7():\n",
    "    for i in range(10):\n",
    "        if(i==5):\n",
    "            return  #it return nothing means void here break is also doing same thing but return is capacity to return the value\n",
    "        print(i, end=\"  \")"
   ]
  },
  {
   "cell_type": "code",
   "execution_count": 20,
   "id": "477260d5",
   "metadata": {},
   "outputs": [
    {
     "name": "stdout",
     "output_type": "stream",
     "text": [
      "0  1  2  3  4  "
     ]
    }
   ],
   "source": [
    "myfun7()"
   ]
  },
  {
   "cell_type": "code",
   "execution_count": 22,
   "id": "b78004a3",
   "metadata": {},
   "outputs": [],
   "source": [
    "def myadd():\n",
    "    a=12\n",
    "    b=23\n",
    "    c=a+b\n",
    "    return c\n",
    "    \n"
   ]
  },
  {
   "cell_type": "code",
   "execution_count": 23,
   "id": "e952faae",
   "metadata": {},
   "outputs": [
    {
     "data": {
      "text/plain": [
       "35"
      ]
     },
     "execution_count": 23,
     "metadata": {},
     "output_type": "execute_result"
    }
   ],
   "source": [
    "myadd()"
   ]
  },
  {
   "cell_type": "code",
   "execution_count": 24,
   "id": "98e87a9e",
   "metadata": {},
   "outputs": [],
   "source": [
    "retval=myadd()"
   ]
  },
  {
   "cell_type": "code",
   "execution_count": 25,
   "id": "9df23cc3",
   "metadata": {},
   "outputs": [
    {
     "data": {
      "text/plain": [
       "35"
      ]
     },
     "execution_count": 25,
     "metadata": {},
     "output_type": "execute_result"
    }
   ],
   "source": [
    "retval "
   ]
  },
  {
   "cell_type": "code",
   "execution_count": 26,
   "id": "bd1ecdbc",
   "metadata": {},
   "outputs": [],
   "source": [
    "def innerfunction():\n",
    "    print('i am in inner function')"
   ]
  },
  {
   "cell_type": "code",
   "execution_count": 29,
   "id": "989909d1",
   "metadata": {},
   "outputs": [],
   "source": [
    "def outerfunction():\n",
    "    innerfunction()\n",
    "    print('outer function')"
   ]
  },
  {
   "cell_type": "code",
   "execution_count": 30,
   "id": "ff842abe",
   "metadata": {},
   "outputs": [
    {
     "name": "stdout",
     "output_type": "stream",
     "text": [
      "i am in inner function\n",
      "outer function\n"
     ]
    }
   ],
   "source": [
    "outerfunction()#one fun call from another function"
   ]
  },
  {
   "cell_type": "code",
   "execution_count": 33,
   "id": "bc8e9c45",
   "metadata": {},
   "outputs": [],
   "source": [
    "def sqrfun():\n",
    "    s=7*7\n",
    "    print ('value of s =' ,s)"
   ]
  },
  {
   "cell_type": "code",
   "execution_count": 34,
   "id": "f2d8fa22",
   "metadata": {},
   "outputs": [
    {
     "name": "stdout",
     "output_type": "stream",
     "text": [
      "value of s = 49\n"
     ]
    }
   ],
   "source": [
    "sqrfun()"
   ]
  },
  {
   "cell_type": "code",
   "execution_count": 43,
   "id": "e7c81e56",
   "metadata": {},
   "outputs": [],
   "source": [
    "def sqrfun1():\n",
    "    s=7*7\n",
    "    return s\n",
    "    print ('value of s =' ,s)"
   ]
  },
  {
   "cell_type": "code",
   "execution_count": 44,
   "id": "2bf92bf2",
   "metadata": {},
   "outputs": [
    {
     "data": {
      "text/plain": [
       "49"
      ]
     },
     "execution_count": 44,
     "metadata": {},
     "output_type": "execute_result"
    }
   ],
   "source": [
    "sqrfun1() #return the value of s and not going toprint statement"
   ]
  },
  {
   "cell_type": "code",
   "execution_count": 45,
   "id": "fc85c360",
   "metadata": {},
   "outputs": [],
   "source": [
    "def sqrfun2():\n",
    "    s=7*7\n",
    "    return "
   ]
  },
  {
   "cell_type": "code",
   "execution_count": 46,
   "id": "45e9c69e",
   "metadata": {},
   "outputs": [],
   "source": [
    "sqrfun2() #not return any value"
   ]
  },
  {
   "cell_type": "markdown",
   "id": "a7fd9fd4",
   "metadata": {},
   "source": [
    "Global and LocalVariable\n",
    "\n",
    "A variable is only available from inside the region it is created. This is called scope.\n",
    "\n",
    "A variable created inside a function belongs to the local scope of that function, and can only be used inside that function.\n",
    "\n",
    "A variable created in the main body of the Python code is a global variable and belongs to the global scope.\n",
    "Global variables are available from within any scope, global and local."
   ]
  },
  {
   "cell_type": "code",
   "execution_count": 53,
   "id": "183af2d4",
   "metadata": {},
   "outputs": [],
   "source": [
    "p=900 #global variable"
   ]
  },
  {
   "cell_type": "code",
   "execution_count": 48,
   "id": "452ea5e8",
   "metadata": {},
   "outputs": [
    {
     "data": {
      "text/plain": [
       "900"
      ]
     },
     "execution_count": 48,
     "metadata": {},
     "output_type": "execute_result"
    }
   ],
   "source": [
    "p"
   ]
  },
  {
   "cell_type": "code",
   "execution_count": 51,
   "id": "6b8fd81a",
   "metadata": {},
   "outputs": [],
   "source": [
    "def testvar():\n",
    "    global p\n",
    "    print(p)\n",
    "    p=100 #local variable\n",
    "    print(p)"
   ]
  },
  {
   "cell_type": "code",
   "execution_count": 52,
   "id": "4c35c534",
   "metadata": {},
   "outputs": [
    {
     "name": "stdout",
     "output_type": "stream",
     "text": [
      "900\n",
      "100\n"
     ]
    }
   ],
   "source": [
    "testvar()"
   ]
  },
  {
   "cell_type": "code",
   "execution_count": 56,
   "id": "a8c3fb41",
   "metadata": {},
   "outputs": [],
   "source": [
    "def add1(a,b):\n",
    "    result=a+b\n",
    "    print(result)"
   ]
  },
  {
   "cell_type": "code",
   "execution_count": 57,
   "id": "0cfd171d",
   "metadata": {},
   "outputs": [
    {
     "name": "stdout",
     "output_type": "stream",
     "text": [
      "43\n"
     ]
    }
   ],
   "source": [
    "add1(18,25)"
   ]
  },
  {
   "cell_type": "code",
   "execution_count": 72,
   "id": "28de66e3",
   "metadata": {},
   "outputs": [],
   "source": [
    "def add2(a,b,c):\n",
    "    result=a+b+c\n",
    "    print(result)"
   ]
  },
  {
   "cell_type": "code",
   "execution_count": 74,
   "id": "5c288f03",
   "metadata": {},
   "outputs": [
    {
     "name": "stdout",
     "output_type": "stream",
     "text": [
      "12\n"
     ]
    }
   ],
   "source": [
    "add2(2,4,6)"
   ]
  },
  {
   "cell_type": "markdown",
   "id": "62d51e5f",
   "metadata": {},
   "source": [
    "variable no of argument\n",
    "\n",
    "Arbitrary Arguments, *args\n",
    "\n",
    "\n",
    "If you do not know how many arguments that will be passed into your function, add a * before the parameter name in the function definition.\n",
    "\n",
    "This way the function will receive a tuple of arguments, and can access the items accordingly:\n",
    "\n",
    "used when dont know the exact no. of value to be passed as a arguments.\n",
    "\n",
    "pass any no. of arguments is called variable no of argument \n",
    "\n",
    "Use lambda functions when an anonymous function is required for a short period of time.\n",
    "\n",
    "it is predefined function used keyword sum,max,min"
   ]
  },
  {
   "cell_type": "code",
   "execution_count": 61,
   "id": "5df68ada",
   "metadata": {},
   "outputs": [],
   "source": [
    "def plusfunction(*args):\n",
    "     return sum(args)"
   ]
  },
  {
   "cell_type": "code",
   "execution_count": 64,
   "id": "e24dd6a2",
   "metadata": {},
   "outputs": [
    {
     "data": {
      "text/plain": [
       "27"
      ]
     },
     "execution_count": 64,
     "metadata": {},
     "output_type": "execute_result"
    }
   ],
   "source": [
    "plusfunction(2,3,4,5,6,7,13,36)"
   ]
  },
  {
   "cell_type": "code",
   "execution_count": 66,
   "id": "78e3e41b",
   "metadata": {},
   "outputs": [],
   "source": [
    "def maxfunction(*args):\n",
    "     return max(args)"
   ]
  },
  {
   "cell_type": "code",
   "execution_count": 67,
   "id": "98646226",
   "metadata": {},
   "outputs": [
    {
     "data": {
      "text/plain": [
       "36"
      ]
     },
     "execution_count": 67,
     "metadata": {},
     "output_type": "execute_result"
    }
   ],
   "source": [
    "maxfunction(2,3,4,5,6,7,13,36)"
   ]
  },
  {
   "cell_type": "code",
   "execution_count": 68,
   "id": "cec7e019",
   "metadata": {},
   "outputs": [],
   "source": [
    "def minfunction(*args):\n",
    "     return min(args)"
   ]
  },
  {
   "cell_type": "code",
   "execution_count": 69,
   "id": "038d1f9d",
   "metadata": {},
   "outputs": [
    {
     "data": {
      "text/plain": [
       "2"
      ]
     },
     "execution_count": 69,
     "metadata": {},
     "output_type": "execute_result"
    }
   ],
   "source": [
    "minfunction(2,3,4,5,6,7,13,36)"
   ]
  },
  {
   "cell_type": "code",
   "execution_count": 70,
   "id": "3e7ae038",
   "metadata": {},
   "outputs": [],
   "source": [
    "def minfun(*args):\n",
    "     return min(args)"
   ]
  },
  {
   "cell_type": "code",
   "execution_count": 71,
   "id": "092a05e0",
   "metadata": {},
   "outputs": [
    {
     "data": {
      "text/plain": [
       "9"
      ]
     },
     "execution_count": 71,
     "metadata": {},
     "output_type": "execute_result"
    }
   ],
   "source": [
    "minfun(45,89,8909,9)"
   ]
  },
  {
   "cell_type": "code",
   "execution_count": 89,
   "id": "c32d7db6",
   "metadata": {},
   "outputs": [],
   "source": [
    "def sumfun(*num):\n",
    "    s=0\n",
    "    for n in num:\n",
    "        s+=n   #s=s+n\n",
    "    return s"
   ]
  },
  {
   "cell_type": "code",
   "execution_count": 90,
   "id": "c4f4fbc3",
   "metadata": {},
   "outputs": [
    {
     "name": "stdout",
     "output_type": "stream",
     "text": [
      "6\n"
     ]
    }
   ],
   "source": [
    "print(sumfun(1,2,3)) #pass any no. of argument"
   ]
  },
  {
   "cell_type": "code",
   "execution_count": 83,
   "id": "ba2ec68e",
   "metadata": {},
   "outputs": [
    {
     "name": "stdout",
     "output_type": "stream",
     "text": [
      "52\n"
     ]
    }
   ],
   "source": [
    "print(sumfun(1,2,3,18,28))"
   ]
  },
  {
   "cell_type": "code",
   "execution_count": 91,
   "id": "9d924fc5",
   "metadata": {},
   "outputs": [
    {
     "name": "stdout",
     "output_type": "stream",
     "text": [
      "102\n"
     ]
    }
   ],
   "source": [
    "print(sumfun(11,22,33,8,28))"
   ]
  },
  {
   "cell_type": "markdown",
   "id": "4e3e56d0",
   "metadata": {},
   "source": [
    "LAMBDA FUNCTION\n",
    "\n",
    "A lambda function is a small anonymous function means dont requaired any name\n",
    "\n",
    "A lambda function can take any number of arguments, but can only have one expression.\n",
    "\n",
    "used to perform small operation with less code\n",
    "\n",
    "\n",
    "SYNTAX\n",
    "\n",
    "lambda arguments : expression\n",
    "\n"
   ]
  },
  {
   "cell_type": "code",
   "execution_count": 96,
   "id": "ce9f1fba",
   "metadata": {},
   "outputs": [],
   "source": [
    "test=lambda x:x*5"
   ]
  },
  {
   "cell_type": "code",
   "execution_count": 98,
   "id": "aba98e91",
   "metadata": {},
   "outputs": [
    {
     "data": {
      "text/plain": [
       "20"
      ]
     },
     "execution_count": 98,
     "metadata": {},
     "output_type": "execute_result"
    }
   ],
   "source": [
    "test(4)"
   ]
  },
  {
   "cell_type": "code",
   "execution_count": 99,
   "id": "2fa7c3a3",
   "metadata": {},
   "outputs": [
    {
     "data": {
      "text/plain": [
       "30"
      ]
     },
     "execution_count": 99,
     "metadata": {},
     "output_type": "execute_result"
    }
   ],
   "source": [
    "test(6)"
   ]
  },
  {
   "cell_type": "code",
   "execution_count": 100,
   "id": "55e2a757",
   "metadata": {},
   "outputs": [],
   "source": [
    "square=lambda x:x**2"
   ]
  },
  {
   "cell_type": "code",
   "execution_count": 101,
   "id": "9b52d878",
   "metadata": {},
   "outputs": [
    {
     "data": {
      "text/plain": [
       "16"
      ]
     },
     "execution_count": 101,
     "metadata": {},
     "output_type": "execute_result"
    }
   ],
   "source": [
    "square(4)"
   ]
  },
  {
   "cell_type": "code",
   "execution_count": 102,
   "id": "580acb40",
   "metadata": {},
   "outputs": [
    {
     "data": {
      "text/plain": [
       "2025"
      ]
     },
     "execution_count": 102,
     "metadata": {},
     "output_type": "execute_result"
    }
   ],
   "source": [
    "square(45)"
   ]
  },
  {
   "cell_type": "code",
   "execution_count": 111,
   "id": "e2ba8b3c",
   "metadata": {},
   "outputs": [],
   "source": [
    "squareroot=lambda x:x**(1/2)"
   ]
  },
  {
   "cell_type": "code",
   "execution_count": 113,
   "id": "876ce7bd",
   "metadata": {},
   "outputs": [
    {
     "data": {
      "text/plain": [
       "25.0"
      ]
     },
     "execution_count": 113,
     "metadata": {},
     "output_type": "execute_result"
    }
   ],
   "source": [
    "squareroot(625)"
   ]
  },
  {
   "cell_type": "code",
   "execution_count": 1,
   "id": "4460c838",
   "metadata": {},
   "outputs": [],
   "source": [
    "cube=lambda x:x**3"
   ]
  },
  {
   "cell_type": "code",
   "execution_count": 2,
   "id": "be2c70ef",
   "metadata": {},
   "outputs": [
    {
     "data": {
      "text/plain": [
       "1728"
      ]
     },
     "execution_count": 2,
     "metadata": {},
     "output_type": "execute_result"
    }
   ],
   "source": [
    "cube(12)"
   ]
  },
  {
   "cell_type": "code",
   "execution_count": 3,
   "id": "3ffc0657",
   "metadata": {},
   "outputs": [
    {
     "data": {
      "text/plain": [
       "512"
      ]
     },
     "execution_count": 3,
     "metadata": {},
     "output_type": "execute_result"
    }
   ],
   "source": [
    "cube(8)"
   ]
  },
  {
   "cell_type": "code",
   "execution_count": 92,
   "id": "7c87ee83",
   "metadata": {},
   "outputs": [
    {
     "name": "stdout",
     "output_type": "stream",
     "text": [
      "15\n"
     ]
    }
   ],
   "source": [
    "x = lambda a : a + 10\n",
    "print(x(5))"
   ]
  },
  {
   "cell_type": "code",
   "execution_count": 93,
   "id": "8829ba06",
   "metadata": {},
   "outputs": [
    {
     "name": "stdout",
     "output_type": "stream",
     "text": [
      "30\n"
     ]
    }
   ],
   "source": [
    "x = lambda a, b : a * b #Multiply argument a with argument b and return the result:\n",
    "print(x(5, 6))"
   ]
  },
  {
   "cell_type": "code",
   "execution_count": 94,
   "id": "d9689bfc",
   "metadata": {},
   "outputs": [
    {
     "name": "stdout",
     "output_type": "stream",
     "text": [
      "13\n"
     ]
    }
   ],
   "source": [
    "x = lambda a, b, c : a + b + c#Summarize argument a, b, and c and return the result:\n",
    "print(x(5, 6, 2))"
   ]
  },
  {
   "cell_type": "code",
   "execution_count": 5,
   "id": "6f901836",
   "metadata": {},
   "outputs": [
    {
     "name": "stdout",
     "output_type": "stream",
     "text": [
      "value of addvar 57\n",
      "value of addvar 8\n"
     ]
    }
   ],
   "source": [
    "addvar=lambda arg1,arg2:arg1+arg2\n",
    "print('value of addvar', addvar(23,34))\n",
    "print('value of addvar', addvar(4,4))"
   ]
  },
  {
   "cell_type": "code",
   "execution_count": 106,
   "id": "87c8ed83",
   "metadata": {},
   "outputs": [
    {
     "name": "stdout",
     "output_type": "stream",
     "text": [
      "22\n"
     ]
    }
   ],
   "source": [
    "def myfunc(n):   #Use that function definition to make a function that always doubles the number you send in:\n",
    "    return lambda a : a * n\n",
    "\n",
    "mytripler = myfunc(2)\n",
    "\n",
    "print(mytripler(11))"
   ]
  },
  {
   "cell_type": "code",
   "execution_count": 107,
   "id": "687439d6",
   "metadata": {},
   "outputs": [
    {
     "name": "stdout",
     "output_type": "stream",
     "text": [
      "33\n"
     ]
    }
   ],
   "source": [
    "def myfunc(n):   #Use that function definition to make a function that always tripple the number you send in:\n",
    "    return lambda a : a * n\n",
    "\n",
    "mytripler = myfunc(3)\n",
    "\n",
    "print(mytripler(11))"
   ]
  },
  {
   "cell_type": "code",
   "execution_count": 108,
   "id": "a0de3a9c",
   "metadata": {},
   "outputs": [
    {
     "name": "stdout",
     "output_type": "stream",
     "text": [
      "22\n",
      "33\n"
     ]
    }
   ],
   "source": [
    "def myfunc(n):\n",
    "    return lambda a : a * n # use the same function definition to make both functions, in the same program\n",
    "\n",
    "mydoubler = myfunc(2)\n",
    "mytripler = myfunc(3)\n",
    "\n",
    "print(mydoubler(11))\n",
    "print(mytripler(11))"
   ]
  },
  {
   "cell_type": "code",
   "execution_count": 1,
   "id": "3b0f27b4",
   "metadata": {},
   "outputs": [],
   "source": [
    "def farenhite(T):#convert tempreture in farenhite\n",
    "    return ((9/5)*T+32)\n",
    "    "
   ]
  },
  {
   "cell_type": "code",
   "execution_count": 2,
   "id": "5d86f851",
   "metadata": {},
   "outputs": [
    {
     "data": {
      "text/plain": [
       "95.0"
      ]
     },
     "execution_count": 2,
     "metadata": {},
     "output_type": "execute_result"
    }
   ],
   "source": [
    "F=farenhite(35)\n",
    "F"
   ]
  },
  {
   "cell_type": "code",
   "execution_count": 6,
   "id": "57895af2",
   "metadata": {},
   "outputs": [],
   "source": [
    "def celsius(T):#convert tempreture in celsiust\n",
    "    return ((5/9)*(T-32))"
   ]
  },
  {
   "cell_type": "code",
   "execution_count": 8,
   "id": "058d69f6",
   "metadata": {},
   "outputs": [
    {
     "data": {
      "text/plain": [
       "38.88888888888889"
      ]
     },
     "execution_count": 8,
     "metadata": {},
     "output_type": "execute_result"
    }
   ],
   "source": [
    "ce=celsius(102)\n",
    "ce"
   ]
  },
  {
   "cell_type": "code",
   "execution_count": 9,
   "id": "3b050b8a",
   "metadata": {},
   "outputs": [],
   "source": [
    "def testin():\n",
    "    x=int(input(\"inter the value of x = \"))\n",
    "    y=int(input(\"inter the value of y = \"))\n",
    "    t= lambda x,y:x**y\n",
    "    print(t(x,y))"
   ]
  },
  {
   "cell_type": "code",
   "execution_count": 10,
   "id": "016a6488",
   "metadata": {},
   "outputs": [
    {
     "name": "stdout",
     "output_type": "stream",
     "text": [
      "inter the value of x = 4\n",
      "inter the value of y = 4\n",
      "256\n"
     ]
    }
   ],
   "source": [
    "testin()"
   ]
  },
  {
   "cell_type": "markdown",
   "id": "0df76465",
   "metadata": {},
   "source": []
  },
  {
   "cell_type": "code",
   "execution_count": null,
   "id": "3e0e8132",
   "metadata": {},
   "outputs": [],
   "source": []
  },
  {
   "cell_type": "code",
   "execution_count": null,
   "id": "052d7c5b",
   "metadata": {},
   "outputs": [],
   "source": []
  },
  {
   "cell_type": "markdown",
   "id": "53fd7690",
   "metadata": {},
   "source": [
    "let us use lambda anonymous function by using lambda .we noneed to define the name and function farenhite() or celsious()"
   ]
  },
  {
   "cell_type": "code",
   "execution_count": 2,
   "id": "e2a89119",
   "metadata": {},
   "outputs": [
    {
     "data": {
      "text/plain": [
       "98.60000000000001"
      ]
     },
     "execution_count": 2,
     "metadata": {},
     "output_type": "execute_result"
    }
   ],
   "source": [
    "F=lambda x:(9/5)*x +32\n",
    "F(37)"
   ]
  },
  {
   "cell_type": "code",
   "execution_count": 4,
   "id": "1d6d36bd",
   "metadata": {},
   "outputs": [
    {
     "data": {
      "text/plain": [
       "38.88888888888889"
      ]
     },
     "execution_count": 4,
     "metadata": {},
     "output_type": "execute_result"
    }
   ],
   "source": [
    "T=lambda x:(5/9)*(x-32)\n",
    "T(102)"
   ]
  },
  {
   "cell_type": "markdown",
   "id": "310d9c6b",
   "metadata": {},
   "source": [
    "map in lambda  ____   it applies on list"
   ]
  },
  {
   "cell_type": "code",
   "execution_count": 7,
   "id": "013cd53c",
   "metadata": {},
   "outputs": [
    {
     "data": {
      "text/plain": [
       "<map at 0x1575eefe6d0>"
      ]
     },
     "execution_count": 7,
     "metadata": {},
     "output_type": "execute_result"
    }
   ],
   "source": [
    "mylist=(1,2,3,4)\n",
    "map(lambda x:x**2,mylist)#need to add list atherwise only memory address is display"
   ]
  },
  {
   "cell_type": "code",
   "execution_count": 8,
   "id": "c38b3a59",
   "metadata": {},
   "outputs": [
    {
     "data": {
      "text/plain": [
       "[1, 4, 9, 16]"
      ]
     },
     "execution_count": 8,
     "metadata": {},
     "output_type": "execute_result"
    }
   ],
   "source": [
    "list(map(lambda x:x**2,mylist)) "
   ]
  },
  {
   "cell_type": "code",
   "execution_count": 10,
   "id": "ab545bb9",
   "metadata": {},
   "outputs": [],
   "source": [
    "c=[33.8,34.7,45.87,34.6,38.8]"
   ]
  },
  {
   "cell_type": "code",
   "execution_count": 11,
   "id": "005d0fc3",
   "metadata": {},
   "outputs": [
    {
     "name": "stdout",
     "output_type": "stream",
     "text": [
      "[92.84, 94.46000000000001, 114.566, 94.28, 101.84]\n"
     ]
    }
   ],
   "source": [
    "f=list(map(lambda x:(9/5)*x +32,c))#mapping the list of value one by one \n",
    "print(f)"
   ]
  },
  {
   "cell_type": "code",
   "execution_count": 12,
   "id": "7de6c338",
   "metadata": {},
   "outputs": [
    {
     "name": "stdout",
     "output_type": "stream",
     "text": [
      "[33.800000000000004, 34.7, 45.870000000000005, 34.6, 38.800000000000004]\n"
     ]
    }
   ],
   "source": [
    "c=list(map(lambda x:(5/9)*(x-32),f))\n",
    "print(c)"
   ]
  },
  {
   "cell_type": "code",
   "execution_count": 13,
   "id": "fd4d4810",
   "metadata": {},
   "outputs": [
    {
     "data": {
      "text/plain": [
       "[33.8, 34.7, 45.87, 34.6, 38.8]"
      ]
     },
     "execution_count": 13,
     "metadata": {},
     "output_type": "execute_result"
    }
   ],
   "source": [
    "newclist=[round(x,2) for x in c]##hold 2 value after decimal but zero is avoided\n",
    "newclist"
   ]
  },
  {
   "cell_type": "code",
   "execution_count": 15,
   "id": "dc18cb7d",
   "metadata": {},
   "outputs": [
    {
     "data": {
      "text/plain": [
       "['33.80', '34.70', '45.87', '34.60', '38.80']"
      ]
     },
     "execution_count": 15,
     "metadata": {},
     "output_type": "execute_result"
    }
   ],
   "source": [
    "newlist=['%.2f' % j for j in c]#hold 2 value after decimal\n",
    "newlist"
   ]
  },
  {
   "cell_type": "markdown",
   "id": "867c4e65",
   "metadata": {},
   "source": [
    "we are checking if the value is greater then 2 using filter function"
   ]
  },
  {
   "cell_type": "code",
   "execution_count": 16,
   "id": "031f8614",
   "metadata": {},
   "outputs": [],
   "source": [
    "mylist=[1,2,3,4,5,6,7,8]"
   ]
  },
  {
   "cell_type": "code",
   "execution_count": 17,
   "id": "c8cee7be",
   "metadata": {},
   "outputs": [
    {
     "data": {
      "text/plain": [
       "[3, 4, 5, 6, 7, 8]"
      ]
     },
     "execution_count": 17,
     "metadata": {},
     "output_type": "execute_result"
    }
   ],
   "source": [
    "list(filter(lambda x:x>2,mylist))"
   ]
  },
  {
   "cell_type": "code",
   "execution_count": 21,
   "id": "8f9cf757",
   "metadata": {},
   "outputs": [
    {
     "data": {
      "text/plain": [
       "[0, 2, 4, 6, 8, 10]"
      ]
     },
     "execution_count": 21,
     "metadata": {},
     "output_type": "execute_result"
    }
   ],
   "source": [
    "even= lambda x: x%2 == 0\n",
    "list(filter(even,range(11)))"
   ]
  },
  {
   "cell_type": "code",
   "execution_count": 23,
   "id": "95b64748",
   "metadata": {},
   "outputs": [
    {
     "data": {
      "text/plain": [
       "[0, 2, 4, 6, 8, 10]"
      ]
     },
     "execution_count": 23,
     "metadata": {},
     "output_type": "execute_result"
    }
   ],
   "source": [
    "#it can be done by list comprehension\n",
    "[x for x in range(11) if x%2==0]"
   ]
  }
 ],
 "metadata": {
  "kernelspec": {
   "display_name": "Python 3 (ipykernel)",
   "language": "python",
   "name": "python3"
  },
  "language_info": {
   "codemirror_mode": {
    "name": "ipython",
    "version": 3
   },
   "file_extension": ".py",
   "mimetype": "text/x-python",
   "name": "python",
   "nbconvert_exporter": "python",
   "pygments_lexer": "ipython3",
   "version": "3.9.7"
  }
 },
 "nbformat": 4,
 "nbformat_minor": 5
}
