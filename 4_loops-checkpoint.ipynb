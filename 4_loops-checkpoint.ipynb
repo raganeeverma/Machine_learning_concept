{
 "cells": [
  {
   "cell_type": "markdown",
   "id": "20cc8f04",
   "metadata": {},
   "source": [
    "# LOOPS IN PYTHON"
   ]
  },
  {
   "cell_type": "markdown",
   "id": "37e4c26d",
   "metadata": {},
   "source": [
    "FOR LOOP (THE NO. ITERATIONS TO BE DONE IS ALREADY KNOWN AND IS USED TO OBTAIN A CERTAIN RESULT)\n",
    "WHILE LOOP(THE COMMAND RUNS UNTILE A CERTAIN CONDITIN IS REACHED AND STATEMENT IS PROVED TO BE FALSE)"
   ]
  },
  {
   "cell_type": "markdown",
   "id": "f7fab7af",
   "metadata": {},
   "source": [
    "WHILE LOOP"
   ]
  },
  {
   "cell_type": "code",
   "execution_count": 2,
   "id": "1e85046c",
   "metadata": {},
   "outputs": [
    {
     "name": "stdout",
     "output_type": "stream",
     "text": [
      "0\n",
      "1\n",
      "2\n",
      "3\n",
      "4\n",
      "5\n"
     ]
    }
   ],
   "source": [
    "j=0 # initilization\n",
    "while(j<6): #condition\n",
    "    print(j)\n",
    "    j=j+1  #increment"
   ]
  },
  {
   "cell_type": "code",
   "execution_count": 5,
   "id": "e301b84d",
   "metadata": {},
   "outputs": [
    {
     "name": "stdout",
     "output_type": "stream",
     "text": [
      "0 1 2 3 4 5 "
     ]
    }
   ],
   "source": [
    "j=0 # initilization\n",
    "while(j<6): #condition\n",
    "    print(j ,end=\" \")# want to data in same line\n",
    "    j=j+1  #increment"
   ]
  },
  {
   "cell_type": "code",
   "execution_count": 6,
   "id": "7e6bcde4",
   "metadata": {},
   "outputs": [
    {
     "name": "stdout",
     "output_type": "stream",
     "text": [
      "value of p = 0\n",
      "value of p = 1\n",
      "value of p = 2\n",
      "value of p = 3\n",
      "value of p = 4\n",
      "value of p = 5\n"
     ]
    }
   ],
   "source": [
    "p=0 # initilization\n",
    "while(p<6): #condition\n",
    "    print('value of p =' ,p)\n",
    "    p=p+1  #increment"
   ]
  },
  {
   "cell_type": "code",
   "execution_count": 7,
   "id": "a54c9fb1",
   "metadata": {},
   "outputs": [
    {
     "name": "stdout",
     "output_type": "stream",
     "text": [
      "0 1 2 3 4 5 6 7 8 9 10 "
     ]
    }
   ],
   "source": [
    "j=0 # initilization\n",
    "while(j<=10): #condition\n",
    "    print(j, end=' ')\n",
    "    j=j+1  #increment"
   ]
  },
  {
   "cell_type": "markdown",
   "id": "b9dbc1f4",
   "metadata": {},
   "source": [
    "FOR LOOP(indexing is there iteration dane till the value is present in index)"
   ]
  },
  {
   "cell_type": "code",
   "execution_count": 10,
   "id": "6e99f554",
   "metadata": {},
   "outputs": [
    {
     "name": "stdout",
     "output_type": "stream",
     "text": [
      "1\n",
      "2\n",
      "3\n",
      "4\n",
      "5\n"
     ]
    }
   ],
   "source": [
    "for index in [1,2,3,4,5]:\n",
    "    print(index)"
   ]
  },
  {
   "cell_type": "code",
   "execution_count": 11,
   "id": "d8216028",
   "metadata": {},
   "outputs": [
    {
     "name": "stdout",
     "output_type": "stream",
     "text": [
      "100\n",
      "200\n",
      "300\n",
      "400\n"
     ]
    }
   ],
   "source": [
    "for i in [100,200,300,400]:\n",
    "    print(i)"
   ]
  },
  {
   "cell_type": "code",
   "execution_count": 12,
   "id": "99e8b8c1",
   "metadata": {},
   "outputs": [
    {
     "name": "stdout",
     "output_type": "stream",
     "text": [
      "20.3\n",
      "45.6\n",
      "76.8\n",
      "64.8\n"
     ]
    }
   ],
   "source": [
    "for k in [20.3,45.6,76.8,64.8]:\n",
    "    print(k)"
   ]
  },
  {
   "cell_type": "code",
   "execution_count": 17,
   "id": "ba2c24d5",
   "metadata": {},
   "outputs": [
    {
     "name": "stdout",
     "output_type": "stream",
     "text": [
      "a  b  c  d  "
     ]
    }
   ],
   "source": [
    "for p in ['a','b','c','d']:\n",
    "    print(p,end='  ')"
   ]
  },
  {
   "cell_type": "code",
   "execution_count": 16,
   "id": "f72d64b5",
   "metadata": {},
   "outputs": [
    {
     "name": "stdout",
     "output_type": "stream",
     "text": [
      "mango\n",
      "banana\n",
      "apple\n",
      "orange\n"
     ]
    }
   ],
   "source": [
    "for Fruit in [\"mango\",'banana','apple','orange']:\n",
    "    print(Fruit)"
   ]
  },
  {
   "cell_type": "code",
   "execution_count": 18,
   "id": "0827b065",
   "metadata": {},
   "outputs": [
    {
     "name": "stdout",
     "output_type": "stream",
     "text": [
      "A\n",
      "string\n",
      "45\n",
      "37.76\n",
      "True\n",
      "65\n",
      "False\n"
     ]
    }
   ],
   "source": [
    "for mix in ['A','string',45,37.76,True,65,False]:\n",
    "    print(mix)"
   ]
  },
  {
   "cell_type": "code",
   "execution_count": null,
   "id": "b8b77f39",
   "metadata": {},
   "outputs": [],
   "source": []
  },
  {
   "cell_type": "code",
   "execution_count": null,
   "id": "9498e8fe",
   "metadata": {},
   "outputs": [],
   "source": []
  },
  {
   "cell_type": "code",
   "execution_count": null,
   "id": "afd3914a",
   "metadata": {},
   "outputs": [],
   "source": []
  },
  {
   "cell_type": "code",
   "execution_count": null,
   "id": "7c7f3ac2",
   "metadata": {},
   "outputs": [],
   "source": []
  },
  {
   "cell_type": "code",
   "execution_count": null,
   "id": "2a304d3d",
   "metadata": {},
   "outputs": [],
   "source": []
  },
  {
   "cell_type": "code",
   "execution_count": null,
   "id": "69d9c69d",
   "metadata": {},
   "outputs": [],
   "source": []
  },
  {
   "cell_type": "code",
   "execution_count": null,
   "id": "2d9ffe5b",
   "metadata": {},
   "outputs": [],
   "source": []
  },
  {
   "cell_type": "code",
   "execution_count": null,
   "id": "f1b712da",
   "metadata": {},
   "outputs": [],
   "source": []
  },
  {
   "cell_type": "code",
   "execution_count": null,
   "id": "25736e25",
   "metadata": {},
   "outputs": [],
   "source": []
  },
  {
   "cell_type": "code",
   "execution_count": null,
   "id": "0137e8d7",
   "metadata": {},
   "outputs": [],
   "source": []
  },
  {
   "cell_type": "code",
   "execution_count": null,
   "id": "3aebe809",
   "metadata": {},
   "outputs": [],
   "source": []
  },
  {
   "cell_type": "code",
   "execution_count": null,
   "id": "c79c273e",
   "metadata": {},
   "outputs": [],
   "source": []
  },
  {
   "cell_type": "code",
   "execution_count": null,
   "id": "c1377684",
   "metadata": {},
   "outputs": [],
   "source": []
  }
 ],
 "metadata": {
  "kernelspec": {
   "display_name": "Python 3 (ipykernel)",
   "language": "python",
   "name": "python3"
  },
  "language_info": {
   "codemirror_mode": {
    "name": "ipython",
    "version": 3
   },
   "file_extension": ".py",
   "mimetype": "text/x-python",
   "name": "python",
   "nbconvert_exporter": "python",
   "pygments_lexer": "ipython3",
   "version": "3.9.7"
  }
 },
 "nbformat": 4,
 "nbformat_minor": 5
}
