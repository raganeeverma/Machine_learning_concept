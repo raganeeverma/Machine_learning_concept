{
 "cells": [
  {
   "cell_type": "code",
   "execution_count": 2,
   "id": "0c1c55e4",
   "metadata": {},
   "outputs": [],
   "source": [
    "import sqlite3 "
   ]
  },
  {
   "cell_type": "markdown",
   "id": "dc5ea08c",
   "metadata": {},
   "source": [
    "Connecting to the Database\n",
    "\n",
    "Connecting to the SQLite Database can be established using the connect() method, passing the name of the database to be accessed as a parameter. If that database does not exist, then it’ll be created. \n",
    "\n",
    "sqliteConnection = sqlite3.connect('sql.db')"
   ]
  },
  {
   "cell_type": "code",
   "execution_count": 3,
   "id": "398c4f08",
   "metadata": {},
   "outputs": [],
   "source": [
    "dbcon=sqlite3.connect('testdatabase.db')#testdatabase is db name which is created automatically in home directory"
   ]
  },
  {
   "cell_type": "markdown",
   "id": "57fa268f",
   "metadata": {},
   "source": [
    "But what if you want to execute some queries after the connection is being made. For that, a cursor has to be created using the cursor() method on the connection instance, which will execute our SQL queries.\n",
    "\n",
    "cursor = sqliteConnection.cursor()"
   ]
  },
  {
   "cell_type": "markdown",
   "id": "a477e0be",
   "metadata": {},
   "source": [
    "Cursor Object\n",
    "\n",
    "It is an object that is used to make the connection for executing SQL queries. It acts as middleware between SQLite database connection and SQL query. It is created after giving connection to SQLite database.\n",
    "\n",
    "Syntax: cursor_object=connection_object.execute(“sql query”);"
   ]
  },
  {
   "cell_type": "code",
   "execution_count": 4,
   "id": "e4b5850b",
   "metadata": {},
   "outputs": [],
   "source": [
    "cur=dbcon.cursor()#cursor object is creted"
   ]
  },
  {
   "cell_type": "code",
   "execution_count": 4,
   "id": "c1043c3d",
   "metadata": {},
   "outputs": [
    {
     "ename": "OperationalError",
     "evalue": "table student already exists",
     "output_type": "error",
     "traceback": [
      "\u001b[1;31m---------------------------------------------------------------------------\u001b[0m",
      "\u001b[1;31mOperationalError\u001b[0m                          Traceback (most recent call last)",
      "\u001b[1;32m~\\AppData\\Local\\Temp/ipykernel_8680/3528975400.py\u001b[0m in \u001b[0;36m<module>\u001b[1;34m\u001b[0m\n\u001b[1;32m----> 1\u001b[1;33m \u001b[0mcur\u001b[0m\u001b[1;33m.\u001b[0m\u001b[0mexecute\u001b[0m\u001b[1;33m(\u001b[0m\u001b[1;34m'create table student(rollno int primary key,name text,marks int)'\u001b[0m\u001b[1;33m)\u001b[0m\u001b[1;33m\u001b[0m\u001b[1;33m\u001b[0m\u001b[0m\n\u001b[0m",
      "\u001b[1;31mOperationalError\u001b[0m: table student already exists"
     ]
    }
   ],
   "source": [
    "cur.execute('create table student(rollno int primary key,name text,marks int)')#create student table into testdatabase using execute method"
   ]
  },
  {
   "cell_type": "code",
   "execution_count": 6,
   "id": "84092d3b",
   "metadata": {},
   "outputs": [
    {
     "data": {
      "text/plain": [
       "<sqlite3.Cursor at 0x28b1f333180>"
      ]
     },
     "execution_count": 6,
     "metadata": {},
     "output_type": "execute_result"
    }
   ],
   "source": [
    "cur.execute('insert into student(rollno,name,marks)values(1,\"abc\",78)')"
   ]
  },
  {
   "cell_type": "code",
   "execution_count": 9,
   "id": "191cfda7",
   "metadata": {},
   "outputs": [
    {
     "name": "stdout",
     "output_type": "stream",
     "text": [
      "(1, 'abc', 78)\n"
     ]
    }
   ],
   "source": [
    "result=cur.execute('select * from student')\n",
    "for res in result:\n",
    "    print(res)"
   ]
  },
  {
   "cell_type": "code",
   "execution_count": 10,
   "id": "22ffb425",
   "metadata": {},
   "outputs": [
    {
     "data": {
      "text/plain": [
       "<sqlite3.Cursor at 0x28b1f333180>"
      ]
     },
     "execution_count": 10,
     "metadata": {},
     "output_type": "execute_result"
    }
   ],
   "source": [
    "cur.execute('insert into student(rollno,name,marks)values(2,\"xyz\",45)')"
   ]
  },
  {
   "cell_type": "code",
   "execution_count": 11,
   "id": "da664dac",
   "metadata": {},
   "outputs": [
    {
     "data": {
      "text/plain": [
       "<sqlite3.Cursor at 0x28b1f333180>"
      ]
     },
     "execution_count": 11,
     "metadata": {},
     "output_type": "execute_result"
    }
   ],
   "source": [
    "cur.execute('insert into student(rollno,name,marks)values(3,\"tre\",56)')"
   ]
  },
  {
   "cell_type": "code",
   "execution_count": 12,
   "id": "9f9bd8f9",
   "metadata": {},
   "outputs": [
    {
     "data": {
      "text/plain": [
       "<sqlite3.Cursor at 0x28b1f333180>"
      ]
     },
     "execution_count": 12,
     "metadata": {},
     "output_type": "execute_result"
    }
   ],
   "source": [
    "cur.execute('insert into student(rollno,name,marks)values(4,\"ranu\",567)')"
   ]
  },
  {
   "cell_type": "code",
   "execution_count": 13,
   "id": "0eba663d",
   "metadata": {},
   "outputs": [
    {
     "data": {
      "text/plain": [
       "<sqlite3.Cursor at 0x28b1f333180>"
      ]
     },
     "execution_count": 13,
     "metadata": {},
     "output_type": "execute_result"
    }
   ],
   "source": [
    "cur.execute('insert into student(rollno,name,marks)values(5,\"minu\",38)')"
   ]
  },
  {
   "cell_type": "code",
   "execution_count": 14,
   "id": "8751ddd0",
   "metadata": {},
   "outputs": [
    {
     "name": "stdout",
     "output_type": "stream",
     "text": [
      "(1, 'abc', 78)\n",
      "(2, 'xyz', 45)\n",
      "(3, 'tre', 56)\n",
      "(4, 'ranu', 567)\n",
      "(5, 'minu', 38)\n"
     ]
    }
   ],
   "source": [
    "result=cur.execute('select * from student')\n",
    "for res in result:\n",
    "    print(res)"
   ]
  },
  {
   "cell_type": "code",
   "execution_count": 15,
   "id": "bcf151fe",
   "metadata": {},
   "outputs": [
    {
     "name": "stdout",
     "output_type": "stream",
     "text": [
      "(1,)\n",
      "(2,)\n",
      "(3,)\n",
      "(4,)\n",
      "(5,)\n"
     ]
    }
   ],
   "source": [
    "result=cur.execute('select rollno from student')\n",
    "for res in result:\n",
    "    print(res)"
   ]
  },
  {
   "cell_type": "code",
   "execution_count": 16,
   "id": "d86e6f04",
   "metadata": {},
   "outputs": [
    {
     "name": "stdout",
     "output_type": "stream",
     "text": [
      "('abc',)\n",
      "('xyz',)\n",
      "('tre',)\n",
      "('ranu',)\n",
      "('minu',)\n"
     ]
    }
   ],
   "source": [
    "result=cur.execute('select name from student')\n",
    "for res in result:\n",
    "    print(res)"
   ]
  },
  {
   "cell_type": "code",
   "execution_count": 17,
   "id": "283a166f",
   "metadata": {},
   "outputs": [
    {
     "name": "stdout",
     "output_type": "stream",
     "text": [
      "(78,)\n",
      "(45,)\n",
      "(56,)\n",
      "(567,)\n",
      "(38,)\n"
     ]
    }
   ],
   "source": [
    "result=cur.execute('select marks from student')\n",
    "for res in result:\n",
    "    print(res)"
   ]
  },
  {
   "cell_type": "code",
   "execution_count": 19,
   "id": "c0fab86a",
   "metadata": {},
   "outputs": [
    {
     "name": "stdout",
     "output_type": "stream",
     "text": [
      "(1, 'abc')\n",
      "(2, 'xyz')\n",
      "(3, 'tre')\n",
      "(4, 'ranu')\n",
      "(5, 'minu')\n"
     ]
    }
   ],
   "source": [
    "result=cur.execute('select rollno, name from student')\n",
    "for res in result:\n",
    "    print(res)"
   ]
  },
  {
   "cell_type": "code",
   "execution_count": 20,
   "id": "fa23fb28",
   "metadata": {},
   "outputs": [
    {
     "name": "stdout",
     "output_type": "stream",
     "text": [
      "('abc', 78)\n",
      "('xyz', 45)\n",
      "('tre', 56)\n",
      "('ranu', 567)\n",
      "('minu', 38)\n"
     ]
    }
   ],
   "source": [
    "result=cur.execute('select name ,marks from student')\n",
    "for res in result:\n",
    "    print(res)"
   ]
  },
  {
   "cell_type": "code",
   "execution_count": 21,
   "id": "f7cbd355",
   "metadata": {},
   "outputs": [
    {
     "name": "stdout",
     "output_type": "stream",
     "text": [
      "(1, 'abc', 78)\n",
      "(2, 'xyz', 45)\n",
      "(3, 'tre', 56)\n",
      "(4, 'ranu', 567)\n",
      "(5, 'minu', 38)\n"
     ]
    }
   ],
   "source": [
    "result=cur.execute('select rollno,name, marks from student')\n",
    "for res in result:\n",
    "    print(res)"
   ]
  },
  {
   "cell_type": "code",
   "execution_count": 23,
   "id": "8234f039",
   "metadata": {},
   "outputs": [
    {
     "name": "stdout",
     "output_type": "stream",
     "text": [
      "(5, 'minu', 38)\n"
     ]
    }
   ],
   "source": [
    "result=cur.execute('select * from student where rollno=5')\n",
    "for res in result:\n",
    "    print(res)"
   ]
  },
  {
   "cell_type": "code",
   "execution_count": 26,
   "id": "073ff012",
   "metadata": {},
   "outputs": [
    {
     "name": "stdout",
     "output_type": "stream",
     "text": [
      "(4, 'ranu', 567)\n"
     ]
    }
   ],
   "source": [
    "result=cur.execute('select * from student where name=\"ranu\"')\n",
    "for res in result:\n",
    "    print(res)"
   ]
  },
  {
   "cell_type": "code",
   "execution_count": 27,
   "id": "bbbdfa25",
   "metadata": {},
   "outputs": [
    {
     "name": "stdout",
     "output_type": "stream",
     "text": [
      "('minu',)\n"
     ]
    }
   ],
   "source": [
    "result=cur.execute('select name from student where rollno=5')\n",
    "for res in result:\n",
    "    print(res)"
   ]
  },
  {
   "cell_type": "code",
   "execution_count": 28,
   "id": "f5d249bd",
   "metadata": {},
   "outputs": [
    {
     "name": "stdout",
     "output_type": "stream",
     "text": [
      "('ranu', 567)\n"
     ]
    }
   ],
   "source": [
    "result=cur.execute('select name,marks from student where rollno=4')\n",
    "for res in result:\n",
    "    print(res)"
   ]
  },
  {
   "cell_type": "code",
   "execution_count": 24,
   "id": "209eff18",
   "metadata": {},
   "outputs": [
    {
     "data": {
      "text/plain": [
       "(5, 'minu', 38)"
      ]
     },
     "execution_count": 24,
     "metadata": {},
     "output_type": "execute_result"
    }
   ],
   "source": [
    "result=cur.execute('select * from student where name=\"minu\"')\n",
    "result.fetchone()#fetchone is used for fetch selected attributes from database"
   ]
  },
  {
   "cell_type": "code",
   "execution_count": 25,
   "id": "2283c10e",
   "metadata": {},
   "outputs": [
    {
     "data": {
      "text/plain": [
       "[(1, 'abc', 78),\n",
       " (2, 'xyz', 45),\n",
       " (3, 'tre', 56),\n",
       " (4, 'ranu', 567),\n",
       " (5, 'minu', 38)]"
      ]
     },
     "execution_count": 25,
     "metadata": {},
     "output_type": "execute_result"
    }
   ],
   "source": [
    "result=cur.execute('select * from student ')\n",
    "result.fetchall()#fetchall is used for fetch all attributes from database"
   ]
  },
  {
   "cell_type": "code",
   "execution_count": 29,
   "id": "8123cf42",
   "metadata": {},
   "outputs": [
    {
     "data": {
      "text/plain": [
       "<sqlite3.Cursor at 0x28b1f333180>"
      ]
     },
     "execution_count": 29,
     "metadata": {},
     "output_type": "execute_result"
    }
   ],
   "source": [
    "cur.execute('insert into student(rollno,name,marks)values(6,\"sonu\",78)')"
   ]
  },
  {
   "cell_type": "code",
   "execution_count": 43,
   "id": "cd8a5783",
   "metadata": {},
   "outputs": [
    {
     "data": {
      "text/plain": [
       "[(1, 'abc', 78),\n",
       " (2, 'xyz', 45),\n",
       " (3, 'tre', 56),\n",
       " (4, 'ranu', 567),\n",
       " (5, 'minu', 38),\n",
       " (6, 'sonu', 78)]"
      ]
     },
     "execution_count": 43,
     "metadata": {},
     "output_type": "execute_result"
    }
   ],
   "source": [
    "result=cur.execute('select * from student ')\n",
    "result.fetchall()"
   ]
  },
  {
   "cell_type": "code",
   "execution_count": 33,
   "id": "bd03d04c",
   "metadata": {},
   "outputs": [
    {
     "data": {
      "text/plain": [
       "[(1, 'abc', 78), (2, 'xyz', 45), (3, 'tre', 56)]"
      ]
     },
     "execution_count": 33,
     "metadata": {},
     "output_type": "execute_result"
    }
   ],
   "source": [
    "result= cur.execute('select * from student limit 3 ')\n",
    "result.fetchall()"
   ]
  },
  {
   "cell_type": "code",
   "execution_count": 34,
   "id": "c4d779bb",
   "metadata": {},
   "outputs": [
    {
     "data": {
      "text/plain": [
       "[(1, 'abc', 78),\n",
       " (2, 'xyz', 45),\n",
       " (3, 'tre', 56),\n",
       " (4, 'ranu', 567),\n",
       " (5, 'minu', 38)]"
      ]
     },
     "execution_count": 34,
     "metadata": {},
     "output_type": "execute_result"
    }
   ],
   "source": [
    "result=cur.execute('select * from student limit 5 ')#limit command is used for a limited  data selection\n",
    "result.fetchall()"
   ]
  },
  {
   "cell_type": "code",
   "execution_count": 35,
   "id": "9849a975",
   "metadata": {},
   "outputs": [
    {
     "data": {
      "text/plain": [
       "[(1, 'abc', 78),\n",
       " (5, 'minu', 38),\n",
       " (4, 'ranu', 567),\n",
       " (6, 'sonu', 78),\n",
       " (3, 'tre', 56),\n",
       " (2, 'xyz', 45)]"
      ]
     },
     "execution_count": 35,
     "metadata": {},
     "output_type": "execute_result"
    }
   ],
   "source": [
    "result=cur.execute('select * from student order by name asc')#order by used for display inorder\n",
    "result.fetchall()"
   ]
  },
  {
   "cell_type": "code",
   "execution_count": 36,
   "id": "4b9d5dd2",
   "metadata": {},
   "outputs": [
    {
     "data": {
      "text/plain": [
       "[(2, 'xyz', 45),\n",
       " (3, 'tre', 56),\n",
       " (6, 'sonu', 78),\n",
       " (4, 'ranu', 567),\n",
       " (5, 'minu', 38),\n",
       " (1, 'abc', 78)]"
      ]
     },
     "execution_count": 36,
     "metadata": {},
     "output_type": "execute_result"
    }
   ],
   "source": [
    "cur.execute('select * from student order by name desc ')\n",
    "result.fetchall()"
   ]
  },
  {
   "cell_type": "code",
   "execution_count": 37,
   "id": "b129637d",
   "metadata": {},
   "outputs": [
    {
     "data": {
      "text/plain": [
       "[(1, 'abc', 78), (2, 'xyz', 45), (3, 'tre', 56)]"
      ]
     },
     "execution_count": 37,
     "metadata": {},
     "output_type": "execute_result"
    }
   ],
   "source": [
    "result=cur.execute('select * from student where rollno in (1,2,3) ')\n",
    "result.fetchall()"
   ]
  },
  {
   "cell_type": "code",
   "execution_count": 44,
   "id": "d5ecaa95",
   "metadata": {},
   "outputs": [
    {
     "data": {
      "text/plain": [
       "[(4, 'ranu', 567), (5, 'minu', 38), (6, 'sonu', 78)]"
      ]
     },
     "execution_count": 44,
     "metadata": {},
     "output_type": "execute_result"
    }
   ],
   "source": [
    "result=cur.execute('select * from student where name in (\"ranu\",\"sonu\",\"minu\") ')\n",
    "result.fetchall()"
   ]
  },
  {
   "cell_type": "code",
   "execution_count": 45,
   "id": "877fb103",
   "metadata": {},
   "outputs": [
    {
     "data": {
      "text/plain": [
       "[(2, 'xyz', 45), (3, 'tre', 56)]"
      ]
     },
     "execution_count": 45,
     "metadata": {},
     "output_type": "execute_result"
    }
   ],
   "source": [
    "result=cur.execute('select * from student where marks between 40 and 70')\n",
    "result.fetchall()"
   ]
  },
  {
   "cell_type": "code",
   "execution_count": 46,
   "id": "ef275d2f",
   "metadata": {},
   "outputs": [
    {
     "data": {
      "text/plain": [
       "[(2, 'xyz', 45), (3, 'tre', 56)]"
      ]
     },
     "execution_count": 46,
     "metadata": {},
     "output_type": "execute_result"
    }
   ],
   "source": [
    "result=cur.execute('select * from student where marks>40 and 40 and marks<70')\n",
    "result.fetchall()"
   ]
  },
  {
   "cell_type": "markdown",
   "id": "4fd5418c",
   "metadata": {},
   "source": [
    "# "
   ]
  },
  {
   "cell_type": "markdown",
   "id": "16fb5aff",
   "metadata": {},
   "source": [
    "# STUDENT DATABASE "
   ]
  },
  {
   "cell_type": "code",
   "execution_count": 110,
   "id": "1eef28b8",
   "metadata": {},
   "outputs": [],
   "source": [
    "import sqlite3 "
   ]
  },
  {
   "cell_type": "code",
   "execution_count": 111,
   "id": "2b8e60a9",
   "metadata": {},
   "outputs": [],
   "source": [
    "db=sqlite3.connect(\"student_database.db\")"
   ]
  },
  {
   "cell_type": "code",
   "execution_count": 112,
   "id": "47015120",
   "metadata": {},
   "outputs": [],
   "source": [
    "cur=db.cursor()#cursor object is creted"
   ]
  },
  {
   "cell_type": "code",
   "execution_count": 11,
   "id": "479e4fd9",
   "metadata": {},
   "outputs": [
    {
     "data": {
      "text/plain": [
       "<sqlite3.Cursor at 0x1ef3f0821f0>"
      ]
     },
     "execution_count": 11,
     "metadata": {},
     "output_type": "execute_result"
    }
   ],
   "source": [
    "cur.execute('create table student(rollno int primary key,name text,marks int)')"
   ]
  },
  {
   "cell_type": "markdown",
   "id": "3258b33c",
   "metadata": {},
   "source": [
    "commit cammand\n",
    "\n",
    "a commit is the updating of a record in a database. In the context of a database transaction, a commit refers to the saving of data permanently after a set of tentative changes. A commit ends a transaction within a relational database and allows all other users to see the changes\n",
    "\n",
    "after every insert cammand we have to do commit for permanent saving and retriving later"
   ]
  },
  {
   "cell_type": "code",
   "execution_count": 18,
   "id": "b05ebc0a",
   "metadata": {},
   "outputs": [],
   "source": [
    "cur.execute('insert into student(rollno,name,marks)values(3,\"amyara\",45)')\n",
    "db.commit()"
   ]
  },
  {
   "cell_type": "code",
   "execution_count": 12,
   "id": "9b02c9d3",
   "metadata": {},
   "outputs": [],
   "source": [
    "cur.execute('insert into student(rollno,name,marks)values(2,\"xyz\",45)')\n",
    "db.commit()"
   ]
  },
  {
   "cell_type": "code",
   "execution_count": 13,
   "id": "733a9858",
   "metadata": {},
   "outputs": [],
   "source": [
    "cur.execute('insert into student(rollno,name,marks)values(1,\"myara\",45)')\n",
    "db.commit()"
   ]
  },
  {
   "cell_type": "code",
   "execution_count": 15,
   "id": "8155aba2",
   "metadata": {},
   "outputs": [],
   "source": [
    "cur.execute('insert into student(rollno,name,marks)values(4,\"meenu\",45)')\n",
    "db.commit()"
   ]
  },
  {
   "cell_type": "code",
   "execution_count": 16,
   "id": "0bf9cf31",
   "metadata": {},
   "outputs": [],
   "source": [
    "cur.execute('insert into student(rollno,name,marks)values(5,\"setu\",45)')\n",
    "db.commit()"
   ]
  },
  {
   "cell_type": "code",
   "execution_count": 17,
   "id": "4f795277",
   "metadata": {},
   "outputs": [],
   "source": [
    "cur.execute('insert into student(rollno,name,marks)values(6,\"myara\",44)')\n",
    "db.commit()"
   ]
  },
  {
   "cell_type": "code",
   "execution_count": 19,
   "id": "0526c501",
   "metadata": {},
   "outputs": [
    {
     "data": {
      "text/plain": [
       "[(2, 'xyz', 45),\n",
       " (1, 'myara', 45),\n",
       " (4, 'meenu', 45),\n",
       " (5, 'setu', 45),\n",
       " (6, 'myara', 44),\n",
       " (3, 'amyara', 45)]"
      ]
     },
     "execution_count": 19,
     "metadata": {},
     "output_type": "execute_result"
    }
   ],
   "source": [
    "result=cur.execute('select * from student')\n",
    "result.fetchall()"
   ]
  },
  {
   "cell_type": "code",
   "execution_count": 20,
   "id": "7b542fe2",
   "metadata": {},
   "outputs": [
    {
     "name": "stdout",
     "output_type": "stream",
     "text": [
      "1 record(s) inserted\n"
     ]
    }
   ],
   "source": [
    "cur.execute('insert into student(rollno,name,marks)values(7,\"my\",56)')\n",
    "db.commit()\n",
    "print(cur.rowcount ,\"record(s) inserted\")"
   ]
  },
  {
   "cell_type": "code",
   "execution_count": null,
   "id": "75d3d0fa",
   "metadata": {},
   "outputs": [],
   "source": [
    "result=cur.execute('select * from student')\n",
    "result.fetchall()"
   ]
  },
  {
   "cell_type": "markdown",
   "id": "b1c7af87",
   "metadata": {},
   "source": [
    "# EMPLOYEE TABLE"
   ]
  },
  {
   "cell_type": "code",
   "execution_count": 21,
   "id": "49b9bdca",
   "metadata": {},
   "outputs": [],
   "source": [
    "import sqlite3 "
   ]
  },
  {
   "cell_type": "markdown",
   "id": "8b0bdae6",
   "metadata": {},
   "source": [
    "WANT TO STORE DATABASE IN PERTICULAE LOCATION"
   ]
  },
  {
   "cell_type": "code",
   "execution_count": 22,
   "id": "65933e95",
   "metadata": {},
   "outputs": [],
   "source": [
    "db=sqlite3.connect(\"E:\\python\\mysqlite_database\\empdatabase.db\")"
   ]
  },
  {
   "cell_type": "code",
   "execution_count": 38,
   "id": "31552771",
   "metadata": {},
   "outputs": [],
   "source": [
    "cur=db.cursor()#cursor object is creted"
   ]
  },
  {
   "cell_type": "code",
   "execution_count": 39,
   "id": "7cd1016a",
   "metadata": {},
   "outputs": [
    {
     "data": {
      "text/plain": [
       "<sqlite3.Cursor at 0x1ef3f08d110>"
      ]
     },
     "execution_count": 39,
     "metadata": {},
     "output_type": "execute_result"
    }
   ],
   "source": [
    "cur.execute('create table employee(id int primary key,name text,age int)')"
   ]
  },
  {
   "cell_type": "code",
   "execution_count": 40,
   "id": "fdb97694",
   "metadata": {},
   "outputs": [
    {
     "name": "stdout",
     "output_type": "stream",
     "text": [
      "1 record(s) inserted\n"
     ]
    }
   ],
   "source": [
    "cur.execute('insert into employee(id,name,age)values(1,\"anita\",33)')\n",
    "db.commit()\n",
    "print(cur.rowcount ,\"record(s) inserted\")"
   ]
  },
  {
   "cell_type": "code",
   "execution_count": 41,
   "id": "624e3f8f",
   "metadata": {},
   "outputs": [],
   "source": [
    "cur.execute('insert into employee(id,name,age)values(2,\"amit\",23)')\n",
    "db.commit()"
   ]
  },
  {
   "cell_type": "code",
   "execution_count": 42,
   "id": "7cf31850",
   "metadata": {},
   "outputs": [],
   "source": [
    "cur.execute('insert into employee(id,name,age)values(3,\"raginee\",32)')\n",
    "db.commit()"
   ]
  },
  {
   "cell_type": "code",
   "execution_count": 43,
   "id": "e0e6e41c",
   "metadata": {},
   "outputs": [
    {
     "name": "stdout",
     "output_type": "stream",
     "text": [
      "(1, 'anita', 33)\n",
      "(2, 'amit', 23)\n",
      "(3, 'raginee', 32)\n"
     ]
    }
   ],
   "source": [
    "res=cur.execute('select * from employee')\n",
    "for i in res:\n",
    "    print(i)"
   ]
  },
  {
   "cell_type": "code",
   "execution_count": 44,
   "id": "2b8e775f",
   "metadata": {},
   "outputs": [
    {
     "name": "stdout",
     "output_type": "stream",
     "text": [
      "2 record(s) inserted\n"
     ]
    }
   ],
   "source": [
    "cur.execute('insert into employee(id,name,age)values(4,\"ritu\",63), (5,\"madhu\",43)')\n",
    "db.commit()\n",
    "print(cur.rowcount ,\"record(s) inserted\")"
   ]
  },
  {
   "cell_type": "code",
   "execution_count": 45,
   "id": "948c3aaf",
   "metadata": {},
   "outputs": [
    {
     "data": {
      "text/plain": [
       "[(1, 'anita', 33),\n",
       " (2, 'amit', 23),\n",
       " (3, 'raginee', 32),\n",
       " (4, 'ritu', 63),\n",
       " (5, 'madhu', 43)]"
      ]
     },
     "execution_count": 45,
     "metadata": {},
     "output_type": "execute_result"
    }
   ],
   "source": [
    "res=cur.execute('select * from employee')\n",
    "res.fetchall()"
   ]
  },
  {
   "cell_type": "code",
   "execution_count": 46,
   "id": "a4270cb6",
   "metadata": {},
   "outputs": [
    {
     "data": {
      "text/plain": [
       "(5, 'madhu', 43)"
      ]
     },
     "execution_count": 46,
     "metadata": {},
     "output_type": "execute_result"
    }
   ],
   "source": [
    "res=cur.execute('select * from employee where id=5')\n",
    "res.fetchone()"
   ]
  },
  {
   "cell_type": "code",
   "execution_count": 47,
   "id": "9f308794",
   "metadata": {},
   "outputs": [
    {
     "data": {
      "text/plain": [
       "[(1, 'anita', 33), (2, 'amit', 23), (3, 'raginee', 32)]"
      ]
     },
     "execution_count": 47,
     "metadata": {},
     "output_type": "execute_result"
    }
   ],
   "source": [
    "res=cur.execute('select * from employee limit 3')\n",
    "res.fetchall()"
   ]
  },
  {
   "cell_type": "code",
   "execution_count": 48,
   "id": "9d8d6d3d",
   "metadata": {},
   "outputs": [
    {
     "data": {
      "text/plain": [
       "[(4, 'ritu', 63),\n",
       " (3, 'raginee', 32),\n",
       " (5, 'madhu', 43),\n",
       " (1, 'anita', 33),\n",
       " (2, 'amit', 23)]"
      ]
     },
     "execution_count": 48,
     "metadata": {},
     "output_type": "execute_result"
    }
   ],
   "source": [
    "res=cur.execute('select * from employee order by name desc ')\n",
    "res.fetchall()"
   ]
  },
  {
   "cell_type": "code",
   "execution_count": 50,
   "id": "402099ca",
   "metadata": {},
   "outputs": [
    {
     "data": {
      "text/plain": [
       "[(2, 'amit', 23),\n",
       " (1, 'anita', 33),\n",
       " (5, 'madhu', 43),\n",
       " (3, 'raginee', 32),\n",
       " (4, 'ritu', 63)]"
      ]
     },
     "execution_count": 50,
     "metadata": {},
     "output_type": "execute_result"
    }
   ],
   "source": [
    "res=cur.execute('select * from employee order by name asc ')\n",
    "res.fetchall()"
   ]
  },
  {
   "cell_type": "code",
   "execution_count": 51,
   "id": "e081eefe",
   "metadata": {},
   "outputs": [
    {
     "data": {
      "text/plain": [
       "[(1, 'anita', 33), (3, 'raginee', 32)]"
      ]
     },
     "execution_count": 51,
     "metadata": {},
     "output_type": "execute_result"
    }
   ],
   "source": [
    "res=cur.execute('select * from employee where age between 30 and 40 ')\n",
    "res.fetchall()"
   ]
  },
  {
   "cell_type": "code",
   "execution_count": 53,
   "id": "d72080d2",
   "metadata": {},
   "outputs": [
    {
     "data": {
      "text/plain": [
       "[(1, 'anita', 33), (3, 'raginee', 32)]"
      ]
     },
     "execution_count": 53,
     "metadata": {},
     "output_type": "execute_result"
    }
   ],
   "source": [
    "res=cur.execute('select * from employee where age >30 and age< 40  ')\n",
    "res.fetchall()"
   ]
  },
  {
   "cell_type": "code",
   "execution_count": 54,
   "id": "8a96609e",
   "metadata": {},
   "outputs": [
    {
     "data": {
      "text/plain": [
       "[(1, 'anita', 33), (2, 'amit', 23), (3, 'raginee', 32)]"
      ]
     },
     "execution_count": 54,
     "metadata": {},
     "output_type": "execute_result"
    }
   ],
   "source": [
    "res=cur.execute('select * from employee where id in(1,2,3) ')\n",
    "res.fetchall()"
   ]
  },
  {
   "cell_type": "code",
   "execution_count": 56,
   "id": "ff17cb32",
   "metadata": {},
   "outputs": [
    {
     "data": {
      "text/plain": [
       "[(1, 'anita', 33), (2, 'amit', 23), (5, 'madhu', 43)]"
      ]
     },
     "execution_count": 56,
     "metadata": {},
     "output_type": "execute_result"
    }
   ],
   "source": [
    "res=cur.execute('select * from employee where age in(33,23,43) ')\n",
    "res.fetchall()"
   ]
  },
  {
   "cell_type": "code",
   "execution_count": 58,
   "id": "38028b04",
   "metadata": {},
   "outputs": [
    {
     "data": {
      "text/plain": [
       "[(5, 'madhu', 43)]"
      ]
     },
     "execution_count": 58,
     "metadata": {},
     "output_type": "execute_result"
    }
   ],
   "source": [
    "res=cur.execute('select * from employee where id =5 ')\n",
    "res.fetchall()"
   ]
  },
  {
   "cell_type": "code",
   "execution_count": null,
   "id": "972336a8",
   "metadata": {},
   "outputs": [],
   "source": []
  },
  {
   "cell_type": "code",
   "execution_count": 62,
   "id": "79103555",
   "metadata": {},
   "outputs": [
    {
     "data": {
      "text/plain": [
       "[(5, 43)]"
      ]
     },
     "execution_count": 62,
     "metadata": {},
     "output_type": "execute_result"
    }
   ],
   "source": [
    "res=cur.execute('select id ,age from employee where name=\"madhu\" ')\n",
    "res.fetchall()"
   ]
  },
  {
   "cell_type": "markdown",
   "id": "4dd03aca",
   "metadata": {},
   "source": [
    "AND OR operater"
   ]
  },
  {
   "cell_type": "code",
   "execution_count": 63,
   "id": "8e86124d",
   "metadata": {},
   "outputs": [
    {
     "data": {
      "text/plain": [
       "[(5, 'madhu', 43)]"
      ]
     },
     "execution_count": 63,
     "metadata": {},
     "output_type": "execute_result"
    }
   ],
   "source": [
    "res=cur.execute('select * from employee where id =5 and name=\"madhu\" ')\n",
    "res.fetchall()"
   ]
  },
  {
   "cell_type": "code",
   "execution_count": 64,
   "id": "52a29051",
   "metadata": {},
   "outputs": [
    {
     "ename": "OperationalError",
     "evalue": "near \"where\": syntax error",
     "output_type": "error",
     "traceback": [
      "\u001b[1;31m---------------------------------------------------------------------------\u001b[0m",
      "\u001b[1;31mOperationalError\u001b[0m                          Traceback (most recent call last)",
      "\u001b[1;32m~\\AppData\\Local\\Temp/ipykernel_6672/1613525539.py\u001b[0m in \u001b[0;36m<module>\u001b[1;34m\u001b[0m\n\u001b[1;32m----> 1\u001b[1;33m \u001b[0mres\u001b[0m\u001b[1;33m=\u001b[0m\u001b[0mcur\u001b[0m\u001b[1;33m.\u001b[0m\u001b[0mexecute\u001b[0m\u001b[1;33m(\u001b[0m\u001b[1;34m'select * from employee where where id =4 and name=\"madhu\" '\u001b[0m\u001b[1;33m)\u001b[0m\u001b[1;33m\u001b[0m\u001b[1;33m\u001b[0m\u001b[0m\n\u001b[0m\u001b[0;32m      2\u001b[0m \u001b[0mres\u001b[0m\u001b[1;33m.\u001b[0m\u001b[0mfetchall\u001b[0m\u001b[1;33m(\u001b[0m\u001b[1;33m)\u001b[0m\u001b[1;33m\u001b[0m\u001b[1;33m\u001b[0m\u001b[0m\n",
      "\u001b[1;31mOperationalError\u001b[0m: near \"where\": syntax error"
     ]
    }
   ],
   "source": [
    "res=cur.execute('select * from employee where where id =4 and name=\"madhu\" ')# AND operater both condition is true is must\n",
    "res.fetchall()"
   ]
  },
  {
   "cell_type": "code",
   "execution_count": 66,
   "id": "82226a56",
   "metadata": {},
   "outputs": [
    {
     "data": {
      "text/plain": [
       "[(5, 'madhu', 43)]"
      ]
     },
     "execution_count": 66,
     "metadata": {},
     "output_type": "execute_result"
    }
   ],
   "source": [
    "res=cur.execute('select * from employee where id =5 or name=\"madhu\" ')\n",
    "res.fetchall()"
   ]
  },
  {
   "cell_type": "code",
   "execution_count": 69,
   "id": "9da5f7ea",
   "metadata": {},
   "outputs": [
    {
     "data": {
      "text/plain": [
       "[(4, 'ritu', 63), (5, 'madhu', 43)]"
      ]
     },
     "execution_count": 69,
     "metadata": {},
     "output_type": "execute_result"
    }
   ],
   "source": [
    "res=cur.execute('select * from employee  where id =4 or name=\"madhu\" ')# OR operater any  condition is true \n",
    "res.fetchall()"
   ]
  },
  {
   "cell_type": "markdown",
   "id": "63694fd1",
   "metadata": {},
   "source": [
    "AGGRIGATE FUNCTION"
   ]
  },
  {
   "cell_type": "markdown",
   "id": "b5dbffb7",
   "metadata": {},
   "source": [
    "MIN - find minimum \n",
    "\n",
    "MAX - find maximum\n",
    "\n",
    "SUM -find sum\n",
    "\n",
    "AVG -find avg\n",
    "\n",
    "COUNT - count no. of row"
   ]
  },
  {
   "cell_type": "code",
   "execution_count": 71,
   "id": "bdc591b9",
   "metadata": {},
   "outputs": [
    {
     "data": {
      "text/plain": [
       "(23,)"
      ]
     },
     "execution_count": 71,
     "metadata": {},
     "output_type": "execute_result"
    }
   ],
   "source": [
    "res=cur.execute('select min(age) from employee  ')\n",
    "res.fetchone()"
   ]
  },
  {
   "cell_type": "code",
   "execution_count": 72,
   "id": "6604acf1",
   "metadata": {},
   "outputs": [
    {
     "data": {
      "text/plain": [
       "(63,)"
      ]
     },
     "execution_count": 72,
     "metadata": {},
     "output_type": "execute_result"
    }
   ],
   "source": [
    "res=cur.execute('select max(age) from employee  ')\n",
    "res.fetchone()"
   ]
  },
  {
   "cell_type": "code",
   "execution_count": 74,
   "id": "511de05d",
   "metadata": {},
   "outputs": [
    {
     "data": {
      "text/plain": [
       "(38.8,)"
      ]
     },
     "execution_count": 74,
     "metadata": {},
     "output_type": "execute_result"
    }
   ],
   "source": [
    "res=cur.execute('select avg(age) from employee  ')\n",
    "res.fetchone()"
   ]
  },
  {
   "cell_type": "code",
   "execution_count": 75,
   "id": "1302cb48",
   "metadata": {},
   "outputs": [
    {
     "data": {
      "text/plain": [
       "(194,)"
      ]
     },
     "execution_count": 75,
     "metadata": {},
     "output_type": "execute_result"
    }
   ],
   "source": [
    "res=cur.execute('select sum(age) from employee  ')\n",
    "res.fetchone()"
   ]
  },
  {
   "cell_type": "code",
   "execution_count": 76,
   "id": "0ec37f11",
   "metadata": {},
   "outputs": [
    {
     "data": {
      "text/plain": [
       "(5,)"
      ]
     },
     "execution_count": 76,
     "metadata": {},
     "output_type": "execute_result"
    }
   ],
   "source": [
    "res=cur.execute('select count(age) from employee  ')\n",
    "res.fetchone()"
   ]
  },
  {
   "cell_type": "markdown",
   "id": "935b368b",
   "metadata": {},
   "source": [
    "NULL operater- if any value is missing"
   ]
  },
  {
   "cell_type": "code",
   "execution_count": 81,
   "id": "410a4a4f",
   "metadata": {},
   "outputs": [
    {
     "data": {
      "text/plain": [
       "[]"
      ]
     },
     "execution_count": 81,
     "metadata": {},
     "output_type": "execute_result"
    }
   ],
   "source": [
    "res=cur.execute('select * from employee  where name is null')\n",
    "res.fetchall()#there is no null value"
   ]
  },
  {
   "cell_type": "code",
   "execution_count": 83,
   "id": "d0354dbd",
   "metadata": {},
   "outputs": [
    {
     "data": {
      "text/plain": [
       "[(1, 'anita', 33),\n",
       " (2, 'amit', 23),\n",
       " (3, 'raginee', 32),\n",
       " (4, 'ritu', 63),\n",
       " (5, 'madhu', 43)]"
      ]
     },
     "execution_count": 83,
     "metadata": {},
     "output_type": "execute_result"
    }
   ],
   "source": [
    "res=cur.execute('select * from employee  where name is not null')#not null means not missing\n",
    "res.fetchall()"
   ]
  },
  {
   "cell_type": "code",
   "execution_count": 90,
   "id": "71b1cc96",
   "metadata": {},
   "outputs": [],
   "source": [
    "cur.execute('insert into employee(id,name,age)values(6,null,33)')\n",
    "db.commit()"
   ]
  },
  {
   "cell_type": "code",
   "execution_count": 91,
   "id": "b8f41508",
   "metadata": {},
   "outputs": [
    {
     "data": {
      "text/plain": [
       "[(6, None, 33)]"
      ]
     },
     "execution_count": 91,
     "metadata": {},
     "output_type": "execute_result"
    }
   ],
   "source": [
    "res=cur.execute('select * from employee  where name is null')\n",
    "res.fetchall()#there is one null value"
   ]
  },
  {
   "cell_type": "markdown",
   "id": "d5b5af3c",
   "metadata": {},
   "source": [
    "LIKE OPERATER- in which % means any character, _(underscose )means single character"
   ]
  },
  {
   "cell_type": "code",
   "execution_count": 93,
   "id": "081ccc14",
   "metadata": {},
   "outputs": [
    {
     "data": {
      "text/plain": [
       "[(5, 'madhu', 43)]"
      ]
     },
     "execution_count": 93,
     "metadata": {},
     "output_type": "execute_result"
    }
   ],
   "source": [
    "res=cur.execute('select * from employee  where name like \"m%\"')\n",
    "res.fetchall()#there is one null value"
   ]
  },
  {
   "cell_type": "code",
   "execution_count": 94,
   "id": "05f75fce",
   "metadata": {},
   "outputs": [
    {
     "data": {
      "text/plain": [
       "[(1, 'anita', 33), (2, 'amit', 23), (3, 'raginee', 32), (5, 'madhu', 43)]"
      ]
     },
     "execution_count": 94,
     "metadata": {},
     "output_type": "execute_result"
    }
   ],
   "source": [
    "res=cur.execute('select * from employee  where name like \"%a%\"')\n",
    "res.fetchall()"
   ]
  },
  {
   "cell_type": "code",
   "execution_count": 95,
   "id": "d3ac878c",
   "metadata": {},
   "outputs": [
    {
     "data": {
      "text/plain": [
       "[(4, 'ritu', 63), (5, 'madhu', 43)]"
      ]
     },
     "execution_count": 95,
     "metadata": {},
     "output_type": "execute_result"
    }
   ],
   "source": [
    "res=cur.execute('select * from employee  where name like \"%u\"')\n",
    "res.fetchall()"
   ]
  },
  {
   "cell_type": "code",
   "execution_count": 97,
   "id": "91dceb5f",
   "metadata": {},
   "outputs": [
    {
     "data": {
      "text/plain": [
       "[(3, 'raginee', 32), (5, 'madhu', 43)]"
      ]
     },
     "execution_count": 97,
     "metadata": {},
     "output_type": "execute_result"
    }
   ],
   "source": [
    "res=cur.execute('select * from employee  where name like \"_a%\"')\n",
    "res.fetchall()"
   ]
  },
  {
   "cell_type": "code",
   "execution_count": 98,
   "id": "5348c967",
   "metadata": {},
   "outputs": [
    {
     "data": {
      "text/plain": [
       "[(2, 'amit', 23), (4, 'ritu', 63)]"
      ]
     },
     "execution_count": 98,
     "metadata": {},
     "output_type": "execute_result"
    }
   ],
   "source": [
    "res=cur.execute('select * from employee  where name like \"____\"')#4 under score means four character name is fetch\n",
    "res.fetchall()"
   ]
  },
  {
   "cell_type": "markdown",
   "id": "e3094b61",
   "metadata": {},
   "source": [
    "NOT IN operater"
   ]
  },
  {
   "cell_type": "code",
   "execution_count": 99,
   "id": "fd8c90cc",
   "metadata": {},
   "outputs": [
    {
     "data": {
      "text/plain": [
       "[(2, 'amit', 23), (3, 'raginee', 32), (4, 'ritu', 63), (5, 'madhu', 43)]"
      ]
     },
     "execution_count": 99,
     "metadata": {},
     "output_type": "execute_result"
    }
   ],
   "source": [
    "res=cur.execute('select * from employee  where age not in (33)')#reverse of in operater\n",
    "res.fetchall()"
   ]
  },
  {
   "cell_type": "code",
   "execution_count": 100,
   "id": "f131e66e",
   "metadata": {},
   "outputs": [
    {
     "data": {
      "text/plain": [
       "[(1, 'anita', 33), (6, None, 33)]"
      ]
     },
     "execution_count": 100,
     "metadata": {},
     "output_type": "execute_result"
    }
   ],
   "source": [
    "res=cur.execute('select * from employee  where age in (33)')\n",
    "res.fetchall()"
   ]
  },
  {
   "cell_type": "markdown",
   "id": "4826f010",
   "metadata": {},
   "source": [
    "UPDATE QUERY -use for edit attributes\n",
    "\n",
    "DELETE query -use for delete perticuler row\n",
    "\n",
    "DROP QUERY - delete whole table "
   ]
  },
  {
   "cell_type": "code",
   "execution_count": 101,
   "id": "9130443a",
   "metadata": {},
   "outputs": [],
   "source": [
    "sql=\"update employee set age=60 where id=4\"\n",
    "cur.execute(sql)\n",
    "db.commit()"
   ]
  },
  {
   "cell_type": "code",
   "execution_count": 102,
   "id": "d4a62afb",
   "metadata": {},
   "outputs": [
    {
     "data": {
      "text/plain": [
       "[(1, 'anita', 33),\n",
       " (2, 'amit', 23),\n",
       " (3, 'raginee', 32),\n",
       " (4, 'ritu', 60),\n",
       " (5, 'madhu', 43),\n",
       " (6, None, 33)]"
      ]
     },
     "execution_count": 102,
     "metadata": {},
     "output_type": "execute_result"
    }
   ],
   "source": [
    "res=cur.execute('select * from employee ')\n",
    "res.fetchall()"
   ]
  },
  {
   "cell_type": "code",
   "execution_count": 103,
   "id": "1f1abe71",
   "metadata": {},
   "outputs": [],
   "source": [
    "\n",
    "cur.execute(\"update employee set age=65 where name='ritu'\")\n",
    "db.commit()"
   ]
  },
  {
   "cell_type": "code",
   "execution_count": 104,
   "id": "ca44c399",
   "metadata": {},
   "outputs": [
    {
     "data": {
      "text/plain": [
       "[(1, 'anita', 33),\n",
       " (2, 'amit', 23),\n",
       " (3, 'raginee', 32),\n",
       " (4, 'ritu', 65),\n",
       " (5, 'madhu', 43),\n",
       " (6, None, 33)]"
      ]
     },
     "execution_count": 104,
     "metadata": {},
     "output_type": "execute_result"
    }
   ],
   "source": [
    "res=cur.execute('select * from employee ')\n",
    "res.fetchall()"
   ]
  },
  {
   "cell_type": "code",
   "execution_count": 106,
   "id": "14a47d6a",
   "metadata": {},
   "outputs": [
    {
     "data": {
      "text/plain": [
       "[(1, 'anita', 33),\n",
       " (2, 'amit', 23),\n",
       " (3, 'raginee', 50),\n",
       " (4, 'ritu', 65),\n",
       " (5, 'madhu', 50),\n",
       " (6, None, 33)]"
      ]
     },
     "execution_count": 106,
     "metadata": {},
     "output_type": "execute_result"
    }
   ],
   "source": [
    "cur.execute(\"update employee set age=50 where id in(3,5)\")\n",
    "db.commit()\n",
    "res=cur.execute('select * from employee ')\n",
    "res.fetchall()"
   ]
  },
  {
   "cell_type": "code",
   "execution_count": 109,
   "id": "e62e2cbb",
   "metadata": {},
   "outputs": [
    {
     "data": {
      "text/plain": [
       "[(1, 'anita', 33),\n",
       " (2, 'amit', 23),\n",
       " (3, 'raginee', 50),\n",
       " (4, 'ritu', 65),\n",
       " (5, 'madhu', 50)]"
      ]
     },
     "execution_count": 109,
     "metadata": {},
     "output_type": "execute_result"
    }
   ],
   "source": [
    "cur.execute(\"delete from employee where id=6\")\n",
    "db.commit()\n",
    "res=cur.execute('select * from employee ')\n",
    "res.fetchall()"
   ]
  },
  {
   "cell_type": "markdown",
   "id": "a012a224",
   "metadata": {},
   "source": [
    "# INSERTING RECORDS FROM CSV(cama sepereted value)file into table"
   ]
  },
  {
   "cell_type": "code",
   "execution_count": 37,
   "id": "3bc9c7ca",
   "metadata": {},
   "outputs": [],
   "source": [
    "import sqlite3 "
   ]
  },
  {
   "cell_type": "code",
   "execution_count": 38,
   "id": "e922cda1",
   "metadata": {},
   "outputs": [],
   "source": [
    "db=sqlite3.connect(\"E:\\python\\mysqlite_database\\score.db\")#database created in given location"
   ]
  },
  {
   "cell_type": "code",
   "execution_count": 39,
   "id": "07666600",
   "metadata": {},
   "outputs": [],
   "source": [
    "cur=db.cursor()"
   ]
  },
  {
   "cell_type": "code",
   "execution_count": 42,
   "id": "fa22e348",
   "metadata": {},
   "outputs": [
    {
     "data": {
      "text/plain": [
       "<sqlite3.Cursor at 0x240d8a8a260>"
      ]
     },
     "execution_count": 42,
     "metadata": {},
     "output_type": "execute_result"
    }
   ],
   "source": [
    "cur.execute('create table score1(gender text,id int primary key,score int)')"
   ]
  },
  {
   "cell_type": "code",
   "execution_count": 43,
   "id": "2fc352fb",
   "metadata": {},
   "outputs": [
    {
     "ename": "IntegrityError",
     "evalue": "UNIQUE constraint failed: score.id",
     "output_type": "error",
     "traceback": [
      "\u001b[1;31m---------------------------------------------------------------------------\u001b[0m",
      "\u001b[1;31mIntegrityError\u001b[0m                            Traceback (most recent call last)",
      "\u001b[1;32m~\\AppData\\Local\\Temp/ipykernel_5752/1681364331.py\u001b[0m in \u001b[0;36m<module>\u001b[1;34m\u001b[0m\n\u001b[0;32m      3\u001b[0m     \u001b[0mtotal_record\u001b[0m\u001b[1;33m=\u001b[0m\u001b[1;36m0\u001b[0m\u001b[1;33m\u001b[0m\u001b[1;33m\u001b[0m\u001b[0m\n\u001b[0;32m      4\u001b[0m     \u001b[1;32mfor\u001b[0m \u001b[0mrow\u001b[0m \u001b[1;32min\u001b[0m \u001b[0mfile\u001b[0m\u001b[1;33m:\u001b[0m\u001b[1;33m\u001b[0m\u001b[1;33m\u001b[0m\u001b[0m\n\u001b[1;32m----> 5\u001b[1;33m         \u001b[0mcur\u001b[0m\u001b[1;33m.\u001b[0m\u001b[0mexecute\u001b[0m\u001b[1;33m(\u001b[0m\u001b[1;34m'insert into score values(?,?,?)'\u001b[0m \u001b[1;33m,\u001b[0m\u001b[0mrow\u001b[0m\u001b[1;33m.\u001b[0m\u001b[0msplit\u001b[0m\u001b[1;33m(\u001b[0m\u001b[1;34m','\u001b[0m\u001b[1;33m)\u001b[0m\u001b[1;33m)\u001b[0m \u001b[1;31m#? used for inserting dynamic value\u001b[0m\u001b[1;33m\u001b[0m\u001b[1;33m\u001b[0m\u001b[0m\n\u001b[0m\u001b[0;32m      6\u001b[0m         \u001b[0mdb\u001b[0m\u001b[1;33m.\u001b[0m\u001b[0mcommit\u001b[0m\u001b[1;33m(\u001b[0m\u001b[1;33m)\u001b[0m\u001b[1;33m\u001b[0m\u001b[1;33m\u001b[0m\u001b[0m\n\u001b[0;32m      7\u001b[0m         \u001b[0mtotal_record\u001b[0m\u001b[1;33m+=\u001b[0m\u001b[1;36m1\u001b[0m\u001b[1;33m\u001b[0m\u001b[1;33m\u001b[0m\u001b[0m\n",
      "\u001b[1;31mIntegrityError\u001b[0m: UNIQUE constraint failed: score.id"
     ]
    }
   ],
   "source": [
    "# if our file is in any drive then need to give path or upload into jupyter notebook\n",
    "with open(\"score_file.csv\",'r') as file: #file is variable \n",
    "    total_record=0\n",
    "    for row in file:\n",
    "        cur.execute('insert into score values(?,?,?)' ,row.split(',')) #? used for inserting dynamic value\n",
    "        db.commit()\n",
    "        total_record+=1\n",
    "print(total_record,\"record inserted\")\n",
    "    "
   ]
  },
  {
   "cell_type": "code",
   "execution_count": 44,
   "id": "d9e3d168",
   "metadata": {},
   "outputs": [
    {
     "name": "stdout",
     "output_type": "stream",
     "text": [
      "('male', 101, 23)\n",
      "('male', 102, 45)\n",
      "('female', 103, 32)\n",
      "('male', 105, 98)\n",
      "('female', 106, 23)\n"
     ]
    }
   ],
   "source": [
    "result=cur.execute('select * from score')\n",
    "for res in result:\n",
    "    print(res)"
   ]
  },
  {
   "cell_type": "code",
   "execution_count": 7,
   "id": "f5aa5b02",
   "metadata": {},
   "outputs": [
    {
     "name": "stdout",
     "output_type": "stream",
     "text": [
      "('male', 102, 45)\n"
     ]
    }
   ],
   "source": [
    "result=cur.execute('select * from score where id=102')\n",
    "for res in result:\n",
    "    print(res)"
   ]
  },
  {
   "cell_type": "markdown",
   "id": "67e07b6e",
   "metadata": {},
   "source": [
    "# IF OUR CSV FILE IS OUT OF JUPYTER NOTE BOOK THEN WE HAVE TO GIVE THE PATH OR UPLOAD IT INTO JUPYTER"
   ]
  },
  {
   "cell_type": "code",
   "execution_count": 46,
   "id": "6414f4db",
   "metadata": {},
   "outputs": [],
   "source": [
    "import sqlite3"
   ]
  },
  {
   "cell_type": "code",
   "execution_count": 47,
   "id": "6438aa20",
   "metadata": {},
   "outputs": [],
   "source": [
    "con=sqlite3.connect(\"E:\\python\\mysqlite_database\\person.db\")"
   ]
  },
  {
   "cell_type": "code",
   "execution_count": 48,
   "id": "1fb1a35e",
   "metadata": {},
   "outputs": [],
   "source": [
    "cur=con.cursor()"
   ]
  },
  {
   "cell_type": "code",
   "execution_count": 68,
   "id": "64e083a7",
   "metadata": {},
   "outputs": [
    {
     "data": {
      "text/plain": [
       "<sqlite3.Cursor at 0x240d8a8ac00>"
      ]
     },
     "execution_count": 68,
     "metadata": {},
     "output_type": "execute_result"
    }
   ],
   "source": [
    "cur.execute('create table person9(id int primary key,name text,age int)')"
   ]
  },
  {
   "cell_type": "code",
   "execution_count": 69,
   "id": "a75e11ce",
   "metadata": {},
   "outputs": [
    {
     "name": "stdout",
     "output_type": "stream",
     "text": [
      "4 record inserted\n"
     ]
    }
   ],
   "source": [
    "# if our file is in any drive then need to give path or upload into jupyter notebook\n",
    "with open(\"myfile1.csv\",'r') as file: #file is variable \n",
    "    total_record=0\n",
    "    for row in file:\n",
    "        cur.execute('insert into person9 values(?,?,?)' , row.split(',')) #? used for inserting dynamic value\n",
    "        con.commit()\n",
    "        total_record+=1\n",
    "print(total_record,\"record inserted\")"
   ]
  },
  {
   "cell_type": "code",
   "execution_count": 70,
   "id": "720fc263",
   "metadata": {},
   "outputs": [
    {
     "name": "stdout",
     "output_type": "stream",
     "text": [
      "('id', 'name', 'age\\n')\n",
      "(1, 'ranu', 23)\n",
      "(2, 'minu', 45)\n",
      "(3, 'sonu', 23)\n"
     ]
    }
   ],
   "source": [
    "result=cur.execute('select * from person7')\n",
    "for res in result:\n",
    "    print(res)"
   ]
  },
  {
   "cell_type": "markdown",
   "id": "21507fb8",
   "metadata": {},
   "source": [
    "# UNIQUE AND NOT NULL"
   ]
  },
  {
   "cell_type": "markdown",
   "id": "b667039e",
   "metadata": {},
   "source": [
    "UNIQUE -enter only unique value ,no duplicates value\n",
    "\n",
    "\n",
    "NOT NULL- no blank value can be inserted in table"
   ]
  },
  {
   "cell_type": "code",
   "execution_count": 2,
   "id": "873e1a31",
   "metadata": {},
   "outputs": [],
   "source": [
    "import sqlite3"
   ]
  },
  {
   "cell_type": "code",
   "execution_count": 4,
   "id": "1494f3c4",
   "metadata": {},
   "outputs": [],
   "source": [
    "con=sqlite3.connect(\"E:\\python\\mysqlite_database\\constraint.db\")"
   ]
  },
  {
   "cell_type": "code",
   "execution_count": 5,
   "id": "24e79731",
   "metadata": {},
   "outputs": [],
   "source": [
    "cur=con.cursor()"
   ]
  },
  {
   "cell_type": "code",
   "execution_count": 12,
   "id": "75470c9d",
   "metadata": {},
   "outputs": [
    {
     "data": {
      "text/plain": [
       "<sqlite3.Cursor at 0x2ca4e8d0c00>"
      ]
     },
     "execution_count": 12,
     "metadata": {},
     "output_type": "execute_result"
    }
   ],
   "source": [
    "cur.execute(\"create table employees(id int primary key,name text,phone int unique,address text not null)\")"
   ]
  },
  {
   "cell_type": "code",
   "execution_count": 19,
   "id": "ea1959b4",
   "metadata": {},
   "outputs": [
    {
     "ename": "IntegrityError",
     "evalue": "UNIQUE constraint failed: employees.phone",
     "output_type": "error",
     "traceback": [
      "\u001b[1;31m---------------------------------------------------------------------------\u001b[0m",
      "\u001b[1;31mIntegrityError\u001b[0m                            Traceback (most recent call last)",
      "\u001b[1;32m~\\AppData\\Local\\Temp/ipykernel_9332/997263266.py\u001b[0m in \u001b[0;36m<module>\u001b[1;34m\u001b[0m\n\u001b[1;32m----> 1\u001b[1;33m \u001b[0mcur\u001b[0m\u001b[1;33m.\u001b[0m\u001b[0mexecute\u001b[0m\u001b[1;33m(\u001b[0m\u001b[1;34m\"insert into employees values(101,'ranu',9406514131,'raipur')\"\u001b[0m\u001b[1;33m)\u001b[0m\u001b[1;33m\u001b[0m\u001b[1;33m\u001b[0m\u001b[0m\n\u001b[0m\u001b[0;32m      2\u001b[0m \u001b[0mdb\u001b[0m\u001b[1;33m.\u001b[0m\u001b[0mcommit\u001b[0m\u001b[1;33m(\u001b[0m\u001b[1;33m)\u001b[0m\u001b[1;33m\u001b[0m\u001b[1;33m\u001b[0m\u001b[0m\n",
      "\u001b[1;31mIntegrityError\u001b[0m: UNIQUE constraint failed: employees.phone"
     ]
    }
   ],
   "source": [
    "cur.execute(\"insert into employees values(101,'ranu',9406514131,'raipur')\")\n",
    "db.commit()"
   ]
  },
  {
   "cell_type": "code",
   "execution_count": 15,
   "id": "01179466",
   "metadata": {},
   "outputs": [
    {
     "ename": "IntegrityError",
     "evalue": "UNIQUE constraint failed: employees.phone",
     "output_type": "error",
     "traceback": [
      "\u001b[1;31m---------------------------------------------------------------------------\u001b[0m",
      "\u001b[1;31mIntegrityError\u001b[0m                            Traceback (most recent call last)",
      "\u001b[1;32m~\\AppData\\Local\\Temp/ipykernel_9332/2775597659.py\u001b[0m in \u001b[0;36m<module>\u001b[1;34m\u001b[0m\n\u001b[1;32m----> 1\u001b[1;33m \u001b[0mcur\u001b[0m\u001b[1;33m.\u001b[0m\u001b[0mexecute\u001b[0m\u001b[1;33m(\u001b[0m\u001b[1;34m\"insert into employees values(102,'ranu',9406514131,'raipur')\"\u001b[0m\u001b[1;33m)\u001b[0m\u001b[1;33m\u001b[0m\u001b[1;33m\u001b[0m\u001b[0m\n\u001b[0m",
      "\u001b[1;31mIntegrityError\u001b[0m: UNIQUE constraint failed: employees.phone"
     ]
    }
   ],
   "source": [
    "cur.execute(\"insert into employees values(102,'ranu',9406514131,'raipur')\")#we have enter unique phone no"
   ]
  },
  {
   "cell_type": "code",
   "execution_count": 16,
   "id": "0030f032",
   "metadata": {},
   "outputs": [
    {
     "data": {
      "text/plain": [
       "<sqlite3.Cursor at 0x2ca4e8d0c00>"
      ]
     },
     "execution_count": 16,
     "metadata": {},
     "output_type": "execute_result"
    }
   ],
   "source": [
    "cur.execute(\"insert into employees values(103,'sonu',9423455531,'bhilai')\")"
   ]
  },
  {
   "cell_type": "code",
   "execution_count": 18,
   "id": "28aaaff4",
   "metadata": {},
   "outputs": [
    {
     "data": {
      "text/plain": [
       "<sqlite3.Cursor at 0x2ca4e8d0c00>"
      ]
     },
     "execution_count": 18,
     "metadata": {},
     "output_type": "execute_result"
    }
   ],
   "source": [
    "cur.execute(\"insert into employees values(104,'setu',8776514131,'')\")"
   ]
  },
  {
   "cell_type": "code",
   "execution_count": 22,
   "id": "f5607300",
   "metadata": {},
   "outputs": [
    {
     "ename": "IntegrityError",
     "evalue": "UNIQUE constraint failed: employees.id",
     "output_type": "error",
     "traceback": [
      "\u001b[1;31m---------------------------------------------------------------------------\u001b[0m",
      "\u001b[1;31mIntegrityError\u001b[0m                            Traceback (most recent call last)",
      "\u001b[1;32m~\\AppData\\Local\\Temp/ipykernel_9332/966417643.py\u001b[0m in \u001b[0;36m<module>\u001b[1;34m\u001b[0m\n\u001b[1;32m----> 1\u001b[1;33m \u001b[0mcur\u001b[0m\u001b[1;33m.\u001b[0m\u001b[0mexecute\u001b[0m\u001b[1;33m(\u001b[0m\u001b[1;34m\"insert into employees values(105,'ranu',9406785661,'raighar')\"\u001b[0m\u001b[1;33m)\u001b[0m\u001b[1;33m\u001b[0m\u001b[1;33m\u001b[0m\u001b[0m\n\u001b[0m\u001b[0;32m      2\u001b[0m \u001b[0mcon\u001b[0m\u001b[1;33m.\u001b[0m\u001b[0mcommit\u001b[0m\u001b[1;33m(\u001b[0m\u001b[1;33m)\u001b[0m\u001b[1;33m\u001b[0m\u001b[1;33m\u001b[0m\u001b[0m\n",
      "\u001b[1;31mIntegrityError\u001b[0m: UNIQUE constraint failed: employees.id"
     ]
    }
   ],
   "source": [
    "cur.execute(\"insert into employees values(105,'ranu',9406785661,'raighar')\")\n",
    "con.commit()"
   ]
  },
  {
   "cell_type": "code",
   "execution_count": 23,
   "id": "26647b8e",
   "metadata": {},
   "outputs": [
    {
     "ename": "IntegrityError",
     "evalue": "NOT NULL constraint failed: employees.address",
     "output_type": "error",
     "traceback": [
      "\u001b[1;31m---------------------------------------------------------------------------\u001b[0m",
      "\u001b[1;31mIntegrityError\u001b[0m                            Traceback (most recent call last)",
      "\u001b[1;32m~\\AppData\\Local\\Temp/ipykernel_9332/2509853866.py\u001b[0m in \u001b[0;36m<module>\u001b[1;34m\u001b[0m\n\u001b[1;32m----> 1\u001b[1;33m \u001b[0mcur\u001b[0m\u001b[1;33m.\u001b[0m\u001b[0mexecute\u001b[0m\u001b[1;33m(\u001b[0m\u001b[1;34m\"insert into employees values(108,'sonu',9423455451,null)\"\u001b[0m\u001b[1;33m)\u001b[0m\u001b[1;33m\u001b[0m\u001b[1;33m\u001b[0m\u001b[0m\n\u001b[0m",
      "\u001b[1;31mIntegrityError\u001b[0m: NOT NULL constraint failed: employees.address"
     ]
    }
   ],
   "source": [
    "cur.execute(\"insert into employees values(108,'sonu',9423455451,null)\")#have to fill the value of add bcz that is not null"
   ]
  },
  {
   "cell_type": "code",
   "execution_count": 24,
   "id": "fdbd71ed",
   "metadata": {},
   "outputs": [
    {
     "data": {
      "text/plain": [
       "<sqlite3.Cursor at 0x2ca4e8d0c00>"
      ]
     },
     "execution_count": 24,
     "metadata": {},
     "output_type": "execute_result"
    }
   ],
   "source": [
    "cur.execute(\"insert into employees values(109,'myra',9478855531,'raipur')\")"
   ]
  },
  {
   "cell_type": "code",
   "execution_count": 27,
   "id": "e804e216",
   "metadata": {},
   "outputs": [
    {
     "data": {
      "text/plain": [
       "[(101, 'ranu', 9406514131, 'raipur'),\n",
       " (103, 'sonu', 9423455531, 'bhilai'),\n",
       " (104, 'setu', 8776514131, ''),\n",
       " (105, 'ranu', 940678831, 'raighar'),\n",
       " (109, 'myra', 9478855531, 'raipur')]"
      ]
     },
     "execution_count": 27,
     "metadata": {},
     "output_type": "execute_result"
    }
   ],
   "source": [
    "res=cur.execute('select * from employees')\n",
    "res.fetchall()"
   ]
  },
  {
   "cell_type": "markdown",
   "id": "a6831699",
   "metadata": {},
   "source": [
    "# EMPLOYEE DATABASE WITH DB AND PYTHON PROGRAMMING"
   ]
  },
  {
   "cell_type": "code",
   "execution_count": 28,
   "id": "f1fada8d",
   "metadata": {},
   "outputs": [],
   "source": [
    "import sqlite3"
   ]
  },
  {
   "cell_type": "code",
   "execution_count": 30,
   "id": "bacb5bb7",
   "metadata": {},
   "outputs": [],
   "source": [
    "con=sqlite3.connect(\"E:\\python\\mysqlite_database\\emp_database.db\")"
   ]
  },
  {
   "cell_type": "code",
   "execution_count": 34,
   "id": "b87fd472",
   "metadata": {},
   "outputs": [],
   "source": [
    "def sql_table (con):\n",
    "    cur=con.cursor()\n",
    "    cur.execute(\"create table employee(id int primary key,name text,address text)\")\n",
    "    con.commit()"
   ]
  },
  {
   "cell_type": "code",
   "execution_count": 35,
   "id": "61318eef",
   "metadata": {},
   "outputs": [],
   "source": [
    "sql_table(con)#calling function"
   ]
  },
  {
   "cell_type": "code",
   "execution_count": 40,
   "id": "9582b68b",
   "metadata": {},
   "outputs": [],
   "source": [
    "cur=con.cursor()\n",
    "cur.execute(\"insert into employee values(102,'raginee','raipur')\")\n",
    "con.commit()"
   ]
  },
  {
   "cell_type": "code",
   "execution_count": 42,
   "id": "0acf1635",
   "metadata": {},
   "outputs": [
    {
     "data": {
      "text/plain": [
       "[(102, 'raginee', 'raipur')]"
      ]
     },
     "execution_count": 42,
     "metadata": {},
     "output_type": "execute_result"
    }
   ],
   "source": [
    "res=cur.execute(\"select* from employee\")\n",
    "res.fetchall()"
   ]
  },
  {
   "cell_type": "markdown",
   "id": "50430dd7",
   "metadata": {},
   "source": [
    "# we can also pass value/argumensts to a insert statement in the execute method. you can use the ? as a placeholder for each value the syntax of the insert is like be following"
   ]
  },
  {
   "cell_type": "markdown",
   "id": "ffc6bcf7",
   "metadata": {},
   "source": [
    "cur.execute('''insert into employee (id,name,address) values (?,?,?) , entities''')\n",
    "\n",
    "\n",
    "entities=(103,'sonu','bhilai')"
   ]
  },
  {
   "cell_type": "code",
   "execution_count": 43,
   "id": "f429f091",
   "metadata": {},
   "outputs": [],
   "source": [
    "def sql_insert (con,entities):\n",
    "    cur=con.cursor()\n",
    "    cur.execute('insert into employee (id,name,address) values (?,?,?)' , entities)\n",
    "    con.commit()\n",
    "    "
   ]
  },
  {
   "cell_type": "code",
   "execution_count": 44,
   "id": "aa1d64a3",
   "metadata": {},
   "outputs": [],
   "source": [
    "entities=(103,'sonu','bhilai')"
   ]
  },
  {
   "cell_type": "code",
   "execution_count": 45,
   "id": "c840a2de",
   "metadata": {},
   "outputs": [],
   "source": [
    "sql_insert(con,entities)#function calling"
   ]
  },
  {
   "cell_type": "code",
   "execution_count": 46,
   "id": "94be44b1",
   "metadata": {},
   "outputs": [],
   "source": [
    "entities=(104,'meenu','bhilai')"
   ]
  },
  {
   "cell_type": "code",
   "execution_count": 48,
   "id": "75bdf0e0",
   "metadata": {},
   "outputs": [],
   "source": [
    "sql_insert(con,entities)"
   ]
  },
  {
   "cell_type": "code",
   "execution_count": 49,
   "id": "b38c566c",
   "metadata": {},
   "outputs": [
    {
     "data": {
      "text/plain": [
       "[(102, 'raginee', 'raipur'), (103, 'sonu', 'bhilai'), (104, 'meenu', 'bhilai')]"
      ]
     },
     "execution_count": 49,
     "metadata": {},
     "output_type": "execute_result"
    }
   ],
   "source": [
    "res=cur.execute(\"select* from employee\")\n",
    "res.fetchall()"
   ]
  },
  {
   "cell_type": "code",
   "execution_count": 50,
   "id": "27375e07",
   "metadata": {},
   "outputs": [],
   "source": [
    "entities=(105,'chiku','korba')\n",
    "sql_insert(con,entities)\n",
    "entities=(106,'madhu','indore')\n",
    "sql_insert(con,entities)\n"
   ]
  },
  {
   "cell_type": "code",
   "execution_count": 51,
   "id": "382db1a7",
   "metadata": {},
   "outputs": [
    {
     "data": {
      "text/plain": [
       "[(102, 'raginee', 'raipur'),\n",
       " (103, 'sonu', 'bhilai'),\n",
       " (104, 'meenu', 'bhilai'),\n",
       " (105, 'chiku', 'korba'),\n",
       " (106, 'madhu', 'indore')]"
      ]
     },
     "execution_count": 51,
     "metadata": {},
     "output_type": "execute_result"
    }
   ],
   "source": [
    "res=cur.execute(\"select* from employee\")\n",
    "res.fetchall()"
   ]
  },
  {
   "cell_type": "code",
   "execution_count": 61,
   "id": "4d313808",
   "metadata": {},
   "outputs": [],
   "source": [
    "def sql_update(con):\n",
    "    cur=con.cursor()\n",
    "    cur.execute('update employee set address= \"mumbai\" where id=104 ')\n",
    "    con.commit()"
   ]
  },
  {
   "cell_type": "code",
   "execution_count": 62,
   "id": "d9c69b1a",
   "metadata": {},
   "outputs": [],
   "source": [
    " sql_update(con)"
   ]
  },
  {
   "cell_type": "code",
   "execution_count": 63,
   "id": "71f8aad6",
   "metadata": {},
   "outputs": [
    {
     "data": {
      "text/plain": [
       "[(102, 'raginee', 'raipur'),\n",
       " (103, 'sonu', 'bhilai'),\n",
       " (104, 'meenu', 'mumbai'),\n",
       " (105, 'chiku', 'korba'),\n",
       " (106, 'madhu', 'indore')]"
      ]
     },
     "execution_count": 63,
     "metadata": {},
     "output_type": "execute_result"
    }
   ],
   "source": [
    "res=cur.execute(\"select* from employee\")\n",
    "res.fetchall()"
   ]
  },
  {
   "cell_type": "code",
   "execution_count": 64,
   "id": "a458919d",
   "metadata": {},
   "outputs": [
    {
     "data": {
      "text/plain": [
       "[('meenu', 'mumbai'), ('chiku', 'korba'), ('madhu', 'indore')]"
      ]
     },
     "execution_count": 64,
     "metadata": {},
     "output_type": "execute_result"
    }
   ],
   "source": [
    "res=cur.execute(\"select name,address from employee where id>103\")\n",
    "res.fetchall()"
   ]
  },
  {
   "cell_type": "code",
   "execution_count": 66,
   "id": "a9f998eb",
   "metadata": {},
   "outputs": [
    {
     "data": {
      "text/plain": [
       "[(5,)]"
      ]
     },
     "execution_count": 66,
     "metadata": {},
     "output_type": "execute_result"
    }
   ],
   "source": [
    "res=cur.execute(\"select count(id) from employee\")\n",
    "res.fetchall()"
   ]
  },
  {
   "cell_type": "code",
   "execution_count": 67,
   "id": "5c721449",
   "metadata": {},
   "outputs": [
    {
     "data": {
      "text/plain": [
       "[('raipur',), ('bhilai',), ('mumbai',), ('korba',), ('indore',)]"
      ]
     },
     "execution_count": 67,
     "metadata": {},
     "output_type": "execute_result"
    }
   ],
   "source": [
    "res=cur.execute(\"select distinct(address) from employee\")\n",
    "res.fetchall()"
   ]
  },
  {
   "cell_type": "code",
   "execution_count": 68,
   "id": "dfbb5974",
   "metadata": {},
   "outputs": [
    {
     "data": {
      "text/plain": [
       "[(5,)]"
      ]
     },
     "execution_count": 68,
     "metadata": {},
     "output_type": "execute_result"
    }
   ],
   "source": [
    "res=cur.execute(\"select count(distinct(address))from employee\")\n",
    "res.fetchall()"
   ]
  },
  {
   "cell_type": "markdown",
   "id": "be637308",
   "metadata": {},
   "source": [
    "# SQL EXECUTEMANY BULKENTRY"
   ]
  },
  {
   "cell_type": "markdown",
   "id": "c32d0266",
   "metadata": {},
   "source": [
    "WE CAN USE EXECUTEMANY FOR INSERT MULTIPLE ROWS AT ONES"
   ]
  },
  {
   "cell_type": "code",
   "execution_count": 71,
   "id": "c3aca32a",
   "metadata": {},
   "outputs": [],
   "source": [
    "entities=[(200,'myra','raipur'),(107,'heer','aishwarya'),(108,'alok','ujjain'),(109,'deba','odisa'),]"
   ]
  },
  {
   "cell_type": "code",
   "execution_count": 72,
   "id": "26322cab",
   "metadata": {},
   "outputs": [
    {
     "data": {
      "text/plain": [
       "<sqlite3.Cursor at 0x2ca4e8ff570>"
      ]
     },
     "execution_count": 72,
     "metadata": {},
     "output_type": "execute_result"
    }
   ],
   "source": [
    "cur.executemany('insert into employee (id,name,address) values (?,?,?)' , entities)"
   ]
  },
  {
   "cell_type": "code",
   "execution_count": 73,
   "id": "109613d0",
   "metadata": {},
   "outputs": [
    {
     "data": {
      "text/plain": [
       "[(102, 'raginee', 'raipur'),\n",
       " (103, 'sonu', 'bhilai'),\n",
       " (104, 'meenu', 'mumbai'),\n",
       " (105, 'chiku', 'korba'),\n",
       " (106, 'madhu', 'indore'),\n",
       " (200, 'myra', 'raipur'),\n",
       " (107, 'heer', 'aishwarya'),\n",
       " (108, 'alok', 'ujjain'),\n",
       " (109, 'deba', 'odisa')]"
      ]
     },
     "execution_count": 73,
     "metadata": {},
     "output_type": "execute_result"
    }
   ],
   "source": [
    "res=cur.execute(\"select *from employee\")\n",
    "res.fetchall()"
   ]
  },
  {
   "cell_type": "code",
   "execution_count": null,
   "id": "6bb03fad",
   "metadata": {},
   "outputs": [],
   "source": []
  },
  {
   "cell_type": "markdown",
   "id": "d0da4869",
   "metadata": {},
   "source": [
    "# REFRENCIAL INTIGRITY (Referential integrity refers to the relationship between tables. Because each table in a database must have a primary key, this primary key can appear in other tables because of its relationship to data within those tables. When a primary key from one table appears in another table, it is called a foreign key .\n",
    ")"
   ]
  },
  {
   "cell_type": "code",
   "execution_count": 2,
   "id": "6eea39cb",
   "metadata": {},
   "outputs": [],
   "source": [
    "import sqlite3"
   ]
  },
  {
   "cell_type": "code",
   "execution_count": 3,
   "id": "b11cf7a7",
   "metadata": {},
   "outputs": [],
   "source": [
    "con1=sqlite3.connect(\"E:\\python\\mysqlite_database\\student_course.db\")"
   ]
  },
  {
   "cell_type": "code",
   "execution_count": 4,
   "id": "ec8582d2",
   "metadata": {},
   "outputs": [],
   "source": [
    "cur1=con1.cursor()"
   ]
  },
  {
   "cell_type": "code",
   "execution_count": 5,
   "id": "ffdd6435",
   "metadata": {},
   "outputs": [
    {
     "data": {
      "text/plain": [
       "<sqlite3.Cursor at 0x2395b997180>"
      ]
     },
     "execution_count": 5,
     "metadata": {},
     "output_type": "execute_result"
    }
   ],
   "source": [
    "cur1.execute('create table course(courseid int primary key,coursename text, duration int) ')"
   ]
  },
  {
   "cell_type": "code",
   "execution_count": 6,
   "id": "07120f64",
   "metadata": {},
   "outputs": [
    {
     "data": {
      "text/plain": [
       "<sqlite3.Cursor at 0x2395b997180>"
      ]
     },
     "execution_count": 6,
     "metadata": {},
     "output_type": "execute_result"
    }
   ],
   "source": [
    "#here courseid is foreign key of couse table and the value of courseid in student table must be available in course table\n",
    "\n",
    "cur1.execute('create table student(rollno int primary key, name text,age int,courseid int,foreign key(courseid) references course(courseid)) ')"
   ]
  },
  {
   "cell_type": "code",
   "execution_count": 7,
   "id": "16d900ed",
   "metadata": {},
   "outputs": [
    {
     "name": "stdout",
     "output_type": "stream",
     "text": [
      "3 records(s) is inserted\n"
     ]
    }
   ],
   "source": [
    "cur1.execute(\"insert into course values(78,'data science',12),(16,'python',3),(100,'database',5)\")\n",
    "print(cur1.rowcount,\"records(s) is inserted\")\n",
    "con1.commit()"
   ]
  },
  {
   "cell_type": "code",
   "execution_count": 8,
   "id": "77eed5ad",
   "metadata": {},
   "outputs": [
    {
     "name": "stdout",
     "output_type": "stream",
     "text": [
      "4 records(s) is inserted\n"
     ]
    }
   ],
   "source": [
    "cur1.execute(\"insert into student values(1,'raginee',12,78),(2,'bhupendra',30,100),(3,'rahul',50,16),(4,'piyu',55,78)\")\n",
    "print(cur1.rowcount,\"records(s) is inserted\")\n",
    "con1.commit()"
   ]
  },
  {
   "cell_type": "code",
   "execution_count": 11,
   "id": "d97c9405",
   "metadata": {},
   "outputs": [
    {
     "name": "stdout",
     "output_type": "stream",
     "text": [
      "(78, 'data science', 12)\n",
      "(16, 'python', 3)\n",
      "(100, 'database', 5)\n"
     ]
    }
   ],
   "source": [
    "result=cur1.execute('select * from course')\n",
    "for res in result:\n",
    "    print(res)"
   ]
  },
  {
   "cell_type": "code",
   "execution_count": 16,
   "id": "71eff57c",
   "metadata": {},
   "outputs": [
    {
     "data": {
      "text/plain": [
       "[(1, 'raginee', 12, 78),\n",
       " (2, 'bhupendra', 30, 100),\n",
       " (3, 'rahul', 50, 16),\n",
       " (4, 'piyu', 55, 78)]"
      ]
     },
     "execution_count": 16,
     "metadata": {},
     "output_type": "execute_result"
    }
   ],
   "source": [
    "result=cur1.execute('select * from student')\n",
    "result.fetchall()"
   ]
  },
  {
   "cell_type": "code",
   "execution_count": 17,
   "id": "3842f8de",
   "metadata": {},
   "outputs": [
    {
     "data": {
      "text/plain": [
       "[(78,)]"
      ]
     },
     "execution_count": 17,
     "metadata": {},
     "output_type": "execute_result"
    }
   ],
   "source": [
    "result=cur1.execute(\"select courseid from course where coursename='data science'\")\n",
    "result.fetchall()"
   ]
  },
  {
   "cell_type": "markdown",
   "id": "667e184f",
   "metadata": {},
   "source": [
    "# SUBQUERY"
   ]
  },
  {
   "cell_type": "markdown",
   "id": "a78a9350",
   "metadata": {},
   "source": [
    "Query within the query (outer query and inner query)"
   ]
  },
  {
   "cell_type": "code",
   "execution_count": 20,
   "id": "434314f3",
   "metadata": {},
   "outputs": [
    {
     "data": {
      "text/plain": [
       "[(1, 'raginee', 12, 78), (4, 'piyu', 55, 78)]"
      ]
     },
     "execution_count": 20,
     "metadata": {},
     "output_type": "execute_result"
    }
   ],
   "source": [
    "#how many student takeing datascience course\n",
    "result=cur1.execute(\"select * from student where courseid = (select courseid from course where coursename='data science')\")\n",
    "result.fetchall()"
   ]
  },
  {
   "cell_type": "code",
   "execution_count": 22,
   "id": "c5f4c565",
   "metadata": {},
   "outputs": [
    {
     "data": {
      "text/plain": [
       "[('rahul',)]"
      ]
     },
     "execution_count": 22,
     "metadata": {},
     "output_type": "execute_result"
    }
   ],
   "source": [
    "result=cur1.execute(\"select name from student where courseid = (select courseid from course where coursename='python')\")\n",
    "result.fetchall()"
   ]
  },
  {
   "cell_type": "markdown",
   "id": "50bd67b4",
   "metadata": {},
   "source": [
    "# JOIN"
   ]
  },
  {
   "cell_type": "markdown",
   "id": "6dec9443",
   "metadata": {},
   "source": [
    "You can combine rows from two or more tables, based on a related column between them, by using a JOIN statement.\n"
   ]
  },
  {
   "cell_type": "markdown",
   "id": "3fa47c0d",
   "metadata": {},
   "source": [
    "INNER JOIN -return all record from both table which are comman\n",
    "\n",
    "LEFT JOIN - return all record from left table and comman record from both table\n",
    "\n",
    "LEFT JOIN - return all record from right table and comman record from both table\n",
    "\n",
    "FULL OUTER JOIN-return all record from both table  \n",
    "\n"
   ]
  },
  {
   "cell_type": "code",
   "execution_count": null,
   "id": "bfb75015",
   "metadata": {},
   "outputs": [],
   "source": [
    "cur1.execute(\"insert into course values(30,'java',13),(12,'c',33)\")\n",
    "print(cur1.rowc"
   ]
  },
  {
   "cell_type": "code",
   "execution_count": 16,
   "id": "3f900b2d",
   "metadata": {},
   "outputs": [
    {
     "name": "stdout",
     "output_type": "stream",
     "text": [
      "2 records(s) is inserted\n"
     ]
    }
   ],
   "source": [
    "ount,\"records(s) is inserted\")\n",
    "con1.commit()"
   ]
  },
  {
   "cell_type": "code",
   "execution_count": 18,
   "id": "8c8b64ae",
   "metadata": {},
   "outputs": [
    {
     "name": "stdout",
     "output_type": "stream",
     "text": [
      "2 records(s) is inserted\n"
     ]
    }
   ],
   "source": [
    "cur1.execute(\"insert into student values(5,'rag',23,76),(6,'bhup',36,34)\")\n",
    "print(cur1.rowcount,\"records(s) is inserted\")\n",
    "con1.commit()"
   ]
  },
  {
   "cell_type": "code",
   "execution_count": 17,
   "id": "a99ac5eb",
   "metadata": {
    "scrolled": true
   },
   "outputs": [
    {
     "data": {
      "text/plain": [
       "[(78, 'data science', 12),\n",
       " (16, 'python', 3),\n",
       " (100, 'database', 5),\n",
       " (30, 'java', 13),\n",
       " (12, 'c', 33)]"
      ]
     },
     "execution_count": 17,
     "metadata": {},
     "output_type": "execute_result"
    }
   ],
   "source": [
    "result=cur1.execute('select * from course')\n",
    "result.fetchall()"
   ]
  },
  {
   "cell_type": "code",
   "execution_count": 19,
   "id": "d49ac08b",
   "metadata": {},
   "outputs": [
    {
     "data": {
      "text/plain": [
       "[(1, 'raginee', 12, 78),\n",
       " (2, 'bhupendra', 30, 100),\n",
       " (3, 'rahul', 50, 16),\n",
       " (4, 'piyu', 55, 78),\n",
       " (5, 'rag', 23, 76),\n",
       " (6, 'bhup', 36, 34)]"
      ]
     },
     "execution_count": 19,
     "metadata": {},
     "output_type": "execute_result"
    }
   ],
   "source": [
    "result=cur1.execute('select * from student')\n",
    "result.fetchall()"
   ]
  },
  {
   "cell_type": "code",
   "execution_count": 21,
   "id": "a5ce9d68",
   "metadata": {},
   "outputs": [
    {
     "name": "stdout",
     "output_type": "stream",
     "text": [
      "(1, 'raginee', 78, 'data science')\n",
      "(2, 'bhupendra', 100, 'database')\n",
      "(3, 'rahul', 16, 'python')\n",
      "(4, 'piyu', 78, 'data science')\n"
     ]
    }
   ],
   "source": [
    "sql= \"SELECT student.rollno ,student.name , course.courseid,course.coursename from student INNER JOIN course ON student.courseid = course.courseid\"\n",
    "result=cur1.execute(sql)\n",
    "for row in result:\n",
    "    print(row)"
   ]
  },
  {
   "cell_type": "code",
   "execution_count": 27,
   "id": "827f4b90",
   "metadata": {},
   "outputs": [
    {
     "name": "stdout",
     "output_type": "stream",
     "text": [
      "(1, 'raginee', 78, 'data science')\n",
      "(4, 'piyu', 78, 'data science')\n",
      "(3, 'rahul', 16, 'python')\n",
      "(2, 'bhupendra', 100, 'database')\n",
      "(None, None, 30, 'java')\n",
      "(None, None, 12, 'c')\n"
     ]
    }
   ],
   "source": [
    "sql= \"SELECT student.rollno ,student.name , course.courseid,course.coursename FROM course LEFT JOIN student ON student.courseid = course.courseid\"\n",
    "result=cur1.execute(sql) #here we assume course table is left \n",
    "for row in result:\n",
    "    print(row)"
   ]
  },
  {
   "cell_type": "code",
   "execution_count": 28,
   "id": "09203fdb",
   "metadata": {},
   "outputs": [
    {
     "name": "stdout",
     "output_type": "stream",
     "text": [
      "(1, 'raginee', 78, 'data science')\n",
      "(2, 'bhupendra', 100, 'database')\n",
      "(3, 'rahul', 16, 'python')\n",
      "(4, 'piyu', 78, 'data science')\n",
      "(5, 'rag', None, None)\n",
      "(6, 'bhup', None, None)\n"
     ]
    }
   ],
   "source": [
    "sql= \"SELECT student.rollno ,student.name , course.courseid,course.coursename FROM student LEFT JOIN course ON student.courseid = course.courseid\"\n",
    "result=cur1.execute(sql)#here we assume student table is left  JUST LIKE RIGHT JOIN\n",
    "for row in result:\n",
    "    print(row)"
   ]
  },
  {
   "cell_type": "markdown",
   "id": "377f371d",
   "metadata": {},
   "source": [
    "# RIGHT JOIN AND FULL OUTER JOIN IS NOT SUPPORTED IN SQLITE"
   ]
  },
  {
   "cell_type": "code",
   "execution_count": null,
   "id": "c835665c",
   "metadata": {},
   "outputs": [],
   "source": []
  }
 ],
 "metadata": {
  "kernelspec": {
   "display_name": "Python 3 (ipykernel)",
   "language": "python",
   "name": "python3"
  },
  "language_info": {
   "codemirror_mode": {
    "name": "ipython",
    "version": 3
   },
   "file_extension": ".py",
   "mimetype": "text/x-python",
   "name": "python",
   "nbconvert_exporter": "python",
   "pygments_lexer": "ipython3",
   "version": "3.9.7"
  }
 },
 "nbformat": 4,
 "nbformat_minor": 5
}
