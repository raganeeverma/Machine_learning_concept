{
 "cells": [
  {
   "cell_type": "markdown",
   "id": "68eaba4a",
   "metadata": {},
   "source": [
    "# BASIC OF PYTHON"
   ]
  },
  {
   "cell_type": "markdown",
   "id": "a3db5cfd",
   "metadata": {},
   "source": [
    "function\n",
    "\n",
    "3 type of function - predefine or buildin function, user define function, lambda function\n",
    "\n",
    "predefine or buildin function\n",
    "\n",
    "help(),print(), round(), abs(), pow(), int(), float(),str(),range(),type(),len(),count(),input(),list(),max(),min(),sum() etc."
   ]
  },
  {
   "cell_type": "markdown",
   "id": "9b989680",
   "metadata": {},
   "source": [
    "some predefine function"
   ]
  },
  {
   "cell_type": "code",
   "execution_count": 1,
   "id": "5a15e7fa",
   "metadata": {},
   "outputs": [
    {
     "name": "stdout",
     "output_type": "stream",
     "text": [
      "enter any counrty name   america\n"
     ]
    }
   ],
   "source": [
    "country=input('enter any counrty name   ') #while taking the user input"
   ]
  },
  {
   "cell_type": "code",
   "execution_count": 2,
   "id": "5461bf61",
   "metadata": {},
   "outputs": [
    {
     "data": {
      "text/plain": [
       "'america'"
      ]
     },
     "execution_count": 2,
     "metadata": {},
     "output_type": "execute_result"
    }
   ],
   "source": [
    "country"
   ]
  },
  {
   "cell_type": "code",
   "execution_count": 4,
   "id": "99b411f3",
   "metadata": {},
   "outputs": [
    {
     "name": "stdout",
     "output_type": "stream",
     "text": [
      "anter any food name  maggi\n"
     ]
    }
   ],
   "source": [
    "foodname=input('anter any food name  ')"
   ]
  },
  {
   "cell_type": "code",
   "execution_count": 5,
   "id": "e047f75c",
   "metadata": {},
   "outputs": [
    {
     "data": {
      "text/plain": [
       "'maggi'"
      ]
     },
     "execution_count": 5,
     "metadata": {},
     "output_type": "execute_result"
    }
   ],
   "source": [
    "foodname"
   ]
  },
  {
   "cell_type": "code",
   "execution_count": 6,
   "id": "3d8f1ac1",
   "metadata": {},
   "outputs": [
    {
     "data": {
      "text/plain": [
       "str"
      ]
     },
     "execution_count": 6,
     "metadata": {},
     "output_type": "execute_result"
    }
   ],
   "source": [
    "type(foodname)"
   ]
  },
  {
   "cell_type": "code",
   "execution_count": 11,
   "id": "5750febb",
   "metadata": {},
   "outputs": [
    {
     "name": "stdout",
     "output_type": "stream",
     "text": [
      "enter any number  12\n"
     ]
    }
   ],
   "source": [
    "number1=input('enter any number  ')"
   ]
  },
  {
   "cell_type": "code",
   "execution_count": 14,
   "id": "e752411f",
   "metadata": {},
   "outputs": [
    {
     "data": {
      "text/plain": [
       "'12'"
      ]
     },
     "execution_count": 14,
     "metadata": {},
     "output_type": "execute_result"
    }
   ],
   "source": [
    "number1"
   ]
  },
  {
   "cell_type": "code",
   "execution_count": 10,
   "id": "d3a90487",
   "metadata": {},
   "outputs": [
    {
     "data": {
      "text/plain": [
       "str"
      ]
     },
     "execution_count": 10,
     "metadata": {},
     "output_type": "execute_result"
    }
   ],
   "source": [
    "type(number)  #input function always aceept string form"
   ]
  },
  {
   "cell_type": "code",
   "execution_count": 22,
   "id": "5c669aad",
   "metadata": {},
   "outputs": [
    {
     "name": "stdout",
     "output_type": "stream",
     "text": [
      "enter any number  13\n"
     ]
    }
   ],
   "source": [
    "number2=int(input('enter any number  '))"
   ]
  },
  {
   "cell_type": "code",
   "execution_count": 23,
   "id": "497e80cb",
   "metadata": {},
   "outputs": [
    {
     "data": {
      "text/plain": [
       "13"
      ]
     },
     "execution_count": 23,
     "metadata": {},
     "output_type": "execute_result"
    }
   ],
   "source": [
    "number2"
   ]
  },
  {
   "cell_type": "code",
   "execution_count": 24,
   "id": "ecf55efe",
   "metadata": {},
   "outputs": [
    {
     "data": {
      "text/plain": [
       "int"
      ]
     },
     "execution_count": 24,
     "metadata": {},
     "output_type": "execute_result"
    }
   ],
   "source": [
    "type(number2)"
   ]
  },
  {
   "cell_type": "markdown",
   "id": "51c5316d",
   "metadata": {},
   "source": [
    "adding the two user define value"
   ]
  },
  {
   "cell_type": "code",
   "execution_count": 19,
   "id": "46f97b1a",
   "metadata": {},
   "outputs": [],
   "source": [
    "a=int(number1)"
   ]
  },
  {
   "cell_type": "code",
   "execution_count": 21,
   "id": "54ee1be9",
   "metadata": {},
   "outputs": [
    {
     "data": {
      "text/plain": [
       "12"
      ]
     },
     "execution_count": 21,
     "metadata": {},
     "output_type": "execute_result"
    }
   ],
   "source": [
    "a"
   ]
  },
  {
   "cell_type": "code",
   "execution_count": 26,
   "id": "c154c0af",
   "metadata": {},
   "outputs": [
    {
     "data": {
      "text/plain": [
       "int"
      ]
     },
     "execution_count": 26,
     "metadata": {},
     "output_type": "execute_result"
    }
   ],
   "source": [
    "type(a)"
   ]
  },
  {
   "cell_type": "code",
   "execution_count": 27,
   "id": "201620b6",
   "metadata": {},
   "outputs": [
    {
     "data": {
      "text/plain": [
       "25"
      ]
     },
     "execution_count": 27,
     "metadata": {},
     "output_type": "execute_result"
    }
   ],
   "source": [
    "a+number2"
   ]
  },
  {
   "cell_type": "markdown",
   "id": "140f6155",
   "metadata": {},
   "source": [
    "STATIC AND DYNAMIC VALUE"
   ]
  },
  {
   "cell_type": "code",
   "execution_count": 28,
   "id": "c4b2d740",
   "metadata": {},
   "outputs": [
    {
     "name": "stdout",
     "output_type": "stream",
     "text": [
      "area of rectangle =  540\n"
     ]
    }
   ],
   "source": [
    "length=45           # predefind vlue is given that are not chengable means static variable\n",
    "breadth=12\n",
    "area=length*breadth\n",
    "print('area of rectangle = ', area)"
   ]
  },
  {
   "cell_type": "code",
   "execution_count": 29,
   "id": "d6e1490c",
   "metadata": {},
   "outputs": [
    {
     "name": "stdout",
     "output_type": "stream",
     "text": [
      "enter any length  12\n",
      "length=  12\n",
      "enter any breadth 45\n",
      "length=  45\n",
      "area of rectangle   540\n"
     ]
    }
   ],
   "source": [
    "len=int(input('enter any length  '))#value will be enter at the tim of run is called dynamic variable\n",
    "print(\"length= \",len)\n",
    "ber=int(input('enter any breadth '))\n",
    "print(\"length= \",ber)\n",
    "arearec=len*ber\n",
    "print(\"area of rectangle  \",arearec)\n"
   ]
  },
  {
   "cell_type": "code",
   "execution_count": 30,
   "id": "37fa2537",
   "metadata": {},
   "outputs": [
    {
     "name": "stdout",
     "output_type": "stream",
     "text": [
      "enter any value  123\n",
      "radious=  123\n",
      "area of circal   47505.060000000005\n"
     ]
    }
   ],
   "source": [
    "pi=3.14\n",
    "radious=int(input('enter any value  '))\n",
    "print(\"radious= \",radious)\n",
    "\n",
    "areacircal=pi*(radious**2)\n",
    "print(\"area of circal  \",areacircal)"
   ]
  },
  {
   "cell_type": "code",
   "execution_count": 31,
   "id": "0f4ed3be",
   "metadata": {},
   "outputs": [
    {
     "data": {
      "text/plain": [
       "47505.06"
      ]
     },
     "execution_count": 31,
     "metadata": {},
     "output_type": "execute_result"
    }
   ],
   "source": [
    "round(areacircal,2)#round function used to set the decimal point"
   ]
  },
  {
   "cell_type": "code",
   "execution_count": 32,
   "id": "c4723099",
   "metadata": {},
   "outputs": [
    {
     "data": {
      "text/plain": [
       "23.468"
      ]
     },
     "execution_count": 32,
     "metadata": {},
     "output_type": "execute_result"
    }
   ],
   "source": [
    "round(23.467589765,3)"
   ]
  },
  {
   "cell_type": "code",
   "execution_count": 33,
   "id": "bb0e8707",
   "metadata": {},
   "outputs": [
    {
     "data": {
      "text/plain": [
       "float"
      ]
     },
     "execution_count": 33,
     "metadata": {},
     "output_type": "execute_result"
    }
   ],
   "source": [
    "type(areacircal) # typr function used to find out type of variable"
   ]
  },
  {
   "cell_type": "code",
   "execution_count": 1,
   "id": "2c78fd9e",
   "metadata": {},
   "outputs": [
    {
     "data": {
      "text/plain": [
       "3"
      ]
     },
     "execution_count": 1,
     "metadata": {},
     "output_type": "execute_result"
    }
   ],
   "source": [
    "cnt=(1,2,3,4,1,3,4,5,1)#count the no. of item perticuler item\n",
    "cnt.count(1)"
   ]
  },
  {
   "cell_type": "code",
   "execution_count": 2,
   "id": "bcd78dd8",
   "metadata": {},
   "outputs": [
    {
     "data": {
      "text/plain": [
       "9"
      ]
     },
     "execution_count": 2,
     "metadata": {},
     "output_type": "execute_result"
    }
   ],
   "source": [
    "len(cnt)# no of item present"
   ]
  },
  {
   "cell_type": "markdown",
   "id": "a9bd4565",
   "metadata": {},
   "source": [
    "RANGE FUNCTION(ragne is used to discribe the sequence of intiger)"
   ]
  },
  {
   "cell_type": "code",
   "execution_count": 1,
   "id": "80a67a4f",
   "metadata": {},
   "outputs": [
    {
     "data": {
      "text/plain": [
       "range(0, 5)"
      ]
     },
     "execution_count": 1,
     "metadata": {},
     "output_type": "execute_result"
    }
   ],
   "source": [
    "range(5)"
   ]
  },
  {
   "cell_type": "code",
   "execution_count": 2,
   "id": "9ca40b50",
   "metadata": {},
   "outputs": [
    {
     "data": {
      "text/plain": [
       "range(5, 10)"
      ]
     },
     "execution_count": 2,
     "metadata": {},
     "output_type": "execute_result"
    }
   ],
   "source": [
    "range(5,10)"
   ]
  },
  {
   "cell_type": "code",
   "execution_count": 3,
   "id": "bcc86f78",
   "metadata": {},
   "outputs": [
    {
     "data": {
      "text/plain": [
       "range(0, 10)"
      ]
     },
     "execution_count": 3,
     "metadata": {},
     "output_type": "execute_result"
    }
   ],
   "source": [
    "range(10)"
   ]
  },
  {
   "cell_type": "code",
   "execution_count": 4,
   "id": "939ba5e3",
   "metadata": {},
   "outputs": [
    {
     "data": {
      "text/plain": [
       "[0, 1, 2, 3, 4]"
      ]
     },
     "execution_count": 4,
     "metadata": {},
     "output_type": "execute_result"
    }
   ],
   "source": [
    "list(range(5))"
   ]
  },
  {
   "cell_type": "code",
   "execution_count": 5,
   "id": "01e18a04",
   "metadata": {},
   "outputs": [
    {
     "data": {
      "text/plain": [
       "[0, 1, 2, 3, 4, 5, 6, 7, 8, 9]"
      ]
     },
     "execution_count": 5,
     "metadata": {},
     "output_type": "execute_result"
    }
   ],
   "source": [
    "list(range(10))"
   ]
  },
  {
   "cell_type": "code",
   "execution_count": 3,
   "id": "34903d4f",
   "metadata": {},
   "outputs": [
    {
     "name": "stdout",
     "output_type": "stream",
     "text": [
      "list[range(0, 10)]\n"
     ]
    }
   ],
   "source": [
    "print(list[range(10)])"
   ]
  },
  {
   "cell_type": "code",
   "execution_count": 6,
   "id": "04d021ad",
   "metadata": {},
   "outputs": [
    {
     "name": "stdout",
     "output_type": "stream",
     "text": [
      "[0, 1, 2, 3, 4, 5, 6, 7, 8, 9, 10]\n"
     ]
    }
   ],
   "source": [
    "print(list(range(11)))#if start value is not given then start from 0 and last value excluded"
   ]
  },
  {
   "cell_type": "code",
   "execution_count": 7,
   "id": "5bb74c1e",
   "metadata": {},
   "outputs": [
    {
     "name": "stdout",
     "output_type": "stream",
     "text": [
      "[5, 6, 7, 8, 9, 10]\n"
     ]
    }
   ],
   "source": [
    "print(list(range(5,11)))#first value included and last excluded"
   ]
  },
  {
   "cell_type": "code",
   "execution_count": 8,
   "id": "54a59288",
   "metadata": {},
   "outputs": [
    {
     "name": "stdout",
     "output_type": "stream",
     "text": [
      "[1, 3, 5, 7, 9]\n"
     ]
    }
   ],
   "source": [
    "print(list(range(1,11,2)))#third value is used for skip or jump"
   ]
  },
  {
   "cell_type": "code",
   "execution_count": null,
   "id": "62890644",
   "metadata": {},
   "outputs": [],
   "source": []
  },
  {
   "cell_type": "code",
   "execution_count": 19,
   "id": "d716589c",
   "metadata": {},
   "outputs": [
    {
     "name": "stdout",
     "output_type": "stream",
     "text": [
      "2\n",
      "3\n",
      "4\n",
      "5\n",
      "6\n",
      "7\n",
      "8\n",
      "9\n",
      "10\n",
      "11\n"
     ]
    }
   ],
   "source": [
    "for i in range(2,12):\n",
    "    print(i)"
   ]
  },
  {
   "cell_type": "code",
   "execution_count": 20,
   "id": "332affee",
   "metadata": {},
   "outputs": [
    {
     "name": "stdout",
     "output_type": "stream",
     "text": [
      "2\n",
      "5\n",
      "8\n",
      "11\n",
      "14\n",
      "17\n"
     ]
    }
   ],
   "source": [
    "for i in range(2,20,3):\n",
    "    print(i)"
   ]
  },
  {
   "cell_type": "code",
   "execution_count": 6,
   "id": "4a3b3193",
   "metadata": {},
   "outputs": [
    {
     "name": "stdout",
     "output_type": "stream",
     "text": [
      "0\n",
      "1\n",
      "2\n",
      "3\n",
      "4\n"
     ]
    }
   ],
   "source": [
    "for i in range(5):\n",
    "    print(i)"
   ]
  },
  {
   "cell_type": "code",
   "execution_count": 11,
   "id": "0ec69471",
   "metadata": {},
   "outputs": [
    {
     "name": "stdout",
     "output_type": "stream",
     "text": [
      "i like laptop\n",
      "i like keybord\n",
      "i like mouse\n"
     ]
    }
   ],
   "source": [
    "device=['laptop','keybord','mouse'] #iterate over the list using index\n",
    "for i in range(len(device)): #here i is index\n",
    "     print('i like',device[i])\n"
   ]
  },
  {
   "cell_type": "code",
   "execution_count": 18,
   "id": "5ccc78ba",
   "metadata": {},
   "outputs": [
    {
     "name": "stdout",
     "output_type": "stream",
     "text": [
      "0\n",
      "1\n",
      "2\n",
      "3\n",
      "4\n",
      "5\n"
     ]
    }
   ],
   "source": [
    "for i in list(range(6)): \n",
    "    print(i)"
   ]
  },
  {
   "cell_type": "code",
   "execution_count": null,
   "id": "2315d363",
   "metadata": {},
   "outputs": [],
   "source": []
  },
  {
   "cell_type": "code",
   "execution_count": 7,
   "id": "fa7bc6e5",
   "metadata": {},
   "outputs": [],
   "source": [
    "a=list(range(6))#sequence of variable hold in variable"
   ]
  },
  {
   "cell_type": "code",
   "execution_count": 8,
   "id": "3c15afe5",
   "metadata": {},
   "outputs": [
    {
     "data": {
      "text/plain": [
       "[0, 1, 2, 3, 4, 5]"
      ]
     },
     "execution_count": 8,
     "metadata": {},
     "output_type": "execute_result"
    }
   ],
   "source": [
    "a"
   ]
  },
  {
   "cell_type": "code",
   "execution_count": 15,
   "id": "fbc92a9d",
   "metadata": {},
   "outputs": [
    {
     "name": "stdout",
     "output_type": "stream",
     "text": [
      "0  1  2  3  4  5  "
     ]
    }
   ],
   "source": [
    "for i in a:\n",
    "    print(i,end=\"  \")"
   ]
  },
  {
   "cell_type": "code",
   "execution_count": null,
   "id": "3d8b4f50",
   "metadata": {},
   "outputs": [],
   "source": []
  },
  {
   "cell_type": "code",
   "execution_count": null,
   "id": "2406321f",
   "metadata": {},
   "outputs": [],
   "source": []
  },
  {
   "cell_type": "code",
   "execution_count": null,
   "id": "a74b84cf",
   "metadata": {},
   "outputs": [],
   "source": []
  },
  {
   "cell_type": "raw",
   "id": "eb1fb13d",
   "metadata": {},
   "source": []
  },
  {
   "cell_type": "code",
   "execution_count": null,
   "id": "df01cad2",
   "metadata": {},
   "outputs": [],
   "source": []
  },
  {
   "cell_type": "code",
   "execution_count": null,
   "id": "b4775cbe",
   "metadata": {},
   "outputs": [],
   "source": []
  },
  {
   "cell_type": "code",
   "execution_count": null,
   "id": "248bbdd7",
   "metadata": {},
   "outputs": [],
   "source": []
  },
  {
   "cell_type": "code",
   "execution_count": null,
   "id": "ed5a78dc",
   "metadata": {},
   "outputs": [],
   "source": []
  }
 ],
 "metadata": {
  "kernelspec": {
   "display_name": "Python 3 (ipykernel)",
   "language": "python",
   "name": "python3"
  },
  "language_info": {
   "codemirror_mode": {
    "name": "ipython",
    "version": 3
   },
   "file_extension": ".py",
   "mimetype": "text/x-python",
   "name": "python",
   "nbconvert_exporter": "python",
   "pygments_lexer": "ipython3",
   "version": "3.9.7"
  }
 },
 "nbformat": 4,
 "nbformat_minor": 5
}
