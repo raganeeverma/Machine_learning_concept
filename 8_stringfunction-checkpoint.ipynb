{
 "cells": [
  {
   "cell_type": "markdown",
   "id": "039c699e",
   "metadata": {},
   "source": [
    "String function in python"
   ]
  },
  {
   "cell_type": "code",
   "execution_count": 4,
   "id": "0c736262",
   "metadata": {},
   "outputs": [],
   "source": [
    "word1=\"machine\""
   ]
  },
  {
   "cell_type": "code",
   "execution_count": 5,
   "id": "5469d66d",
   "metadata": {},
   "outputs": [
    {
     "data": {
      "text/plain": [
       "'MACHINE'"
      ]
     },
     "execution_count": 5,
     "metadata": {},
     "output_type": "execute_result"
    }
   ],
   "source": [
    "word1.upper()#all letter in upper case"
   ]
  },
  {
   "cell_type": "code",
   "execution_count": 7,
   "id": "a4bcfa8b",
   "metadata": {},
   "outputs": [],
   "source": [
    "word2='ComputeR'\n"
   ]
  },
  {
   "cell_type": "code",
   "execution_count": 8,
   "id": "79b99083",
   "metadata": {},
   "outputs": [
    {
     "data": {
      "text/plain": [
       "'COMPUTER'"
      ]
     },
     "execution_count": 8,
     "metadata": {},
     "output_type": "execute_result"
    }
   ],
   "source": [
    "word2.upper()"
   ]
  },
  {
   "cell_type": "code",
   "execution_count": 9,
   "id": "cfcc7ce1",
   "metadata": {},
   "outputs": [],
   "source": [
    "word3=\"DATASCIENCE\"#all letter in lower case"
   ]
  },
  {
   "cell_type": "code",
   "execution_count": 10,
   "id": "c62851c3",
   "metadata": {},
   "outputs": [
    {
     "data": {
      "text/plain": [
       "'datascience'"
      ]
     },
     "execution_count": 10,
     "metadata": {},
     "output_type": "execute_result"
    }
   ],
   "source": [
    "word3.lower()"
   ]
  },
  {
   "cell_type": "code",
   "execution_count": 11,
   "id": "40fbd696",
   "metadata": {},
   "outputs": [],
   "source": [
    "word4=\"InteLiGenT\"#chenge upper to lower and lower to upper means swap the letter"
   ]
  },
  {
   "cell_type": "code",
   "execution_count": 12,
   "id": "42609a6e",
   "metadata": {},
   "outputs": [
    {
     "data": {
      "text/plain": [
       "'iNTElIgENt'"
      ]
     },
     "execution_count": 12,
     "metadata": {},
     "output_type": "execute_result"
    }
   ],
   "source": [
    "word4.swapcase()"
   ]
  },
  {
   "cell_type": "code",
   "execution_count": 13,
   "id": "b332239b",
   "metadata": {},
   "outputs": [],
   "source": [
    "word5='AmayRa'"
   ]
  },
  {
   "cell_type": "code",
   "execution_count": 14,
   "id": "40179e4d",
   "metadata": {},
   "outputs": [
    {
     "data": {
      "text/plain": [
       "'aMAYrA'"
      ]
     },
     "execution_count": 14,
     "metadata": {},
     "output_type": "execute_result"
    }
   ],
   "source": [
    "word5.swapcase()"
   ]
  },
  {
   "cell_type": "code",
   "execution_count": 15,
   "id": "06c1abe4",
   "metadata": {},
   "outputs": [],
   "source": [
    "word6='apple'"
   ]
  },
  {
   "cell_type": "code",
   "execution_count": 16,
   "id": "9fbf4889",
   "metadata": {},
   "outputs": [
    {
     "data": {
      "text/plain": [
       "'Apple'"
      ]
     },
     "execution_count": 16,
     "metadata": {},
     "output_type": "execute_result"
    }
   ],
   "source": [
    "word6.capitalize()#first letter is capital "
   ]
  },
  {
   "cell_type": "code",
   "execution_count": 17,
   "id": "d47acc3c",
   "metadata": {},
   "outputs": [],
   "source": [
    "word7=\"my name is raganee verma\""
   ]
  },
  {
   "cell_type": "code",
   "execution_count": 18,
   "id": "9ad279fa",
   "metadata": {},
   "outputs": [
    {
     "data": {
      "text/plain": [
       "'Apple'"
      ]
     },
     "execution_count": 18,
     "metadata": {},
     "output_type": "execute_result"
    }
   ],
   "source": [
    "word6.capitalize()"
   ]
  },
  {
   "cell_type": "code",
   "execution_count": 19,
   "id": "d4bc2135",
   "metadata": {},
   "outputs": [
    {
     "data": {
      "text/plain": [
       "'My Name Is Raganee Verma'"
      ]
     },
     "execution_count": 19,
     "metadata": {},
     "output_type": "execute_result"
    }
   ],
   "source": [
    "word7.title()#every first letter of the sentence is capital"
   ]
  },
  {
   "cell_type": "code",
   "execution_count": 21,
   "id": "cd9c8ab4",
   "metadata": {},
   "outputs": [
    {
     "data": {
      "text/plain": [
       "['my', 'name', 'is', 'raganee', 'verma']"
      ]
     },
     "execution_count": 21,
     "metadata": {},
     "output_type": "execute_result"
    }
   ],
   "source": [
    "word7.split()#getting data from sentence and putting into list one by one whenever space accured"
   ]
  },
  {
   "cell_type": "code",
   "execution_count": 23,
   "id": "2859d8bd",
   "metadata": {},
   "outputs": [],
   "source": [
    "word8='datascience'"
   ]
  },
  {
   "cell_type": "code",
   "execution_count": 24,
   "id": "3529c9c6",
   "metadata": {},
   "outputs": [
    {
     "data": {
      "text/plain": [
       "False"
      ]
     },
     "execution_count": 24,
     "metadata": {},
     "output_type": "execute_result"
    }
   ],
   "source": [
    "word8.isupper()#find of is it uppar case or not"
   ]
  },
  {
   "cell_type": "code",
   "execution_count": 25,
   "id": "569736a1",
   "metadata": {},
   "outputs": [
    {
     "data": {
      "text/plain": [
       "True"
      ]
     },
     "execution_count": 25,
     "metadata": {},
     "output_type": "execute_result"
    }
   ],
   "source": [
    "word8.islower()#find of is it lower case or not"
   ]
  },
  {
   "cell_type": "code",
   "execution_count": 26,
   "id": "2365fcde",
   "metadata": {},
   "outputs": [],
   "source": [
    "word9='DATASCIENCE'"
   ]
  },
  {
   "cell_type": "code",
   "execution_count": 27,
   "id": "320ed584",
   "metadata": {},
   "outputs": [
    {
     "data": {
      "text/plain": [
       "True"
      ]
     },
     "execution_count": 27,
     "metadata": {},
     "output_type": "execute_result"
    }
   ],
   "source": [
    "word9.isupper()"
   ]
  },
  {
   "cell_type": "code",
   "execution_count": 28,
   "id": "11fbada7",
   "metadata": {},
   "outputs": [
    {
     "data": {
      "text/plain": [
       "False"
      ]
     },
     "execution_count": 28,
     "metadata": {},
     "output_type": "execute_result"
    }
   ],
   "source": [
    "word9.islower()"
   ]
  },
  {
   "cell_type": "code",
   "execution_count": 30,
   "id": "87b4deed",
   "metadata": {},
   "outputs": [],
   "source": [
    "w=\"datascience\""
   ]
  },
  {
   "cell_type": "code",
   "execution_count": 31,
   "id": "3cb1c8c7",
   "metadata": {},
   "outputs": [],
   "source": [
    "a=w.upper()#a is upper but w is still lowercase"
   ]
  },
  {
   "cell_type": "code",
   "execution_count": 32,
   "id": "e236f613",
   "metadata": {},
   "outputs": [
    {
     "data": {
      "text/plain": [
       "False"
      ]
     },
     "execution_count": 32,
     "metadata": {},
     "output_type": "execute_result"
    }
   ],
   "source": [
    "w.isupper()"
   ]
  },
  {
   "cell_type": "code",
   "execution_count": 33,
   "id": "8017bcdd",
   "metadata": {},
   "outputs": [
    {
     "data": {
      "text/plain": [
       "True"
      ]
     },
     "execution_count": 33,
     "metadata": {},
     "output_type": "execute_result"
    }
   ],
   "source": [
    "a.isupper()"
   ]
  },
  {
   "cell_type": "code",
   "execution_count": 37,
   "id": "8363bc42",
   "metadata": {},
   "outputs": [
    {
     "data": {
      "text/plain": [
       "True"
      ]
     },
     "execution_count": 37,
     "metadata": {},
     "output_type": "execute_result"
    }
   ],
   "source": [
    "w1='raganee2109'\n",
    "w1.isalnum()#check combination of alphabet and number"
   ]
  },
  {
   "cell_type": "code",
   "execution_count": 40,
   "id": "434ceeea",
   "metadata": {},
   "outputs": [],
   "source": [
    "w2=\"12345\""
   ]
  },
  {
   "cell_type": "code",
   "execution_count": 41,
   "id": "f39600b5",
   "metadata": {},
   "outputs": [
    {
     "data": {
      "text/plain": [
       "False"
      ]
     },
     "execution_count": 41,
     "metadata": {},
     "output_type": "execute_result"
    }
   ],
   "source": [
    "w2.isalpha()"
   ]
  },
  {
   "cell_type": "code",
   "execution_count": 42,
   "id": "35a76ffa",
   "metadata": {},
   "outputs": [
    {
     "data": {
      "text/plain": [
       "True"
      ]
     },
     "execution_count": 42,
     "metadata": {},
     "output_type": "execute_result"
    }
   ],
   "source": [
    "w2.isdigit()"
   ]
  },
  {
   "cell_type": "code",
   "execution_count": 43,
   "id": "51c12eee",
   "metadata": {},
   "outputs": [
    {
     "data": {
      "text/plain": [
       "True"
      ]
     },
     "execution_count": 43,
     "metadata": {},
     "output_type": "execute_result"
    }
   ],
   "source": [
    "w2.isalnum()"
   ]
  },
  {
   "cell_type": "code",
   "execution_count": 44,
   "id": "c00d58ad",
   "metadata": {},
   "outputs": [],
   "source": [
    "w3='My name is myra'"
   ]
  },
  {
   "cell_type": "code",
   "execution_count": 46,
   "id": "ce1d6407",
   "metadata": {},
   "outputs": [
    {
     "data": {
      "text/plain": [
       "True"
      ]
     },
     "execution_count": 46,
     "metadata": {},
     "output_type": "execute_result"
    }
   ],
   "source": [
    "w3.startswith('My')"
   ]
  },
  {
   "cell_type": "code",
   "execution_count": 47,
   "id": "d6797298",
   "metadata": {},
   "outputs": [
    {
     "data": {
      "text/plain": [
       "False"
      ]
     },
     "execution_count": 47,
     "metadata": {},
     "output_type": "execute_result"
    }
   ],
   "source": [
    "w3.startswith('my')"
   ]
  },
  {
   "cell_type": "code",
   "execution_count": 48,
   "id": "c33cc58c",
   "metadata": {},
   "outputs": [
    {
     "data": {
      "text/plain": [
       "False"
      ]
     },
     "execution_count": 48,
     "metadata": {},
     "output_type": "execute_result"
    }
   ],
   "source": [
    "w3.startswith('name')"
   ]
  },
  {
   "cell_type": "code",
   "execution_count": 49,
   "id": "d3d28706",
   "metadata": {},
   "outputs": [
    {
     "data": {
      "text/plain": [
       "False"
      ]
     },
     "execution_count": 49,
     "metadata": {},
     "output_type": "execute_result"
    }
   ],
   "source": [
    "w3.endswith('My')"
   ]
  },
  {
   "cell_type": "code",
   "execution_count": 50,
   "id": "b0c4ea99",
   "metadata": {},
   "outputs": [
    {
     "data": {
      "text/plain": [
       "False"
      ]
     },
     "execution_count": 50,
     "metadata": {},
     "output_type": "execute_result"
    }
   ],
   "source": [
    "w3.endswith('Myra')"
   ]
  },
  {
   "cell_type": "code",
   "execution_count": 51,
   "id": "1c5836fc",
   "metadata": {},
   "outputs": [
    {
     "data": {
      "text/plain": [
       "True"
      ]
     },
     "execution_count": 51,
     "metadata": {},
     "output_type": "execute_result"
    }
   ],
   "source": [
    "w3.endswith('myra')"
   ]
  },
  {
   "cell_type": "code",
   "execution_count": 1,
   "id": "bb6c24d8",
   "metadata": {},
   "outputs": [],
   "source": [
    "word=\"elon musk launched AI car tesla\""
   ]
  },
  {
   "cell_type": "code",
   "execution_count": 4,
   "id": "f3697367",
   "metadata": {},
   "outputs": [
    {
     "data": {
      "text/plain": [
       "31"
      ]
     },
     "execution_count": 4,
     "metadata": {},
     "output_type": "execute_result"
    }
   ],
   "source": [
    "len(word)"
   ]
  },
  {
   "cell_type": "code",
   "execution_count": 6,
   "id": "69b7d6b2",
   "metadata": {},
   "outputs": [
    {
     "data": {
      "text/plain": [
       "22"
      ]
     },
     "execution_count": 6,
     "metadata": {},
     "output_type": "execute_result"
    }
   ],
   "source": [
    "word.find('car')"
   ]
  },
  {
   "cell_type": "code",
   "execution_count": 7,
   "id": "f0c3f5d3",
   "metadata": {},
   "outputs": [
    {
     "data": {
      "text/plain": [
       "5"
      ]
     },
     "execution_count": 7,
     "metadata": {},
     "output_type": "execute_result"
    }
   ],
   "source": [
    "word.find('musk')"
   ]
  },
  {
   "cell_type": "code",
   "execution_count": 8,
   "id": "7f7a0a6d",
   "metadata": {},
   "outputs": [
    {
     "data": {
      "text/plain": [
       "19"
      ]
     },
     "execution_count": 8,
     "metadata": {},
     "output_type": "execute_result"
    }
   ],
   "source": [
    "word.find(\"AI\",16,30)"
   ]
  },
  {
   "cell_type": "code",
   "execution_count": null,
   "id": "319654a3",
   "metadata": {},
   "outputs": [],
   "source": []
  },
  {
   "cell_type": "code",
   "execution_count": null,
   "id": "c224d7d9",
   "metadata": {},
   "outputs": [],
   "source": []
  },
  {
   "cell_type": "code",
   "execution_count": null,
   "id": "3448ec92",
   "metadata": {},
   "outputs": [],
   "source": []
  },
  {
   "cell_type": "code",
   "execution_count": null,
   "id": "7f70403d",
   "metadata": {},
   "outputs": [],
   "source": []
  },
  {
   "cell_type": "markdown",
   "id": "d62c3228",
   "metadata": {},
   "source": [
    "COUNT-count function return the no. of accurence of a substring in the given string"
   ]
  },
  {
   "cell_type": "code",
   "execution_count": 5,
   "id": "59ea4bff",
   "metadata": {},
   "outputs": [],
   "source": [
    "c=\"python is populer programming language  ##\""
   ]
  },
  {
   "cell_type": "code",
   "execution_count": 2,
   "id": "92f4e665",
   "metadata": {},
   "outputs": [
    {
     "data": {
      "text/plain": [
       "4"
      ]
     },
     "execution_count": 2,
     "metadata": {},
     "output_type": "execute_result"
    }
   ],
   "source": [
    "c.count('g')#no. of g present "
   ]
  },
  {
   "cell_type": "code",
   "execution_count": 3,
   "id": "24567b8e",
   "metadata": {},
   "outputs": [
    {
     "data": {
      "text/plain": [
       "4"
      ]
     },
     "execution_count": 3,
     "metadata": {},
     "output_type": "execute_result"
    }
   ],
   "source": [
    "c.count('p')"
   ]
  },
  {
   "cell_type": "code",
   "execution_count": 6,
   "id": "216e2c69",
   "metadata": {},
   "outputs": [
    {
     "data": {
      "text/plain": [
       "2"
      ]
     },
     "execution_count": 6,
     "metadata": {},
     "output_type": "execute_result"
    }
   ],
   "source": [
    "c.count('#')"
   ]
  },
  {
   "cell_type": "code",
   "execution_count": 4,
   "id": "eff2ae2b",
   "metadata": {},
   "outputs": [
    {
     "data": {
      "text/plain": [
       "'java is populer programming language'"
      ]
     },
     "execution_count": 4,
     "metadata": {},
     "output_type": "execute_result"
    }
   ],
   "source": [
    "c.replace('python','java')"
   ]
  },
  {
   "cell_type": "markdown",
   "id": "47e14abd",
   "metadata": {},
   "source": [
    "join function- the join string function return a string by joining all the element of iterable (list,tuple,string)seperated by a string seperater"
   ]
  },
  {
   "cell_type": "code",
   "execution_count": 7,
   "id": "0fca4b13",
   "metadata": {},
   "outputs": [],
   "source": [
    "text=['nasa','is','building','hotel','projects','in','mars']"
   ]
  },
  {
   "cell_type": "code",
   "execution_count": 8,
   "id": "dafae464",
   "metadata": {},
   "outputs": [
    {
     "data": {
      "text/plain": [
       "['nasa', 'is', 'building', 'hotel', 'projects', 'in', 'mars']"
      ]
     },
     "execution_count": 8,
     "metadata": {},
     "output_type": "execute_result"
    }
   ],
   "source": [
    "text"
   ]
  },
  {
   "cell_type": "code",
   "execution_count": 10,
   "id": "2ab03734",
   "metadata": {},
   "outputs": [
    {
     "data": {
      "text/plain": [
       "'nasaisbuildinghotelprojectsinmars'"
      ]
     },
     "execution_count": 10,
     "metadata": {},
     "output_type": "execute_result"
    }
   ],
   "source": [
    "''.join(text)#joining with nospace"
   ]
  },
  {
   "cell_type": "code",
   "execution_count": 11,
   "id": "3e654cdd",
   "metadata": {},
   "outputs": [
    {
     "data": {
      "text/plain": [
       "'nasa  is  building  hotel  projects  in  mars'"
      ]
     },
     "execution_count": 11,
     "metadata": {},
     "output_type": "execute_result"
    }
   ],
   "source": [
    "'  '.join(text)#joining with space"
   ]
  },
  {
   "cell_type": "markdown",
   "id": "8fba5ecf",
   "metadata": {},
   "source": [
    "CASEFOLD()  -   casefold  ignoring the matching of words by uppercase and lowercase"
   ]
  },
  {
   "cell_type": "code",
   "execution_count": 12,
   "id": "f3bc4854",
   "metadata": {},
   "outputs": [
    {
     "name": "stdout",
     "output_type": "stream",
     "text": [
      "the two string are matching\n"
     ]
    }
   ],
   "source": [
    "string1='Tesla'\n",
    "string2='tesla'\n",
    "if string1.casefold()==string2.casefold():\n",
    "    print('the two string are matching')\n",
    "else:\n",
    "    print('the two string are not matching')"
   ]
  },
  {
   "cell_type": "markdown",
   "id": "ebefecb3",
   "metadata": {},
   "source": [
    "string printing format\n",
    "\n",
    "c-style formate\n",
    "\n",
    "sting.formate"
   ]
  },
  {
   "cell_type": "markdown",
   "id": "0bc1959f",
   "metadata": {},
   "source": [
    "Python uses C-style string formate to create new formated string .the %operater used to formate a set of varieble enclosed with tuples (fixed with size list)together with a formate string wich contain normal text together with 'argument specifier' special symbol like %s %d %f"
   ]
  },
  {
   "cell_type": "code",
   "execution_count": 13,
   "id": "daab43c7",
   "metadata": {},
   "outputs": [
    {
     "name": "stdout",
     "output_type": "stream",
     "text": [
      "hello  john!\n"
     ]
    }
   ],
   "source": [
    "name =\"john\"\n",
    "print(\"hello  %s!\" %name)"
   ]
  },
  {
   "cell_type": "code",
   "execution_count": 14,
   "id": "93265bc6",
   "metadata": {},
   "outputs": [
    {
     "name": "stdout",
     "output_type": "stream",
     "text": [
      "hello john !\n"
     ]
    }
   ],
   "source": [
    "print('hello',name,'!')"
   ]
  },
  {
   "cell_type": "code",
   "execution_count": 18,
   "id": "2e13413f",
   "metadata": {},
   "outputs": [
    {
     "name": "stdout",
     "output_type": "stream",
     "text": [
      "john who is 23 year old taking saary 3455.543300\n",
      "salary=3455.54\n"
     ]
    }
   ],
   "source": [
    "name='john'\n",
    "age=23\n",
    "salary=3455.5433\n",
    "print(\"%s who is %d year old taking saary %f\" %(name,age,salary))\n",
    "print('salary=%0.2f'%salary)"
   ]
  },
  {
   "cell_type": "code",
   "execution_count": 21,
   "id": "30e69155",
   "metadata": {},
   "outputs": [
    {
     "name": "stdout",
     "output_type": "stream",
     "text": [
      "i like to eat apple mango and banana\n"
     ]
    }
   ],
   "source": [
    "fruit1='apple'\n",
    "fruit2='mango'\n",
    "fruit3='banana'\n",
    "print('i like to eat %s %s and %s' %(fruit1,fruit2,fruit3))"
   ]
  },
  {
   "cell_type": "markdown",
   "id": "cb5a2969",
   "metadata": {},
   "source": [
    "string.formate function"
   ]
  },
  {
   "cell_type": "code",
   "execution_count": 24,
   "id": "0dca560f",
   "metadata": {},
   "outputs": [
    {
     "name": "stdout",
     "output_type": "stream",
     "text": [
      "people generally take coke with pizza\n"
     ]
    }
   ],
   "source": [
    "print('people generally take {} with {}' .format('coke',\"pizza\"))"
   ]
  },
  {
   "cell_type": "code",
   "execution_count": 25,
   "id": "6a46057c",
   "metadata": {},
   "outputs": [
    {
     "name": "stdout",
     "output_type": "stream",
     "text": [
      "people generally take coke with pizza\n"
     ]
    }
   ],
   "source": [
    "print('people generally take {0} with {1}' .format('coke',\"pizza\"))"
   ]
  },
  {
   "cell_type": "code",
   "execution_count": 26,
   "id": "abc01a47",
   "metadata": {},
   "outputs": [
    {
     "name": "stdout",
     "output_type": "stream",
     "text": [
      "people generally take pizza with coke\n"
     ]
    }
   ],
   "source": [
    "print('people generally take {1} with {0}' .format('coke',\"pizza\"))"
   ]
  },
  {
   "cell_type": "code",
   "execution_count": 28,
   "id": "40ba45f8",
   "metadata": {},
   "outputs": [
    {
     "name": "stdout",
     "output_type": "stream",
     "text": [
      "his name is mohan and 35 year old\n"
     ]
    }
   ],
   "source": [
    "name='mohan'\n",
    "age=35\n",
    "print('his name is {} and {} year old'.format(name,age))"
   ]
  },
  {
   "cell_type": "code",
   "execution_count": 30,
   "id": "f3c161db",
   "metadata": {},
   "outputs": [
    {
     "name": "stdout",
     "output_type": "stream",
     "text": [
      "35 year old man is sitting here whose name is mohan\n"
     ]
    }
   ],
   "source": [
    "name='mohan'\n",
    "age=35\n",
    "print('{} year old man is sitting here whose name is {}'.format(age,name))"
   ]
  },
  {
   "cell_type": "code",
   "execution_count": null,
   "id": "73fa0eb7",
   "metadata": {},
   "outputs": [],
   "source": []
  },
  {
   "cell_type": "code",
   "execution_count": null,
   "id": "6dbd2952",
   "metadata": {},
   "outputs": [],
   "source": []
  },
  {
   "cell_type": "code",
   "execution_count": null,
   "id": "83791f3f",
   "metadata": {},
   "outputs": [],
   "source": []
  },
  {
   "cell_type": "code",
   "execution_count": null,
   "id": "edef75e1",
   "metadata": {},
   "outputs": [],
   "source": []
  },
  {
   "cell_type": "code",
   "execution_count": null,
   "id": "7c47c5a8",
   "metadata": {},
   "outputs": [],
   "source": []
  },
  {
   "cell_type": "code",
   "execution_count": null,
   "id": "3231642e",
   "metadata": {},
   "outputs": [],
   "source": []
  },
  {
   "cell_type": "code",
   "execution_count": null,
   "id": "95f6d0f3",
   "metadata": {},
   "outputs": [],
   "source": []
  },
  {
   "cell_type": "code",
   "execution_count": null,
   "id": "6f6259ce",
   "metadata": {},
   "outputs": [],
   "source": []
  },
  {
   "cell_type": "code",
   "execution_count": null,
   "id": "b35ecffc",
   "metadata": {},
   "outputs": [],
   "source": []
  },
  {
   "cell_type": "code",
   "execution_count": null,
   "id": "4fa617ea",
   "metadata": {},
   "outputs": [],
   "source": []
  },
  {
   "cell_type": "code",
   "execution_count": null,
   "id": "b8089a7d",
   "metadata": {},
   "outputs": [],
   "source": []
  },
  {
   "cell_type": "code",
   "execution_count": null,
   "id": "edb1b376",
   "metadata": {},
   "outputs": [],
   "source": []
  },
  {
   "cell_type": "code",
   "execution_count": null,
   "id": "f93eb33f",
   "metadata": {},
   "outputs": [],
   "source": []
  }
 ],
 "metadata": {
  "kernelspec": {
   "display_name": "Python 3 (ipykernel)",
   "language": "python",
   "name": "python3"
  },
  "language_info": {
   "codemirror_mode": {
    "name": "ipython",
    "version": 3
   },
   "file_extension": ".py",
   "mimetype": "text/x-python",
   "name": "python",
   "nbconvert_exporter": "python",
   "pygments_lexer": "ipython3",
   "version": "3.9.7"
  }
 },
 "nbformat": 4,
 "nbformat_minor": 5
}
