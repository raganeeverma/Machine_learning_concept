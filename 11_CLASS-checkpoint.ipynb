{
 "cells": [
  {
   "cell_type": "markdown",
   "id": "750b4266",
   "metadata": {},
   "source": [
    "Python is an OOPS (object oriented programming language.) \n",
    "\n",
    "Object-Oriented Programming System (OOPs) is a programming concept that works on the principles of abstraction, encapsulation, inheritance, and polymorphism.\n",
    "    \n",
    "It allows users to create objects they want and create methods to handle those objects\n",
    "\n",
    "Almost everything in Python is an object, with its properties and methods.\n",
    "\n",
    "A Class is like an object constructor, or a \"blueprint\" for creating objects.\n",
    "\n",
    "To create a class, use the keyword class:"
   ]
  },
  {
   "cell_type": "markdown",
   "id": "279b3936",
   "metadata": {},
   "source": [
    "The __init__() Function (It is initialisation of construction)\n",
    "\n",
    "The examples above are classes and objects in their simplest form, and are not really useful in real life applications.\n",
    "\n",
    "To understand the meaning of classes we have to understand the built-in __init__() function.\n",
    "\n",
    "All classes have a function called __init__(), which is always executed when the class is being initiated.\n",
    "\n",
    "Use the __init__() function to assign values to object properties, or other operations that are necessary to do when the object is being created:"
   ]
  },
  {
   "cell_type": "code",
   "execution_count": 73,
   "id": "818b6b26",
   "metadata": {},
   "outputs": [],
   "source": [
    "class student:#create class name is student\n",
    "    school='rayan international'#school is class variable\n",
    "    def __init__(self,id,name):#The self parameter is a reference to the current instance of the class, and is used to access variables that belong to the class.\n",
    "        self.id=id   #id ,name is instance variable\n",
    "        self.name=name\n",
    "    def display (self):#method of class \n",
    "        print('my id is ' ,self.id)\n",
    "        print('my name is ', self.name)\n",
    "     \n"
   ]
  },
  {
   "cell_type": "code",
   "execution_count": 74,
   "id": "cfe5e0a0",
   "metadata": {},
   "outputs": [
    {
     "name": "stdout",
     "output_type": "stream",
     "text": [
      "my id is  12\n",
      "my name is  john\n"
     ]
    }
   ],
   "source": [
    "st1=student(12,'john')#creat object\n",
    "st1.display()#calling display function using object"
   ]
  },
  {
   "cell_type": "code",
   "execution_count": 75,
   "id": "b447e8e4",
   "metadata": {},
   "outputs": [
    {
     "name": "stdout",
     "output_type": "stream",
     "text": [
      "my id is  15\n",
      "my name is  mohan\n"
     ]
    }
   ],
   "source": [
    "st2=student(15,'mohan')#creat object\n",
    "st2.display()#calling display function using object"
   ]
  },
  {
   "cell_type": "code",
   "execution_count": 76,
   "id": "b71ee8b2",
   "metadata": {},
   "outputs": [
    {
     "data": {
      "text/plain": [
       "12"
      ]
     },
     "execution_count": 76,
     "metadata": {},
     "output_type": "execute_result"
    }
   ],
   "source": [
    "st1.id"
   ]
  },
  {
   "cell_type": "code",
   "execution_count": 77,
   "id": "ebc865fc",
   "metadata": {},
   "outputs": [
    {
     "data": {
      "text/plain": [
       "15"
      ]
     },
     "execution_count": 77,
     "metadata": {},
     "output_type": "execute_result"
    }
   ],
   "source": [
    "st2.id"
   ]
  },
  {
   "cell_type": "code",
   "execution_count": 78,
   "id": "b468e60e",
   "metadata": {},
   "outputs": [
    {
     "data": {
      "text/plain": [
       "'john'"
      ]
     },
     "execution_count": 78,
     "metadata": {},
     "output_type": "execute_result"
    }
   ],
   "source": [
    "st1.name"
   ]
  },
  {
   "cell_type": "code",
   "execution_count": 79,
   "id": "b662dee3",
   "metadata": {},
   "outputs": [
    {
     "data": {
      "text/plain": [
       "'mohan'"
      ]
     },
     "execution_count": 79,
     "metadata": {},
     "output_type": "execute_result"
    }
   ],
   "source": [
    "st2.name"
   ]
  },
  {
   "cell_type": "code",
   "execution_count": 80,
   "id": "f2282508",
   "metadata": {},
   "outputs": [
    {
     "data": {
      "text/plain": [
       "'rayan international'"
      ]
     },
     "execution_count": 80,
     "metadata": {},
     "output_type": "execute_result"
    }
   ],
   "source": [
    "student.school#class variable access by classname"
   ]
  },
  {
   "cell_type": "code",
   "execution_count": null,
   "id": "c98127e8",
   "metadata": {},
   "outputs": [],
   "source": []
  },
  {
   "cell_type": "code",
   "execution_count": 66,
   "id": "ed7b39c8",
   "metadata": {},
   "outputs": [],
   "source": [
    "class employee:\n",
    "    salary=9000# this is class variable and we can call it by using classname\n",
    "    def __init__(self,empid, empname, position):#this is instant variable called automatically  when we creat object but anable to call using class name \n",
    "        self.empid = empid\n",
    "        self.empname = empname\n",
    "        self.position = position\n",
    "    def fun2(self):# called using object \n",
    "            print(\"Hello i am \" , self.empname, ' my id is',self.empid,'and my position is',self.position)"
   ]
  },
  {
   "cell_type": "code",
   "execution_count": 67,
   "id": "8692ff58",
   "metadata": {},
   "outputs": [
    {
     "name": "stdout",
     "output_type": "stream",
     "text": [
      "Hello i am  raginee  my id is 12 and my position is manager\n"
     ]
    }
   ],
   "source": [
    "p1=employee(12,'raginee','manager')\n",
    "p1.fun2()"
   ]
  },
  {
   "cell_type": "code",
   "execution_count": 81,
   "id": "6bee5f94",
   "metadata": {},
   "outputs": [
    {
     "name": "stdout",
     "output_type": "stream",
     "text": [
      "Hello i am  myra  my id is 13 and my position is doctor\n"
     ]
    }
   ],
   "source": [
    "emp=employee(13,\"myra\",\"doctor\")\n",
    "emp.fun2()"
   ]
  },
  {
   "cell_type": "code",
   "execution_count": 68,
   "id": "9d359752",
   "metadata": {},
   "outputs": [
    {
     "data": {
      "text/plain": [
       "12"
      ]
     },
     "execution_count": 68,
     "metadata": {},
     "output_type": "execute_result"
    }
   ],
   "source": [
    "p1.empid#instance variable access using instance name"
   ]
  },
  {
   "cell_type": "code",
   "execution_count": 69,
   "id": "040bd4da",
   "metadata": {},
   "outputs": [
    {
     "data": {
      "text/plain": [
       "'raginee'"
      ]
     },
     "execution_count": 69,
     "metadata": {},
     "output_type": "execute_result"
    }
   ],
   "source": [
    "p1.empname"
   ]
  },
  {
   "cell_type": "code",
   "execution_count": 70,
   "id": "d3e3dc74",
   "metadata": {},
   "outputs": [
    {
     "data": {
      "text/plain": [
       "'manager'"
      ]
     },
     "execution_count": 70,
     "metadata": {},
     "output_type": "execute_result"
    }
   ],
   "source": [
    "p1.position"
   ]
  },
  {
   "cell_type": "code",
   "execution_count": 82,
   "id": "dc27dab0",
   "metadata": {},
   "outputs": [
    {
     "data": {
      "text/plain": [
       "'myra'"
      ]
     },
     "execution_count": 82,
     "metadata": {},
     "output_type": "execute_result"
    }
   ],
   "source": [
    "emp.empname"
   ]
  },
  {
   "cell_type": "code",
   "execution_count": 72,
   "id": "3856a844",
   "metadata": {},
   "outputs": [
    {
     "ename": "AttributeError",
     "evalue": "type object 'employee' has no attribute 'empid'",
     "output_type": "error",
     "traceback": [
      "\u001b[1;31m---------------------------------------------------------------------------\u001b[0m",
      "\u001b[1;31mAttributeError\u001b[0m                            Traceback (most recent call last)",
      "\u001b[1;32m~\\AppData\\Local\\Temp/ipykernel_7440/332237464.py\u001b[0m in \u001b[0;36m<module>\u001b[1;34m\u001b[0m\n\u001b[1;32m----> 1\u001b[1;33m \u001b[0memployee\u001b[0m\u001b[1;33m.\u001b[0m\u001b[0mempid\u001b[0m\u001b[1;33m\u001b[0m\u001b[1;33m\u001b[0m\u001b[0m\n\u001b[0m",
      "\u001b[1;31mAttributeError\u001b[0m: type object 'employee' has no attribute 'empid'"
     ]
    }
   ],
   "source": [
    "employee.empid#instance variable can not aceess using classname"
   ]
  },
  {
   "cell_type": "code",
   "execution_count": 71,
   "id": "374e8de3",
   "metadata": {},
   "outputs": [
    {
     "data": {
      "text/plain": [
       "9000"
      ]
     },
     "execution_count": 71,
     "metadata": {},
     "output_type": "execute_result"
    }
   ],
   "source": [
    "employee.salary#class variable access by class name"
   ]
  },
  {
   "cell_type": "code",
   "execution_count": 10,
   "id": "9b39cb48",
   "metadata": {},
   "outputs": [
    {
     "name": "stdout",
     "output_type": "stream",
     "text": [
      "id== 12 name== motu\n"
     ]
    }
   ],
   "source": [
    "class person:\n",
    "    def __init__(self,id,name):\n",
    "        self.id=id\n",
    "        self.name=name\n",
    "    \n",
    "    def display(self):\n",
    "        print('id==',self.id,'name==',self.name)\n",
    "    \n",
    "per1=person(12,'motu')\n",
    "per1.display()"
   ]
  },
  {
   "cell_type": "code",
   "execution_count": 19,
   "id": "ebb6bfa2",
   "metadata": {},
   "outputs": [],
   "source": [
    "class company:\n",
    "    revenue=800000\n",
    "    def __init__(self,name,location,no_of_employee):\n",
    "        self.name=name\n",
    "        self.location=location\n",
    "        self.no_of_employee=no_of_employee\n",
    "        "
   ]
  },
  {
   "cell_type": "code",
   "execution_count": 20,
   "id": "78dc2b82",
   "metadata": {},
   "outputs": [
    {
     "name": "stdout",
     "output_type": "stream",
     "text": [
      "google\n",
      "india\n",
      "400\n"
     ]
    },
    {
     "data": {
      "text/plain": [
       "800000"
      ]
     },
     "execution_count": 20,
     "metadata": {},
     "output_type": "execute_result"
    }
   ],
   "source": [
    "c=company('google','india',400)\n",
    "print(c.name)\n",
    "print(c.location)\n",
    "print(c.no_of_employee)\n",
    "company.revenue"
   ]
  },
  {
   "cell_type": "code",
   "execution_count": 29,
   "id": "e9bf4e3b",
   "metadata": {},
   "outputs": [],
   "source": [
    "class car:\n",
    "    def __init__(self,company,color):\n",
    "        self.company=company\n",
    "        self.color=color\n",
    "    def display(self):\n",
    "        print('company=',self.company,'color=',self.color)\n",
    "    "
   ]
  },
  {
   "cell_type": "code",
   "execution_count": 30,
   "id": "c9070b3d",
   "metadata": {},
   "outputs": [],
   "source": [
    "def main():\n",
    "    car1=car('nexon','green')\n",
    "    car1.display()"
   ]
  },
  {
   "cell_type": "code",
   "execution_count": 32,
   "id": "edaa91dd",
   "metadata": {},
   "outputs": [
    {
     "name": "stdout",
     "output_type": "stream",
     "text": [
      "company= nexon color= green\n"
     ]
    }
   ],
   "source": [
    "if __name__==\"__main__\":\n",
    "    main()"
   ]
  },
  {
   "cell_type": "code",
   "execution_count": 40,
   "id": "4ed055b9",
   "metadata": {},
   "outputs": [],
   "source": [
    "class Employee:\n",
    "    \n",
    "    def __init__(self,name,age):\n",
    "        print('invoked when object is created')\n",
    "        self.name=name\n",
    "        self.age=age\n",
    "        \n",
    "    def getdata(self,name,age):\n",
    "        print('invoked when when getdata function is called by busing object')\n",
    "        self.name=name\n",
    "        self.age=age\n",
    "        \n",
    "    def displaydata(self):\n",
    "        print('hello',self.name,self.age)\n",
    "    \n",
    "    "
   ]
  },
  {
   "cell_type": "code",
   "execution_count": 41,
   "id": "14dc509a",
   "metadata": {},
   "outputs": [],
   "source": [
    "def main():\n",
    "    e=Employee('ranu',25)\n",
    "    e.displaydata()\n",
    "    e.getdata('sonu',45)\n",
    "    e.displaydata()"
   ]
  },
  {
   "cell_type": "code",
   "execution_count": 42,
   "id": "fa21620f",
   "metadata": {},
   "outputs": [
    {
     "name": "stdout",
     "output_type": "stream",
     "text": [
      "invoked when object is created\n",
      "hello ranu 25\n",
      "invoked when when getdata function is called by busing object\n",
      "hello sonu 45\n"
     ]
    }
   ],
   "source": [
    "if __name__==\"__main__\":\n",
    "    main()"
   ]
  },
  {
   "cell_type": "code",
   "execution_count": 44,
   "id": "e10ff75d",
   "metadata": {},
   "outputs": [
    {
     "name": "stdout",
     "output_type": "stream",
     "text": [
      "invoked when object is created\n",
      "hello john 23 football\n",
      "invoked when when getdata function is called by busing object\n",
      "hello mohan 45 cricket\n"
     ]
    }
   ],
   "source": [
    "class player:\n",
    "    def __init__(self,name,age,sport):\n",
    "        print('invoked when object is created')\n",
    "        self.name=name\n",
    "        self.age=age\n",
    "        self.sport=sport\n",
    "        \n",
    "    def getdata(self,name,age,sport):\n",
    "        print('invoked when when getdata function is called by busing object')\n",
    "        self.name=name\n",
    "        self.age=age\n",
    "        self.sport=sport\n",
    "        \n",
    "    def displaydata(self):\n",
    "        print('hello',self.name,self.age,self.sport)\n",
    "        \n",
    "def main():\n",
    "    p=player('john',23,'football')\n",
    "    p.displaydata()\n",
    "    p.getdata('mohan',45,'cricket')\n",
    "    p.displaydata()\n",
    "    \n",
    "if __name__==\"__main__\":\n",
    "    main()\n",
    "    "
   ]
  },
  {
   "cell_type": "code",
   "execution_count": null,
   "id": "3907f2ef",
   "metadata": {},
   "outputs": [],
   "source": []
  }
 ],
 "metadata": {
  "kernelspec": {
   "display_name": "Python 3 (ipykernel)",
   "language": "python",
   "name": "python3"
  },
  "language_info": {
   "codemirror_mode": {
    "name": "ipython",
    "version": 3
   },
   "file_extension": ".py",
   "mimetype": "text/x-python",
   "name": "python",
   "nbconvert_exporter": "python",
   "pygments_lexer": "ipython3",
   "version": "3.9.7"
  }
 },
 "nbformat": 4,
 "nbformat_minor": 5
}
