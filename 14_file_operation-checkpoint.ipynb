{
 "cells": [
  {
   "cell_type": "markdown",
   "id": "8fc032df",
   "metadata": {},
   "source": [
    "# FILE HANDLING"
   ]
  },
  {
   "cell_type": "markdown",
   "id": "68d3c028",
   "metadata": {},
   "source": [
    "Python File Open\n",
    "\n",
    "File handling is an important part of any web application.\n",
    "\n",
    "Python has several functions for creating, reading, updating, and deleting files.\n",
    "\n",
    "The key function for working with files in Python is the open() function.\n",
    "\n",
    "The open() function takes two parameters; filename, and mode.\n",
    "\n",
    "There are four different methods (modes) for opening a file:\n",
    "\n",
    "\"r\" - Read - Default value. Opens a file for reading, error if the file does not exist\n",
    "\n",
    "\"a\" - Append - Opens a file for appending, creates the file if it does not exist\n",
    "\n",
    "\"w\" - Write - Opens a file for writing, creates the file if it does not exist\n",
    "\n",
    "\"x\" - Create - Creates the specified file, returns an error if the file exists\n",
    "\n",
    "In addition you can specify if the file should be handled as binary or text mode\n",
    "\n",
    "\"t\" - Text - Default value. Text mode\n",
    "\n",
    "\"b\" - Binary - Binary mode (e.g. images)\n",
    "\n"
   ]
  },
  {
   "cell_type": "markdown",
   "id": "27f2617d",
   "metadata": {},
   "source": [
    "ex.\n",
    "\n",
    "f=open('E:\\python\\file1.txt','w')\n",
    "\n",
    "\n",
    "f=open('E:\\python\\file2.txt','r')"
   ]
  },
  {
   "cell_type": "code",
   "execution_count": 2,
   "id": "7234f34d",
   "metadata": {},
   "outputs": [],
   "source": [
    "savefile=open('E:\\\\python\\\\filehandling.txt','w')#savefile is instaint variable"
   ]
  },
  {
   "cell_type": "code",
   "execution_count": 3,
   "id": "134bef32",
   "metadata": {},
   "outputs": [
    {
     "data": {
      "text/plain": [
       "37"
      ]
     },
     "execution_count": 3,
     "metadata": {},
     "output_type": "execute_result"
    }
   ],
   "source": [
    "savefile.write('i am learning file handling operation')#37 is no. of bite and write is method"
   ]
  },
  {
   "cell_type": "code",
   "execution_count": 4,
   "id": "592745b0",
   "metadata": {},
   "outputs": [],
   "source": [
    "savefile.close()"
   ]
  },
  {
   "cell_type": "code",
   "execution_count": 6,
   "id": "853134aa",
   "metadata": {},
   "outputs": [],
   "source": [
    "readme=open('E:\\\\python\\\\filehandling.txt','r')"
   ]
  },
  {
   "cell_type": "code",
   "execution_count": 7,
   "id": "58f0e2f3",
   "metadata": {},
   "outputs": [
    {
     "name": "stdout",
     "output_type": "stream",
     "text": [
      "i am learning file handling operation\n"
     ]
    }
   ],
   "source": [
    "print(readme.read())#read is methode"
   ]
  },
  {
   "cell_type": "code",
   "execution_count": 8,
   "id": "5ba13696",
   "metadata": {},
   "outputs": [],
   "source": [
    "readme.close()"
   ]
  },
  {
   "cell_type": "code",
   "execution_count": 9,
   "id": "9ab53d51",
   "metadata": {},
   "outputs": [],
   "source": [
    "readme1=open('E:\\\\python\\\\filehandling.txt')#by defalt file open as read mode\n"
   ]
  },
  {
   "cell_type": "code",
   "execution_count": 12,
   "id": "5c4b18c9",
   "metadata": {},
   "outputs": [
    {
     "name": "stdout",
     "output_type": "stream",
     "text": [
      "i am learning file handling operation\n"
     ]
    }
   ],
   "source": [
    "print(readme1.read())"
   ]
  },
  {
   "cell_type": "code",
   "execution_count": 14,
   "id": "0b5ac13e",
   "metadata": {},
   "outputs": [],
   "source": [
    "readme1.close()"
   ]
  },
  {
   "cell_type": "code",
   "execution_count": 22,
   "id": "e1992c4e",
   "metadata": {},
   "outputs": [],
   "source": [
    "appendme=open('E:\\\\python\\\\filehandling.txt','a')"
   ]
  },
  {
   "cell_type": "code",
   "execution_count": 23,
   "id": "5d8ff731",
   "metadata": {},
   "outputs": [
    {
     "data": {
      "text/plain": [
       "28"
      ]
     },
     "execution_count": 23,
     "metadata": {},
     "output_type": "execute_result"
    }
   ],
   "source": [
    "appendme.write(' \\n i am adding a second line')"
   ]
  },
  {
   "cell_type": "code",
   "execution_count": 24,
   "id": "9a5e49b9",
   "metadata": {},
   "outputs": [],
   "source": [
    "appendme.close()"
   ]
  },
  {
   "cell_type": "code",
   "execution_count": 25,
   "id": "e0113eff",
   "metadata": {},
   "outputs": [],
   "source": [
    "readme=open('E:\\\\python\\\\filehandling.txt')"
   ]
  },
  {
   "cell_type": "code",
   "execution_count": 26,
   "id": "9ce411cb",
   "metadata": {},
   "outputs": [
    {
     "name": "stdout",
     "output_type": "stream",
     "text": [
      "i am learning file handling operationi am adding a second line \n",
      " i am adding a second line\n"
     ]
    }
   ],
   "source": [
    "print(readme.read())"
   ]
  },
  {
   "cell_type": "markdown",
   "id": "1a97dd75",
   "metadata": {},
   "source": [
    "SERIALIZATION AND DESERIALIZATION"
   ]
  },
  {
   "cell_type": "markdown",
   "id": "a3a6637c",
   "metadata": {},
   "source": [
    "Serialization - if i whant to drage any obj file from outside the jupyter notebook and store into any c drive as an object or binary file this process is known as serialization\n",
    "\n",
    "pickle - it is library that is used for serialization process\n",
    "\n",
    "dump - it is method used for  serialization process\n",
    "\n",
    "\n",
    "Deserialization - opposite of serialization, suppose i have any binary file into c drive and want to pull it in word of jypiter nootbook is called deserialization \n",
    "\n",
    "pickle - it is library that is used for serialization process and Deserialization process\n",
    "\n",
    "dump - it is method used for  serialization process\n",
    "\n",
    "load - it is method used for  deserialization process\n",
    "\n",
    " it is used in machine learning Serialization is the process of converting an object into a stream of bytes to store the object or transmit it to memory, a database, or a file. Its main purpose is to save the state of an object in order to be able to recreate it when needed."
   ]
  },
  {
   "cell_type": "markdown",
   "id": "b534feb6",
   "metadata": {},
   "source": [
    "# PICKLE IN PYTHON  :OBJECT SERIALIZATION"
   ]
  },
  {
   "cell_type": "code",
   "execution_count": 2,
   "id": "1e1feee2",
   "metadata": {},
   "outputs": [],
   "source": [
    "import pickle "
   ]
  },
  {
   "cell_type": "code",
   "execution_count": 3,
   "id": "9c54425a",
   "metadata": {},
   "outputs": [],
   "source": [
    "flower_dict={1:'rose',2:'lily',3:'marigold'}#it is dictionary obj file"
   ]
  },
  {
   "cell_type": "code",
   "execution_count": 5,
   "id": "100b0d06",
   "metadata": {},
   "outputs": [],
   "source": [
    "#outfile is refrense variable\n",
    "#flower.obj is file name\n",
    "#wb is a write binary mode\n",
    "outfile=open('flower.obj','wb') "
   ]
  },
  {
   "cell_type": "code",
   "execution_count": 8,
   "id": "10ab126f",
   "metadata": {},
   "outputs": [],
   "source": [
    "#pickling the file using dump method for serialization\n",
    "#load the file anywhere into  c drive as flower.obj\n",
    "pickle.dump(flower_dict,outfile)"
   ]
  },
  {
   "cell_type": "code",
   "execution_count": 9,
   "id": "b9ebe8ad",
   "metadata": {},
   "outputs": [],
   "source": [
    "outfile.close()"
   ]
  },
  {
   "cell_type": "code",
   "execution_count": 11,
   "id": "7c5aa0bf",
   "metadata": {},
   "outputs": [],
   "source": [
    "#unpickle or deserialization\n",
    "\n",
    "infile=open('flower.obj','rb')"
   ]
  },
  {
   "cell_type": "code",
   "execution_count": 13,
   "id": "0b4fce92",
   "metadata": {},
   "outputs": [],
   "source": [
    "#store flower_dict means flower.obj file from c drive to jupyter nootbook using load method\n",
    "\n",
    "new_file=pickle.load(infile)"
   ]
  },
  {
   "cell_type": "code",
   "execution_count": 14,
   "id": "7e58a4e3",
   "metadata": {},
   "outputs": [],
   "source": [
    "infile.close()"
   ]
  },
  {
   "cell_type": "code",
   "execution_count": 15,
   "id": "cc4134b9",
   "metadata": {},
   "outputs": [
    {
     "name": "stdout",
     "output_type": "stream",
     "text": [
      "{1: 'rose', 2: 'lily', 3: 'marigold'}\n"
     ]
    }
   ],
   "source": [
    "print(new_file)"
   ]
  },
  {
   "cell_type": "code",
   "execution_count": 16,
   "id": "109ac2dd",
   "metadata": {},
   "outputs": [
    {
     "name": "stdout",
     "output_type": "stream",
     "text": [
      "<class 'dict'>\n"
     ]
    }
   ],
   "source": [
    "print(type(new_file))"
   ]
  },
  {
   "cell_type": "code",
   "execution_count": null,
   "id": "994d3662",
   "metadata": {},
   "outputs": [],
   "source": []
  },
  {
   "cell_type": "code",
   "execution_count": null,
   "id": "e6c573c2",
   "metadata": {},
   "outputs": [],
   "source": []
  },
  {
   "cell_type": "code",
   "execution_count": null,
   "id": "e96cd976",
   "metadata": {},
   "outputs": [],
   "source": []
  }
 ],
 "metadata": {
  "kernelspec": {
   "display_name": "Python 3 (ipykernel)",
   "language": "python",
   "name": "python3"
  },
  "language_info": {
   "codemirror_mode": {
    "name": "ipython",
    "version": 3
   },
   "file_extension": ".py",
   "mimetype": "text/x-python",
   "name": "python",
   "nbconvert_exporter": "python",
   "pygments_lexer": "ipython3",
   "version": "3.9.7"
  }
 },
 "nbformat": 4,
 "nbformat_minor": 5
}
