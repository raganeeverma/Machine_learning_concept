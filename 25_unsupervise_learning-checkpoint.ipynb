{
 "cells": [
  {
   "cell_type": "markdown",
   "id": "1f077f5c",
   "metadata": {},
   "source": [
    "Unsupervised Learning-\n",
    "\n",
    "Unsupervised Learning draws inferences from datasets without labels. It is best used if you want to find patterns but don't know exactly what you're looking for. This makes it useful in cybersecurity where the attacker is always changing methods."
   ]
  },
  {
   "cell_type": "markdown",
   "id": "3af4073e",
   "metadata": {},
   "source": [
    "Unsupervised learning, also known as unsupervised machine learning, uses machine learning algorithms to analyze and cluster unlabeled datasets. These algorithms discover hidden patterns or data groupings without the need for human intervention."
   ]
  },
  {
   "cell_type": "markdown",
   "id": "2376c428",
   "metadata": {},
   "source": [
    "Unsupervised learning models are utilized for three main tasks—clustering, association, and dimensionality reduction. Below we’ll define each learning method and highlight common algorithms and approaches to conduct them effectively."
   ]
  },
  {
   "cell_type": "markdown",
   "id": "6af97a4d",
   "metadata": {},
   "source": [
    "Clustering\n",
    "\n",
    "\n",
    "Clustering is a data mining technique which groups unlabeled data based on their similarities or differences. Clustering algorithms are used to process raw, unclassified data objects into groups represented by structures or patterns in the information. Clustering algorithms can be categorized into a few types, specifically exclusive, overlapping, hierarchical, and probabilistic."
   ]
  },
  {
   "cell_type": "markdown",
   "id": "6702a820",
   "metadata": {},
   "source": [
    "# TYPE OF CLUSTER"
   ]
  },
  {
   "cell_type": "markdown",
   "id": "0c5238cd",
   "metadata": {},
   "source": [
    "1.. K_MEANS CLUSTER\n",
    "\n",
    "2. Hierarchical clustering\n",
    "\n",
    "3.DBSCAN CLUSTER"
   ]
  },
  {
   "cell_type": "markdown",
   "id": "f284a56c",
   "metadata": {},
   "source": [
    "# The K-means clustering algorithm"
   ]
  },
  {
   "cell_type": "markdown",
   "id": "3ada6852",
   "metadata": {},
   "source": [
    "Exclusive and Overlapping Clustering\n",
    "Exclusive clustering is a form of grouping that stipulates a data point can exist only in one cluster. This can also be referred to as “hard” clustering. The K-means clustering algorithm is an example of exclusive clustering.\n",
    "\n",
    "K-means clustering is a common example of an exclusive clustering method where data points are assigned into K groups, where K represents the number of clusters based on the distance from each group’s centroid. The data points closest to a given centroid will be clustered under the same category. A larger K value will be indicative of smaller groupings with more granularity whereas a smaller K value will have larger groupings and less granularity. K-means clustering is commonly used in market segmentation, document clustering, image segmentation, and image compression.\n",
    "Overlapping clusters differs from exclusive clustering in that it allows data points to belong to multiple clusters with separate degrees of membership. “Soft” or fuzzy k-means clustering is an example of overlapping clustering."
   ]
  },
  {
   "cell_type": "code",
   "execution_count": 5,
   "id": "2ae8ebc3",
   "metadata": {},
   "outputs": [],
   "source": [
    "import pandas as pd\n",
    "import matplotlib.pyplot as plt\n",
    "from sklearn import preprocessing\n",
    "from sklearn.cluster import KMeans\n",
    "import warnings\n",
    "warnings.filterwarnings(\"ignore\")"
   ]
  },
  {
   "cell_type": "code",
   "execution_count": 7,
   "id": "4d23bcbe",
   "metadata": {},
   "outputs": [],
   "source": [
    "df=pd.read_csv(\"iris.csv\")"
   ]
  },
  {
   "cell_type": "code",
   "execution_count": 8,
   "id": "d47e187f",
   "metadata": {},
   "outputs": [
    {
     "data": {
      "text/html": [
       "<div>\n",
       "<style scoped>\n",
       "    .dataframe tbody tr th:only-of-type {\n",
       "        vertical-align: middle;\n",
       "    }\n",
       "\n",
       "    .dataframe tbody tr th {\n",
       "        vertical-align: top;\n",
       "    }\n",
       "\n",
       "    .dataframe thead th {\n",
       "        text-align: right;\n",
       "    }\n",
       "</style>\n",
       "<table border=\"1\" class=\"dataframe\">\n",
       "  <thead>\n",
       "    <tr style=\"text-align: right;\">\n",
       "      <th></th>\n",
       "      <th>sepal length</th>\n",
       "      <th>sepal width</th>\n",
       "      <th>petal length</th>\n",
       "      <th>petal width</th>\n",
       "      <th>class</th>\n",
       "    </tr>\n",
       "  </thead>\n",
       "  <tbody>\n",
       "    <tr>\n",
       "      <th>55</th>\n",
       "      <td>5.7</td>\n",
       "      <td>2.8</td>\n",
       "      <td>4.5</td>\n",
       "      <td>1.3</td>\n",
       "      <td>Iris-versicolor</td>\n",
       "    </tr>\n",
       "    <tr>\n",
       "      <th>114</th>\n",
       "      <td>5.8</td>\n",
       "      <td>2.8</td>\n",
       "      <td>5.1</td>\n",
       "      <td>2.4</td>\n",
       "      <td>Iris-virginica</td>\n",
       "    </tr>\n",
       "    <tr>\n",
       "      <th>147</th>\n",
       "      <td>6.5</td>\n",
       "      <td>3.0</td>\n",
       "      <td>5.2</td>\n",
       "      <td>2.0</td>\n",
       "      <td>Iris-virginica</td>\n",
       "    </tr>\n",
       "  </tbody>\n",
       "</table>\n",
       "</div>"
      ],
      "text/plain": [
       "     sepal length  sepal width  petal length  petal width            class\n",
       "55            5.7          2.8           4.5          1.3  Iris-versicolor\n",
       "114           5.8          2.8           5.1          2.4   Iris-virginica\n",
       "147           6.5          3.0           5.2          2.0   Iris-virginica"
      ]
     },
     "execution_count": 8,
     "metadata": {},
     "output_type": "execute_result"
    }
   ],
   "source": [
    "df.sample(3)"
   ]
  },
  {
   "cell_type": "code",
   "execution_count": 9,
   "id": "ab2b9c04",
   "metadata": {},
   "outputs": [
    {
     "data": {
      "text/html": [
       "<div>\n",
       "<style scoped>\n",
       "    .dataframe tbody tr th:only-of-type {\n",
       "        vertical-align: middle;\n",
       "    }\n",
       "\n",
       "    .dataframe tbody tr th {\n",
       "        vertical-align: top;\n",
       "    }\n",
       "\n",
       "    .dataframe thead th {\n",
       "        text-align: right;\n",
       "    }\n",
       "</style>\n",
       "<table border=\"1\" class=\"dataframe\">\n",
       "  <thead>\n",
       "    <tr style=\"text-align: right;\">\n",
       "      <th></th>\n",
       "      <th>petal length</th>\n",
       "      <th>sepal length</th>\n",
       "    </tr>\n",
       "  </thead>\n",
       "  <tbody>\n",
       "    <tr>\n",
       "      <th>0</th>\n",
       "      <td>1.4</td>\n",
       "      <td>5.1</td>\n",
       "    </tr>\n",
       "    <tr>\n",
       "      <th>1</th>\n",
       "      <td>1.4</td>\n",
       "      <td>4.9</td>\n",
       "    </tr>\n",
       "    <tr>\n",
       "      <th>2</th>\n",
       "      <td>1.3</td>\n",
       "      <td>4.7</td>\n",
       "    </tr>\n",
       "  </tbody>\n",
       "</table>\n",
       "</div>"
      ],
      "text/plain": [
       "   petal length  sepal length\n",
       "0           1.4           5.1\n",
       "1           1.4           4.9\n",
       "2           1.3           4.7"
      ]
     },
     "execution_count": 9,
     "metadata": {},
     "output_type": "execute_result"
    }
   ],
   "source": [
    "# for unsuperwise learning ignore class means target data\n",
    "\n",
    "df=df[[\"petal length\",\"sepal length\"]]\n",
    "df.head(3)"
   ]
  },
  {
   "cell_type": "code",
   "execution_count": 10,
   "id": "29810197",
   "metadata": {},
   "outputs": [
    {
     "data": {
      "text/plain": [
       "array([1, 1, 1, 1, 1, 1, 1, 1, 1, 1, 1, 1, 1, 1, 1, 1, 1, 1, 1, 1, 1, 1,\n",
       "       1, 1, 1, 1, 1, 1, 1, 1, 1, 1, 1, 1, 1, 1, 1, 1, 1, 1, 1, 1, 1, 1,\n",
       "       1, 1, 1, 1, 1, 1, 2, 0, 2, 0, 0, 0, 0, 0, 0, 0, 0, 0, 0, 0, 0, 0,\n",
       "       0, 0, 0, 0, 0, 0, 0, 0, 0, 0, 2, 2, 0, 0, 0, 0, 0, 0, 0, 0, 0, 0,\n",
       "       0, 0, 0, 0, 0, 0, 0, 0, 0, 0, 1, 0, 2, 0, 2, 2, 2, 2, 0, 2, 2, 2,\n",
       "       2, 2, 2, 0, 0, 2, 2, 2, 2, 0, 2, 0, 2, 0, 2, 2, 0, 0, 2, 2, 2, 2,\n",
       "       2, 2, 2, 2, 2, 2, 0, 2, 2, 2, 0, 2, 2, 2, 0, 2, 2, 0])"
      ]
     },
     "execution_count": 10,
     "metadata": {},
     "output_type": "execute_result"
    }
   ],
   "source": [
    "model=KMeans(n_clusters=3)# model is instant of kmeans class\n",
    "y_model=model.fit_predict(df)\n",
    "y_model# there are three groups 0,1,2"
   ]
  },
  {
   "cell_type": "code",
   "execution_count": 11,
   "id": "53e62bb1",
   "metadata": {},
   "outputs": [
    {
     "data": {
      "text/plain": [
       "array([1, 1, 1, 1, 1, 1, 1, 1, 1, 1, 1, 1, 1, 1, 1, 1, 1, 1, 1, 1, 1, 1,\n",
       "       1, 1, 1, 1, 1, 1, 1, 1, 1, 1, 1, 1, 1, 1, 1, 1, 1, 1, 1, 1, 1, 1,\n",
       "       1, 1, 1, 1, 1, 1, 2, 0, 2, 0, 0, 0, 0, 0, 0, 0, 0, 0, 0, 0, 0, 0,\n",
       "       0, 0, 0, 0, 0, 0, 0, 0, 0, 0, 2, 2, 0, 0, 0, 0, 0, 0, 0, 0, 0, 0,\n",
       "       0, 0, 0, 0, 0, 0, 0, 0, 0, 0, 1, 0, 2, 0, 2, 2, 2, 2, 0, 2, 2, 2,\n",
       "       2, 2, 2, 0, 0, 2, 2, 2, 2, 0, 2, 0, 2, 0, 2, 2, 0, 0, 2, 2, 2, 2,\n",
       "       2, 2, 2, 2, 2, 2, 0, 2, 2, 2, 0, 2, 2, 2, 0, 2, 2, 0])"
      ]
     },
     "execution_count": 11,
     "metadata": {},
     "output_type": "execute_result"
    }
   ],
   "source": [
    "model.labels_"
   ]
  },
  {
   "cell_type": "code",
   "execution_count": 16,
   "id": "ea576da9",
   "metadata": {},
   "outputs": [
    {
     "data": {
      "text/plain": [
       "<matplotlib.collections.PathCollection at 0x290d0740fa0>"
      ]
     },
     "execution_count": 16,
     "metadata": {},
     "output_type": "execute_result"
    },
    {
     "data": {
      "image/png": "[encoded data removed]",
      "text/plain": [
       "<Figure size 432x288 with 1 Axes>"
      ]
     },
     "metadata": {
      "needs_background": "light"
     },
     "output_type": "display_data"
    }
   ],
   "source": [
    "plt.scatter(df.iloc[:,0],df.iloc[:,1],c=model.labels_,cmap=\"viridis\")"
   ]
  },
  {
   "cell_type": "code",
   "execution_count": 18,
   "id": "ac640eaa",
   "metadata": {},
   "outputs": [
    {
     "data": {
      "text/plain": [
       "<matplotlib.collections.PathCollection at 0x290d07bd460>"
      ]
     },
     "execution_count": 18,
     "metadata": {},
     "output_type": "execute_result"
    },
    {
     "data": {
      "image/png": "[encoded data removed]",
      "text/plain": [
       "<Figure size 432x288 with 1 Axes>"
      ]
     },
     "metadata": {
      "needs_background": "light"
     },
     "output_type": "display_data"
    }
   ],
   "source": [
    "#also do\n",
    "\n",
    "plt.scatter(df[\"petal length\"], df[\"sepal length\"],c=model.labels_,cmap=\"viridis\")"
   ]
  },
  {
   "cell_type": "code",
   "execution_count": 21,
   "id": "64fdb028",
   "metadata": {},
   "outputs": [
    {
     "data": {
      "text/plain": [
       "0    58\n",
       "1    51\n",
       "2    41\n",
       "dtype: int64"
      ]
     },
     "execution_count": 21,
     "metadata": {},
     "output_type": "execute_result"
    }
   ],
   "source": [
    "pd.value_counts(y_model)"
   ]
  },
  {
   "cell_type": "code",
   "execution_count": 25,
   "id": "eb3a3975",
   "metadata": {},
   "outputs": [
    {
     "name": "stdout",
     "output_type": "stream",
     "text": [
      "     petal length  sepal length\n",
      "51            4.5           6.4\n",
      "53            4.0           5.5\n",
      "54            4.6           6.5\n",
      "55            4.5           5.7\n",
      "56            4.7           6.3\n",
      "57            3.3           4.9\n",
      "58            4.6           6.6\n",
      "59            3.9           5.2\n",
      "60            3.5           5.0\n",
      "61            4.2           5.9\n",
      "62            4.0           6.0\n",
      "63            4.7           6.1\n",
      "64            3.6           5.6\n",
      "65            4.4           6.7\n",
      "66            4.5           5.6\n",
      "67            4.1           5.8\n",
      "68            4.5           6.2\n",
      "69            3.9           5.6\n",
      "70            4.8           5.9\n",
      "71            4.0           6.1\n",
      "72            4.9           6.3\n",
      "73            4.7           6.1\n",
      "74            4.3           6.4\n",
      "75            4.4           6.6\n",
      "78            4.5           6.0\n",
      "79            3.5           5.7\n",
      "80            3.8           5.5\n",
      "81            3.7           5.5\n",
      "82            3.9           5.8\n",
      "83            5.1           6.0\n",
      "84            4.5           5.4\n",
      "85            4.5           6.0\n",
      "86            4.7           6.7\n",
      "87            4.4           6.3\n",
      "88            4.1           5.6\n",
      "89            4.0           5.5\n",
      "90            4.4           5.5\n",
      "91            4.6           6.1\n",
      "92            4.0           5.8\n",
      "93            3.3           5.0\n",
      "94            4.2           5.6\n",
      "95            4.2           5.7\n",
      "96            4.2           5.7\n",
      "97            4.3           6.2\n",
      "99            4.1           5.7\n",
      "101           5.1           5.8\n",
      "106           4.5           4.9\n",
      "113           5.0           5.7\n",
      "114           5.1           5.8\n",
      "119           5.0           6.0\n",
      "121           4.9           5.6\n",
      "123           4.9           6.3\n",
      "126           4.8           6.2\n",
      "127           4.9           6.1\n",
      "138           4.8           6.0\n",
      "142           5.1           5.8\n",
      "146           5.0           6.3\n",
      "149           5.1           5.9\n",
      "    petal length  sepal length\n",
      "0            1.4           5.1\n",
      "1            1.4           4.9\n",
      "2            1.3           4.7\n",
      "3            1.5           4.6\n",
      "4            1.4           5.0\n",
      "5            1.7           5.4\n",
      "6            1.4           4.6\n",
      "7            1.5           5.0\n",
      "8            1.4           4.4\n",
      "9            1.5           4.9\n",
      "10           1.5           5.4\n",
      "11           1.6           4.8\n",
      "12           1.4           4.8\n",
      "13           1.1           4.3\n",
      "14           1.2           5.8\n",
      "15           1.5           5.7\n",
      "16           1.3           5.4\n",
      "17           1.4           5.1\n",
      "18           1.7           5.7\n",
      "19           1.5           5.1\n",
      "20           1.7           5.4\n",
      "21           1.5           5.1\n",
      "22           1.0           4.6\n",
      "23           1.7           5.1\n",
      "24           1.9           4.8\n",
      "25           1.6           5.0\n",
      "26           1.6           5.0\n",
      "27           1.5           5.2\n",
      "28           1.4           5.2\n",
      "29           1.6           4.7\n",
      "30           1.6           4.8\n",
      "31           1.5           5.4\n",
      "32           1.5           5.2\n",
      "33           1.4           5.5\n",
      "34           1.5           4.9\n",
      "35           1.2           5.0\n",
      "36           1.3           5.5\n",
      "37           1.5           4.9\n",
      "38           1.3           4.4\n",
      "39           1.5           5.1\n",
      "40           1.3           5.0\n",
      "41           1.3           4.5\n",
      "42           1.3           4.4\n",
      "43           1.6           5.0\n",
      "44           1.9           5.1\n",
      "45           1.4           4.8\n",
      "46           1.6           5.1\n",
      "47           1.4           4.6\n",
      "48           1.5           5.3\n",
      "49           1.4           5.0\n",
      "98           3.0           5.1\n",
      "     petal length  sepal length\n",
      "50            4.7           7.0\n",
      "52            4.9           6.9\n",
      "76            4.8           6.8\n",
      "77            5.0           6.7\n",
      "100           6.0           6.3\n",
      "102           5.9           7.1\n",
      "103           5.6           6.3\n",
      "104           5.8           6.5\n",
      "105           6.6           7.6\n",
      "107           6.3           7.3\n",
      "108           5.8           6.7\n",
      "109           6.1           7.2\n",
      "110           5.1           6.5\n",
      "111           5.3           6.4\n",
      "112           5.5           6.8\n",
      "115           5.3           6.4\n",
      "116           5.5           6.5\n",
      "117           6.7           7.7\n",
      "118           6.9           7.7\n",
      "120           5.7           6.9\n",
      "122           6.7           7.7\n",
      "124           5.7           6.7\n",
      "125           6.0           7.2\n",
      "128           5.6           6.4\n",
      "129           5.8           7.2\n",
      "130           6.1           7.4\n",
      "131           6.4           7.9\n",
      "132           5.6           6.4\n",
      "133           5.1           6.3\n",
      "134           5.6           6.1\n",
      "135           6.1           7.7\n",
      "136           5.6           6.3\n",
      "137           5.5           6.4\n",
      "139           5.4           6.9\n",
      "140           5.6           6.7\n",
      "141           5.1           6.9\n",
      "143           5.9           6.8\n",
      "144           5.7           6.7\n",
      "145           5.2           6.7\n",
      "147           5.2           6.5\n",
      "148           5.4           6.2\n"
     ]
    }
   ],
   "source": [
    "# looking the data which belongs to perticuler cluster\n",
    "\n",
    "print(df[y_model==0])# first group data\n",
    "print(df[y_model==1])# second group data\n",
    "print(df[y_model==2])# third group data"
   ]
  },
  {
   "cell_type": "markdown",
   "id": "d7ad1706",
   "metadata": {},
   "source": [
    "# SELECTING NUMBER OF CLUSTER"
   ]
  },
  {
   "cell_type": "markdown",
   "id": "debcca4b",
   "metadata": {},
   "source": [
    "FINDING OUT HOW MANY CLUSER NEEDED FOR PERTICULER DATASET BY USING ELBO METHOD"
   ]
  },
  {
   "cell_type": "markdown",
   "id": "0475233f",
   "metadata": {},
   "source": [
    "We then cover three approaches to find the optimal number of clusters:\n",
    "\n",
    "The elbow method\n",
    "The optimization of the silhouette coefficient\n",
    "The gap statistic"
   ]
  },
  {
   "cell_type": "markdown",
   "id": "05d43730",
   "metadata": {},
   "source": [
    "Elbow Method\n",
    "\n",
    "The elbow method runs k-means clustering on the dataset for a range of values for k (say from 1-10) and then for each value of k computes an average score for all clusters. By default, the distortion score is computed, the sum of square distances from each point to its assigned center."
   ]
  },
  {
   "cell_type": "markdown",
   "id": "cb3b6664",
   "metadata": {},
   "source": [
    "Intra-cluster distance-\n",
    "\n",
    "Intra-cluster distance is the distance between a data item and the cluster centroid within a cluster. Inter-cluster distance is the distance between the data items in distinct clusters"
   ]
  },
  {
   "cell_type": "code",
   "execution_count": 31,
   "id": "c2c804f4",
   "metadata": {},
   "outputs": [
    {
     "data": {
      "image/png": "[encoded data removed]",
      "text/plain": [
       "<Figure size 432x288 with 1 Axes>"
      ]
     },
     "metadata": {
      "needs_background": "light"
     },
     "output_type": "display_data"
    }
   ],
   "source": [
    "wcss=[]\n",
    "K=range(1,15)\n",
    "for n in K:\n",
    "    km=KMeans(n_clusters=n)\n",
    "    km=km.fit(df)\n",
    "    wcss.append(km.inertia_)# inertia mens intra cluster distance\n",
    "    \n",
    "plt.plot(K,wcss,marker=\"x\")\n",
    "plt.xlabel(\"K\")\n",
    "plt.ylabel(\"inertia\")\n",
    "plt.title(\"Elbo Method\")\n",
    "plt.show()\n"
   ]
  },
  {
   "cell_type": "markdown",
   "id": "44f8cbaf",
   "metadata": {},
   "source": [
    "CONCLUSION \n",
    "\n",
    "we need 3 no. of cluster bcz elbo is starting from 3"
   ]
  },
  {
   "cell_type": "markdown",
   "id": "1b430254",
   "metadata": {},
   "source": [
    "# Hierarchical clustering"
   ]
  },
  {
   "cell_type": "markdown",
   "id": "b6dfdf6a",
   "metadata": {},
   "source": [
    "Hierarchical clustering, also known as hierarchical cluster analysis (HCA), is an unsupervised clustering algorithm that can be categorized in two ways; they can be agglomerative or divisive. Agglomerative clustering is considered a “bottoms-up approach.” Its data points are isolated as separate groupings initially, and then they are merged together iteratively on the basis of similarity until one cluster has been achieved. Four different methods are commonly used to measure similarity:\n",
    "\n",
    "1 Ward’s linkage: This method states that the distance between two clusters is defined by the increase in the sum of squared after the clusters are merged.\n",
    "\n",
    "2 Average linkage: This method is defined by the mean distance between two points in each cluster\n",
    "\n",
    "3 Complete (or maximum) linkage: This method is defined by the maximum distance between two points in each cluster\n",
    "\n",
    "4 Single (or minimum) linkage: This method is defined by the minimum distance between two points in each cluster"
   ]
  },
  {
   "cell_type": "code",
   "execution_count": null,
   "id": "b8413e9c",
   "metadata": {},
   "outputs": [],
   "source": []
  }
 ],
 "metadata": {
  "kernelspec": {
   "display_name": "Python 3 (ipykernel)",
   "language": "python",
   "name": "python3"
  },
  "language_info": {
   "codemirror_mode": {
    "name": "ipython",
    "version": 3
   },
   "file_extension": ".py",
   "mimetype": "text/x-python",
   "name": "python",
   "nbconvert_exporter": "python",
   "pygments_lexer": "ipython3",
   "version": "3.9.7"
  }
 },
 "nbformat": 4,
 "nbformat_minor": 5
}
