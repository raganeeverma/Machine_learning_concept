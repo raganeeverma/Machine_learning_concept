{
 "cells": [
  {
   "cell_type": "markdown",
   "id": "922183f5",
   "metadata": {},
   "source": [
    "What is a Module?\n",
    "\n",
    "Consider a module to be the same as a code library.\n",
    "\n",
    "A file containing a set of functions you want to include in your application.\n",
    "\n",
    "Now we can use the module we just created, by using the import statement:\n",
    "\n",
    "When using a function from a module, use the syntax: module_name.function_name."
   ]
  },
  {
   "cell_type": "markdown",
   "id": "808ac83c",
   "metadata": {},
   "source": [
    "modules/library is coleection of classes\n",
    "\n",
    "\n",
    "packege is a collection of modules and subpackeges\n"
   ]
  },
  {
   "cell_type": "code",
   "execution_count": 1,
   "id": "894a4c17",
   "metadata": {},
   "outputs": [],
   "source": [
    "import keyword"
   ]
  },
  {
   "cell_type": "code",
   "execution_count": 2,
   "id": "9f141838",
   "metadata": {},
   "outputs": [
    {
     "name": "stdout",
     "output_type": "stream",
     "text": [
      "['False', 'None', 'True', '__peg_parser__', 'and', 'as', 'assert', 'async', 'await', 'break', 'class', 'continue', 'def', 'del', 'elif', 'else', 'except', 'finally', 'for', 'from', 'global', 'if', 'import', 'in', 'is', 'lambda', 'nonlocal', 'not', 'or', 'pass', 'raise', 'return', 'try', 'while', 'with', 'yield']\n"
     ]
    }
   ],
   "source": [
    "print(keyword.kwlist)"
   ]
  },
  {
   "cell_type": "code",
   "execution_count": 3,
   "id": "e026ed51",
   "metadata": {},
   "outputs": [],
   "source": [
    "import sys"
   ]
  },
  {
   "cell_type": "code",
   "execution_count": 4,
   "id": "367a977d",
   "metadata": {},
   "outputs": [
    {
     "data": {
      "text/plain": [
       "['C:\\\\Users\\\\HP',\n",
       " 'C:\\\\Users\\\\HP\\\\anaconda3\\\\python39.zip',\n",
       " 'C:\\\\Users\\\\HP\\\\anaconda3\\\\DLLs',\n",
       " 'C:\\\\Users\\\\HP\\\\anaconda3\\\\lib',\n",
       " 'C:\\\\Users\\\\HP\\\\anaconda3',\n",
       " '',\n",
       " 'C:\\\\Users\\\\HP\\\\anaconda3\\\\lib\\\\site-packages',\n",
       " 'C:\\\\Users\\\\HP\\\\anaconda3\\\\lib\\\\site-packages\\\\locket-0.2.1-py3.9.egg',\n",
       " 'C:\\\\Users\\\\HP\\\\anaconda3\\\\lib\\\\site-packages\\\\win32',\n",
       " 'C:\\\\Users\\\\HP\\\\anaconda3\\\\lib\\\\site-packages\\\\win32\\\\lib',\n",
       " 'C:\\\\Users\\\\HP\\\\anaconda3\\\\lib\\\\site-packages\\\\Pythonwin',\n",
       " 'C:\\\\Users\\\\HP\\\\anaconda3\\\\lib\\\\site-packages\\\\IPython\\\\extensions',\n",
       " 'C:\\\\Users\\\\HP\\\\.ipython']"
      ]
     },
     "execution_count": 4,
     "metadata": {},
     "output_type": "execute_result"
    }
   ],
   "source": [
    "sys.path"
   ]
  },
  {
   "cell_type": "code",
   "execution_count": 1,
   "id": "c06b277a",
   "metadata": {},
   "outputs": [],
   "source": [
    "import os"
   ]
  },
  {
   "cell_type": "code",
   "execution_count": 3,
   "id": "ff45e824",
   "metadata": {},
   "outputs": [
    {
     "data": {
      "text/plain": [
       "'C:\\\\Users\\\\HP'"
      ]
     },
     "execution_count": 3,
     "metadata": {},
     "output_type": "execute_result"
    }
   ],
   "source": [
    "os.getcwd()\n",
    "# getcurrent working directory"
   ]
  },
  {
   "cell_type": "code",
   "execution_count": 5,
   "id": "246f25f2",
   "metadata": {},
   "outputs": [],
   "source": [
    "# chenge working directory\n",
    "#os.chdir('C:\\Users\\HP')#chenge directory using chdir command\n",
    "#os.getcwd()"
   ]
  },
  {
   "cell_type": "code",
   "execution_count": 4,
   "id": "d5b6dfa9",
   "metadata": {},
   "outputs": [
    {
     "data": {
      "text/plain": [
       "['.anaconda',\n",
       " '.conda',\n",
       " '.condarc',\n",
       " '.continuum',\n",
       " '.ipynb_checkpoints',\n",
       " '.ipython',\n",
       " '.jupyter',\n",
       " '3D Objects',\n",
       " 'anaconda3',\n",
       " 'AppData',\n",
       " 'Application Data',\n",
       " 'basic_predifine_function .ipynb',\n",
       " 'CLASS.ipynb',\n",
       " 'Contacts',\n",
       " 'Cookies',\n",
       " 'Desktop',\n",
       " 'dictionary.ipynb',\n",
       " 'Documents',\n",
       " 'Downloads',\n",
       " 'Favorites',\n",
       " 'file_operation.ipynb',\n",
       " 'IF_ELSE.ipynb',\n",
       " 'IntelGraphicsProfiles',\n",
       " 'Links',\n",
       " 'list.ipynb',\n",
       " 'Local Settings',\n",
       " 'loops.ipynb',\n",
       " 'MicrosoftEdgeBackups',\n",
       " 'modules and library .ipynb',\n",
       " 'Music',\n",
       " 'My Documents',\n",
       " 'NetHood',\n",
       " 'NTUSER.DAT',\n",
       " 'ntuser.dat.LOG1',\n",
       " 'ntuser.dat.LOG2',\n",
       " 'NTUSER.DAT{fd9a35db-49fe-11e9-aa2c-248a07783950}.TM.blf',\n",
       " 'NTUSER.DAT{fd9a35db-49fe-11e9-aa2c-248a07783950}.TMContainer00000000000000000001.regtrans-ms',\n",
       " 'NTUSER.DAT{fd9a35db-49fe-11e9-aa2c-248a07783950}.TMContainer00000000000000000002.regtrans-ms',\n",
       " 'ntuser.ini',\n",
       " 'OneDrive',\n",
       " 'operater.ipynb',\n",
       " 'Pictures',\n",
       " 'PrintHood',\n",
       " 'Recent',\n",
       " 'Saved Games',\n",
       " 'Searches',\n",
       " 'SendTo',\n",
       " 'sets.ipynb',\n",
       " 'Start Menu',\n",
       " 'stringfunction.ipynb',\n",
       " 'Templates',\n",
       " 'Untitled Folder',\n",
       " 'Untitled.ipynb',\n",
       " 'Untitled1.ipynb',\n",
       " 'Untitled12.ipynb',\n",
       " 'Untitled2.ipynb',\n",
       " 'Untitled3.ipynb',\n",
       " 'Untitled4.ipynb',\n",
       " 'user_define_function.ipynb',\n",
       " 'variable.ipynb',\n",
       " 'Videos']"
      ]
     },
     "execution_count": 4,
     "metadata": {},
     "output_type": "execute_result"
    }
   ],
   "source": [
    "os.listdir()"
   ]
  },
  {
   "cell_type": "code",
   "execution_count": 3,
   "id": "f48f4828",
   "metadata": {},
   "outputs": [],
   "source": [
    "import math"
   ]
  },
  {
   "cell_type": "code",
   "execution_count": 11,
   "id": "b0ab4985",
   "metadata": {},
   "outputs": [
    {
     "data": {
      "text/plain": [
       "3.141592653589793"
      ]
     },
     "execution_count": 11,
     "metadata": {},
     "output_type": "execute_result"
    }
   ],
   "source": [
    "math.pi"
   ]
  },
  {
   "cell_type": "code",
   "execution_count": 12,
   "id": "a5e8fc4c",
   "metadata": {},
   "outputs": [
    {
     "data": {
      "text/plain": [
       "8.0"
      ]
     },
     "execution_count": 12,
     "metadata": {},
     "output_type": "execute_result"
    }
   ],
   "source": [
    "math.sqrt(64)"
   ]
  },
  {
   "cell_type": "code",
   "execution_count": 4,
   "id": "72a8ca49",
   "metadata": {},
   "outputs": [
    {
     "data": {
      "text/plain": [
       "25.0"
      ]
     },
     "execution_count": 4,
     "metadata": {},
     "output_type": "execute_result"
    }
   ],
   "source": [
    "math.pow(5,2)\n"
   ]
  },
  {
   "cell_type": "markdown",
   "id": "aa3404e5",
   "metadata": {},
   "source": [
    "Re-naming a Module\n",
    "\n",
    "\n",
    "You can create an alias when you import a module, by using the as keyword:"
   ]
  },
  {
   "cell_type": "code",
   "execution_count": 15,
   "id": "cdf5f066",
   "metadata": {},
   "outputs": [],
   "source": [
    "import math as mt  #alternative or nick name"
   ]
  },
  {
   "cell_type": "code",
   "execution_count": 16,
   "id": "cf67f8a6",
   "metadata": {},
   "outputs": [
    {
     "data": {
      "text/plain": [
       "3.141592653589793"
      ]
     },
     "execution_count": 16,
     "metadata": {},
     "output_type": "execute_result"
    }
   ],
   "source": [
    "mt.pi"
   ]
  },
  {
   "cell_type": "code",
   "execution_count": 18,
   "id": "49a76d2b",
   "metadata": {},
   "outputs": [
    {
     "data": {
      "text/plain": [
       "9.0"
      ]
     },
     "execution_count": 18,
     "metadata": {},
     "output_type": "execute_result"
    }
   ],
   "source": [
    "mt.sqrt(81)"
   ]
  },
  {
   "cell_type": "code",
   "execution_count": 21,
   "id": "59669ce0",
   "metadata": {},
   "outputs": [],
   "source": [
    "from math import pi#if only one value want"
   ]
  },
  {
   "cell_type": "code",
   "execution_count": 22,
   "id": "58c527f1",
   "metadata": {},
   "outputs": [
    {
     "data": {
      "text/plain": [
       "3.141592653589793"
      ]
     },
     "execution_count": 22,
     "metadata": {},
     "output_type": "execute_result"
    }
   ],
   "source": [
    "pi"
   ]
  },
  {
   "cell_type": "code",
   "execution_count": 24,
   "id": "62790e82",
   "metadata": {},
   "outputs": [],
   "source": [
    "from math import sqrt\n"
   ]
  },
  {
   "cell_type": "code",
   "execution_count": 25,
   "id": "a4039eb6",
   "metadata": {},
   "outputs": [
    {
     "data": {
      "text/plain": [
       "9.0"
      ]
     },
     "execution_count": 25,
     "metadata": {},
     "output_type": "execute_result"
    }
   ],
   "source": [
    "sqrt(81)"
   ]
  },
  {
   "cell_type": "code",
   "execution_count": 12,
   "id": "bcdaad68",
   "metadata": {},
   "outputs": [],
   "source": [
    "import math\n",
    "def areaofcircle(r):\n",
    "    area=math.pi*(r**2)\n",
    "    print(area)"
   ]
  },
  {
   "cell_type": "code",
   "execution_count": 13,
   "id": "1151417f",
   "metadata": {},
   "outputs": [
    {
     "name": "stdout",
     "output_type": "stream",
     "text": [
      "enter rdious5\n",
      "78.53981633974483\n"
     ]
    }
   ],
   "source": [
    "r=int(input('enter rdious'))\n",
    "areaofcircle(r)"
   ]
  },
  {
   "cell_type": "code",
   "execution_count": 28,
   "id": "9d44516b",
   "metadata": {},
   "outputs": [
    {
     "data": {
      "text/plain": [
       "dict_keys(['__name__', '__doc__', '__package__', '__loader__', '__spec__', 'acos', 'acosh', 'asin', 'asinh', 'atan', 'atan2', 'atanh', 'ceil', 'copysign', 'cos', 'cosh', 'degrees', 'dist', 'erf', 'erfc', 'exp', 'expm1', 'fabs', 'factorial', 'floor', 'fmod', 'frexp', 'fsum', 'gamma', 'gcd', 'hypot', 'isclose', 'isfinite', 'isinf', 'isnan', 'isqrt', 'lcm', 'ldexp', 'lgamma', 'log', 'log1p', 'log10', 'log2', 'modf', 'pow', 'radians', 'remainder', 'sin', 'sinh', 'sqrt', 'tan', 'tanh', 'trunc', 'prod', 'perm', 'comb', 'nextafter', 'ulp', 'pi', 'e', 'tau', 'inf', 'nan'])"
      ]
     },
     "execution_count": 28,
     "metadata": {},
     "output_type": "execute_result"
    }
   ],
   "source": [
    "math.__dict__.keys()"
   ]
  },
  {
   "cell_type": "markdown",
   "id": "5a5f68ed",
   "metadata": {},
   "source": [
    "Date Output\n",
    "When we execute the code from the example above the result will be:\n",
    "\n",
    "2022-06-07 16:31:46.011290\n",
    "The date contains year, month, day, hour, minute, second, and microsecond.\n",
    "\n",
    "The datetime module has many methods to return information about the date object.\n",
    "\n",
    "Here are a few examples, you will learn more about them later in this chapter:"
   ]
  },
  {
   "cell_type": "code",
   "execution_count": 14,
   "id": "c82255b4",
   "metadata": {},
   "outputs": [],
   "source": [
    "import datetime"
   ]
  },
  {
   "cell_type": "code",
   "execution_count": 8,
   "id": "bed6e3ea",
   "metadata": {},
   "outputs": [],
   "source": [
    "dt=datetime.datetime.now()#datetime is module anddatetime is class and now is method we are calling using instance dt"
   ]
  },
  {
   "cell_type": "code",
   "execution_count": 31,
   "id": "2c23a7f7",
   "metadata": {},
   "outputs": [
    {
     "data": {
      "text/plain": [
       "datetime.datetime(2022, 6, 4, 15, 2, 15, 981419)"
      ]
     },
     "execution_count": 31,
     "metadata": {},
     "output_type": "execute_result"
    }
   ],
   "source": [
    "dt #get  current date and time"
   ]
  },
  {
   "cell_type": "markdown",
   "id": "2b8f7aba",
   "metadata": {},
   "source": [
    "Creating Date Objects\n",
    "To create a date, we can use the datetime() class (constructor) of the datetime module.\n",
    "\n",
    "The datetime() class requires three parameters to create a date: year, month, day."
   ]
  },
  {
   "cell_type": "code",
   "execution_count": 15,
   "id": "f353c42d",
   "metadata": {},
   "outputs": [
    {
     "data": {
      "text/plain": [
       "datetime.date(2022, 6, 7)"
      ]
     },
     "execution_count": 15,
     "metadata": {},
     "output_type": "execute_result"
    }
   ],
   "source": [
    "dt1=datetime.date.today() #get current date\n",
    "dt1"
   ]
  },
  {
   "cell_type": "markdown",
   "id": "d2987b2c",
   "metadata": {},
   "source": [
    "commanly used classes used in datetime modules\n",
    "\n",
    "date class\n",
    "\n",
    "time class\n",
    "\n",
    "datetime class\n",
    "\n",
    "timedeltadelta class"
   ]
  },
  {
   "cell_type": "code",
   "execution_count": 37,
   "id": "23509af6",
   "metadata": {},
   "outputs": [
    {
     "data": {
      "text/plain": [
       "datetime.date(2022, 6, 4)"
      ]
     },
     "execution_count": 37,
     "metadata": {},
     "output_type": "execute_result"
    }
   ],
   "source": [
    "d=datetime.date(2022,6,4)#datetime is class where  date is aconstructer and pass the vlue of any date\n",
    "d"
   ]
  },
  {
   "cell_type": "code",
   "execution_count": 17,
   "id": "2e2c2e1d",
   "metadata": {},
   "outputs": [],
   "source": [
    "from datetime import date"
   ]
  },
  {
   "cell_type": "code",
   "execution_count": 18,
   "id": "5297bba5",
   "metadata": {},
   "outputs": [
    {
     "data": {
      "text/plain": [
       "datetime.date(2021, 6, 7)"
      ]
     },
     "execution_count": 18,
     "metadata": {},
     "output_type": "execute_result"
    }
   ],
   "source": [
    "a=date(2021,6,7)#date is constructor\n",
    "a"
   ]
  },
  {
   "cell_type": "code",
   "execution_count": 19,
   "id": "b784cf56",
   "metadata": {},
   "outputs": [
    {
     "data": {
      "text/plain": [
       "datetime.date(2022, 6, 7)"
      ]
     },
     "execution_count": 19,
     "metadata": {},
     "output_type": "execute_result"
    }
   ],
   "source": [
    "td=date.today()#get current date\n",
    "td"
   ]
  },
  {
   "cell_type": "code",
   "execution_count": 20,
   "id": "861680aa",
   "metadata": {},
   "outputs": [
    {
     "name": "stdout",
     "output_type": "stream",
     "text": [
      "year= 2022\n",
      "month= 6\n",
      "day= 7\n"
     ]
    }
   ],
   "source": [
    "print('year=',td.year)\n",
    "print('month=',td.month)\n",
    "print('day=',td.day)"
   ]
  },
  {
   "cell_type": "markdown",
   "id": "6087ca0e",
   "metadata": {},
   "source": [
    "A tme object instainted from the time class represent local time"
   ]
  },
  {
   "cell_type": "code",
   "execution_count": 22,
   "id": "b95cf91c",
   "metadata": {},
   "outputs": [
    {
     "name": "stdout",
     "output_type": "stream",
     "text": [
      "00:00:00\n",
      "03:35:45\n"
     ]
    }
   ],
   "source": [
    "from datetime import time\n",
    "a=time()#time constructor  print value 0 because the value is not passing\n",
    "print(a)\n",
    "\n",
    "b=time(3,35,45)\n",
    "print(b)"
   ]
  },
  {
   "cell_type": "code",
   "execution_count": 24,
   "id": "64867069",
   "metadata": {},
   "outputs": [
    {
     "name": "stdout",
     "output_type": "stream",
     "text": [
      "hour= 3\n",
      "minuts= 35\n",
      "second= 45\n"
     ]
    }
   ],
   "source": [
    "print('hour=',b.hour)\n",
    "print('minuts=',b.minute)\n",
    "print('second=',b.second)"
   ]
  },
  {
   "cell_type": "markdown",
   "id": "0c93ed1e",
   "metadata": {},
   "source": [
    "The datetime() class also takes parameters for time and timezone (hour, minute, second, microsecond, tzone), but they are optional, and has a default value of 0, (None for timezone).\n",
    "\n"
   ]
  },
  {
   "cell_type": "markdown",
   "id": "ec0813bb",
   "metadata": {},
   "source": [
    "from datetime import datetime #datetime contain(year,month,day,hour,minute,second)\n",
    "c=datetime(2022,6,7)  #pass only date by defalt time value is 0:0:0 but need to pass date bcz no defalt value for date\n",
    "print(c)"
   ]
  },
  {
   "cell_type": "markdown",
   "id": "297684ad",
   "metadata": {},
   "source": [
    "d=datetime(2022,8,10,11,35,56)\n",
    "print(d)"
   ]
  },
  {
   "cell_type": "code",
   "execution_count": 30,
   "id": "8ceb1e01",
   "metadata": {},
   "outputs": [
    {
     "name": "stdout",
     "output_type": "stream",
     "text": [
      "year= 2022\n",
      "month= 6\n",
      "day= 7\n",
      "hour= 0\n",
      "minuts= 0\n",
      "second= 0\n"
     ]
    }
   ],
   "source": [
    "print('year=',c.year)\n",
    "print('month=',c.month)\n",
    "print('day=',c.day)\n",
    "print('hour=',c.hour)\n",
    "print('minuts=',c.minute)\n",
    "print('second=',c.second)"
   ]
  },
  {
   "cell_type": "code",
   "execution_count": 29,
   "id": "b960214d",
   "metadata": {},
   "outputs": [
    {
     "name": "stdout",
     "output_type": "stream",
     "text": [
      "year= 2022\n",
      "month= 8\n",
      "day= 10\n",
      "hour= 11\n",
      "minuts= 35\n",
      "second= 56\n"
     ]
    }
   ],
   "source": [
    "print('year=',d.year)\n",
    "print('month=',d.month)\n",
    "print('day=',d.day)\n",
    "print('hour=',d.hour)\n",
    "print('minuts=',d.minute)\n",
    "print('second=',d.second)"
   ]
  },
  {
   "cell_type": "code",
   "execution_count": null,
   "id": "5064b4f1",
   "metadata": {},
   "outputs": [],
   "source": []
  }
 ],
 "metadata": {
  "kernelspec": {
   "display_name": "Python 3 (ipykernel)",
   "language": "python",
   "name": "python3"
  },
  "language_info": {
   "codemirror_mode": {
    "name": "ipython",
    "version": 3
   },
   "file_extension": ".py",
   "mimetype": "text/x-python",
   "name": "python",
   "nbconvert_exporter": "python",
   "pygments_lexer": "ipython3",
   "version": "3.9.7"
  }
 },
 "nbformat": 4,
 "nbformat_minor": 5
}
