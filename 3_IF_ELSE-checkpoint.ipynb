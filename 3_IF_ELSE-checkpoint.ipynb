{
 "cells": [
  {
   "cell_type": "markdown",
   "id": "591e32eb",
   "metadata": {},
   "source": [
    "IF ELSE STATEMENT"
   ]
  },
  {
   "cell_type": "markdown",
   "id": "6a1c03ff",
   "metadata": {},
   "source": [
    "Indentation\n",
    "\n",
    "Python relies on indentation (whitespace at the beginning of a line) to define scope in the code. Other programming languages often use curly-brackets for this purpose."
   ]
  },
  {
   "cell_type": "code",
   "execution_count": 2,
   "id": "77af6ca9",
   "metadata": {},
   "outputs": [
    {
     "name": "stdout",
     "output_type": "stream",
     "text": [
      "b is greater than a\n"
     ]
    }
   ],
   "source": [
    "a = 33\n",
    "b = 200\n",
    "if b > a:\n",
    "  print(\"b is greater than a\")"
   ]
  },
  {
   "cell_type": "markdown",
   "id": "41a3ddec",
   "metadata": {},
   "source": [
    "Else\n",
    "\n",
    "The else keyword catches anything which isn't caught by the preceding conditions"
   ]
  },
  {
   "cell_type": "code",
   "execution_count": 3,
   "id": "299c610c",
   "metadata": {},
   "outputs": [
    {
     "ename": "IndentationError",
     "evalue": "expected an indented block (Temp/ipykernel_9956/2055539919.py, line 3)",
     "output_type": "error",
     "traceback": [
      "\u001b[1;36m  File \u001b[1;32m\"C:\\Users\\HP\\AppData\\Local\\Temp/ipykernel_9956/2055539919.py\"\u001b[1;36m, line \u001b[1;32m3\u001b[0m\n\u001b[1;33m    print('goog marks')\u001b[0m\n\u001b[1;37m    ^\u001b[0m\n\u001b[1;31mIndentationError\u001b[0m\u001b[1;31m:\u001b[0m expected an indented block\n"
     ]
    }
   ],
   "source": [
    "mark=90\n",
    "if marks>50:\n",
    "print('goog marks')#indentation error\n",
    "else:\n",
    "    print('fail')\n"
   ]
  },
  {
   "cell_type": "code",
   "execution_count": 12,
   "id": "4b4aeec7",
   "metadata": {},
   "outputs": [
    {
     "name": "stdout",
     "output_type": "stream",
     "text": [
      "pass\n"
     ]
    }
   ],
   "source": [
    "mark=90\n",
    "if mark>50:\n",
    "    print('pass')\n",
    "else:\n",
    "        print('fail')"
   ]
  },
  {
   "cell_type": "code",
   "execution_count": 13,
   "id": "141622be",
   "metadata": {},
   "outputs": [
    {
     "name": "stdout",
     "output_type": "stream",
     "text": [
      "enter any value45\n",
      "pass\n"
     ]
    }
   ],
   "source": [
    "marks=int(input(\"enter any value\"))\n",
    "if marks>33:\n",
    "    print('pass')\n",
    "else:\n",
    "        print('fail')"
   ]
  },
  {
   "cell_type": "code",
   "execution_count": 14,
   "id": "2a8cf9fe",
   "metadata": {},
   "outputs": [
    {
     "name": "stdout",
     "output_type": "stream",
     "text": [
      "enter any value25\n",
      "fail\n"
     ]
    }
   ],
   "source": [
    "marks=int(input(\"enter any value\"  ))\n",
    "if marks>33:\n",
    "    print('pass')\n",
    "else:\n",
    "        print('fail')"
   ]
  },
  {
   "cell_type": "code",
   "execution_count": 18,
   "id": "49198aad",
   "metadata": {},
   "outputs": [
    {
     "name": "stdout",
     "output_type": "stream",
     "text": [
      "enter any value8\n",
      "even no  \n"
     ]
    }
   ],
   "source": [
    "x=int(input('enter any value'))#even or odd no.\n",
    "if x%2==0:\n",
    "    print('even no  ')\n",
    "else:\n",
    "    print('odd no.  ')"
   ]
  },
  {
   "cell_type": "code",
   "execution_count": 23,
   "id": "b695a944",
   "metadata": {},
   "outputs": [
    {
     "name": "stdout",
     "output_type": "stream",
     "text": [
      "enter any value4\n",
      "even no  \n"
     ]
    }
   ],
   "source": [
    "x=int(input('enter any value'))#even or odd no.\n",
    "if x%2==0:\n",
    "    print('even no  ')\n",
    "else:\n",
    "    print('odd no.  ')\n",
    "    print('end of else statement')"
   ]
  },
  {
   "cell_type": "code",
   "execution_count": 25,
   "id": "aa0e4b26",
   "metadata": {},
   "outputs": [
    {
     "name": "stdout",
     "output_type": "stream",
     "text": [
      "enter any value5\n",
      "odd no.  \n",
      "end of else statement\n"
     ]
    }
   ],
   "source": [
    "x=int(input('enter any value'))#even or odd no.\n",
    "if x%2==0:\n",
    "    print('even no  ')\n",
    "else:\n",
    "    print('odd no.  ')\n",
    "    print('end of else statement')"
   ]
  },
  {
   "cell_type": "code",
   "execution_count": 26,
   "id": "a9ff83b8",
   "metadata": {},
   "outputs": [
    {
     "name": "stdout",
     "output_type": "stream",
     "text": [
      "enter any value5\n",
      "odd no.  \n",
      "end of if statement\n"
     ]
    }
   ],
   "source": [
    "x=int(input('enter any value'))#even or odd no.\n",
    "if x%2==0:\n",
    "    print('even no  ')\n",
    "else:\n",
    "    print('odd no.  ')\n",
    "    \n",
    "print('end of if statement')"
   ]
  },
  {
   "cell_type": "code",
   "execution_count": 28,
   "id": "54686dca",
   "metadata": {},
   "outputs": [
    {
     "name": "stdout",
     "output_type": "stream",
     "text": [
      "enter any value8\n",
      "even no  \n",
      "end of else statement\n"
     ]
    }
   ],
   "source": [
    "x=int(input('enter any value'))#even or odd no.\n",
    "if x%2==0:\n",
    "    print('even no  ')\n",
    "else:\n",
    "    print('odd no.  ')\n",
    "    \n",
    "print('end of else statement')"
   ]
  },
  {
   "cell_type": "markdown",
   "id": "2f9ecc03",
   "metadata": {},
   "source": [
    "Elif\n",
    "\n",
    "The elif keyword is pythons way of saying \"if the previous conditions were not true, then try this condition\"."
   ]
  },
  {
   "cell_type": "code",
   "execution_count": 29,
   "id": "bf9e503a",
   "metadata": {},
   "outputs": [
    {
     "name": "stdout",
     "output_type": "stream",
     "text": [
      "a and b are equal\n"
     ]
    }
   ],
   "source": [
    "a = 33\n",
    "b = 33\n",
    "if b > a:\n",
    "    print(\"b is greater than a\")\n",
    "elif a == b:\n",
    "    print(\"a and b are equal\")"
   ]
  },
  {
   "cell_type": "code",
   "execution_count": 34,
   "id": "3c247cf3",
   "metadata": {},
   "outputs": [
    {
     "name": "stdout",
     "output_type": "stream",
     "text": [
      "a is greater than b\n"
     ]
    }
   ],
   "source": [
    "a = 200\n",
    "b = 50\n",
    "if a > b:\n",
    "    print(\"a is greater than b\")\n",
    "elif a == b:\n",
    "    print(\"a and b are equal\")\n",
    "else:\n",
    "    print(\"b is greater than a\")"
   ]
  },
  {
   "cell_type": "code",
   "execution_count": 43,
   "id": "465f5e33",
   "metadata": {},
   "outputs": [
    {
     "name": "stdout",
     "output_type": "stream",
     "text": [
      "enter any marks of student66\n",
      "poor\n"
     ]
    }
   ],
   "source": [
    "marks=int(input(\"enter any marks of student\"  ))\n",
    "if marks>90:\n",
    "    print('pass')\n",
    "elif marks>90:\n",
    "    print('exellent')\n",
    "elif (marks>=80 and marks<90):\n",
    "    print('very good')\n",
    "elif (marks>=70 and marks<80):\n",
    "    print(\"good\")\n",
    "elif (marks>=80 and marks<70):\n",
    "    print('average')  \n",
    "else:\n",
    "        print('poor')\n"
   ]
  },
  {
   "cell_type": "markdown",
   "id": "3a74c338",
   "metadata": {},
   "source": [
    "Nested If\n",
    "\n",
    "You can have if statements inside if statements, this is called nested if statements."
   ]
  },
  {
   "cell_type": "markdown",
   "id": "1e332cb5",
   "metadata": {},
   "source": [
    "x=int(input('enter any value'))\n",
    "if x>9:\n",
    "        print('value of x is greter then 9')\n",
    "        if x<11:\n",
    "            print('value of x is less than 11')\n",
    "            \n",
    "            print(' finallycvalue of x is 10')\n",
    "    "
   ]
  },
  {
   "cell_type": "code",
   "execution_count": null,
   "id": "3e19638f",
   "metadata": {},
   "outputs": [],
   "source": [
    "BRECK AND CONTINUE\n",
    "Break- when condition accures break the loop\n",
    "continue-when condition accures jump and continue the loop "
   ]
  },
  {
   "cell_type": "code",
   "execution_count": 12,
   "id": "616f81e5",
   "metadata": {},
   "outputs": [
    {
     "name": "stdout",
     "output_type": "stream",
     "text": [
      "apple\n",
      "mango\n",
      "banana\n",
      "orange\n"
     ]
    }
   ],
   "source": [
    "for i in ['apple','mango','banana','orange']:\n",
    "    print(i)"
   ]
  },
  {
   "cell_type": "code",
   "execution_count": 14,
   "id": "7d4438a4",
   "metadata": {},
   "outputs": [
    {
     "name": "stdout",
     "output_type": "stream",
     "text": [
      "apple\n",
      "mango\n"
     ]
    }
   ],
   "source": [
    "for i in ['apple','mango','banana','orange']:\n",
    "    if i=='banana':\n",
    "        break\n",
    "    print(i)\n",
    "    \n",
    "        \n"
   ]
  },
  {
   "cell_type": "code",
   "execution_count": 16,
   "id": "3d8eb570",
   "metadata": {},
   "outputs": [
    {
     "name": "stdout",
     "output_type": "stream",
     "text": [
      "1 2 3 4 5 "
     ]
    }
   ],
   "source": [
    "for j in [1,2,3,4,5,6,7,8,9]:\n",
    "    if j==6:\n",
    "        break\n",
    "    print(j,end=\" \")"
   ]
  },
  {
   "cell_type": "code",
   "execution_count": 17,
   "id": "09269871",
   "metadata": {},
   "outputs": [
    {
     "name": "stdout",
     "output_type": "stream",
     "text": [
      "apple\n",
      "mango\n",
      "orange\n"
     ]
    }
   ],
   "source": [
    "for i in ['apple','mango','banana','orange']:\n",
    "    if i=='banana':\n",
    "        continue\n",
    "    print(i)\n"
   ]
  },
  {
   "cell_type": "code",
   "execution_count": 18,
   "id": "3c5c6944",
   "metadata": {},
   "outputs": [
    {
     "name": "stdout",
     "output_type": "stream",
     "text": [
      "1 2 3 4 5 7 8 9 "
     ]
    }
   ],
   "source": [
    "for j in [1,2,3,4,5,6,7,8,9]:\n",
    "    if j==6:\n",
    "        continue\n",
    "    print(j,end=\" \")"
   ]
  },
  {
   "cell_type": "code",
   "execution_count": null,
   "id": "3867e64c",
   "metadata": {},
   "outputs": [],
   "source": []
  },
  {
   "cell_type": "code",
   "execution_count": null,
   "id": "a05c3bfc",
   "metadata": {},
   "outputs": [],
   "source": []
  },
  {
   "cell_type": "code",
   "execution_count": null,
   "id": "563edd41",
   "metadata": {},
   "outputs": [],
   "source": []
  },
  {
   "cell_type": "code",
   "execution_count": null,
   "id": "fb295984",
   "metadata": {},
   "outputs": [],
   "source": []
  },
  {
   "cell_type": "code",
   "execution_count": null,
   "id": "98cc2eba",
   "metadata": {},
   "outputs": [],
   "source": []
  },
  {
   "cell_type": "code",
   "execution_count": null,
   "id": "b7f80703",
   "metadata": {},
   "outputs": [],
   "source": []
  },
  {
   "cell_type": "code",
   "execution_count": null,
   "id": "fe91b250",
   "metadata": {},
   "outputs": [],
   "source": []
  },
  {
   "cell_type": "code",
   "execution_count": null,
   "id": "5ebe8730",
   "metadata": {},
   "outputs": [],
   "source": []
  },
  {
   "cell_type": "code",
   "execution_count": null,
   "id": "e9c33a18",
   "metadata": {},
   "outputs": [],
   "source": []
  },
  {
   "cell_type": "code",
   "execution_count": null,
   "id": "f01b3b8e",
   "metadata": {},
   "outputs": [],
   "source": []
  },
  {
   "cell_type": "code",
   "execution_count": null,
   "id": "1b347c59",
   "metadata": {},
   "outputs": [],
   "source": []
  },
  {
   "cell_type": "code",
   "execution_count": null,
   "id": "a1a16dc8",
   "metadata": {},
   "outputs": [],
   "source": []
  },
  {
   "cell_type": "code",
   "execution_count": null,
   "id": "9742bb24",
   "metadata": {},
   "outputs": [],
   "source": []
  },
  {
   "cell_type": "code",
   "execution_count": null,
   "id": "342c03ea",
   "metadata": {},
   "outputs": [],
   "source": []
  },
  {
   "cell_type": "code",
   "execution_count": null,
   "id": "e27f8819",
   "metadata": {},
   "outputs": [],
   "source": []
  },
  {
   "cell_type": "code",
   "execution_count": null,
   "id": "e0c72f9d",
   "metadata": {},
   "outputs": [],
   "source": []
  },
  {
   "cell_type": "code",
   "execution_count": null,
   "id": "6e2004f1",
   "metadata": {},
   "outputs": [],
   "source": []
  },
  {
   "cell_type": "code",
   "execution_count": null,
   "id": "f692e2a4",
   "metadata": {},
   "outputs": [],
   "source": []
  },
  {
   "cell_type": "code",
   "execution_count": null,
   "id": "2c0c706c",
   "metadata": {},
   "outputs": [],
   "source": []
  },
  {
   "cell_type": "code",
   "execution_count": null,
   "id": "1431a199",
   "metadata": {},
   "outputs": [],
   "source": []
  },
  {
   "cell_type": "code",
   "execution_count": null,
   "id": "12d0a497",
   "metadata": {},
   "outputs": [],
   "source": []
  },
  {
   "cell_type": "code",
   "execution_count": null,
   "id": "5079121f",
   "metadata": {},
   "outputs": [],
   "source": []
  },
  {
   "cell_type": "code",
   "execution_count": null,
   "id": "17c05be5",
   "metadata": {},
   "outputs": [],
   "source": []
  },
  {
   "cell_type": "code",
   "execution_count": null,
   "id": "a7f710ef",
   "metadata": {},
   "outputs": [],
   "source": []
  },
  {
   "cell_type": "code",
   "execution_count": null,
   "id": "06cb6747",
   "metadata": {},
   "outputs": [],
   "source": []
  }
 ],
 "metadata": {
  "kernelspec": {
   "display_name": "Python 3 (ipykernel)",
   "language": "python",
   "name": "python3"
  },
  "language_info": {
   "codemirror_mode": {
    "name": "ipython",
    "version": 3
   },
   "file_extension": ".py",
   "mimetype": "text/x-python",
   "name": "python",
   "nbconvert_exporter": "python",
   "pygments_lexer": "ipython3",
   "version": "3.9.7"
  }
 },
 "nbformat": 4,
 "nbformat_minor": 5
}
