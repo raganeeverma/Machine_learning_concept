{
 "cells": [
  {
   "cell_type": "markdown",
   "id": "53ab2fca",
   "metadata": {},
   "source": [
    "Exception Handling\n",
    "\n",
    "When an error occurs, or exception as we call it(runtime error), Python will normally stop and generate an error message.\n",
    "These exceptions can be handled using the try and Exception statement "
   ]
  },
  {
   "cell_type": "markdown",
   "id": "8872c048",
   "metadata": {},
   "source": [
    "The try block lets you test a block of code for errors.\n",
    "\n",
    "The except block lets you handle the error.\n",
    "\n",
    "The else block lets you execute code when there is no error.\n",
    "\n",
    "The finally block lets you execute code, regardless of the result of the try- and except blocks."
   ]
  },
  {
   "cell_type": "code",
   "execution_count": 1,
   "id": "6828d5ba",
   "metadata": {},
   "outputs": [],
   "source": [
    "def func(a,b):\n",
    "    c=a/b\n",
    "    print(c)"
   ]
  },
  {
   "cell_type": "code",
   "execution_count": 2,
   "id": "6b9ae4cd",
   "metadata": {},
   "outputs": [
    {
     "name": "stdout",
     "output_type": "stream",
     "text": [
      "enter any no 45\n",
      "enterany no .0\n"
     ]
    },
    {
     "ename": "ZeroDivisionError",
     "evalue": "division by zero",
     "output_type": "error",
     "traceback": [
      "\u001b[1;31m---------------------------------------------------------------------------\u001b[0m",
      "\u001b[1;31mZeroDivisionError\u001b[0m                         Traceback (most recent call last)",
      "\u001b[1;32m~\\AppData\\Local\\Temp/ipykernel_2132/3946326317.py\u001b[0m in \u001b[0;36m<module>\u001b[1;34m\u001b[0m\n\u001b[0;32m      1\u001b[0m \u001b[0ma\u001b[0m\u001b[1;33m=\u001b[0m\u001b[0mint\u001b[0m\u001b[1;33m(\u001b[0m\u001b[0minput\u001b[0m\u001b[1;33m(\u001b[0m\u001b[1;34m'enter any no '\u001b[0m\u001b[1;33m)\u001b[0m\u001b[1;33m)\u001b[0m\u001b[1;33m\u001b[0m\u001b[1;33m\u001b[0m\u001b[0m\n\u001b[0;32m      2\u001b[0m \u001b[0mb\u001b[0m\u001b[1;33m=\u001b[0m\u001b[0mint\u001b[0m\u001b[1;33m(\u001b[0m\u001b[0minput\u001b[0m\u001b[1;33m(\u001b[0m\u001b[1;34m'enterany no .'\u001b[0m\u001b[1;33m)\u001b[0m\u001b[1;33m)\u001b[0m\u001b[1;33m\u001b[0m\u001b[1;33m\u001b[0m\u001b[0m\n\u001b[1;32m----> 3\u001b[1;33m \u001b[0mfunc\u001b[0m\u001b[1;33m(\u001b[0m\u001b[0ma\u001b[0m\u001b[1;33m,\u001b[0m\u001b[0mb\u001b[0m\u001b[1;33m)\u001b[0m\u001b[1;33m\u001b[0m\u001b[1;33m\u001b[0m\u001b[0m\n\u001b[0m",
      "\u001b[1;32m~\\AppData\\Local\\Temp/ipykernel_2132/1651141789.py\u001b[0m in \u001b[0;36mfunc\u001b[1;34m(a, b)\u001b[0m\n\u001b[0;32m      1\u001b[0m \u001b[1;32mdef\u001b[0m \u001b[0mfunc\u001b[0m\u001b[1;33m(\u001b[0m\u001b[0ma\u001b[0m\u001b[1;33m,\u001b[0m\u001b[0mb\u001b[0m\u001b[1;33m)\u001b[0m\u001b[1;33m:\u001b[0m\u001b[1;33m\u001b[0m\u001b[1;33m\u001b[0m\u001b[0m\n\u001b[1;32m----> 2\u001b[1;33m     \u001b[0mc\u001b[0m\u001b[1;33m=\u001b[0m\u001b[0ma\u001b[0m\u001b[1;33m/\u001b[0m\u001b[0mb\u001b[0m\u001b[1;33m\u001b[0m\u001b[1;33m\u001b[0m\u001b[0m\n\u001b[0m\u001b[0;32m      3\u001b[0m     \u001b[0mprint\u001b[0m\u001b[1;33m(\u001b[0m\u001b[0mc\u001b[0m\u001b[1;33m)\u001b[0m\u001b[1;33m\u001b[0m\u001b[1;33m\u001b[0m\u001b[0m\n",
      "\u001b[1;31mZeroDivisionError\u001b[0m: division by zero"
     ]
    }
   ],
   "source": [
    "a=int(input('enter any no '))\n",
    "b=int(input('enterany no .'))\n",
    "func(a,b)"
   ]
  },
  {
   "cell_type": "code",
   "execution_count": 5,
   "id": "d057d4cf",
   "metadata": {},
   "outputs": [
    {
     "name": "stdout",
     "output_type": "stream",
     "text": [
      "handling runtime erroe  division by zero\n"
     ]
    }
   ],
   "source": [
    "try:\n",
    "    78/0\n",
    "except ZeroDivisionError as err:\n",
    "    print('handling runtime erroe ',err)"
   ]
  },
  {
   "cell_type": "code",
   "execution_count": 6,
   "id": "ac78e97b",
   "metadata": {},
   "outputs": [
    {
     "name": "stdout",
     "output_type": "stream",
     "text": [
      "handling runtime erroe  name 'm' is not defined\n"
     ]
    }
   ],
   "source": [
    "try:\n",
    "    8+m*2\n",
    "except NameError as err:\n",
    "    print('handling runtime erroe ',err)"
   ]
  },
  {
   "cell_type": "code",
   "execution_count": 16,
   "id": "09ade564",
   "metadata": {},
   "outputs": [],
   "source": [
    "def func1():\n",
    "    a=80\n",
    "    b=0\n",
    "    c=a/b\n",
    "    print(c)"
   ]
  },
  {
   "cell_type": "code",
   "execution_count": 17,
   "id": "a6b8c818",
   "metadata": {},
   "outputs": [
    {
     "name": "stdout",
     "output_type": "stream",
     "text": [
      "handling runtime erroe  division by zero\n"
     ]
    }
   ],
   "source": [
    "try:\n",
    "    func1()\n",
    "except ZeroDivisionError as err:\n",
    "    print('handling runtime erroe ',err)"
   ]
  },
  {
   "cell_type": "code",
   "execution_count": 18,
   "id": "e32e9619",
   "metadata": {},
   "outputs": [],
   "source": [
    "def divide(x,y):\n",
    "    try:\n",
    "        result=x/y\n",
    "    except ZeroDivisionError as err:\n",
    "        print('handling runtime erroe ',err)\n",
    "    else:\n",
    "        print('result=',result)\n",
    "    finally:\n",
    "        print('execute finally')"
   ]
  },
  {
   "cell_type": "code",
   "execution_count": 19,
   "id": "b4d931cf",
   "metadata": {},
   "outputs": [
    {
     "name": "stdout",
     "output_type": "stream",
     "text": [
      "result= 5.0\n",
      "execute finally\n"
     ]
    }
   ],
   "source": [
    "divide(25,5)"
   ]
  },
  {
   "cell_type": "code",
   "execution_count": 20,
   "id": "c2fbb206",
   "metadata": {},
   "outputs": [
    {
     "name": "stdout",
     "output_type": "stream",
     "text": [
      "handling runtime erroe  division by zero\n",
      "execute finally\n"
     ]
    }
   ],
   "source": [
    "divide(23,0)"
   ]
  },
  {
   "cell_type": "code",
   "execution_count": 21,
   "id": "7373aed3",
   "metadata": {},
   "outputs": [
    {
     "name": "stdout",
     "output_type": "stream",
     "text": [
      "file not found\n"
     ]
    }
   ],
   "source": [
    "#this file throw a error if file does not exist\n",
    "try:\n",
    "    fileptr=open('demofile.txt','r')\n",
    "except IOError :\n",
    "    print('file not found')\n",
    "else:\n",
    "    print('file open successfully')\n",
    "    print(fileptr.read())\n",
    "    fileptr.close()\n",
    "    "
   ]
  },
  {
   "cell_type": "markdown",
   "id": "ad6379a6",
   "metadata": {},
   "source": [
    "# PIP"
   ]
  },
  {
   "cell_type": "markdown",
   "id": "1b95db5f",
   "metadata": {},
   "source": [
    "What is PIP?\n",
    "\n",
    "PIP is a package manager for Python packages, or modules if you like.\n",
    "\n",
    "Note: If you have Python version 3.4 or later, PIP is included by default.\n",
    "    \n",
    "What is a Package?\n",
    "\n",
    "A package contains all the files you need for a module.\n",
    "\n",
    "Modules are Python code libraries you can include in your project.\n",
    "\n",
    "Check if PIP is Installed\n",
    "\n",
    "Navigate your command line to the location of Python's script directory, and type the following:\n",
    "\n",
    "EXAMPLE\n",
    "\n",
    "C:\\Users\\Your Name\\AppData\\Local\\Programs\\Python\\Python36-32\\Scripts>pip --version\n",
    "    \n",
    "Install PIP\n",
    "\n",
    "If you do not have PIP installed, you can download and install it from this page: https://pypi.org/project/pip/\n",
    "\n",
    "Download a Package\n",
    "\n",
    "Downloading a package is very easy.\n",
    "\n",
    "Open the command line interface and tell PIP to download the package you want.\n",
    "\n",
    "Navigate your command line to the location of Python's script directory, and type the following:\n",
    "\n",
    "Example\n",
    "\n",
    "Download a package named \"camelcase\":\n",
    "\n",
    "C:\\Users\\Your Name\\AppData\\Local\\Programs\\Python\\Python36-32\\Scripts>pip install camelcase\n"
   ]
  },
  {
   "cell_type": "code",
   "execution_count": null,
   "id": "b96ab119",
   "metadata": {},
   "outputs": [],
   "source": []
  }
 ],
 "metadata": {
  "kernelspec": {
   "display_name": "Python 3 (ipykernel)",
   "language": "python",
   "name": "python3"
  },
  "language_info": {
   "codemirror_mode": {
    "name": "ipython",
    "version": 3
   },
   "file_extension": ".py",
   "mimetype": "text/x-python",
   "name": "python",
   "nbconvert_exporter": "python",
   "pygments_lexer": "ipython3",
   "version": "3.9.7"
  }
 },
 "nbformat": 4,
 "nbformat_minor": 5
}
